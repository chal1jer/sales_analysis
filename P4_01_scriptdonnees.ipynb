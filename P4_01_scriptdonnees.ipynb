{
 "cells": [
  {
   "cell_type": "markdown",
   "metadata": {},
   "source": [
    "# Projet 4: Analysez les ventes de votre entreprise (1)"
   ]
  },
  {
   "cell_type": "code",
   "execution_count": 1,
   "metadata": {},
   "outputs": [
    {
     "name": "stdout",
     "output_type": "stream",
     "text": [
      "numpy version 1.14.3\n",
      "pandas version 0.23.0\n",
      "seaborn version 0.8.1\n"
     ]
    }
   ],
   "source": [
    "# Import des librairies\n",
    "import numpy as np\n",
    "print(f\"numpy version {np.__version__}\")\n",
    "import pandas as pd\n",
    "print(f\"pandas version {pd.__version__}\")\n",
    "import seaborn as sns\n",
    "print(f\"seaborn version {sns.__version__}\")\n",
    "import datetime as dt\n",
    "import matplotlib.pyplot as plt\n",
    "# import statsmodels.formula.api as smf\n",
    "# import statsmodels.api as sm\n",
    "# Pour afficher les graphiques sans avoir à appeler .show() : %matplotlib inline"
   ]
  },
  {
   "cell_type": "markdown",
   "metadata": {},
   "source": [
    "# Mission 1 : Nettoyage des données"
   ]
  },
  {
   "cell_type": "markdown",
   "metadata": {},
   "source": [
    "Avant de pouvoir entrer dans le vif du sujet, il vous faudra faire un peu de nettoyage ! Par exemple, vous devrez faire des choix quant au traitement des valeurs manquantes et des valeurs aberrantes."
   ]
  },
  {
   "cell_type": "markdown",
   "metadata": {},
   "source": [
    "## 1. Table clients"
   ]
  },
  {
   "cell_type": "code",
   "execution_count": 2,
   "metadata": {},
   "outputs": [],
   "source": [
    "# Import des données de la table customers\n",
    "clients = pd.read_csv(\"C:/Users/Zang/Documents/APPRENDER/OPENCLASSROOMS/PARCOURS DA/P4_Analysez_les_ventes_de_votre_entreprise/data/customers.csv\")"
   ]
  },
  {
   "cell_type": "code",
   "execution_count": 3,
   "metadata": {},
   "outputs": [
    {
     "data": {
      "text/plain": [
       "(8623, 3)"
      ]
     },
     "execution_count": 3,
     "metadata": {},
     "output_type": "execute_result"
    }
   ],
   "source": [
    "clients.shape"
   ]
  },
  {
   "cell_type": "code",
   "execution_count": 5,
   "metadata": {},
   "outputs": [
    {
     "data": {
      "text/html": [
       "<div>\n",
       "<style scoped>\n",
       "    .dataframe tbody tr th:only-of-type {\n",
       "        vertical-align: middle;\n",
       "    }\n",
       "\n",
       "    .dataframe tbody tr th {\n",
       "        vertical-align: top;\n",
       "    }\n",
       "\n",
       "    .dataframe thead th {\n",
       "        text-align: right;\n",
       "    }\n",
       "</style>\n",
       "<table border=\"1\" class=\"dataframe\">\n",
       "  <thead>\n",
       "    <tr style=\"text-align: right;\">\n",
       "      <th></th>\n",
       "      <th>client_id</th>\n",
       "      <th>sex</th>\n",
       "      <th>birth</th>\n",
       "    </tr>\n",
       "  </thead>\n",
       "  <tbody>\n",
       "    <tr>\n",
       "      <th>0</th>\n",
       "      <td>c_4410</td>\n",
       "      <td>f</td>\n",
       "      <td>1967</td>\n",
       "    </tr>\n",
       "    <tr>\n",
       "      <th>1</th>\n",
       "      <td>c_7839</td>\n",
       "      <td>f</td>\n",
       "      <td>1975</td>\n",
       "    </tr>\n",
       "    <tr>\n",
       "      <th>2</th>\n",
       "      <td>c_1699</td>\n",
       "      <td>f</td>\n",
       "      <td>1984</td>\n",
       "    </tr>\n",
       "    <tr>\n",
       "      <th>3</th>\n",
       "      <td>c_5961</td>\n",
       "      <td>f</td>\n",
       "      <td>1962</td>\n",
       "    </tr>\n",
       "    <tr>\n",
       "      <th>4</th>\n",
       "      <td>c_5320</td>\n",
       "      <td>m</td>\n",
       "      <td>1943</td>\n",
       "    </tr>\n",
       "  </tbody>\n",
       "</table>\n",
       "</div>"
      ],
      "text/plain": [
       "  client_id sex  birth\n",
       "0    c_4410   f   1967\n",
       "1    c_7839   f   1975\n",
       "2    c_1699   f   1984\n",
       "3    c_5961   f   1962\n",
       "4    c_5320   m   1943"
      ]
     },
     "execution_count": 5,
     "metadata": {},
     "output_type": "execute_result"
    }
   ],
   "source": [
    "clients.head()"
   ]
  },
  {
   "cell_type": "code",
   "execution_count": 56,
   "metadata": {
    "scrolled": true
   },
   "outputs": [
    {
     "data": {
      "text/plain": [
       "client_id    False\n",
       "sex          False\n",
       "birth        False\n",
       "dtype: bool"
      ]
     },
     "execution_count": 56,
     "metadata": {},
     "output_type": "execute_result"
    }
   ],
   "source": [
    "# Affichage des valeurs nulles s'il y en a\n",
    "clients.isnull().any()"
   ]
  },
  {
   "cell_type": "code",
   "execution_count": 3,
   "metadata": {},
   "outputs": [
    {
     "data": {
      "text/html": [
       "<div>\n",
       "<style scoped>\n",
       "    .dataframe tbody tr th:only-of-type {\n",
       "        vertical-align: middle;\n",
       "    }\n",
       "\n",
       "    .dataframe tbody tr th {\n",
       "        vertical-align: top;\n",
       "    }\n",
       "\n",
       "    .dataframe thead th {\n",
       "        text-align: right;\n",
       "    }\n",
       "</style>\n",
       "<table border=\"1\" class=\"dataframe\">\n",
       "  <thead>\n",
       "    <tr style=\"text-align: right;\">\n",
       "      <th></th>\n",
       "      <th>client_id</th>\n",
       "      <th>sex</th>\n",
       "      <th>birth</th>\n",
       "    </tr>\n",
       "  </thead>\n",
       "  <tbody>\n",
       "  </tbody>\n",
       "</table>\n",
       "</div>"
      ],
      "text/plain": [
       "Empty DataFrame\n",
       "Columns: [client_id, sex, birth]\n",
       "Index: []"
      ]
     },
     "execution_count": 3,
     "metadata": {},
     "output_type": "execute_result"
    }
   ],
   "source": [
    "# Présence de doublons dans client_id ? \n",
    "clients[clients.duplicated()].sort_values(by='client_id').head()"
   ]
  },
  {
   "cell_type": "markdown",
   "metadata": {},
   "source": [
    "client_id est une clé primaire."
   ]
  },
  {
   "cell_type": "code",
   "execution_count": 6,
   "metadata": {},
   "outputs": [
    {
     "data": {
      "text/plain": [
       "client_id    object\n",
       "sex          object\n",
       "birth         int64\n",
       "dtype: object"
      ]
     },
     "execution_count": 6,
     "metadata": {},
     "output_type": "execute_result"
    }
   ],
   "source": [
    "# Vérification du type des données\n",
    "clients.dtypes"
   ]
  },
  {
   "cell_type": "code",
   "execution_count": 6,
   "metadata": {},
   "outputs": [
    {
     "data": {
      "text/html": [
       "<div>\n",
       "<style scoped>\n",
       "    .dataframe tbody tr th:only-of-type {\n",
       "        vertical-align: middle;\n",
       "    }\n",
       "\n",
       "    .dataframe tbody tr th {\n",
       "        vertical-align: top;\n",
       "    }\n",
       "\n",
       "    .dataframe thead th {\n",
       "        text-align: right;\n",
       "    }\n",
       "</style>\n",
       "<table border=\"1\" class=\"dataframe\">\n",
       "  <thead>\n",
       "    <tr style=\"text-align: right;\">\n",
       "      <th></th>\n",
       "      <th>client_id</th>\n",
       "      <th>sex</th>\n",
       "      <th>birth</th>\n",
       "    </tr>\n",
       "  </thead>\n",
       "  <tbody>\n",
       "    <tr>\n",
       "      <th>count</th>\n",
       "      <td>8623</td>\n",
       "      <td>8623</td>\n",
       "      <td>8623.000000</td>\n",
       "    </tr>\n",
       "    <tr>\n",
       "      <th>unique</th>\n",
       "      <td>8623</td>\n",
       "      <td>2</td>\n",
       "      <td>NaN</td>\n",
       "    </tr>\n",
       "    <tr>\n",
       "      <th>top</th>\n",
       "      <td>c_4696</td>\n",
       "      <td>f</td>\n",
       "      <td>NaN</td>\n",
       "    </tr>\n",
       "    <tr>\n",
       "      <th>freq</th>\n",
       "      <td>1</td>\n",
       "      <td>4491</td>\n",
       "      <td>NaN</td>\n",
       "    </tr>\n",
       "    <tr>\n",
       "      <th>mean</th>\n",
       "      <td>NaN</td>\n",
       "      <td>NaN</td>\n",
       "      <td>1978.280877</td>\n",
       "    </tr>\n",
       "    <tr>\n",
       "      <th>std</th>\n",
       "      <td>NaN</td>\n",
       "      <td>NaN</td>\n",
       "      <td>16.919535</td>\n",
       "    </tr>\n",
       "    <tr>\n",
       "      <th>min</th>\n",
       "      <td>NaN</td>\n",
       "      <td>NaN</td>\n",
       "      <td>1929.000000</td>\n",
       "    </tr>\n",
       "    <tr>\n",
       "      <th>25%</th>\n",
       "      <td>NaN</td>\n",
       "      <td>NaN</td>\n",
       "      <td>1966.000000</td>\n",
       "    </tr>\n",
       "    <tr>\n",
       "      <th>50%</th>\n",
       "      <td>NaN</td>\n",
       "      <td>NaN</td>\n",
       "      <td>1979.000000</td>\n",
       "    </tr>\n",
       "    <tr>\n",
       "      <th>75%</th>\n",
       "      <td>NaN</td>\n",
       "      <td>NaN</td>\n",
       "      <td>1992.000000</td>\n",
       "    </tr>\n",
       "    <tr>\n",
       "      <th>max</th>\n",
       "      <td>NaN</td>\n",
       "      <td>NaN</td>\n",
       "      <td>2004.000000</td>\n",
       "    </tr>\n",
       "  </tbody>\n",
       "</table>\n",
       "</div>"
      ],
      "text/plain": [
       "       client_id   sex        birth\n",
       "count       8623  8623  8623.000000\n",
       "unique      8623     2          NaN\n",
       "top       c_4696     f          NaN\n",
       "freq           1  4491          NaN\n",
       "mean         NaN   NaN  1978.280877\n",
       "std          NaN   NaN    16.919535\n",
       "min          NaN   NaN  1929.000000\n",
       "25%          NaN   NaN  1966.000000\n",
       "50%          NaN   NaN  1979.000000\n",
       "75%          NaN   NaN  1992.000000\n",
       "max          NaN   NaN  2004.000000"
      ]
     },
     "execution_count": 6,
     "metadata": {},
     "output_type": "execute_result"
    }
   ],
   "source": [
    "# 1er aperçu des données\n",
    "clients.describe(include=\"all\")"
   ]
  },
  {
   "cell_type": "markdown",
   "metadata": {},
   "source": [
    "- Plus de 8000 clients\n",
    "- Nés entre 1929 et 2004."
   ]
  },
  {
   "cell_type": "code",
   "execution_count": 8,
   "metadata": {
    "scrolled": true
   },
   "outputs": [
    {
     "data": {
      "text/plain": [
       "'ct_1'"
      ]
     },
     "execution_count": 8,
     "metadata": {},
     "output_type": "execute_result"
    }
   ],
   "source": [
    "clients['client_id'].max()"
   ]
  },
  {
   "cell_type": "code",
   "execution_count": 9,
   "metadata": {},
   "outputs": [
    {
     "data": {
      "text/html": [
       "<div>\n",
       "<style scoped>\n",
       "    .dataframe tbody tr th:only-of-type {\n",
       "        vertical-align: middle;\n",
       "    }\n",
       "\n",
       "    .dataframe tbody tr th {\n",
       "        vertical-align: top;\n",
       "    }\n",
       "\n",
       "    .dataframe thead th {\n",
       "        text-align: right;\n",
       "    }\n",
       "</style>\n",
       "<table border=\"1\" class=\"dataframe\">\n",
       "  <thead>\n",
       "    <tr style=\"text-align: right;\">\n",
       "      <th></th>\n",
       "      <th>client_id</th>\n",
       "      <th>sex</th>\n",
       "      <th>birth</th>\n",
       "    </tr>\n",
       "  </thead>\n",
       "  <tbody>\n",
       "    <tr>\n",
       "      <th>2735</th>\n",
       "      <td>ct_0</td>\n",
       "      <td>f</td>\n",
       "      <td>2001</td>\n",
       "    </tr>\n",
       "    <tr>\n",
       "      <th>8494</th>\n",
       "      <td>ct_1</td>\n",
       "      <td>m</td>\n",
       "      <td>2001</td>\n",
       "    </tr>\n",
       "  </tbody>\n",
       "</table>\n",
       "</div>"
      ],
      "text/plain": [
       "     client_id sex  birth\n",
       "2735      ct_0   f   2001\n",
       "8494      ct_1   m   2001"
      ]
     },
     "execution_count": 9,
     "metadata": {},
     "output_type": "execute_result"
    }
   ],
   "source": [
    "# Je cherche les lignes avec ct_ dans l'id : \n",
    "clients[clients['client_id'].str.contains('^ct')==True]"
   ]
  },
  {
   "cell_type": "code",
   "execution_count": 3,
   "metadata": {},
   "outputs": [],
   "source": [
    "# Je supprime ces lignes (vu avec le df \"products\" : ce sont des tests)\n",
    "clients = clients.drop([2735,8494])"
   ]
  },
  {
   "cell_type": "code",
   "execution_count": 5,
   "metadata": {},
   "outputs": [
    {
     "data": {
      "text/plain": [
       "Text(0.5,1,'Répartition des clients par sexe')"
      ]
     },
     "execution_count": 5,
     "metadata": {},
     "output_type": "execute_result"
    },
    {
     "data": {
      "image/png": "[encoded data removed]",
      "text/plain": [
       "<Figure size 432x288 with 1 Axes>"
      ]
     },
     "metadata": {},
     "output_type": "display_data"
    }
   ],
   "source": [
    "# Répartition des clients par sexes\n",
    "plt.pie(clients['sex'].value_counts(), labels=[\"femmes\", \"hommes\"], autopct='%1.1f%%', startangle=90)\n",
    "plt.axis('equal')  # Equal aspect ratio ensures that pie is drawn as a circle.\n",
    "plt.title('Répartition des clients par sexe')\n",
    "\n",
    "plt.savefig('fig1.jpeg')"
   ]
  },
  {
   "cell_type": "markdown",
   "metadata": {},
   "source": [
    "Un tout petit peu plus de femmes que d'hommes. "
   ]
  },
  {
   "cell_type": "code",
   "execution_count": 6,
   "metadata": {},
   "outputs": [
    {
     "data": {
      "text/plain": [
       "sex\n",
       "f    4490\n",
       "m    4131\n",
       "Name: client_id, dtype: int64"
      ]
     },
     "execution_count": 6,
     "metadata": {},
     "output_type": "execute_result"
    }
   ],
   "source": [
    "# Vérification du nb de clients par sexe\n",
    "clients.groupby('sex')['client_id'].count()"
   ]
  },
  {
   "cell_type": "markdown",
   "metadata": {},
   "source": [
    "### Ajout de la colonne \"age\""
   ]
  },
  {
   "cell_type": "code",
   "execution_count": 4,
   "metadata": {},
   "outputs": [],
   "source": [
    "# J'ajoute la colonne \"age\". Je prends 2022 comme année de référence (vu dans la table transactions)\n",
    "clients['age'] = 2022-clients['birth']\n",
    "# A noter que l'on pourrait aussi calculer l'âge des clients à la date d'achat."
   ]
  },
  {
   "cell_type": "code",
   "execution_count": 41,
   "metadata": {},
   "outputs": [
    {
     "data": {
      "text/html": [
       "<div>\n",
       "<style scoped>\n",
       "    .dataframe tbody tr th:only-of-type {\n",
       "        vertical-align: middle;\n",
       "    }\n",
       "\n",
       "    .dataframe tbody tr th {\n",
       "        vertical-align: top;\n",
       "    }\n",
       "\n",
       "    .dataframe thead th {\n",
       "        text-align: right;\n",
       "    }\n",
       "</style>\n",
       "<table border=\"1\" class=\"dataframe\">\n",
       "  <thead>\n",
       "    <tr style=\"text-align: right;\">\n",
       "      <th></th>\n",
       "      <th>client_id</th>\n",
       "      <th>sex</th>\n",
       "      <th>birth</th>\n",
       "      <th>age</th>\n",
       "    </tr>\n",
       "  </thead>\n",
       "  <tbody>\n",
       "    <tr>\n",
       "      <th>0</th>\n",
       "      <td>c_4410</td>\n",
       "      <td>f</td>\n",
       "      <td>1967</td>\n",
       "      <td>55</td>\n",
       "    </tr>\n",
       "    <tr>\n",
       "      <th>1</th>\n",
       "      <td>c_7839</td>\n",
       "      <td>f</td>\n",
       "      <td>1975</td>\n",
       "      <td>47</td>\n",
       "    </tr>\n",
       "    <tr>\n",
       "      <th>2</th>\n",
       "      <td>c_1699</td>\n",
       "      <td>f</td>\n",
       "      <td>1984</td>\n",
       "      <td>38</td>\n",
       "    </tr>\n",
       "    <tr>\n",
       "      <th>3</th>\n",
       "      <td>c_5961</td>\n",
       "      <td>f</td>\n",
       "      <td>1962</td>\n",
       "      <td>60</td>\n",
       "    </tr>\n",
       "    <tr>\n",
       "      <th>4</th>\n",
       "      <td>c_5320</td>\n",
       "      <td>m</td>\n",
       "      <td>1943</td>\n",
       "      <td>79</td>\n",
       "    </tr>\n",
       "  </tbody>\n",
       "</table>\n",
       "</div>"
      ],
      "text/plain": [
       "  client_id sex  birth  age\n",
       "0    c_4410   f   1967   55\n",
       "1    c_7839   f   1975   47\n",
       "2    c_1699   f   1984   38\n",
       "3    c_5961   f   1962   60\n",
       "4    c_5320   m   1943   79"
      ]
     },
     "execution_count": 41,
     "metadata": {},
     "output_type": "execute_result"
    }
   ],
   "source": [
    "clients.head()"
   ]
  },
  {
   "cell_type": "code",
   "execution_count": 8,
   "metadata": {
    "scrolled": true
   },
   "outputs": [
    {
     "data": {
      "text/html": [
       "<div>\n",
       "<style scoped>\n",
       "    .dataframe tbody tr th:only-of-type {\n",
       "        vertical-align: middle;\n",
       "    }\n",
       "\n",
       "    .dataframe tbody tr th {\n",
       "        vertical-align: top;\n",
       "    }\n",
       "\n",
       "    .dataframe thead th {\n",
       "        text-align: right;\n",
       "    }\n",
       "</style>\n",
       "<table border=\"1\" class=\"dataframe\">\n",
       "  <thead>\n",
       "    <tr style=\"text-align: right;\">\n",
       "      <th></th>\n",
       "      <th>birth</th>\n",
       "      <th>age</th>\n",
       "    </tr>\n",
       "  </thead>\n",
       "  <tbody>\n",
       "    <tr>\n",
       "      <th>count</th>\n",
       "      <td>8621.000000</td>\n",
       "      <td>8621.000000</td>\n",
       "    </tr>\n",
       "    <tr>\n",
       "      <th>mean</th>\n",
       "      <td>1978.275606</td>\n",
       "      <td>43.724394</td>\n",
       "    </tr>\n",
       "    <tr>\n",
       "      <th>std</th>\n",
       "      <td>16.917958</td>\n",
       "      <td>16.917958</td>\n",
       "    </tr>\n",
       "    <tr>\n",
       "      <th>min</th>\n",
       "      <td>1929.000000</td>\n",
       "      <td>18.000000</td>\n",
       "    </tr>\n",
       "    <tr>\n",
       "      <th>25%</th>\n",
       "      <td>1966.000000</td>\n",
       "      <td>30.000000</td>\n",
       "    </tr>\n",
       "    <tr>\n",
       "      <th>50%</th>\n",
       "      <td>1979.000000</td>\n",
       "      <td>43.000000</td>\n",
       "    </tr>\n",
       "    <tr>\n",
       "      <th>75%</th>\n",
       "      <td>1992.000000</td>\n",
       "      <td>56.000000</td>\n",
       "    </tr>\n",
       "    <tr>\n",
       "      <th>max</th>\n",
       "      <td>2004.000000</td>\n",
       "      <td>93.000000</td>\n",
       "    </tr>\n",
       "  </tbody>\n",
       "</table>\n",
       "</div>"
      ],
      "text/plain": [
       "             birth          age\n",
       "count  8621.000000  8621.000000\n",
       "mean   1978.275606    43.724394\n",
       "std      16.917958    16.917958\n",
       "min    1929.000000    18.000000\n",
       "25%    1966.000000    30.000000\n",
       "50%    1979.000000    43.000000\n",
       "75%    1992.000000    56.000000\n",
       "max    2004.000000    93.000000"
      ]
     },
     "execution_count": 8,
     "metadata": {},
     "output_type": "execute_result"
    }
   ],
   "source": [
    "# Vérification\n",
    "clients.describe()"
   ]
  },
  {
   "cell_type": "markdown",
   "metadata": {},
   "source": [
    "- Age mini : 18 ans\n",
    "- Age maxi : 93 ans\n",
    "- Moyenne : 44 ans\n",
    "- Médiane : 43 ans\n",
    "- La moitié des clients a entre 30 et 56 ans. "
   ]
  },
  {
   "cell_type": "code",
   "execution_count": 47,
   "metadata": {},
   "outputs": [
    {
     "data": {
      "image/png": "[encoded data removed]",
      "text/plain": [
       "<Figure size 432x288 with 1 Axes>"
      ]
     },
     "metadata": {},
     "output_type": "display_data"
    }
   ],
   "source": [
    "# Je vérifie la colonne age avec une boxplot : \n",
    "clients.boxplot(column='age', showmeans=True, vert = 0).set_title('Répartition des clients par âge')\n",
    "plt.xlabel('âge')\n",
    "\n",
    "plt.savefig('fig2.jpeg')"
   ]
  },
  {
   "cell_type": "code",
   "execution_count": 5,
   "metadata": {
    "scrolled": true
   },
   "outputs": [
    {
     "data": {
      "image/png": "[encoded data removed]",
      "text/plain": [
       "<Figure size 432x288 with 1 Axes>"
      ]
     },
     "metadata": {},
     "output_type": "display_data"
    }
   ],
   "source": [
    "# Histogramme de répartition des clients par âge\n",
    "ax = clients.hist(column='age', bins=100, grid=False, color='#86bf91', zorder=2, rwidth=0.9)\n",
    "ax = ax[0] \n",
    "for x in ax:\n",
    "    # Despine\n",
    "    x.spines['right'].set_visible(False)\n",
    "    x.spines['top'].set_visible(False)\n",
    "    x.spines['left'].set_visible(False)# Remove title\n",
    "    # Set title\n",
    "    x.set_title(\"Répartition des clients en fonction de leur âge\", weight='bold')\n",
    "    # Set x-axis label\n",
    "    x.set_xlabel(\"âge\", labelpad=20, size=10)\n",
    "    # Set y-axis label\n",
    "    x.set_ylabel(\"nombre de clients\", labelpad=20, size=10)\n",
    "plt.savefig('fig3.jpeg')"
   ]
  },
  {
   "cell_type": "code",
   "execution_count": 9,
   "metadata": {
    "scrolled": false
   },
   "outputs": [
    {
     "name": "stderr",
     "output_type": "stream",
     "text": [
      "C:\\Users\\Zang\\Anaconda3\\lib\\site-packages\\matplotlib\\axes\\_axes.py:6462: UserWarning: The 'normed' kwarg is deprecated, and has been replaced by the 'density' kwarg.\n",
      "  warnings.warn(\"The 'normed' kwarg is deprecated, and has been \"\n"
     ]
    },
    {
     "data": {
      "image/png": "[encoded data removed]",
      "text/plain": [
       "<Figure size 432x288 with 1 Axes>"
      ]
     },
     "metadata": {},
     "output_type": "display_data"
    }
   ],
   "source": [
    "# En utilisant seaborn, histogramme avec la courbe de densité : \n",
    "sns.distplot(clients['age'], bins = 100).set(title = 'Nombre de clients en fonction de l\\'âge')\n",
    "plt.xlabel('âge')\n",
    "plt.ylabel('nombre de clients')\n",
    "\n",
    "plt.savefig('fig4.jpeg')"
   ]
  },
  {
   "cell_type": "markdown",
   "metadata": {},
   "source": [
    "La classe d'âge 18 ans est surreprésentée. Peut-être que les clients de - de 18 ans sont enregistrés en tant que 18 ans ?  A retenir pour les analyses. "
   ]
  },
  {
   "cell_type": "code",
   "execution_count": 6,
   "metadata": {},
   "outputs": [],
   "source": [
    "# Je retire la classe d'âge 18 ans\n",
    "clients_ss_18 = clients[clients['age'] != 18]"
   ]
  },
  {
   "cell_type": "code",
   "execution_count": 9,
   "metadata": {
    "scrolled": false
   },
   "outputs": [
    {
     "data": {
      "image/png": "[encoded data removed]",
      "text/plain": [
       "<Figure size 432x288 with 1 Axes>"
      ]
     },
     "metadata": {},
     "output_type": "display_data"
    }
   ],
   "source": [
    "# Boxplot si on retire la classe d'âge 18 ans\n",
    "clients_ss_18.boxplot(column='age', showmeans=True, vert = 0).set_title('Répartition des clients par âge (classe 18 ans retirée)')\n",
    "plt.xlabel('âge')\n",
    "plt.savefig('fig5.jpeg')"
   ]
  },
  {
   "cell_type": "code",
   "execution_count": 10,
   "metadata": {
    "scrolled": true
   },
   "outputs": [
    {
     "name": "stderr",
     "output_type": "stream",
     "text": [
      "C:\\Users\\Zang\\Anaconda3\\lib\\site-packages\\matplotlib\\axes\\_axes.py:6462: UserWarning: The 'normed' kwarg is deprecated, and has been replaced by the 'density' kwarg.\n",
      "  warnings.warn(\"The 'normed' kwarg is deprecated, and has been \"\n"
     ]
    },
    {
     "data": {
      "image/png": "[encoded data removed]",
      "text/plain": [
       "<Figure size 432x288 with 1 Axes>"
      ]
     },
     "metadata": {},
     "output_type": "display_data"
    }
   ],
   "source": [
    "# En utilisant seaborn, histogramme avec la courbe de densité sans la classe d'âge 18 ans : \n",
    "sns.distplot(clients_ss_18['age'], bins = 100).set(title = 'Nombre de clients en fonction de l\\'âge (sans la classe 18 ans)')\n",
    "plt.xlabel('âge')\n",
    "plt.ylabel('nombre de clients')\n",
    "plt.savefig('fig6.jpeg')"
   ]
  },
  {
   "cell_type": "markdown",
   "metadata": {},
   "source": [
    "### Ajout de la colonne classe d'âge"
   ]
  },
  {
   "cell_type": "code",
   "execution_count": 5,
   "metadata": {},
   "outputs": [],
   "source": [
    "# Je le fais avec cut. cf. https://www.youtube.com/watch?v=06LZtiF5yGg\n",
    "clients['classe_age'] = pd.cut(clients.age, bins=[17, 29, 49, 100], labels=['18-30', '30-50', '50+'])"
   ]
  },
  {
   "cell_type": "code",
   "execution_count": 60,
   "metadata": {},
   "outputs": [
    {
     "data": {
      "text/html": [
       "<div>\n",
       "<style scoped>\n",
       "    .dataframe tbody tr th:only-of-type {\n",
       "        vertical-align: middle;\n",
       "    }\n",
       "\n",
       "    .dataframe tbody tr th {\n",
       "        vertical-align: top;\n",
       "    }\n",
       "\n",
       "    .dataframe thead th {\n",
       "        text-align: right;\n",
       "    }\n",
       "</style>\n",
       "<table border=\"1\" class=\"dataframe\">\n",
       "  <thead>\n",
       "    <tr style=\"text-align: right;\">\n",
       "      <th></th>\n",
       "      <th>client_id</th>\n",
       "      <th>sex</th>\n",
       "      <th>birth</th>\n",
       "      <th>age</th>\n",
       "      <th>classe_age</th>\n",
       "    </tr>\n",
       "  </thead>\n",
       "  <tbody>\n",
       "    <tr>\n",
       "      <th>0</th>\n",
       "      <td>c_4410</td>\n",
       "      <td>f</td>\n",
       "      <td>1967</td>\n",
       "      <td>55</td>\n",
       "      <td>50+</td>\n",
       "    </tr>\n",
       "    <tr>\n",
       "      <th>1</th>\n",
       "      <td>c_7839</td>\n",
       "      <td>f</td>\n",
       "      <td>1975</td>\n",
       "      <td>47</td>\n",
       "      <td>30-50</td>\n",
       "    </tr>\n",
       "    <tr>\n",
       "      <th>2</th>\n",
       "      <td>c_1699</td>\n",
       "      <td>f</td>\n",
       "      <td>1984</td>\n",
       "      <td>38</td>\n",
       "      <td>30-50</td>\n",
       "    </tr>\n",
       "    <tr>\n",
       "      <th>3</th>\n",
       "      <td>c_5961</td>\n",
       "      <td>f</td>\n",
       "      <td>1962</td>\n",
       "      <td>60</td>\n",
       "      <td>50+</td>\n",
       "    </tr>\n",
       "    <tr>\n",
       "      <th>4</th>\n",
       "      <td>c_5320</td>\n",
       "      <td>m</td>\n",
       "      <td>1943</td>\n",
       "      <td>79</td>\n",
       "      <td>50+</td>\n",
       "    </tr>\n",
       "  </tbody>\n",
       "</table>\n",
       "</div>"
      ],
      "text/plain": [
       "  client_id sex  birth  age classe_age\n",
       "0    c_4410   f   1967   55        50+\n",
       "1    c_7839   f   1975   47      30-50\n",
       "2    c_1699   f   1984   38      30-50\n",
       "3    c_5961   f   1962   60        50+\n",
       "4    c_5320   m   1943   79        50+"
      ]
     },
     "execution_count": 60,
     "metadata": {},
     "output_type": "execute_result"
    }
   ],
   "source": [
    "clients.head()"
   ]
  },
  {
   "cell_type": "code",
   "execution_count": 8,
   "metadata": {},
   "outputs": [
    {
     "data": {
      "text/html": [
       "<div>\n",
       "<style scoped>\n",
       "    .dataframe tbody tr th:only-of-type {\n",
       "        vertical-align: middle;\n",
       "    }\n",
       "\n",
       "    .dataframe tbody tr th {\n",
       "        vertical-align: top;\n",
       "    }\n",
       "\n",
       "    .dataframe thead th {\n",
       "        text-align: right;\n",
       "    }\n",
       "</style>\n",
       "<table border=\"1\" class=\"dataframe\">\n",
       "  <thead>\n",
       "    <tr style=\"text-align: right;\">\n",
       "      <th></th>\n",
       "      <th>client_id</th>\n",
       "      <th>sex</th>\n",
       "      <th>birth</th>\n",
       "      <th>age</th>\n",
       "      <th>classe_age</th>\n",
       "    </tr>\n",
       "  </thead>\n",
       "  <tbody>\n",
       "    <tr>\n",
       "      <th>648</th>\n",
       "      <td>c_2634</td>\n",
       "      <td>m</td>\n",
       "      <td>1992</td>\n",
       "      <td>30</td>\n",
       "      <td>30-50</td>\n",
       "    </tr>\n",
       "  </tbody>\n",
       "</table>\n",
       "</div>"
      ],
      "text/plain": [
       "    client_id sex  birth  age classe_age\n",
       "648    c_2634   m   1992   30      30-50"
      ]
     },
     "execution_count": 8,
     "metadata": {},
     "output_type": "execute_result"
    }
   ],
   "source": [
    "# Vérification au hasard\n",
    "clients[clients['age']==30].sample(1)"
   ]
  },
  {
   "cell_type": "code",
   "execution_count": 69,
   "metadata": {},
   "outputs": [
    {
     "data": {
      "text/plain": [
       "client_id     0\n",
       "sex           0\n",
       "birth         0\n",
       "age           0\n",
       "classe_age    0\n",
       "dtype: int64"
      ]
     },
     "execution_count": 69,
     "metadata": {},
     "output_type": "execute_result"
    }
   ],
   "source": [
    "# Vérification si présence de valeurs nulles\n",
    "clients.isnull().sum()"
   ]
  },
  {
   "cell_type": "markdown",
   "metadata": {},
   "source": [
    "#### Répartition des clients par classe d'âge"
   ]
  },
  {
   "cell_type": "code",
   "execution_count": 9,
   "metadata": {},
   "outputs": [
    {
     "data": {
      "text/plain": [
       "30-50    3413\n",
       "50+      3116\n",
       "18-30    2092\n",
       "Name: classe_age, dtype: int64"
      ]
     },
     "execution_count": 9,
     "metadata": {},
     "output_type": "execute_result"
    }
   ],
   "source": [
    "clients.classe_age.value_counts()"
   ]
  },
  {
   "cell_type": "code",
   "execution_count": 233,
   "metadata": {},
   "outputs": [
    {
     "data": {
      "text/plain": [
       "30-50    0.395894\n",
       "50+      0.361443\n",
       "18-30    0.242663\n",
       "Name: classe_age, dtype: float64"
      ]
     },
     "execution_count": 233,
     "metadata": {},
     "output_type": "execute_result"
    }
   ],
   "source": [
    "# En pourcentage\n",
    "clients.classe_age.value_counts(normalize=True)"
   ]
  },
  {
   "cell_type": "code",
   "execution_count": 24,
   "metadata": {},
   "outputs": [
    {
     "data": {
      "image/png": "[encoded data removed]",
      "text/plain": [
       "<Figure size 432x288 with 1 Axes>"
      ]
     },
     "metadata": {},
     "output_type": "display_data"
    }
   ],
   "source": [
    "# Visualisation avec un pieplot\n",
    "plt.pie(clients.classe_age.value_counts(normalize=True), \n",
    "       labels=[\"30-50 ans\", \"50 ans et +\", \"18-30 ans\"], \n",
    "       autopct='%1.1f%%', \n",
    "       startangle=90\n",
    "      )\n",
    "\n",
    "plt.axis('equal')  # Equal aspect ratio ensures that pie is drawn as a circle.\n",
    "\n",
    "plt.title('Répartition des clients par classe d\\'âge')\n",
    "plt.savefig('fig7.jpeg')"
   ]
  },
  {
   "cell_type": "markdown",
   "metadata": {},
   "source": [
    "#### Répartition des clients par âge et par sexe"
   ]
  },
  {
   "cell_type": "code",
   "execution_count": 17,
   "metadata": {},
   "outputs": [
    {
     "data": {
      "image/png": "[encoded data removed]",
      "text/plain": [
       "<Figure size 432x288 with 1 Axes>"
      ]
     },
     "metadata": {},
     "output_type": "display_data"
    }
   ],
   "source": [
    "clients.boxplot(column='age', by='sex', vert = 0, showmeans=True)\n",
    "plt.title('Répartition des clients par âge et sexe')\n",
    "plt.suptitle('')\n",
    "plt.xlabel('âge')\n",
    "\n",
    "plt.savefig('fig8.jpeg')"
   ]
  },
  {
   "cell_type": "markdown",
   "metadata": {},
   "source": [
    "On constate que les répartitions sont quasiment similaires. "
   ]
  },
  {
   "cell_type": "code",
   "execution_count": 46,
   "metadata": {},
   "outputs": [
    {
     "data": {
      "image/png": "[encoded data removed]",
      "text/plain": [
       "<Figure size 432x288 with 2 Axes>"
      ]
     },
     "metadata": {},
     "output_type": "display_data"
    }
   ],
   "source": [
    "# Avec des histogrammes\n",
    "clients.hist(column='age', by='sex', bins=25)\n",
    "plt.suptitle(\"Répartition des clients par sexe et âge\", size=10)\n",
    "plt.savefig('fig9.jpeg')"
   ]
  },
  {
   "cell_type": "markdown",
   "metadata": {},
   "source": [
    "RAS. Les répartitions sont très similaires."
   ]
  },
  {
   "cell_type": "markdown",
   "metadata": {},
   "source": [
    "## 2. Table produits"
   ]
  },
  {
   "cell_type": "markdown",
   "metadata": {},
   "source": [
    "### Nettoyage"
   ]
  },
  {
   "cell_type": "code",
   "execution_count": 12,
   "metadata": {},
   "outputs": [],
   "source": [
    "# Import des données de la table products\n",
    "produits = pd.read_csv(\"C:/Users/Zang/Documents/APPRENDER/OPENCLASSROOMS/PARCOURS DA/P4_Analysez_les_ventes_de_votre_entreprise/data/products.csv\")"
   ]
  },
  {
   "cell_type": "code",
   "execution_count": 47,
   "metadata": {},
   "outputs": [
    {
     "data": {
      "text/html": [
       "<div>\n",
       "<style scoped>\n",
       "    .dataframe tbody tr th:only-of-type {\n",
       "        vertical-align: middle;\n",
       "    }\n",
       "\n",
       "    .dataframe tbody tr th {\n",
       "        vertical-align: top;\n",
       "    }\n",
       "\n",
       "    .dataframe thead th {\n",
       "        text-align: right;\n",
       "    }\n",
       "</style>\n",
       "<table border=\"1\" class=\"dataframe\">\n",
       "  <thead>\n",
       "    <tr style=\"text-align: right;\">\n",
       "      <th></th>\n",
       "      <th>id_prod</th>\n",
       "      <th>price</th>\n",
       "      <th>categ</th>\n",
       "    </tr>\n",
       "  </thead>\n",
       "  <tbody>\n",
       "    <tr>\n",
       "      <th>0</th>\n",
       "      <td>0_1421</td>\n",
       "      <td>19.99</td>\n",
       "      <td>0</td>\n",
       "    </tr>\n",
       "    <tr>\n",
       "      <th>1</th>\n",
       "      <td>0_1368</td>\n",
       "      <td>5.13</td>\n",
       "      <td>0</td>\n",
       "    </tr>\n",
       "    <tr>\n",
       "      <th>2</th>\n",
       "      <td>0_731</td>\n",
       "      <td>17.99</td>\n",
       "      <td>0</td>\n",
       "    </tr>\n",
       "    <tr>\n",
       "      <th>3</th>\n",
       "      <td>1_587</td>\n",
       "      <td>4.99</td>\n",
       "      <td>1</td>\n",
       "    </tr>\n",
       "    <tr>\n",
       "      <th>4</th>\n",
       "      <td>0_1507</td>\n",
       "      <td>3.99</td>\n",
       "      <td>0</td>\n",
       "    </tr>\n",
       "  </tbody>\n",
       "</table>\n",
       "</div>"
      ],
      "text/plain": [
       "  id_prod  price  categ\n",
       "0  0_1421  19.99      0\n",
       "1  0_1368   5.13      0\n",
       "2   0_731  17.99      0\n",
       "3   1_587   4.99      1\n",
       "4  0_1507   3.99      0"
      ]
     },
     "execution_count": 47,
     "metadata": {},
     "output_type": "execute_result"
    }
   ],
   "source": [
    "produits.head()"
   ]
  },
  {
   "cell_type": "code",
   "execution_count": 78,
   "metadata": {},
   "outputs": [
    {
     "data": {
      "text/plain": [
       "(3287, 3)"
      ]
     },
     "execution_count": 78,
     "metadata": {},
     "output_type": "execute_result"
    }
   ],
   "source": [
    "produits.shape"
   ]
  },
  {
   "cell_type": "code",
   "execution_count": 83,
   "metadata": {},
   "outputs": [
    {
     "data": {
      "text/plain": [
       "id_prod    0\n",
       "price      0\n",
       "categ      0\n",
       "dtype: int64"
      ]
     },
     "execution_count": 83,
     "metadata": {},
     "output_type": "execute_result"
    }
   ],
   "source": [
    "produits.isnull().sum()"
   ]
  },
  {
   "cell_type": "code",
   "execution_count": 48,
   "metadata": {},
   "outputs": [
    {
     "data": {
      "text/html": [
       "<div>\n",
       "<style scoped>\n",
       "    .dataframe tbody tr th:only-of-type {\n",
       "        vertical-align: middle;\n",
       "    }\n",
       "\n",
       "    .dataframe tbody tr th {\n",
       "        vertical-align: top;\n",
       "    }\n",
       "\n",
       "    .dataframe thead th {\n",
       "        text-align: right;\n",
       "    }\n",
       "</style>\n",
       "<table border=\"1\" class=\"dataframe\">\n",
       "  <thead>\n",
       "    <tr style=\"text-align: right;\">\n",
       "      <th></th>\n",
       "      <th>id_prod</th>\n",
       "      <th>price</th>\n",
       "      <th>categ</th>\n",
       "    </tr>\n",
       "  </thead>\n",
       "  <tbody>\n",
       "  </tbody>\n",
       "</table>\n",
       "</div>"
      ],
      "text/plain": [
       "Empty DataFrame\n",
       "Columns: [id_prod, price, categ]\n",
       "Index: []"
      ]
     },
     "execution_count": 48,
     "metadata": {},
     "output_type": "execute_result"
    }
   ],
   "source": [
    "# Doublons dans id_prod ?\n",
    "produits[produits.duplicated()].sort_values(by='id_prod').head()"
   ]
  },
  {
   "cell_type": "markdown",
   "metadata": {},
   "source": [
    "id_prod est une clé primaire. "
   ]
  },
  {
   "cell_type": "code",
   "execution_count": 12,
   "metadata": {},
   "outputs": [
    {
     "data": {
      "text/plain": [
       "id_prod     object\n",
       "price      float64\n",
       "categ        int64\n",
       "dtype: object"
      ]
     },
     "execution_count": 12,
     "metadata": {},
     "output_type": "execute_result"
    }
   ],
   "source": [
    "# Vérification des types\n",
    "produits.dtypes"
   ]
  },
  {
   "cell_type": "code",
   "execution_count": 118,
   "metadata": {},
   "outputs": [
    {
     "data": {
      "text/html": [
       "<div>\n",
       "<style scoped>\n",
       "    .dataframe tbody tr th:only-of-type {\n",
       "        vertical-align: middle;\n",
       "    }\n",
       "\n",
       "    .dataframe tbody tr th {\n",
       "        vertical-align: top;\n",
       "    }\n",
       "\n",
       "    .dataframe thead th {\n",
       "        text-align: right;\n",
       "    }\n",
       "</style>\n",
       "<table border=\"1\" class=\"dataframe\">\n",
       "  <thead>\n",
       "    <tr style=\"text-align: right;\">\n",
       "      <th></th>\n",
       "      <th>id_prod</th>\n",
       "      <th>price</th>\n",
       "      <th>categ</th>\n",
       "    </tr>\n",
       "  </thead>\n",
       "  <tbody>\n",
       "    <tr>\n",
       "      <th>count</th>\n",
       "      <td>3287</td>\n",
       "      <td>3287.000000</td>\n",
       "      <td>3287.000000</td>\n",
       "    </tr>\n",
       "    <tr>\n",
       "      <th>unique</th>\n",
       "      <td>3287</td>\n",
       "      <td>NaN</td>\n",
       "      <td>NaN</td>\n",
       "    </tr>\n",
       "    <tr>\n",
       "      <th>top</th>\n",
       "      <td>1_633</td>\n",
       "      <td>NaN</td>\n",
       "      <td>NaN</td>\n",
       "    </tr>\n",
       "    <tr>\n",
       "      <th>freq</th>\n",
       "      <td>1</td>\n",
       "      <td>NaN</td>\n",
       "      <td>NaN</td>\n",
       "    </tr>\n",
       "    <tr>\n",
       "      <th>mean</th>\n",
       "      <td>NaN</td>\n",
       "      <td>21.856641</td>\n",
       "      <td>0.370246</td>\n",
       "    </tr>\n",
       "    <tr>\n",
       "      <th>std</th>\n",
       "      <td>NaN</td>\n",
       "      <td>29.847908</td>\n",
       "      <td>0.615387</td>\n",
       "    </tr>\n",
       "    <tr>\n",
       "      <th>min</th>\n",
       "      <td>NaN</td>\n",
       "      <td>-1.000000</td>\n",
       "      <td>0.000000</td>\n",
       "    </tr>\n",
       "    <tr>\n",
       "      <th>25%</th>\n",
       "      <td>NaN</td>\n",
       "      <td>6.990000</td>\n",
       "      <td>0.000000</td>\n",
       "    </tr>\n",
       "    <tr>\n",
       "      <th>50%</th>\n",
       "      <td>NaN</td>\n",
       "      <td>13.060000</td>\n",
       "      <td>0.000000</td>\n",
       "    </tr>\n",
       "    <tr>\n",
       "      <th>75%</th>\n",
       "      <td>NaN</td>\n",
       "      <td>22.990000</td>\n",
       "      <td>1.000000</td>\n",
       "    </tr>\n",
       "    <tr>\n",
       "      <th>max</th>\n",
       "      <td>NaN</td>\n",
       "      <td>300.000000</td>\n",
       "      <td>2.000000</td>\n",
       "    </tr>\n",
       "  </tbody>\n",
       "</table>\n",
       "</div>"
      ],
      "text/plain": [
       "       id_prod        price        categ\n",
       "count     3287  3287.000000  3287.000000\n",
       "unique    3287          NaN          NaN\n",
       "top      1_633          NaN          NaN\n",
       "freq         1          NaN          NaN\n",
       "mean       NaN    21.856641     0.370246\n",
       "std        NaN    29.847908     0.615387\n",
       "min        NaN    -1.000000     0.000000\n",
       "25%        NaN     6.990000     0.000000\n",
       "50%        NaN    13.060000     0.000000\n",
       "75%        NaN    22.990000     1.000000\n",
       "max        NaN   300.000000     2.000000"
      ]
     },
     "execution_count": 118,
     "metadata": {},
     "output_type": "execute_result"
    }
   ],
   "source": [
    "produits.describe(include='all')"
   ]
  },
  {
   "cell_type": "markdown",
   "metadata": {},
   "source": [
    "Plus de 3200 produits. "
   ]
  },
  {
   "cell_type": "code",
   "execution_count": 119,
   "metadata": {},
   "outputs": [
    {
     "data": {
      "text/html": [
       "<div>\n",
       "<style scoped>\n",
       "    .dataframe tbody tr th:only-of-type {\n",
       "        vertical-align: middle;\n",
       "    }\n",
       "\n",
       "    .dataframe tbody tr th {\n",
       "        vertical-align: top;\n",
       "    }\n",
       "\n",
       "    .dataframe thead th {\n",
       "        text-align: right;\n",
       "    }\n",
       "</style>\n",
       "<table border=\"1\" class=\"dataframe\">\n",
       "  <thead>\n",
       "    <tr style=\"text-align: right;\">\n",
       "      <th></th>\n",
       "      <th>id_prod</th>\n",
       "      <th>price</th>\n",
       "      <th>categ</th>\n",
       "    </tr>\n",
       "  </thead>\n",
       "  <tbody>\n",
       "    <tr>\n",
       "      <th>731</th>\n",
       "      <td>T_0</td>\n",
       "      <td>-1.0</td>\n",
       "      <td>0</td>\n",
       "    </tr>\n",
       "  </tbody>\n",
       "</table>\n",
       "</div>"
      ],
      "text/plain": [
       "    id_prod  price  categ\n",
       "731     T_0   -1.0      0"
      ]
     },
     "execution_count": 119,
     "metadata": {},
     "output_type": "execute_result"
    }
   ],
   "source": [
    "# Un prix est = à -1, c'est bizarre\n",
    "produits[produits['price']<=0]"
   ]
  },
  {
   "cell_type": "code",
   "execution_count": 120,
   "metadata": {},
   "outputs": [
    {
     "data": {
      "text/html": [
       "<div>\n",
       "<style scoped>\n",
       "    .dataframe tbody tr th:only-of-type {\n",
       "        vertical-align: middle;\n",
       "    }\n",
       "\n",
       "    .dataframe tbody tr th {\n",
       "        vertical-align: top;\n",
       "    }\n",
       "\n",
       "    .dataframe thead th {\n",
       "        text-align: right;\n",
       "    }\n",
       "</style>\n",
       "<table border=\"1\" class=\"dataframe\">\n",
       "  <thead>\n",
       "    <tr style=\"text-align: right;\">\n",
       "      <th></th>\n",
       "      <th>id_prod</th>\n",
       "      <th>price</th>\n",
       "      <th>categ</th>\n",
       "    </tr>\n",
       "  </thead>\n",
       "  <tbody>\n",
       "    <tr>\n",
       "      <th>731</th>\n",
       "      <td>T_0</td>\n",
       "      <td>-1.0</td>\n",
       "      <td>0</td>\n",
       "    </tr>\n",
       "  </tbody>\n",
       "</table>\n",
       "</div>"
      ],
      "text/plain": [
       "    id_prod  price  categ\n",
       "731     T_0   -1.0      0"
      ]
     },
     "execution_count": 120,
     "metadata": {},
     "output_type": "execute_result"
    }
   ],
   "source": [
    "# Je cherche s'il y a d'autres id_prod = T_0 : \n",
    "produits[produits['id_prod']=='T_0']"
   ]
  },
  {
   "cell_type": "code",
   "execution_count": 13,
   "metadata": {},
   "outputs": [],
   "source": [
    "# Suppression du prix < 0\n",
    "produits = produits.drop([731])"
   ]
  },
  {
   "cell_type": "code",
   "execution_count": 138,
   "metadata": {},
   "outputs": [
    {
     "data": {
      "text/html": [
       "<div>\n",
       "<style scoped>\n",
       "    .dataframe tbody tr th:only-of-type {\n",
       "        vertical-align: middle;\n",
       "    }\n",
       "\n",
       "    .dataframe tbody tr th {\n",
       "        vertical-align: top;\n",
       "    }\n",
       "\n",
       "    .dataframe thead th {\n",
       "        text-align: right;\n",
       "    }\n",
       "</style>\n",
       "<table border=\"1\" class=\"dataframe\">\n",
       "  <thead>\n",
       "    <tr style=\"text-align: right;\">\n",
       "      <th></th>\n",
       "      <th>id_prod</th>\n",
       "      <th>price</th>\n",
       "      <th>categ</th>\n",
       "    </tr>\n",
       "  </thead>\n",
       "  <tbody>\n",
       "    <tr>\n",
       "      <th>10</th>\n",
       "      <td>2_228</td>\n",
       "      <td>225.17</td>\n",
       "      <td>2</td>\n",
       "    </tr>\n",
       "    <tr>\n",
       "      <th>95</th>\n",
       "      <td>2_128</td>\n",
       "      <td>201.74</td>\n",
       "      <td>2</td>\n",
       "    </tr>\n",
       "    <tr>\n",
       "      <th>394</th>\n",
       "      <td>2_158</td>\n",
       "      <td>247.22</td>\n",
       "      <td>2</td>\n",
       "    </tr>\n",
       "    <tr>\n",
       "      <th>724</th>\n",
       "      <td>2_76</td>\n",
       "      <td>254.44</td>\n",
       "      <td>2</td>\n",
       "    </tr>\n",
       "    <tr>\n",
       "      <th>786</th>\n",
       "      <td>2_40</td>\n",
       "      <td>228.11</td>\n",
       "      <td>2</td>\n",
       "    </tr>\n",
       "    <tr>\n",
       "      <th>947</th>\n",
       "      <td>2_2</td>\n",
       "      <td>300.00</td>\n",
       "      <td>2</td>\n",
       "    </tr>\n",
       "    <tr>\n",
       "      <th>1284</th>\n",
       "      <td>2_211</td>\n",
       "      <td>203.99</td>\n",
       "      <td>2</td>\n",
       "    </tr>\n",
       "    <tr>\n",
       "      <th>1436</th>\n",
       "      <td>2_167</td>\n",
       "      <td>236.99</td>\n",
       "      <td>2</td>\n",
       "    </tr>\n",
       "    <tr>\n",
       "      <th>1709</th>\n",
       "      <td>2_87</td>\n",
       "      <td>220.99</td>\n",
       "      <td>2</td>\n",
       "    </tr>\n",
       "    <tr>\n",
       "      <th>1896</th>\n",
       "      <td>2_4</td>\n",
       "      <td>222.97</td>\n",
       "      <td>2</td>\n",
       "    </tr>\n",
       "    <tr>\n",
       "      <th>1960</th>\n",
       "      <td>2_125</td>\n",
       "      <td>231.99</td>\n",
       "      <td>2</td>\n",
       "    </tr>\n",
       "    <tr>\n",
       "      <th>2464</th>\n",
       "      <td>2_3</td>\n",
       "      <td>202.99</td>\n",
       "      <td>2</td>\n",
       "    </tr>\n",
       "    <tr>\n",
       "      <th>2487</th>\n",
       "      <td>2_166</td>\n",
       "      <td>230.04</td>\n",
       "      <td>2</td>\n",
       "    </tr>\n",
       "    <tr>\n",
       "      <th>2779</th>\n",
       "      <td>2_30</td>\n",
       "      <td>233.54</td>\n",
       "      <td>2</td>\n",
       "    </tr>\n",
       "    <tr>\n",
       "      <th>3163</th>\n",
       "      <td>2_11</td>\n",
       "      <td>201.99</td>\n",
       "      <td>2</td>\n",
       "    </tr>\n",
       "  </tbody>\n",
       "</table>\n",
       "</div>"
      ],
      "text/plain": [
       "     id_prod   price  categ\n",
       "10     2_228  225.17      2\n",
       "95     2_128  201.74      2\n",
       "394    2_158  247.22      2\n",
       "724     2_76  254.44      2\n",
       "786     2_40  228.11      2\n",
       "947      2_2  300.00      2\n",
       "1284   2_211  203.99      2\n",
       "1436   2_167  236.99      2\n",
       "1709    2_87  220.99      2\n",
       "1896     2_4  222.97      2\n",
       "1960   2_125  231.99      2\n",
       "2464     2_3  202.99      2\n",
       "2487   2_166  230.04      2\n",
       "2779    2_30  233.54      2\n",
       "3163    2_11  201.99      2"
      ]
     },
     "execution_count": 138,
     "metadata": {},
     "output_type": "execute_result"
    }
   ],
   "source": [
    "# Le prix max est de 300, ce qui semble bp compte tenu de la moyenne à 22\n",
    "# Je regarde les prix supérieurs à 30\n",
    "produits[produits['price'] > 200]"
   ]
  },
  {
   "cell_type": "markdown",
   "metadata": {},
   "source": [
    "Visiblement pas d'incohérence. Ce sont tous des produits de la catégorie 2, une catégorie visiblement plus oréneuse. "
   ]
  },
  {
   "cell_type": "code",
   "execution_count": 23,
   "metadata": {
    "scrolled": true
   },
   "outputs": [
    {
     "data": {
      "image/png": "[encoded data removed]",
      "text/plain": [
       "<Figure size 432x288 with 1 Axes>"
      ]
     },
     "metadata": {},
     "output_type": "display_data"
    }
   ],
   "source": [
    "produits.boxplot(column='price', by='categ', vert = 0, showmeans=True)\n",
    "plt.xlabel('prix')\n",
    "plt.ylabel('catégorie')\n",
    "plt.suptitle(\"\")\n",
    "plt.title('Répartition des prix par catégorie')\n",
    "\n",
    "plt.savefig('fig10.jpeg')"
   ]
  },
  {
   "cell_type": "markdown",
   "metadata": {},
   "source": [
    "Les prix de la catégorie 2 sont plus élevés que ceux des autres catégories."
   ]
  },
  {
   "cell_type": "markdown",
   "metadata": {},
   "source": [
    "#### Répartition des produits par catégorie"
   ]
  },
  {
   "cell_type": "code",
   "execution_count": 24,
   "metadata": {
    "scrolled": true
   },
   "outputs": [
    {
     "name": "stdout",
     "output_type": "stream",
     "text": [
      "Catégorie 0: 2308 produits\n",
      "Catégorie 1: 739 produits\n",
      "Catégorie 2: 239 produits\n"
     ]
    },
    {
     "data": {
      "image/png": "[encoded data removed]",
      "text/plain": [
       "<Figure size 432x288 with 1 Axes>"
      ]
     },
     "metadata": {},
     "output_type": "display_data"
    }
   ],
   "source": [
    "# Visualisation avec un pieplot \n",
    "plt.pie(produits.categ.value_counts(), labels=[\"cat.0\", \"cat.1\", \"cat.2\"], autopct='%1.1f%%',\n",
    "        startangle=90)\n",
    "plt.axis('equal')  # Equal aspect ratio ensures that pie is drawn as a circle.\n",
    "\n",
    "plt.title('Répartition des produits par catégorie')\n",
    "\n",
    "plt.savefig('fig11.jpeg')\n",
    "\n",
    "print(f\"Catégorie 0: {produits[produits['categ']==0]['id_prod'].count()} produits\")\n",
    "print(f\"Catégorie 1: {produits[produits['categ']==1]['id_prod'].count()} produits\")\n",
    "print(f\"Catégorie 2: {produits[produits['categ']==2]['id_prod'].count()} produits\")"
   ]
  },
  {
   "cell_type": "markdown",
   "metadata": {},
   "source": [
    "#### Distribution des prix"
   ]
  },
  {
   "cell_type": "code",
   "execution_count": 15,
   "metadata": {
    "scrolled": true
   },
   "outputs": [
    {
     "data": {
      "image/png": "[encoded data removed]",
      "text/plain": [
       "<Figure size 432x288 with 1 Axes>"
      ]
     },
     "metadata": {},
     "output_type": "display_data"
    }
   ],
   "source": [
    "# Je vérifie la colonne price avec une boite à moustaches : \n",
    "produits.boxplot(column='price', showmeans=True, vert = 0).set_title('Distribution des prix')\n",
    "plt.xlabel('prix')\n",
    "plt.savefig('fig12.jpeg')"
   ]
  },
  {
   "cell_type": "markdown",
   "metadata": {},
   "source": [
    "La partie centrale est particulièrement concentrée par rapport au reste de la distribution, beaucoup de produits ont des prix < 50 €.  \n",
    "De nombreux prix sont uniques. "
   ]
  },
  {
   "cell_type": "code",
   "execution_count": 16,
   "metadata": {
    "scrolled": true
   },
   "outputs": [
    {
     "data": {
      "image/png": "[encoded data removed]",
      "text/plain": [
       "<Figure size 432x288 with 1 Axes>"
      ]
     },
     "metadata": {},
     "output_type": "display_data"
    }
   ],
   "source": [
    "# Je vérifie la colonne price avec une boite à moustaches : \n",
    "produits.boxplot(column='price', showmeans=True, showfliers=False, vert = 0).set_title('Distribution des prix (sans outliers)')\n",
    "plt.xlabel('prix')\n",
    "plt.savefig('fig13.jpeg')"
   ]
  },
  {
   "cell_type": "code",
   "execution_count": 28,
   "metadata": {
    "scrolled": false
   },
   "outputs": [
    {
     "data": {
      "image/png": "[encoded data removed]",
      "text/plain": [
       "<Figure size 432x288 with 1 Axes>"
      ]
     },
     "metadata": {},
     "output_type": "display_data"
    }
   ],
   "source": [
    "# Histogramme de répartition des prix : \n",
    "# Attention, réalisé après traitement du produit 0_2245 : imputation de la moyenne des prix de sa catégorie (voir plus bas).\n",
    "plt.title('Répartition des prix')\n",
    "cpv['price'].hist(bins=20)\n",
    "plt.xlabel('prix')\n",
    "plt.ylabel('quantité')\n",
    "\n",
    "plt.savefig('fig14.jpeg')"
   ]
  },
  {
   "cell_type": "markdown",
   "metadata": {},
   "source": [
    "On constate que de nombreux prix sont situés dans la fourchette 0 - 40 € environ. "
   ]
  },
  {
   "cell_type": "code",
   "execution_count": 16,
   "metadata": {},
   "outputs": [
    {
     "data": {
      "text/html": [
       "<div>\n",
       "<style scoped>\n",
       "    .dataframe tbody tr th:only-of-type {\n",
       "        vertical-align: middle;\n",
       "    }\n",
       "\n",
       "    .dataframe tbody tr th {\n",
       "        vertical-align: top;\n",
       "    }\n",
       "\n",
       "    .dataframe thead th {\n",
       "        text-align: right;\n",
       "    }\n",
       "</style>\n",
       "<table border=\"1\" class=\"dataframe\">\n",
       "  <thead>\n",
       "    <tr style=\"text-align: right;\">\n",
       "      <th></th>\n",
       "      <th>price</th>\n",
       "      <th>categ</th>\n",
       "    </tr>\n",
       "  </thead>\n",
       "  <tbody>\n",
       "    <tr>\n",
       "      <th>count</th>\n",
       "      <td>3286.000000</td>\n",
       "      <td>3286.000000</td>\n",
       "    </tr>\n",
       "    <tr>\n",
       "      <th>mean</th>\n",
       "      <td>21.863597</td>\n",
       "      <td>0.370359</td>\n",
       "    </tr>\n",
       "    <tr>\n",
       "      <th>std</th>\n",
       "      <td>29.849786</td>\n",
       "      <td>0.615446</td>\n",
       "    </tr>\n",
       "    <tr>\n",
       "      <th>min</th>\n",
       "      <td>0.620000</td>\n",
       "      <td>0.000000</td>\n",
       "    </tr>\n",
       "    <tr>\n",
       "      <th>25%</th>\n",
       "      <td>6.990000</td>\n",
       "      <td>0.000000</td>\n",
       "    </tr>\n",
       "    <tr>\n",
       "      <th>50%</th>\n",
       "      <td>13.075000</td>\n",
       "      <td>0.000000</td>\n",
       "    </tr>\n",
       "    <tr>\n",
       "      <th>75%</th>\n",
       "      <td>22.990000</td>\n",
       "      <td>1.000000</td>\n",
       "    </tr>\n",
       "    <tr>\n",
       "      <th>max</th>\n",
       "      <td>300.000000</td>\n",
       "      <td>2.000000</td>\n",
       "    </tr>\n",
       "  </tbody>\n",
       "</table>\n",
       "</div>"
      ],
      "text/plain": [
       "             price        categ\n",
       "count  3286.000000  3286.000000\n",
       "mean     21.863597     0.370359\n",
       "std      29.849786     0.615446\n",
       "min       0.620000     0.000000\n",
       "25%       6.990000     0.000000\n",
       "50%      13.075000     0.000000\n",
       "75%      22.990000     1.000000\n",
       "max     300.000000     2.000000"
      ]
     },
     "execution_count": 16,
     "metadata": {},
     "output_type": "execute_result"
    }
   ],
   "source": [
    "produits.describe()"
   ]
  },
  {
   "cell_type": "markdown",
   "metadata": {},
   "source": [
    "- La moyenne des prix est de 22 €. \n",
    "- L'écart-type, plus élevé que la moyenne, montre une forte dispersion des prix. \n",
    "- La moitié des prix est situe entre 7 et 23 €. \n",
    "- Prix mini 0.62 €. \n",
    "- Prix max 300 €. "
   ]
  },
  {
   "cell_type": "markdown",
   "metadata": {},
   "source": [
    "## 3. Table transactions"
   ]
  },
  {
   "cell_type": "markdown",
   "metadata": {},
   "source": [
    "### Nettoyage"
   ]
  },
  {
   "cell_type": "code",
   "execution_count": 18,
   "metadata": {},
   "outputs": [],
   "source": [
    "# Import des données de la table transactions\n",
    "ventes = pd.read_csv(\"C:/Users/Zang/Documents/APPRENDER/OPENCLASSROOMS/PARCOURS DA/P4_Analysez_les_ventes_de_votre_entreprise/data/transactions.csv\")"
   ]
  },
  {
   "cell_type": "code",
   "execution_count": 3,
   "metadata": {},
   "outputs": [
    {
     "data": {
      "text/html": [
       "<div>\n",
       "<style scoped>\n",
       "    .dataframe tbody tr th:only-of-type {\n",
       "        vertical-align: middle;\n",
       "    }\n",
       "\n",
       "    .dataframe tbody tr th {\n",
       "        vertical-align: top;\n",
       "    }\n",
       "\n",
       "    .dataframe thead th {\n",
       "        text-align: right;\n",
       "    }\n",
       "</style>\n",
       "<table border=\"1\" class=\"dataframe\">\n",
       "  <thead>\n",
       "    <tr style=\"text-align: right;\">\n",
       "      <th></th>\n",
       "      <th>id_prod</th>\n",
       "      <th>date</th>\n",
       "      <th>session_id</th>\n",
       "      <th>client_id</th>\n",
       "    </tr>\n",
       "  </thead>\n",
       "  <tbody>\n",
       "    <tr>\n",
       "      <th>0</th>\n",
       "      <td>0_1483</td>\n",
       "      <td>2021-04-10 18:37:28.723910</td>\n",
       "      <td>s_18746</td>\n",
       "      <td>c_4450</td>\n",
       "    </tr>\n",
       "    <tr>\n",
       "      <th>1</th>\n",
       "      <td>2_226</td>\n",
       "      <td>2022-02-03 01:55:53.276402</td>\n",
       "      <td>s_159142</td>\n",
       "      <td>c_277</td>\n",
       "    </tr>\n",
       "    <tr>\n",
       "      <th>2</th>\n",
       "      <td>1_374</td>\n",
       "      <td>2021-09-23 15:13:46.938559</td>\n",
       "      <td>s_94290</td>\n",
       "      <td>c_4270</td>\n",
       "    </tr>\n",
       "    <tr>\n",
       "      <th>3</th>\n",
       "      <td>0_2186</td>\n",
       "      <td>2021-10-17 03:27:18.783634</td>\n",
       "      <td>s_105936</td>\n",
       "      <td>c_4597</td>\n",
       "    </tr>\n",
       "    <tr>\n",
       "      <th>4</th>\n",
       "      <td>0_1351</td>\n",
       "      <td>2021-07-17 20:34:25.800563</td>\n",
       "      <td>s_63642</td>\n",
       "      <td>c_1242</td>\n",
       "    </tr>\n",
       "  </tbody>\n",
       "</table>\n",
       "</div>"
      ],
      "text/plain": [
       "  id_prod                        date session_id client_id\n",
       "0  0_1483  2021-04-10 18:37:28.723910    s_18746    c_4450\n",
       "1   2_226  2022-02-03 01:55:53.276402   s_159142     c_277\n",
       "2   1_374  2021-09-23 15:13:46.938559    s_94290    c_4270\n",
       "3  0_2186  2021-10-17 03:27:18.783634   s_105936    c_4597\n",
       "4  0_1351  2021-07-17 20:34:25.800563    s_63642    c_1242"
      ]
     },
     "execution_count": 3,
     "metadata": {},
     "output_type": "execute_result"
    }
   ],
   "source": [
    "ventes.head()"
   ]
  },
  {
   "cell_type": "code",
   "execution_count": 32,
   "metadata": {},
   "outputs": [
    {
     "data": {
      "text/plain": [
       "(337016, 4)"
      ]
     },
     "execution_count": 32,
     "metadata": {},
     "output_type": "execute_result"
    }
   ],
   "source": [
    "ventes.shape"
   ]
  },
  {
   "cell_type": "code",
   "execution_count": 64,
   "metadata": {},
   "outputs": [
    {
     "data": {
      "text/plain": [
       "False"
      ]
     },
     "execution_count": 64,
     "metadata": {},
     "output_type": "execute_result"
    }
   ],
   "source": [
    "# Affichage des valeurs nulles\n",
    "ventes.isnull().values.any()"
   ]
  },
  {
   "cell_type": "code",
   "execution_count": 71,
   "metadata": {},
   "outputs": [
    {
     "data": {
      "text/html": [
       "<div>\n",
       "<style scoped>\n",
       "    .dataframe tbody tr th:only-of-type {\n",
       "        vertical-align: middle;\n",
       "    }\n",
       "\n",
       "    .dataframe tbody tr th {\n",
       "        vertical-align: top;\n",
       "    }\n",
       "\n",
       "    .dataframe thead th {\n",
       "        text-align: right;\n",
       "    }\n",
       "</style>\n",
       "<table border=\"1\" class=\"dataframe\">\n",
       "  <thead>\n",
       "    <tr style=\"text-align: right;\">\n",
       "      <th></th>\n",
       "      <th>id_prod</th>\n",
       "      <th>date</th>\n",
       "      <th>session_id</th>\n",
       "      <th>client_id</th>\n",
       "      <th>heure</th>\n",
       "    </tr>\n",
       "  </thead>\n",
       "  <tbody>\n",
       "  </tbody>\n",
       "</table>\n",
       "</div>"
      ],
      "text/plain": [
       "Empty DataFrame\n",
       "Columns: [id_prod, date, session_id, client_id, heure]\n",
       "Index: []"
      ]
     },
     "execution_count": 71,
     "metadata": {},
     "output_type": "execute_result"
    }
   ],
   "source": [
    "# Vérification si présence de doublons\n",
    "ventes[ventes.duplicated()].sort_values(by='client_id').head()"
   ]
  },
  {
   "cell_type": "code",
   "execution_count": 41,
   "metadata": {},
   "outputs": [
    {
     "data": {
      "text/html": [
       "<div>\n",
       "<style scoped>\n",
       "    .dataframe tbody tr th:only-of-type {\n",
       "        vertical-align: middle;\n",
       "    }\n",
       "\n",
       "    .dataframe tbody tr th {\n",
       "        vertical-align: top;\n",
       "    }\n",
       "\n",
       "    .dataframe thead th {\n",
       "        text-align: right;\n",
       "    }\n",
       "</style>\n",
       "<table border=\"1\" class=\"dataframe\">\n",
       "  <thead>\n",
       "    <tr style=\"text-align: right;\">\n",
       "      <th></th>\n",
       "      <th>id_prod</th>\n",
       "      <th>date</th>\n",
       "      <th>session_id</th>\n",
       "      <th>client_id</th>\n",
       "    </tr>\n",
       "  </thead>\n",
       "  <tbody>\n",
       "    <tr>\n",
       "      <th>count</th>\n",
       "      <td>337016</td>\n",
       "      <td>337016</td>\n",
       "      <td>337016</td>\n",
       "      <td>337016</td>\n",
       "    </tr>\n",
       "    <tr>\n",
       "      <th>unique</th>\n",
       "      <td>3266</td>\n",
       "      <td>336855</td>\n",
       "      <td>169195</td>\n",
       "      <td>8602</td>\n",
       "    </tr>\n",
       "    <tr>\n",
       "      <th>top</th>\n",
       "      <td>1_369</td>\n",
       "      <td>test_2021-03-01 02:30:02.237413</td>\n",
       "      <td>s_0</td>\n",
       "      <td>c_1609</td>\n",
       "    </tr>\n",
       "    <tr>\n",
       "      <th>freq</th>\n",
       "      <td>1081</td>\n",
       "      <td>13</td>\n",
       "      <td>200</td>\n",
       "      <td>12855</td>\n",
       "    </tr>\n",
       "  </tbody>\n",
       "</table>\n",
       "</div>"
      ],
      "text/plain": [
       "       id_prod                             date session_id client_id\n",
       "count   337016                           337016     337016    337016\n",
       "unique    3266                           336855     169195      8602\n",
       "top      1_369  test_2021-03-01 02:30:02.237413        s_0    c_1609\n",
       "freq      1081                               13        200     12855"
      ]
     },
     "execution_count": 41,
     "metadata": {},
     "output_type": "execute_result"
    }
   ],
   "source": [
    "ventes.describe(include='all')"
   ]
  },
  {
   "cell_type": "markdown",
   "metadata": {},
   "source": [
    "La table contient plus de 330 000 transactions. "
   ]
  },
  {
   "cell_type": "code",
   "execution_count": 28,
   "metadata": {},
   "outputs": [
    {
     "data": {
      "text/html": [
       "<div>\n",
       "<style scoped>\n",
       "    .dataframe tbody tr th:only-of-type {\n",
       "        vertical-align: middle;\n",
       "    }\n",
       "\n",
       "    .dataframe tbody tr th {\n",
       "        vertical-align: top;\n",
       "    }\n",
       "\n",
       "    .dataframe thead th {\n",
       "        text-align: right;\n",
       "    }\n",
       "</style>\n",
       "<table border=\"1\" class=\"dataframe\">\n",
       "  <thead>\n",
       "    <tr style=\"text-align: right;\">\n",
       "      <th></th>\n",
       "      <th>id_prod</th>\n",
       "      <th>date</th>\n",
       "      <th>session_id</th>\n",
       "      <th>client_id</th>\n",
       "    </tr>\n",
       "  </thead>\n",
       "  <tbody>\n",
       "    <tr>\n",
       "      <th>1431</th>\n",
       "      <td>T_0</td>\n",
       "      <td>test_2021-03-01 02:30:02.237420</td>\n",
       "      <td>s_0</td>\n",
       "      <td>ct_1</td>\n",
       "    </tr>\n",
       "    <tr>\n",
       "      <th>2365</th>\n",
       "      <td>T_0</td>\n",
       "      <td>test_2021-03-01 02:30:02.237446</td>\n",
       "      <td>s_0</td>\n",
       "      <td>ct_1</td>\n",
       "    </tr>\n",
       "    <tr>\n",
       "      <th>2895</th>\n",
       "      <td>T_0</td>\n",
       "      <td>test_2021-03-01 02:30:02.237414</td>\n",
       "      <td>s_0</td>\n",
       "      <td>ct_1</td>\n",
       "    </tr>\n",
       "    <tr>\n",
       "      <th>5955</th>\n",
       "      <td>T_0</td>\n",
       "      <td>test_2021-03-01 02:30:02.237441</td>\n",
       "      <td>s_0</td>\n",
       "      <td>ct_0</td>\n",
       "    </tr>\n",
       "    <tr>\n",
       "      <th>7283</th>\n",
       "      <td>T_0</td>\n",
       "      <td>test_2021-03-01 02:30:02.237434</td>\n",
       "      <td>s_0</td>\n",
       "      <td>ct_1</td>\n",
       "    </tr>\n",
       "  </tbody>\n",
       "</table>\n",
       "</div>"
      ],
      "text/plain": [
       "     id_prod                             date session_id client_id\n",
       "1431     T_0  test_2021-03-01 02:30:02.237420        s_0      ct_1\n",
       "2365     T_0  test_2021-03-01 02:30:02.237446        s_0      ct_1\n",
       "2895     T_0  test_2021-03-01 02:30:02.237414        s_0      ct_1\n",
       "5955     T_0  test_2021-03-01 02:30:02.237441        s_0      ct_0\n",
       "7283     T_0  test_2021-03-01 02:30:02.237434        s_0      ct_1"
      ]
     },
     "execution_count": 28,
     "metadata": {},
     "output_type": "execute_result"
    }
   ],
   "source": [
    "# Je repère les lignes des tests (session_id = s_0)\n",
    "ventes.loc[(ventes[\"session_id\"]==\"s_0\")].head()"
   ]
  },
  {
   "cell_type": "code",
   "execution_count": 35,
   "metadata": {},
   "outputs": [
    {
     "data": {
      "text/plain": [
       "200"
      ]
     },
     "execution_count": 35,
     "metadata": {},
     "output_type": "execute_result"
    }
   ],
   "source": [
    "ventes.loc[(ventes[\"session_id\"]==\"s_0\")]['id_prod'].count()"
   ]
  },
  {
   "cell_type": "code",
   "execution_count": 19,
   "metadata": {},
   "outputs": [],
   "source": [
    "# Je supprime les lignes qui contiennent T_O\n",
    "to_drop = ['T_0']\n",
    "ventes = ventes[~ventes['id_prod'].isin(to_drop)]"
   ]
  },
  {
   "cell_type": "code",
   "execution_count": 62,
   "metadata": {},
   "outputs": [
    {
     "data": {
      "text/html": [
       "<div>\n",
       "<style scoped>\n",
       "    .dataframe tbody tr th:only-of-type {\n",
       "        vertical-align: middle;\n",
       "    }\n",
       "\n",
       "    .dataframe tbody tr th {\n",
       "        vertical-align: top;\n",
       "    }\n",
       "\n",
       "    .dataframe thead th {\n",
       "        text-align: right;\n",
       "    }\n",
       "</style>\n",
       "<table border=\"1\" class=\"dataframe\">\n",
       "  <thead>\n",
       "    <tr style=\"text-align: right;\">\n",
       "      <th></th>\n",
       "      <th>id_prod</th>\n",
       "      <th>date</th>\n",
       "      <th>session_id</th>\n",
       "      <th>client_id</th>\n",
       "    </tr>\n",
       "  </thead>\n",
       "  <tbody>\n",
       "  </tbody>\n",
       "</table>\n",
       "</div>"
      ],
      "text/plain": [
       "Empty DataFrame\n",
       "Columns: [id_prod, date, session_id, client_id]\n",
       "Index: []"
      ]
     },
     "execution_count": 62,
     "metadata": {},
     "output_type": "execute_result"
    }
   ],
   "source": [
    "# Vérification\n",
    "ventes.loc[(ventes[\"session_id\"]==\"s_0\")]"
   ]
  },
  {
   "cell_type": "markdown",
   "metadata": {},
   "source": [
    "Nettoyage OK"
   ]
  },
  {
   "cell_type": "code",
   "execution_count": 22,
   "metadata": {
    "scrolled": false
   },
   "outputs": [
    {
     "data": {
      "text/plain": [
       "id_prod       object\n",
       "date          object\n",
       "session_id    object\n",
       "client_id     object\n",
       "dtype: object"
      ]
     },
     "execution_count": 22,
     "metadata": {},
     "output_type": "execute_result"
    }
   ],
   "source": [
    "# Vérification des types \n",
    "ventes.dtypes"
   ]
  },
  {
   "cell_type": "code",
   "execution_count": 20,
   "metadata": {},
   "outputs": [],
   "source": [
    "# Modification du type \"date\" en datetime\n",
    "ventes['date'] = pd.to_datetime(ventes['date'])"
   ]
  },
  {
   "cell_type": "code",
   "execution_count": 20,
   "metadata": {
    "scrolled": true
   },
   "outputs": [
    {
     "data": {
      "text/plain": [
       "id_prod               object\n",
       "date          datetime64[ns]\n",
       "session_id            object\n",
       "client_id             object\n",
       "dtype: object"
      ]
     },
     "execution_count": 20,
     "metadata": {},
     "output_type": "execute_result"
    }
   ],
   "source": [
    "# Vérification des types \n",
    "ventes.dtypes"
   ]
  },
  {
   "cell_type": "code",
   "execution_count": 25,
   "metadata": {},
   "outputs": [],
   "source": [
    "# Je créé une colonne avec une date plus simple à manipuler : \n",
    "# ventes['datessh'] = ventes['date'].dt.strftime('%Y-%m-%d')"
   ]
  },
  {
   "cell_type": "code",
   "execution_count": 8,
   "metadata": {
    "scrolled": true
   },
   "outputs": [
    {
     "data": {
      "text/html": [
       "<div>\n",
       "<style scoped>\n",
       "    .dataframe tbody tr th:only-of-type {\n",
       "        vertical-align: middle;\n",
       "    }\n",
       "\n",
       "    .dataframe tbody tr th {\n",
       "        vertical-align: top;\n",
       "    }\n",
       "\n",
       "    .dataframe thead th {\n",
       "        text-align: right;\n",
       "    }\n",
       "</style>\n",
       "<table border=\"1\" class=\"dataframe\">\n",
       "  <thead>\n",
       "    <tr style=\"text-align: right;\">\n",
       "      <th></th>\n",
       "      <th>id_prod</th>\n",
       "      <th>date</th>\n",
       "      <th>session_id</th>\n",
       "      <th>client_id</th>\n",
       "    </tr>\n",
       "  </thead>\n",
       "  <tbody>\n",
       "    <tr>\n",
       "      <th>count</th>\n",
       "      <td>336816</td>\n",
       "      <td>336816</td>\n",
       "      <td>336816</td>\n",
       "      <td>336816</td>\n",
       "    </tr>\n",
       "    <tr>\n",
       "      <th>unique</th>\n",
       "      <td>3265</td>\n",
       "      <td>336816</td>\n",
       "      <td>169194</td>\n",
       "      <td>8600</td>\n",
       "    </tr>\n",
       "    <tr>\n",
       "      <th>top</th>\n",
       "      <td>1_369</td>\n",
       "      <td>2021-06-30 11:35:55.387896</td>\n",
       "      <td>s_118668</td>\n",
       "      <td>c_1609</td>\n",
       "    </tr>\n",
       "    <tr>\n",
       "      <th>freq</th>\n",
       "      <td>1081</td>\n",
       "      <td>1</td>\n",
       "      <td>14</td>\n",
       "      <td>12855</td>\n",
       "    </tr>\n",
       "    <tr>\n",
       "      <th>first</th>\n",
       "      <td>NaN</td>\n",
       "      <td>2021-03-01 00:01:07.843138</td>\n",
       "      <td>NaN</td>\n",
       "      <td>NaN</td>\n",
       "    </tr>\n",
       "    <tr>\n",
       "      <th>last</th>\n",
       "      <td>NaN</td>\n",
       "      <td>2022-02-28 23:59:58.040472</td>\n",
       "      <td>NaN</td>\n",
       "      <td>NaN</td>\n",
       "    </tr>\n",
       "  </tbody>\n",
       "</table>\n",
       "</div>"
      ],
      "text/plain": [
       "       id_prod                        date session_id client_id\n",
       "count   336816                      336816     336816    336816\n",
       "unique    3265                      336816     169194      8600\n",
       "top      1_369  2021-06-30 11:35:55.387896   s_118668    c_1609\n",
       "freq      1081                           1         14     12855\n",
       "first      NaN  2021-03-01 00:01:07.843138        NaN       NaN\n",
       "last       NaN  2022-02-28 23:59:58.040472        NaN       NaN"
      ]
     },
     "execution_count": 8,
     "metadata": {},
     "output_type": "execute_result"
    }
   ],
   "source": [
    "ventes.describe(include='all')"
   ]
  },
  {
   "cell_type": "code",
   "execution_count": 33,
   "metadata": {},
   "outputs": [
    {
     "data": {
      "text/plain": [
       "Timestamp('2021-03-01 00:01:07.843138')"
      ]
     },
     "execution_count": 33,
     "metadata": {},
     "output_type": "execute_result"
    }
   ],
   "source": [
    "ventes.date.min()"
   ]
  },
  {
   "cell_type": "code",
   "execution_count": 31,
   "metadata": {},
   "outputs": [
    {
     "data": {
      "text/plain": [
       "Timestamp('2022-02-28 23:59:58.040472')"
      ]
     },
     "execution_count": 31,
     "metadata": {},
     "output_type": "execute_result"
    }
   ],
   "source": [
    "ventes.date.max()"
   ]
  },
  {
   "cell_type": "markdown",
   "metadata": {},
   "source": [
    "- 336 816 dates uniques. \n",
    "- commence au 1/03/2021, fin au 28/02/2022 => 1 année complète."
   ]
  },
  {
   "cell_type": "code",
   "execution_count": 13,
   "metadata": {},
   "outputs": [],
   "source": [
    "# Pas besoin\n",
    "# Je sépare la colonne date en date et heure dans un df provisoire pour récupérer l'heure\n",
    "# temp = ventes['date'].str.split(\" \", n = 1, expand = True) "
   ]
  },
  {
   "cell_type": "code",
   "execution_count": 14,
   "metadata": {},
   "outputs": [],
   "source": [
    "# Pas besoin\n",
    "# Ajout de la colonne date heure au df ventes\n",
    "# ventes[\"heure\"]= temp[1] "
   ]
  },
  {
   "cell_type": "markdown",
   "metadata": {},
   "source": [
    "## Jointures entre les tables"
   ]
  },
  {
   "cell_type": "code",
   "execution_count": 21,
   "metadata": {},
   "outputs": [
    {
     "data": {
      "text/html": [
       "<div>\n",
       "<style scoped>\n",
       "    .dataframe tbody tr th:only-of-type {\n",
       "        vertical-align: middle;\n",
       "    }\n",
       "\n",
       "    .dataframe tbody tr th {\n",
       "        vertical-align: top;\n",
       "    }\n",
       "\n",
       "    .dataframe thead th {\n",
       "        text-align: right;\n",
       "    }\n",
       "</style>\n",
       "<table border=\"1\" class=\"dataframe\">\n",
       "  <thead>\n",
       "    <tr style=\"text-align: right;\">\n",
       "      <th></th>\n",
       "      <th>id_prod</th>\n",
       "      <th>date</th>\n",
       "      <th>session_id</th>\n",
       "      <th>client_id</th>\n",
       "      <th>price</th>\n",
       "      <th>categ</th>\n",
       "    </tr>\n",
       "  </thead>\n",
       "  <tbody>\n",
       "    <tr>\n",
       "      <th>0</th>\n",
       "      <td>0_1483</td>\n",
       "      <td>2021-04-10 18:37:28.723910</td>\n",
       "      <td>s_18746</td>\n",
       "      <td>c_4450</td>\n",
       "      <td>4.99</td>\n",
       "      <td>0.0</td>\n",
       "    </tr>\n",
       "    <tr>\n",
       "      <th>1</th>\n",
       "      <td>0_1483</td>\n",
       "      <td>2021-10-18 19:16:14.767807</td>\n",
       "      <td>s_106741</td>\n",
       "      <td>c_1576</td>\n",
       "      <td>4.99</td>\n",
       "      <td>0.0</td>\n",
       "    </tr>\n",
       "    <tr>\n",
       "      <th>2</th>\n",
       "      <td>0_1483</td>\n",
       "      <td>2021-11-14 11:11:45.276771</td>\n",
       "      <td>s_119491</td>\n",
       "      <td>c_182</td>\n",
       "      <td>4.99</td>\n",
       "      <td>0.0</td>\n",
       "    </tr>\n",
       "    <tr>\n",
       "      <th>3</th>\n",
       "      <td>0_1483</td>\n",
       "      <td>2021-07-30 19:37:16.087057</td>\n",
       "      <td>s_69222</td>\n",
       "      <td>c_1196</td>\n",
       "      <td>4.99</td>\n",
       "      <td>0.0</td>\n",
       "    </tr>\n",
       "    <tr>\n",
       "      <th>4</th>\n",
       "      <td>0_1483</td>\n",
       "      <td>2021-03-30 14:18:13.403218</td>\n",
       "      <td>s_13545</td>\n",
       "      <td>c_2890</td>\n",
       "      <td>4.99</td>\n",
       "      <td>0.0</td>\n",
       "    </tr>\n",
       "  </tbody>\n",
       "</table>\n",
       "</div>"
      ],
      "text/plain": [
       "  id_prod                       date session_id client_id  price  categ\n",
       "0  0_1483 2021-04-10 18:37:28.723910    s_18746    c_4450   4.99    0.0\n",
       "1  0_1483 2021-10-18 19:16:14.767807   s_106741    c_1576   4.99    0.0\n",
       "2  0_1483 2021-11-14 11:11:45.276771   s_119491     c_182   4.99    0.0\n",
       "3  0_1483 2021-07-30 19:37:16.087057    s_69222    c_1196   4.99    0.0\n",
       "4  0_1483 2021-03-30 14:18:13.403218    s_13545    c_2890   4.99    0.0"
      ]
     },
     "execution_count": 21,
     "metadata": {},
     "output_type": "execute_result"
    }
   ],
   "source": [
    "# Jointure 1 entre ventes et produits sur id_prod, outer pour garder toutes les données\n",
    "cpv = ventes.merge(produits, how='outer')\n",
    "cpv.head()"
   ]
  },
  {
   "cell_type": "code",
   "execution_count": 22,
   "metadata": {},
   "outputs": [
    {
     "data": {
      "text/plain": [
       "(336838, 6)"
      ]
     },
     "execution_count": 22,
     "metadata": {},
     "output_type": "execute_result"
    }
   ],
   "source": [
    "cpv.shape"
   ]
  },
  {
   "cell_type": "code",
   "execution_count": 23,
   "metadata": {},
   "outputs": [
    {
     "data": {
      "text/html": [
       "<div>\n",
       "<style scoped>\n",
       "    .dataframe tbody tr th:only-of-type {\n",
       "        vertical-align: middle;\n",
       "    }\n",
       "\n",
       "    .dataframe tbody tr th {\n",
       "        vertical-align: top;\n",
       "    }\n",
       "\n",
       "    .dataframe thead th {\n",
       "        text-align: right;\n",
       "    }\n",
       "</style>\n",
       "<table border=\"1\" class=\"dataframe\">\n",
       "  <thead>\n",
       "    <tr style=\"text-align: right;\">\n",
       "      <th></th>\n",
       "      <th>id_prod</th>\n",
       "      <th>date</th>\n",
       "      <th>session_id</th>\n",
       "      <th>client_id</th>\n",
       "      <th>price</th>\n",
       "      <th>categ</th>\n",
       "      <th>sex</th>\n",
       "      <th>birth</th>\n",
       "      <th>age</th>\n",
       "    </tr>\n",
       "  </thead>\n",
       "  <tbody>\n",
       "    <tr>\n",
       "      <th>0</th>\n",
       "      <td>0_1483</td>\n",
       "      <td>2021-04-10 18:37:28.723910</td>\n",
       "      <td>s_18746</td>\n",
       "      <td>c_4450</td>\n",
       "      <td>4.99</td>\n",
       "      <td>0.0</td>\n",
       "      <td>f</td>\n",
       "      <td>1977.0</td>\n",
       "      <td>45.0</td>\n",
       "    </tr>\n",
       "    <tr>\n",
       "      <th>1</th>\n",
       "      <td>0_1085</td>\n",
       "      <td>2021-09-29 11:14:59.793823</td>\n",
       "      <td>s_97382</td>\n",
       "      <td>c_4450</td>\n",
       "      <td>3.99</td>\n",
       "      <td>0.0</td>\n",
       "      <td>f</td>\n",
       "      <td>1977.0</td>\n",
       "      <td>45.0</td>\n",
       "    </tr>\n",
       "    <tr>\n",
       "      <th>2</th>\n",
       "      <td>0_1453</td>\n",
       "      <td>2021-08-27 19:50:46.796939</td>\n",
       "      <td>s_81509</td>\n",
       "      <td>c_4450</td>\n",
       "      <td>7.99</td>\n",
       "      <td>0.0</td>\n",
       "      <td>f</td>\n",
       "      <td>1977.0</td>\n",
       "      <td>45.0</td>\n",
       "    </tr>\n",
       "    <tr>\n",
       "      <th>3</th>\n",
       "      <td>0_1405</td>\n",
       "      <td>2021-08-27 20:07:25.878440</td>\n",
       "      <td>s_81509</td>\n",
       "      <td>c_4450</td>\n",
       "      <td>4.99</td>\n",
       "      <td>0.0</td>\n",
       "      <td>f</td>\n",
       "      <td>1977.0</td>\n",
       "      <td>45.0</td>\n",
       "    </tr>\n",
       "    <tr>\n",
       "      <th>4</th>\n",
       "      <td>0_1392</td>\n",
       "      <td>2021-12-28 11:45:04.072281</td>\n",
       "      <td>s_141302</td>\n",
       "      <td>c_4450</td>\n",
       "      <td>6.30</td>\n",
       "      <td>0.0</td>\n",
       "      <td>f</td>\n",
       "      <td>1977.0</td>\n",
       "      <td>45.0</td>\n",
       "    </tr>\n",
       "  </tbody>\n",
       "</table>\n",
       "</div>"
      ],
      "text/plain": [
       "  id_prod                       date session_id client_id  price  categ sex  \\\n",
       "0  0_1483 2021-04-10 18:37:28.723910    s_18746    c_4450   4.99    0.0   f   \n",
       "1  0_1085 2021-09-29 11:14:59.793823    s_97382    c_4450   3.99    0.0   f   \n",
       "2  0_1453 2021-08-27 19:50:46.796939    s_81509    c_4450   7.99    0.0   f   \n",
       "3  0_1405 2021-08-27 20:07:25.878440    s_81509    c_4450   4.99    0.0   f   \n",
       "4  0_1392 2021-12-28 11:45:04.072281   s_141302    c_4450   6.30    0.0   f   \n",
       "\n",
       "    birth   age  \n",
       "0  1977.0  45.0  \n",
       "1  1977.0  45.0  \n",
       "2  1977.0  45.0  \n",
       "3  1977.0  45.0  \n",
       "4  1977.0  45.0  "
      ]
     },
     "execution_count": 23,
     "metadata": {},
     "output_type": "execute_result"
    }
   ],
   "source": [
    "# Jointure 2 entre le nouveau dataframe et clients sur client_id\n",
    "cpv = cpv.merge(clients, how='outer')\n",
    "cpv.head()"
   ]
  },
  {
   "cell_type": "code",
   "execution_count": 24,
   "metadata": {
    "scrolled": true
   },
   "outputs": [
    {
     "name": "stdout",
     "output_type": "stream",
     "text": [
      "<class 'pandas.core.frame.DataFrame'>\n",
      "Int64Index: 336859 entries, 0 to 336858\n",
      "Data columns (total 9 columns):\n",
      "id_prod       336838 non-null object\n",
      "date          336816 non-null datetime64[ns]\n",
      "session_id    336816 non-null object\n",
      "client_id     336837 non-null object\n",
      "price         336735 non-null float64\n",
      "categ         336735 non-null float64\n",
      "sex           336837 non-null object\n",
      "birth         336837 non-null float64\n",
      "age           336837 non-null float64\n",
      "dtypes: datetime64[ns](1), float64(4), object(4)\n",
      "memory usage: 25.7+ MB\n"
     ]
    }
   ],
   "source": [
    "cpv.info()"
   ]
  },
  {
   "cell_type": "code",
   "execution_count": 40,
   "metadata": {},
   "outputs": [],
   "source": [
    "# Recherche des valeurs nulles\n",
    "cpv_na = cpv.loc[cpv.isnull().any(axis=1)]"
   ]
  },
  {
   "cell_type": "code",
   "execution_count": 73,
   "metadata": {},
   "outputs": [
    {
     "data": {
      "text/html": [
       "<div>\n",
       "<style scoped>\n",
       "    .dataframe tbody tr th:only-of-type {\n",
       "        vertical-align: middle;\n",
       "    }\n",
       "\n",
       "    .dataframe tbody tr th {\n",
       "        vertical-align: top;\n",
       "    }\n",
       "\n",
       "    .dataframe thead th {\n",
       "        text-align: right;\n",
       "    }\n",
       "</style>\n",
       "<table border=\"1\" class=\"dataframe\">\n",
       "  <thead>\n",
       "    <tr style=\"text-align: right;\">\n",
       "      <th></th>\n",
       "      <th>id_prod</th>\n",
       "      <th>date</th>\n",
       "      <th>session_id</th>\n",
       "      <th>client_id</th>\n",
       "      <th>price</th>\n",
       "      <th>categ</th>\n",
       "      <th>sex</th>\n",
       "      <th>birth</th>\n",
       "      <th>age</th>\n",
       "      <th>classe_age</th>\n",
       "    </tr>\n",
       "  </thead>\n",
       "  <tbody>\n",
       "    <tr>\n",
       "      <th>18202</th>\n",
       "      <td>0_2245</td>\n",
       "      <td>2021-06-05 17:04:43.982913</td>\n",
       "      <td>s_44481</td>\n",
       "      <td>c_6714</td>\n",
       "      <td>NaN</td>\n",
       "      <td>NaN</td>\n",
       "      <td>f</td>\n",
       "      <td>1968.0</td>\n",
       "      <td>54.0</td>\n",
       "      <td>50+</td>\n",
       "    </tr>\n",
       "    <tr>\n",
       "      <th>18203</th>\n",
       "      <td>0_2245</td>\n",
       "      <td>2021-04-22 04:57:20.090378</td>\n",
       "      <td>s_23987</td>\n",
       "      <td>c_6714</td>\n",
       "      <td>NaN</td>\n",
       "      <td>NaN</td>\n",
       "      <td>f</td>\n",
       "      <td>1968.0</td>\n",
       "      <td>54.0</td>\n",
       "      <td>50+</td>\n",
       "    </tr>\n",
       "    <tr>\n",
       "      <th>20708</th>\n",
       "      <td>0_2245</td>\n",
       "      <td>2021-04-17 16:43:16.543156</td>\n",
       "      <td>s_21906</td>\n",
       "      <td>c_7808</td>\n",
       "      <td>NaN</td>\n",
       "      <td>NaN</td>\n",
       "      <td>m</td>\n",
       "      <td>1977.0</td>\n",
       "      <td>45.0</td>\n",
       "      <td>30-50</td>\n",
       "    </tr>\n",
       "    <tr>\n",
       "      <th>27016</th>\n",
       "      <td>0_2245</td>\n",
       "      <td>2021-11-01 14:00:26.535213</td>\n",
       "      <td>s_113219</td>\n",
       "      <td>c_7810</td>\n",
       "      <td>NaN</td>\n",
       "      <td>NaN</td>\n",
       "      <td>m</td>\n",
       "      <td>1978.0</td>\n",
       "      <td>44.0</td>\n",
       "      <td>30-50</td>\n",
       "    </tr>\n",
       "    <tr>\n",
       "      <th>30498</th>\n",
       "      <td>0_2245</td>\n",
       "      <td>2021-09-11 10:52:05.205583</td>\n",
       "      <td>s_88251</td>\n",
       "      <td>c_3468</td>\n",
       "      <td>NaN</td>\n",
       "      <td>NaN</td>\n",
       "      <td>f</td>\n",
       "      <td>1981.0</td>\n",
       "      <td>41.0</td>\n",
       "      <td>30-50</td>\n",
       "    </tr>\n",
       "    <tr>\n",
       "      <th>31314</th>\n",
       "      <td>0_2245</td>\n",
       "      <td>2021-11-11 04:36:55.259042</td>\n",
       "      <td>s_117850</td>\n",
       "      <td>c_4333</td>\n",
       "      <td>NaN</td>\n",
       "      <td>NaN</td>\n",
       "      <td>m</td>\n",
       "      <td>1956.0</td>\n",
       "      <td>66.0</td>\n",
       "      <td>50+</td>\n",
       "    </tr>\n",
       "    <tr>\n",
       "      <th>36181</th>\n",
       "      <td>0_2245</td>\n",
       "      <td>2021-04-07 12:40:05.004874</td>\n",
       "      <td>s_17252</td>\n",
       "      <td>c_3454</td>\n",
       "      <td>NaN</td>\n",
       "      <td>NaN</td>\n",
       "      <td>m</td>\n",
       "      <td>1969.0</td>\n",
       "      <td>53.0</td>\n",
       "      <td>50+</td>\n",
       "    </tr>\n",
       "    <tr>\n",
       "      <th>36182</th>\n",
       "      <td>0_2245</td>\n",
       "      <td>2021-04-10 08:59:14.100780</td>\n",
       "      <td>s_18560</td>\n",
       "      <td>c_3454</td>\n",
       "      <td>NaN</td>\n",
       "      <td>NaN</td>\n",
       "      <td>m</td>\n",
       "      <td>1969.0</td>\n",
       "      <td>53.0</td>\n",
       "      <td>50+</td>\n",
       "    </tr>\n",
       "    <tr>\n",
       "      <th>37148</th>\n",
       "      <td>0_2245</td>\n",
       "      <td>2022-01-21 04:06:19.106398</td>\n",
       "      <td>s_152899</td>\n",
       "      <td>c_5352</td>\n",
       "      <td>NaN</td>\n",
       "      <td>NaN</td>\n",
       "      <td>f</td>\n",
       "      <td>1978.0</td>\n",
       "      <td>44.0</td>\n",
       "      <td>30-50</td>\n",
       "    </tr>\n",
       "    <tr>\n",
       "      <th>37931</th>\n",
       "      <td>0_2245</td>\n",
       "      <td>2021-12-03 14:14:40.444177</td>\n",
       "      <td>s_128815</td>\n",
       "      <td>c_6189</td>\n",
       "      <td>NaN</td>\n",
       "      <td>NaN</td>\n",
       "      <td>f</td>\n",
       "      <td>1984.0</td>\n",
       "      <td>38.0</td>\n",
       "      <td>30-50</td>\n",
       "    </tr>\n",
       "    <tr>\n",
       "      <th>40586</th>\n",
       "      <td>0_2245</td>\n",
       "      <td>2021-09-10 08:04:02.763762</td>\n",
       "      <td>s_87678</td>\n",
       "      <td>c_4120</td>\n",
       "      <td>NaN</td>\n",
       "      <td>NaN</td>\n",
       "      <td>f</td>\n",
       "      <td>1979.0</td>\n",
       "      <td>43.0</td>\n",
       "      <td>30-50</td>\n",
       "    </tr>\n",
       "    <tr>\n",
       "      <th>42159</th>\n",
       "      <td>0_2245</td>\n",
       "      <td>2021-05-06 20:14:22.522372</td>\n",
       "      <td>s_30824</td>\n",
       "      <td>c_4973</td>\n",
       "      <td>NaN</td>\n",
       "      <td>NaN</td>\n",
       "      <td>f</td>\n",
       "      <td>1983.0</td>\n",
       "      <td>39.0</td>\n",
       "      <td>30-50</td>\n",
       "    </tr>\n",
       "    <tr>\n",
       "      <th>42948</th>\n",
       "      <td>0_2245</td>\n",
       "      <td>2021-11-30 21:49:23.614810</td>\n",
       "      <td>s_127497</td>\n",
       "      <td>c_4721</td>\n",
       "      <td>NaN</td>\n",
       "      <td>NaN</td>\n",
       "      <td>f</td>\n",
       "      <td>1988.0</td>\n",
       "      <td>34.0</td>\n",
       "      <td>30-50</td>\n",
       "    </tr>\n",
       "    <tr>\n",
       "      <th>44737</th>\n",
       "      <td>0_2245</td>\n",
       "      <td>2021-09-26 17:52:55.561657</td>\n",
       "      <td>s_95930</td>\n",
       "      <td>c_6990</td>\n",
       "      <td>NaN</td>\n",
       "      <td>NaN</td>\n",
       "      <td>f</td>\n",
       "      <td>1986.0</td>\n",
       "      <td>36.0</td>\n",
       "      <td>30-50</td>\n",
       "    </tr>\n",
       "    <tr>\n",
       "      <th>45304</th>\n",
       "      <td>0_2245</td>\n",
       "      <td>2021-11-21 18:39:25.649231</td>\n",
       "      <td>s_123006</td>\n",
       "      <td>c_6268</td>\n",
       "      <td>NaN</td>\n",
       "      <td>NaN</td>\n",
       "      <td>m</td>\n",
       "      <td>1991.0</td>\n",
       "      <td>31.0</td>\n",
       "      <td>30-50</td>\n",
       "    </tr>\n",
       "    <tr>\n",
       "      <th>46924</th>\n",
       "      <td>0_2245</td>\n",
       "      <td>2021-04-10 06:15:32.619826</td>\n",
       "      <td>s_18510</td>\n",
       "      <td>c_277</td>\n",
       "      <td>NaN</td>\n",
       "      <td>NaN</td>\n",
       "      <td>f</td>\n",
       "      <td>2000.0</td>\n",
       "      <td>22.0</td>\n",
       "      <td>18-30</td>\n",
       "    </tr>\n",
       "    <tr>\n",
       "      <th>47113</th>\n",
       "      <td>0_2245</td>\n",
       "      <td>2021-10-20 13:11:05.671456</td>\n",
       "      <td>s_107564</td>\n",
       "      <td>c_1746</td>\n",
       "      <td>NaN</td>\n",
       "      <td>NaN</td>\n",
       "      <td>m</td>\n",
       "      <td>1994.0</td>\n",
       "      <td>28.0</td>\n",
       "      <td>18-30</td>\n",
       "    </tr>\n",
       "    <tr>\n",
       "      <th>61196</th>\n",
       "      <td>0_2245</td>\n",
       "      <td>2021-03-28 21:39:14.337424</td>\n",
       "      <td>s_12792</td>\n",
       "      <td>c_2688</td>\n",
       "      <td>NaN</td>\n",
       "      <td>NaN</td>\n",
       "      <td>f</td>\n",
       "      <td>1968.0</td>\n",
       "      <td>54.0</td>\n",
       "      <td>50+</td>\n",
       "    </tr>\n",
       "    <tr>\n",
       "      <th>62344</th>\n",
       "      <td>0_2245</td>\n",
       "      <td>2022-01-15 06:19:44.035000</td>\n",
       "      <td>s_150064</td>\n",
       "      <td>c_4765</td>\n",
       "      <td>NaN</td>\n",
       "      <td>NaN</td>\n",
       "      <td>m</td>\n",
       "      <td>1982.0</td>\n",
       "      <td>40.0</td>\n",
       "      <td>30-50</td>\n",
       "    </tr>\n",
       "    <tr>\n",
       "      <th>67459</th>\n",
       "      <td>0_2245</td>\n",
       "      <td>2021-11-24 17:35:59.911427</td>\n",
       "      <td>s_124474</td>\n",
       "      <td>c_5120</td>\n",
       "      <td>NaN</td>\n",
       "      <td>NaN</td>\n",
       "      <td>f</td>\n",
       "      <td>1975.0</td>\n",
       "      <td>47.0</td>\n",
       "      <td>30-50</td>\n",
       "    </tr>\n",
       "    <tr>\n",
       "      <th>68782</th>\n",
       "      <td>0_2245</td>\n",
       "      <td>2021-12-23 05:26:36.260066</td>\n",
       "      <td>s_138599</td>\n",
       "      <td>c_553</td>\n",
       "      <td>NaN</td>\n",
       "      <td>NaN</td>\n",
       "      <td>f</td>\n",
       "      <td>1949.0</td>\n",
       "      <td>73.0</td>\n",
       "      <td>50+</td>\n",
       "    </tr>\n",
       "    <tr>\n",
       "      <th>72282</th>\n",
       "      <td>0_2245</td>\n",
       "      <td>2021-10-19 00:28:01.920054</td>\n",
       "      <td>s_106841</td>\n",
       "      <td>c_3953</td>\n",
       "      <td>NaN</td>\n",
       "      <td>NaN</td>\n",
       "      <td>f</td>\n",
       "      <td>1984.0</td>\n",
       "      <td>38.0</td>\n",
       "      <td>30-50</td>\n",
       "    </tr>\n",
       "    <tr>\n",
       "      <th>72761</th>\n",
       "      <td>0_2245</td>\n",
       "      <td>2021-04-06 19:59:19.462288</td>\n",
       "      <td>s_16936</td>\n",
       "      <td>c_4167</td>\n",
       "      <td>NaN</td>\n",
       "      <td>NaN</td>\n",
       "      <td>f</td>\n",
       "      <td>1979.0</td>\n",
       "      <td>43.0</td>\n",
       "      <td>30-50</td>\n",
       "    </tr>\n",
       "    <tr>\n",
       "      <th>73844</th>\n",
       "      <td>0_2245</td>\n",
       "      <td>2021-09-25 17:07:45.271509</td>\n",
       "      <td>s_95396</td>\n",
       "      <td>c_8616</td>\n",
       "      <td>NaN</td>\n",
       "      <td>NaN</td>\n",
       "      <td>m</td>\n",
       "      <td>1984.0</td>\n",
       "      <td>38.0</td>\n",
       "      <td>30-50</td>\n",
       "    </tr>\n",
       "    <tr>\n",
       "      <th>76341</th>\n",
       "      <td>0_2245</td>\n",
       "      <td>2021-08-16 11:33:25.481411</td>\n",
       "      <td>s_76493</td>\n",
       "      <td>c_1391</td>\n",
       "      <td>NaN</td>\n",
       "      <td>NaN</td>\n",
       "      <td>m</td>\n",
       "      <td>1991.0</td>\n",
       "      <td>31.0</td>\n",
       "      <td>30-50</td>\n",
       "    </tr>\n",
       "    <tr>\n",
       "      <th>76563</th>\n",
       "      <td>1_374</td>\n",
       "      <td>2022-01-01 07:05:19.599142</td>\n",
       "      <td>s_143268</td>\n",
       "      <td>c_577</td>\n",
       "      <td>10.71</td>\n",
       "      <td>1.0</td>\n",
       "      <td>m</td>\n",
       "      <td>1929.0</td>\n",
       "      <td>93.0</td>\n",
       "      <td>NaN</td>\n",
       "    </tr>\n",
       "    <tr>\n",
       "      <th>76564</th>\n",
       "      <td>0_1453</td>\n",
       "      <td>2021-12-29 09:18:19.870335</td>\n",
       "      <td>s_141765</td>\n",
       "      <td>c_577</td>\n",
       "      <td>7.99</td>\n",
       "      <td>0.0</td>\n",
       "      <td>m</td>\n",
       "      <td>1929.0</td>\n",
       "      <td>93.0</td>\n",
       "      <td>NaN</td>\n",
       "    </tr>\n",
       "    <tr>\n",
       "      <th>76565</th>\n",
       "      <td>1_281</td>\n",
       "      <td>2021-04-06 22:05:18.918284</td>\n",
       "      <td>s_16984</td>\n",
       "      <td>c_577</td>\n",
       "      <td>23.99</td>\n",
       "      <td>1.0</td>\n",
       "      <td>m</td>\n",
       "      <td>1929.0</td>\n",
       "      <td>93.0</td>\n",
       "      <td>NaN</td>\n",
       "    </tr>\n",
       "    <tr>\n",
       "      <th>76566</th>\n",
       "      <td>1_285</td>\n",
       "      <td>2021-05-04 05:36:37.961424</td>\n",
       "      <td>s_29640</td>\n",
       "      <td>c_577</td>\n",
       "      <td>14.99</td>\n",
       "      <td>1.0</td>\n",
       "      <td>m</td>\n",
       "      <td>1929.0</td>\n",
       "      <td>93.0</td>\n",
       "      <td>NaN</td>\n",
       "    </tr>\n",
       "    <tr>\n",
       "      <th>76567</th>\n",
       "      <td>1_109</td>\n",
       "      <td>2021-12-09 20:20:50.927298</td>\n",
       "      <td>s_131958</td>\n",
       "      <td>c_577</td>\n",
       "      <td>22.99</td>\n",
       "      <td>1.0</td>\n",
       "      <td>m</td>\n",
       "      <td>1929.0</td>\n",
       "      <td>93.0</td>\n",
       "      <td>NaN</td>\n",
       "    </tr>\n",
       "    <tr>\n",
       "      <th>...</th>\n",
       "      <td>...</td>\n",
       "      <td>...</td>\n",
       "      <td>...</td>\n",
       "      <td>...</td>\n",
       "      <td>...</td>\n",
       "      <td>...</td>\n",
       "      <td>...</td>\n",
       "      <td>...</td>\n",
       "      <td>...</td>\n",
       "      <td>...</td>\n",
       "    </tr>\n",
       "    <tr>\n",
       "      <th>336829</th>\n",
       "      <td>1_394</td>\n",
       "      <td>NaT</td>\n",
       "      <td>NaN</td>\n",
       "      <td>NaN</td>\n",
       "      <td>39.73</td>\n",
       "      <td>1.0</td>\n",
       "      <td>NaN</td>\n",
       "      <td>NaN</td>\n",
       "      <td>NaN</td>\n",
       "      <td>NaN</td>\n",
       "    </tr>\n",
       "    <tr>\n",
       "      <th>336830</th>\n",
       "      <td>2_72</td>\n",
       "      <td>NaT</td>\n",
       "      <td>NaN</td>\n",
       "      <td>NaN</td>\n",
       "      <td>141.32</td>\n",
       "      <td>2.0</td>\n",
       "      <td>NaN</td>\n",
       "      <td>NaN</td>\n",
       "      <td>NaN</td>\n",
       "      <td>NaN</td>\n",
       "    </tr>\n",
       "    <tr>\n",
       "      <th>336831</th>\n",
       "      <td>0_310</td>\n",
       "      <td>NaT</td>\n",
       "      <td>NaN</td>\n",
       "      <td>NaN</td>\n",
       "      <td>1.94</td>\n",
       "      <td>0.0</td>\n",
       "      <td>NaN</td>\n",
       "      <td>NaN</td>\n",
       "      <td>NaN</td>\n",
       "      <td>NaN</td>\n",
       "    </tr>\n",
       "    <tr>\n",
       "      <th>336832</th>\n",
       "      <td>0_1624</td>\n",
       "      <td>NaT</td>\n",
       "      <td>NaN</td>\n",
       "      <td>NaN</td>\n",
       "      <td>24.50</td>\n",
       "      <td>0.0</td>\n",
       "      <td>NaN</td>\n",
       "      <td>NaN</td>\n",
       "      <td>NaN</td>\n",
       "      <td>NaN</td>\n",
       "    </tr>\n",
       "    <tr>\n",
       "      <th>336833</th>\n",
       "      <td>0_525</td>\n",
       "      <td>NaT</td>\n",
       "      <td>NaN</td>\n",
       "      <td>NaN</td>\n",
       "      <td>2.99</td>\n",
       "      <td>0.0</td>\n",
       "      <td>NaN</td>\n",
       "      <td>NaN</td>\n",
       "      <td>NaN</td>\n",
       "      <td>NaN</td>\n",
       "    </tr>\n",
       "    <tr>\n",
       "      <th>336834</th>\n",
       "      <td>2_86</td>\n",
       "      <td>NaT</td>\n",
       "      <td>NaN</td>\n",
       "      <td>NaN</td>\n",
       "      <td>132.36</td>\n",
       "      <td>2.0</td>\n",
       "      <td>NaN</td>\n",
       "      <td>NaN</td>\n",
       "      <td>NaN</td>\n",
       "      <td>NaN</td>\n",
       "    </tr>\n",
       "    <tr>\n",
       "      <th>336835</th>\n",
       "      <td>0_299</td>\n",
       "      <td>NaT</td>\n",
       "      <td>NaN</td>\n",
       "      <td>NaN</td>\n",
       "      <td>22.99</td>\n",
       "      <td>0.0</td>\n",
       "      <td>NaN</td>\n",
       "      <td>NaN</td>\n",
       "      <td>NaN</td>\n",
       "      <td>NaN</td>\n",
       "    </tr>\n",
       "    <tr>\n",
       "      <th>336836</th>\n",
       "      <td>0_510</td>\n",
       "      <td>NaT</td>\n",
       "      <td>NaN</td>\n",
       "      <td>NaN</td>\n",
       "      <td>23.66</td>\n",
       "      <td>0.0</td>\n",
       "      <td>NaN</td>\n",
       "      <td>NaN</td>\n",
       "      <td>NaN</td>\n",
       "      <td>NaN</td>\n",
       "    </tr>\n",
       "    <tr>\n",
       "      <th>336837</th>\n",
       "      <td>0_2308</td>\n",
       "      <td>NaT</td>\n",
       "      <td>NaN</td>\n",
       "      <td>NaN</td>\n",
       "      <td>20.28</td>\n",
       "      <td>0.0</td>\n",
       "      <td>NaN</td>\n",
       "      <td>NaN</td>\n",
       "      <td>NaN</td>\n",
       "      <td>NaN</td>\n",
       "    </tr>\n",
       "    <tr>\n",
       "      <th>336838</th>\n",
       "      <td>NaN</td>\n",
       "      <td>NaT</td>\n",
       "      <td>NaN</td>\n",
       "      <td>c_8253</td>\n",
       "      <td>NaN</td>\n",
       "      <td>NaN</td>\n",
       "      <td>f</td>\n",
       "      <td>2001.0</td>\n",
       "      <td>21.0</td>\n",
       "      <td>18-30</td>\n",
       "    </tr>\n",
       "    <tr>\n",
       "      <th>336839</th>\n",
       "      <td>NaN</td>\n",
       "      <td>NaT</td>\n",
       "      <td>NaN</td>\n",
       "      <td>c_3789</td>\n",
       "      <td>NaN</td>\n",
       "      <td>NaN</td>\n",
       "      <td>f</td>\n",
       "      <td>1997.0</td>\n",
       "      <td>25.0</td>\n",
       "      <td>18-30</td>\n",
       "    </tr>\n",
       "    <tr>\n",
       "      <th>336840</th>\n",
       "      <td>NaN</td>\n",
       "      <td>NaT</td>\n",
       "      <td>NaN</td>\n",
       "      <td>c_4406</td>\n",
       "      <td>NaN</td>\n",
       "      <td>NaN</td>\n",
       "      <td>f</td>\n",
       "      <td>1998.0</td>\n",
       "      <td>24.0</td>\n",
       "      <td>18-30</td>\n",
       "    </tr>\n",
       "    <tr>\n",
       "      <th>336841</th>\n",
       "      <td>NaN</td>\n",
       "      <td>NaT</td>\n",
       "      <td>NaN</td>\n",
       "      <td>c_2706</td>\n",
       "      <td>NaN</td>\n",
       "      <td>NaN</td>\n",
       "      <td>f</td>\n",
       "      <td>1967.0</td>\n",
       "      <td>55.0</td>\n",
       "      <td>50+</td>\n",
       "    </tr>\n",
       "    <tr>\n",
       "      <th>336842</th>\n",
       "      <td>NaN</td>\n",
       "      <td>NaT</td>\n",
       "      <td>NaN</td>\n",
       "      <td>c_3443</td>\n",
       "      <td>NaN</td>\n",
       "      <td>NaN</td>\n",
       "      <td>m</td>\n",
       "      <td>1959.0</td>\n",
       "      <td>63.0</td>\n",
       "      <td>50+</td>\n",
       "    </tr>\n",
       "    <tr>\n",
       "      <th>336843</th>\n",
       "      <td>NaN</td>\n",
       "      <td>NaT</td>\n",
       "      <td>NaN</td>\n",
       "      <td>c_4447</td>\n",
       "      <td>NaN</td>\n",
       "      <td>NaN</td>\n",
       "      <td>m</td>\n",
       "      <td>1956.0</td>\n",
       "      <td>66.0</td>\n",
       "      <td>50+</td>\n",
       "    </tr>\n",
       "    <tr>\n",
       "      <th>336844</th>\n",
       "      <td>NaN</td>\n",
       "      <td>NaT</td>\n",
       "      <td>NaN</td>\n",
       "      <td>c_3017</td>\n",
       "      <td>NaN</td>\n",
       "      <td>NaN</td>\n",
       "      <td>f</td>\n",
       "      <td>1992.0</td>\n",
       "      <td>30.0</td>\n",
       "      <td>30-50</td>\n",
       "    </tr>\n",
       "    <tr>\n",
       "      <th>336845</th>\n",
       "      <td>NaN</td>\n",
       "      <td>NaT</td>\n",
       "      <td>NaN</td>\n",
       "      <td>c_4086</td>\n",
       "      <td>NaN</td>\n",
       "      <td>NaN</td>\n",
       "      <td>f</td>\n",
       "      <td>1992.0</td>\n",
       "      <td>30.0</td>\n",
       "      <td>30-50</td>\n",
       "    </tr>\n",
       "    <tr>\n",
       "      <th>336846</th>\n",
       "      <td>NaN</td>\n",
       "      <td>NaT</td>\n",
       "      <td>NaN</td>\n",
       "      <td>c_6930</td>\n",
       "      <td>NaN</td>\n",
       "      <td>NaN</td>\n",
       "      <td>m</td>\n",
       "      <td>2004.0</td>\n",
       "      <td>18.0</td>\n",
       "      <td>18-30</td>\n",
       "    </tr>\n",
       "    <tr>\n",
       "      <th>336847</th>\n",
       "      <td>NaN</td>\n",
       "      <td>NaT</td>\n",
       "      <td>NaN</td>\n",
       "      <td>c_4358</td>\n",
       "      <td>NaN</td>\n",
       "      <td>NaN</td>\n",
       "      <td>m</td>\n",
       "      <td>1999.0</td>\n",
       "      <td>23.0</td>\n",
       "      <td>18-30</td>\n",
       "    </tr>\n",
       "    <tr>\n",
       "      <th>336848</th>\n",
       "      <td>NaN</td>\n",
       "      <td>NaT</td>\n",
       "      <td>NaN</td>\n",
       "      <td>c_8381</td>\n",
       "      <td>NaN</td>\n",
       "      <td>NaN</td>\n",
       "      <td>f</td>\n",
       "      <td>1965.0</td>\n",
       "      <td>57.0</td>\n",
       "      <td>50+</td>\n",
       "    </tr>\n",
       "    <tr>\n",
       "      <th>336849</th>\n",
       "      <td>NaN</td>\n",
       "      <td>NaT</td>\n",
       "      <td>NaN</td>\n",
       "      <td>c_1223</td>\n",
       "      <td>NaN</td>\n",
       "      <td>NaN</td>\n",
       "      <td>m</td>\n",
       "      <td>1963.0</td>\n",
       "      <td>59.0</td>\n",
       "      <td>50+</td>\n",
       "    </tr>\n",
       "    <tr>\n",
       "      <th>336850</th>\n",
       "      <td>NaN</td>\n",
       "      <td>NaT</td>\n",
       "      <td>NaN</td>\n",
       "      <td>c_6862</td>\n",
       "      <td>NaN</td>\n",
       "      <td>NaN</td>\n",
       "      <td>f</td>\n",
       "      <td>2002.0</td>\n",
       "      <td>20.0</td>\n",
       "      <td>18-30</td>\n",
       "    </tr>\n",
       "    <tr>\n",
       "      <th>336851</th>\n",
       "      <td>NaN</td>\n",
       "      <td>NaT</td>\n",
       "      <td>NaN</td>\n",
       "      <td>c_5245</td>\n",
       "      <td>NaN</td>\n",
       "      <td>NaN</td>\n",
       "      <td>f</td>\n",
       "      <td>2004.0</td>\n",
       "      <td>18.0</td>\n",
       "      <td>18-30</td>\n",
       "    </tr>\n",
       "    <tr>\n",
       "      <th>336852</th>\n",
       "      <td>NaN</td>\n",
       "      <td>NaT</td>\n",
       "      <td>NaN</td>\n",
       "      <td>c_5223</td>\n",
       "      <td>NaN</td>\n",
       "      <td>NaN</td>\n",
       "      <td>m</td>\n",
       "      <td>2003.0</td>\n",
       "      <td>19.0</td>\n",
       "      <td>18-30</td>\n",
       "    </tr>\n",
       "    <tr>\n",
       "      <th>336853</th>\n",
       "      <td>NaN</td>\n",
       "      <td>NaT</td>\n",
       "      <td>NaN</td>\n",
       "      <td>c_6735</td>\n",
       "      <td>NaN</td>\n",
       "      <td>NaN</td>\n",
       "      <td>m</td>\n",
       "      <td>2004.0</td>\n",
       "      <td>18.0</td>\n",
       "      <td>18-30</td>\n",
       "    </tr>\n",
       "    <tr>\n",
       "      <th>336854</th>\n",
       "      <td>NaN</td>\n",
       "      <td>NaT</td>\n",
       "      <td>NaN</td>\n",
       "      <td>c_862</td>\n",
       "      <td>NaN</td>\n",
       "      <td>NaN</td>\n",
       "      <td>f</td>\n",
       "      <td>1956.0</td>\n",
       "      <td>66.0</td>\n",
       "      <td>50+</td>\n",
       "    </tr>\n",
       "    <tr>\n",
       "      <th>336855</th>\n",
       "      <td>NaN</td>\n",
       "      <td>NaT</td>\n",
       "      <td>NaN</td>\n",
       "      <td>c_7584</td>\n",
       "      <td>NaN</td>\n",
       "      <td>NaN</td>\n",
       "      <td>f</td>\n",
       "      <td>1960.0</td>\n",
       "      <td>62.0</td>\n",
       "      <td>50+</td>\n",
       "    </tr>\n",
       "    <tr>\n",
       "      <th>336856</th>\n",
       "      <td>NaN</td>\n",
       "      <td>NaT</td>\n",
       "      <td>NaN</td>\n",
       "      <td>c_90</td>\n",
       "      <td>NaN</td>\n",
       "      <td>NaN</td>\n",
       "      <td>m</td>\n",
       "      <td>2001.0</td>\n",
       "      <td>21.0</td>\n",
       "      <td>18-30</td>\n",
       "    </tr>\n",
       "    <tr>\n",
       "      <th>336857</th>\n",
       "      <td>NaN</td>\n",
       "      <td>NaT</td>\n",
       "      <td>NaN</td>\n",
       "      <td>c_587</td>\n",
       "      <td>NaN</td>\n",
       "      <td>NaN</td>\n",
       "      <td>m</td>\n",
       "      <td>1993.0</td>\n",
       "      <td>29.0</td>\n",
       "      <td>18-30</td>\n",
       "    </tr>\n",
       "    <tr>\n",
       "      <th>336858</th>\n",
       "      <td>NaN</td>\n",
       "      <td>NaT</td>\n",
       "      <td>NaN</td>\n",
       "      <td>c_3526</td>\n",
       "      <td>NaN</td>\n",
       "      <td>NaN</td>\n",
       "      <td>m</td>\n",
       "      <td>1956.0</td>\n",
       "      <td>66.0</td>\n",
       "      <td>50+</td>\n",
       "    </tr>\n",
       "  </tbody>\n",
       "</table>\n",
       "<p>232 rows × 10 columns</p>\n",
       "</div>"
      ],
      "text/plain": [
       "       id_prod                       date session_id client_id   price  categ  \\\n",
       "18202   0_2245 2021-06-05 17:04:43.982913    s_44481    c_6714     NaN    NaN   \n",
       "18203   0_2245 2021-04-22 04:57:20.090378    s_23987    c_6714     NaN    NaN   \n",
       "20708   0_2245 2021-04-17 16:43:16.543156    s_21906    c_7808     NaN    NaN   \n",
       "27016   0_2245 2021-11-01 14:00:26.535213   s_113219    c_7810     NaN    NaN   \n",
       "30498   0_2245 2021-09-11 10:52:05.205583    s_88251    c_3468     NaN    NaN   \n",
       "31314   0_2245 2021-11-11 04:36:55.259042   s_117850    c_4333     NaN    NaN   \n",
       "36181   0_2245 2021-04-07 12:40:05.004874    s_17252    c_3454     NaN    NaN   \n",
       "36182   0_2245 2021-04-10 08:59:14.100780    s_18560    c_3454     NaN    NaN   \n",
       "37148   0_2245 2022-01-21 04:06:19.106398   s_152899    c_5352     NaN    NaN   \n",
       "37931   0_2245 2021-12-03 14:14:40.444177   s_128815    c_6189     NaN    NaN   \n",
       "40586   0_2245 2021-09-10 08:04:02.763762    s_87678    c_4120     NaN    NaN   \n",
       "42159   0_2245 2021-05-06 20:14:22.522372    s_30824    c_4973     NaN    NaN   \n",
       "42948   0_2245 2021-11-30 21:49:23.614810   s_127497    c_4721     NaN    NaN   \n",
       "44737   0_2245 2021-09-26 17:52:55.561657    s_95930    c_6990     NaN    NaN   \n",
       "45304   0_2245 2021-11-21 18:39:25.649231   s_123006    c_6268     NaN    NaN   \n",
       "46924   0_2245 2021-04-10 06:15:32.619826    s_18510     c_277     NaN    NaN   \n",
       "47113   0_2245 2021-10-20 13:11:05.671456   s_107564    c_1746     NaN    NaN   \n",
       "61196   0_2245 2021-03-28 21:39:14.337424    s_12792    c_2688     NaN    NaN   \n",
       "62344   0_2245 2022-01-15 06:19:44.035000   s_150064    c_4765     NaN    NaN   \n",
       "67459   0_2245 2021-11-24 17:35:59.911427   s_124474    c_5120     NaN    NaN   \n",
       "68782   0_2245 2021-12-23 05:26:36.260066   s_138599     c_553     NaN    NaN   \n",
       "72282   0_2245 2021-10-19 00:28:01.920054   s_106841    c_3953     NaN    NaN   \n",
       "72761   0_2245 2021-04-06 19:59:19.462288    s_16936    c_4167     NaN    NaN   \n",
       "73844   0_2245 2021-09-25 17:07:45.271509    s_95396    c_8616     NaN    NaN   \n",
       "76341   0_2245 2021-08-16 11:33:25.481411    s_76493    c_1391     NaN    NaN   \n",
       "76563    1_374 2022-01-01 07:05:19.599142   s_143268     c_577   10.71    1.0   \n",
       "76564   0_1453 2021-12-29 09:18:19.870335   s_141765     c_577    7.99    0.0   \n",
       "76565    1_281 2021-04-06 22:05:18.918284    s_16984     c_577   23.99    1.0   \n",
       "76566    1_285 2021-05-04 05:36:37.961424    s_29640     c_577   14.99    1.0   \n",
       "76567    1_109 2021-12-09 20:20:50.927298   s_131958     c_577   22.99    1.0   \n",
       "...        ...                        ...        ...       ...     ...    ...   \n",
       "336829   1_394                        NaT        NaN       NaN   39.73    1.0   \n",
       "336830    2_72                        NaT        NaN       NaN  141.32    2.0   \n",
       "336831   0_310                        NaT        NaN       NaN    1.94    0.0   \n",
       "336832  0_1624                        NaT        NaN       NaN   24.50    0.0   \n",
       "336833   0_525                        NaT        NaN       NaN    2.99    0.0   \n",
       "336834    2_86                        NaT        NaN       NaN  132.36    2.0   \n",
       "336835   0_299                        NaT        NaN       NaN   22.99    0.0   \n",
       "336836   0_510                        NaT        NaN       NaN   23.66    0.0   \n",
       "336837  0_2308                        NaT        NaN       NaN   20.28    0.0   \n",
       "336838     NaN                        NaT        NaN    c_8253     NaN    NaN   \n",
       "336839     NaN                        NaT        NaN    c_3789     NaN    NaN   \n",
       "336840     NaN                        NaT        NaN    c_4406     NaN    NaN   \n",
       "336841     NaN                        NaT        NaN    c_2706     NaN    NaN   \n",
       "336842     NaN                        NaT        NaN    c_3443     NaN    NaN   \n",
       "336843     NaN                        NaT        NaN    c_4447     NaN    NaN   \n",
       "336844     NaN                        NaT        NaN    c_3017     NaN    NaN   \n",
       "336845     NaN                        NaT        NaN    c_4086     NaN    NaN   \n",
       "336846     NaN                        NaT        NaN    c_6930     NaN    NaN   \n",
       "336847     NaN                        NaT        NaN    c_4358     NaN    NaN   \n",
       "336848     NaN                        NaT        NaN    c_8381     NaN    NaN   \n",
       "336849     NaN                        NaT        NaN    c_1223     NaN    NaN   \n",
       "336850     NaN                        NaT        NaN    c_6862     NaN    NaN   \n",
       "336851     NaN                        NaT        NaN    c_5245     NaN    NaN   \n",
       "336852     NaN                        NaT        NaN    c_5223     NaN    NaN   \n",
       "336853     NaN                        NaT        NaN    c_6735     NaN    NaN   \n",
       "336854     NaN                        NaT        NaN     c_862     NaN    NaN   \n",
       "336855     NaN                        NaT        NaN    c_7584     NaN    NaN   \n",
       "336856     NaN                        NaT        NaN      c_90     NaN    NaN   \n",
       "336857     NaN                        NaT        NaN     c_587     NaN    NaN   \n",
       "336858     NaN                        NaT        NaN    c_3526     NaN    NaN   \n",
       "\n",
       "        sex   birth   age classe_age  \n",
       "18202     f  1968.0  54.0        50+  \n",
       "18203     f  1968.0  54.0        50+  \n",
       "20708     m  1977.0  45.0      30-50  \n",
       "27016     m  1978.0  44.0      30-50  \n",
       "30498     f  1981.0  41.0      30-50  \n",
       "31314     m  1956.0  66.0        50+  \n",
       "36181     m  1969.0  53.0        50+  \n",
       "36182     m  1969.0  53.0        50+  \n",
       "37148     f  1978.0  44.0      30-50  \n",
       "37931     f  1984.0  38.0      30-50  \n",
       "40586     f  1979.0  43.0      30-50  \n",
       "42159     f  1983.0  39.0      30-50  \n",
       "42948     f  1988.0  34.0      30-50  \n",
       "44737     f  1986.0  36.0      30-50  \n",
       "45304     m  1991.0  31.0      30-50  \n",
       "46924     f  2000.0  22.0      18-30  \n",
       "47113     m  1994.0  28.0      18-30  \n",
       "61196     f  1968.0  54.0        50+  \n",
       "62344     m  1982.0  40.0      30-50  \n",
       "67459     f  1975.0  47.0      30-50  \n",
       "68782     f  1949.0  73.0        50+  \n",
       "72282     f  1984.0  38.0      30-50  \n",
       "72761     f  1979.0  43.0      30-50  \n",
       "73844     m  1984.0  38.0      30-50  \n",
       "76341     m  1991.0  31.0      30-50  \n",
       "76563     m  1929.0  93.0        NaN  \n",
       "76564     m  1929.0  93.0        NaN  \n",
       "76565     m  1929.0  93.0        NaN  \n",
       "76566     m  1929.0  93.0        NaN  \n",
       "76567     m  1929.0  93.0        NaN  \n",
       "...     ...     ...   ...        ...  \n",
       "336829  NaN     NaN   NaN        NaN  \n",
       "336830  NaN     NaN   NaN        NaN  \n",
       "336831  NaN     NaN   NaN        NaN  \n",
       "336832  NaN     NaN   NaN        NaN  \n",
       "336833  NaN     NaN   NaN        NaN  \n",
       "336834  NaN     NaN   NaN        NaN  \n",
       "336835  NaN     NaN   NaN        NaN  \n",
       "336836  NaN     NaN   NaN        NaN  \n",
       "336837  NaN     NaN   NaN        NaN  \n",
       "336838    f  2001.0  21.0      18-30  \n",
       "336839    f  1997.0  25.0      18-30  \n",
       "336840    f  1998.0  24.0      18-30  \n",
       "336841    f  1967.0  55.0        50+  \n",
       "336842    m  1959.0  63.0        50+  \n",
       "336843    m  1956.0  66.0        50+  \n",
       "336844    f  1992.0  30.0      30-50  \n",
       "336845    f  1992.0  30.0      30-50  \n",
       "336846    m  2004.0  18.0      18-30  \n",
       "336847    m  1999.0  23.0      18-30  \n",
       "336848    f  1965.0  57.0        50+  \n",
       "336849    m  1963.0  59.0        50+  \n",
       "336850    f  2002.0  20.0      18-30  \n",
       "336851    f  2004.0  18.0      18-30  \n",
       "336852    m  2003.0  19.0      18-30  \n",
       "336853    m  2004.0  18.0      18-30  \n",
       "336854    f  1956.0  66.0        50+  \n",
       "336855    f  1960.0  62.0        50+  \n",
       "336856    m  2001.0  21.0      18-30  \n",
       "336857    m  1993.0  29.0      18-30  \n",
       "336858    m  1956.0  66.0        50+  \n",
       "\n",
       "[232 rows x 10 columns]"
      ]
     },
     "execution_count": 73,
     "metadata": {},
     "output_type": "execute_result"
    }
   ],
   "source": [
    "cpv_na"
   ]
  },
  {
   "cell_type": "markdown",
   "metadata": {},
   "source": [
    "**Ce que l'on constate :** \n",
    "- Des produits n'ont pas été vendus.\n",
    "- Des clients n'ont jamais rien acheté. \n",
    "- L'id_prod 0_2245 est enregistré dans ventes mais pas dans produits.   "
   ]
  },
  {
   "cell_type": "code",
   "execution_count": 44,
   "metadata": {},
   "outputs": [
    {
     "data": {
      "text/plain": [
       "id_prod    22\n",
       "dtype: int64"
      ]
     },
     "execution_count": 44,
     "metadata": {},
     "output_type": "execute_result"
    }
   ],
   "source": [
    "# Recherche des produits invendus\n",
    "p_inv = cpv_na.loc[cpv_na.client_id.isnull(), 'id_prod'].to_frame()\n",
    "p_inv.count()"
   ]
  },
  {
   "cell_type": "markdown",
   "metadata": {},
   "source": [
    "22 produits en tout n'ont pas été vendus. "
   ]
  },
  {
   "cell_type": "code",
   "execution_count": 45,
   "metadata": {},
   "outputs": [
    {
     "data": {
      "text/plain": [
       "client_id    21\n",
       "dtype: int64"
      ]
     },
     "execution_count": 45,
     "metadata": {},
     "output_type": "execute_result"
    }
   ],
   "source": [
    "# Recherche des clients qui n'ont rien acheté : \n",
    "cl_ssach = cpv_na.loc[cpv_na.id_prod.isnull(), 'client_id'].to_frame()\n",
    "cl_ssach.count()"
   ]
  },
  {
   "cell_type": "markdown",
   "metadata": {},
   "source": [
    "21 clients n'ont rien acheté du tout. "
   ]
  },
  {
   "cell_type": "markdown",
   "metadata": {},
   "source": [
    "**Traitement du produit 0_2245 :** \n",
    "En tout état de cause il a été vendu. Je suppose une anomalie à l'enregistrement de la vente. Je vais lui imputer la moyenne des prix de sa catégorie. "
   ]
  },
  {
   "cell_type": "code",
   "execution_count": 25,
   "metadata": {},
   "outputs": [],
   "source": [
    "# Je commence par imputer la catégorie de ce produit\n",
    "catprod = 0\n",
    "cpv.loc[cpv.id_prod=='0_2245', 'categ'] = catprod"
   ]
  },
  {
   "cell_type": "code",
   "execution_count": 26,
   "metadata": {},
   "outputs": [
    {
     "data": {
      "text/plain": [
       "10.647071995724621"
      ]
     },
     "execution_count": 26,
     "metadata": {},
     "output_type": "execute_result"
    }
   ],
   "source": [
    "# Calcul de la moyenne des prix de la catégorie de produits 0: \n",
    "moyprixcat0 = cpv.loc[cpv.categ == catprod, 'price'].mean()\n",
    "moyprixcat0"
   ]
  },
  {
   "cell_type": "code",
   "execution_count": 27,
   "metadata": {},
   "outputs": [],
   "source": [
    "# Ajout de cette moyenne dans la colonne prix de l'id_prod 0_2245\n",
    "cpv.loc[cpv.id_prod=='0_2245', 'price'] = moyprixcat0"
   ]
  },
  {
   "cell_type": "code",
   "execution_count": 18,
   "metadata": {},
   "outputs": [
    {
     "data": {
      "text/html": [
       "<div>\n",
       "<style scoped>\n",
       "    .dataframe tbody tr th:only-of-type {\n",
       "        vertical-align: middle;\n",
       "    }\n",
       "\n",
       "    .dataframe tbody tr th {\n",
       "        vertical-align: top;\n",
       "    }\n",
       "\n",
       "    .dataframe thead th {\n",
       "        text-align: right;\n",
       "    }\n",
       "</style>\n",
       "<table border=\"1\" class=\"dataframe\">\n",
       "  <thead>\n",
       "    <tr style=\"text-align: right;\">\n",
       "      <th></th>\n",
       "      <th>id_prod</th>\n",
       "      <th>date</th>\n",
       "      <th>session_id</th>\n",
       "      <th>client_id</th>\n",
       "      <th>price</th>\n",
       "      <th>categ</th>\n",
       "      <th>sex</th>\n",
       "      <th>birth</th>\n",
       "      <th>age</th>\n",
       "      <th>classe_age</th>\n",
       "    </tr>\n",
       "  </thead>\n",
       "  <tbody>\n",
       "    <tr>\n",
       "      <th>159164</th>\n",
       "      <td>0_2245</td>\n",
       "      <td>2021-03-02 15:55:49.728644</td>\n",
       "      <td>s_783</td>\n",
       "      <td>c_8060</td>\n",
       "      <td>10.647072</td>\n",
       "      <td>0.0</td>\n",
       "      <td>f</td>\n",
       "      <td>1979.0</td>\n",
       "      <td>43.0</td>\n",
       "      <td>30-50</td>\n",
       "    </tr>\n",
       "  </tbody>\n",
       "</table>\n",
       "</div>"
      ],
      "text/plain": [
       "       id_prod                       date session_id client_id      price  \\\n",
       "159164  0_2245 2021-03-02 15:55:49.728644      s_783    c_8060  10.647072   \n",
       "\n",
       "        categ sex   birth   age classe_age  \n",
       "159164    0.0   f  1979.0  43.0      30-50  "
      ]
     },
     "execution_count": 18,
     "metadata": {},
     "output_type": "execute_result"
    }
   ],
   "source": [
    "# Vérification\n",
    "cpv[cpv.id_prod == '0_2245'].sample(1)"
   ]
  },
  {
   "cell_type": "markdown",
   "metadata": {},
   "source": [
    "### Clients / nombre de produits achetés"
   ]
  },
  {
   "cell_type": "code",
   "execution_count": 37,
   "metadata": {
    "scrolled": true
   },
   "outputs": [
    {
     "data": {
      "text/html": [
       "<div>\n",
       "<style scoped>\n",
       "    .dataframe tbody tr th:only-of-type {\n",
       "        vertical-align: middle;\n",
       "    }\n",
       "\n",
       "    .dataframe tbody tr th {\n",
       "        vertical-align: top;\n",
       "    }\n",
       "\n",
       "    .dataframe thead th {\n",
       "        text-align: right;\n",
       "    }\n",
       "</style>\n",
       "<table border=\"1\" class=\"dataframe\">\n",
       "  <thead>\n",
       "    <tr style=\"text-align: right;\">\n",
       "      <th></th>\n",
       "      <th>id_prod</th>\n",
       "      <th>date</th>\n",
       "      <th>session_id</th>\n",
       "      <th>client_id</th>\n",
       "      <th>price</th>\n",
       "      <th>categ</th>\n",
       "      <th>sex</th>\n",
       "      <th>birth</th>\n",
       "      <th>age</th>\n",
       "      <th>classe_age</th>\n",
       "    </tr>\n",
       "  </thead>\n",
       "  <tbody>\n",
       "    <tr>\n",
       "      <th>0</th>\n",
       "      <td>0_1483</td>\n",
       "      <td>2021-04-10 18:37:28.723910</td>\n",
       "      <td>s_18746</td>\n",
       "      <td>c_4450</td>\n",
       "      <td>4.99</td>\n",
       "      <td>0.0</td>\n",
       "      <td>f</td>\n",
       "      <td>1977.0</td>\n",
       "      <td>45.0</td>\n",
       "      <td>30-50</td>\n",
       "    </tr>\n",
       "    <tr>\n",
       "      <th>1</th>\n",
       "      <td>0_1085</td>\n",
       "      <td>2021-09-29 11:14:59.793823</td>\n",
       "      <td>s_97382</td>\n",
       "      <td>c_4450</td>\n",
       "      <td>3.99</td>\n",
       "      <td>0.0</td>\n",
       "      <td>f</td>\n",
       "      <td>1977.0</td>\n",
       "      <td>45.0</td>\n",
       "      <td>30-50</td>\n",
       "    </tr>\n",
       "    <tr>\n",
       "      <th>2</th>\n",
       "      <td>0_1453</td>\n",
       "      <td>2021-08-27 19:50:46.796939</td>\n",
       "      <td>s_81509</td>\n",
       "      <td>c_4450</td>\n",
       "      <td>7.99</td>\n",
       "      <td>0.0</td>\n",
       "      <td>f</td>\n",
       "      <td>1977.0</td>\n",
       "      <td>45.0</td>\n",
       "      <td>30-50</td>\n",
       "    </tr>\n",
       "    <tr>\n",
       "      <th>3</th>\n",
       "      <td>0_1405</td>\n",
       "      <td>2021-08-27 20:07:25.878440</td>\n",
       "      <td>s_81509</td>\n",
       "      <td>c_4450</td>\n",
       "      <td>4.99</td>\n",
       "      <td>0.0</td>\n",
       "      <td>f</td>\n",
       "      <td>1977.0</td>\n",
       "      <td>45.0</td>\n",
       "      <td>30-50</td>\n",
       "    </tr>\n",
       "    <tr>\n",
       "      <th>4</th>\n",
       "      <td>0_1392</td>\n",
       "      <td>2021-12-28 11:45:04.072281</td>\n",
       "      <td>s_141302</td>\n",
       "      <td>c_4450</td>\n",
       "      <td>6.30</td>\n",
       "      <td>0.0</td>\n",
       "      <td>f</td>\n",
       "      <td>1977.0</td>\n",
       "      <td>45.0</td>\n",
       "      <td>30-50</td>\n",
       "    </tr>\n",
       "  </tbody>\n",
       "</table>\n",
       "</div>"
      ],
      "text/plain": [
       "  id_prod                       date session_id client_id  price  categ sex  \\\n",
       "0  0_1483 2021-04-10 18:37:28.723910    s_18746    c_4450   4.99    0.0   f   \n",
       "1  0_1085 2021-09-29 11:14:59.793823    s_97382    c_4450   3.99    0.0   f   \n",
       "2  0_1453 2021-08-27 19:50:46.796939    s_81509    c_4450   7.99    0.0   f   \n",
       "3  0_1405 2021-08-27 20:07:25.878440    s_81509    c_4450   4.99    0.0   f   \n",
       "4  0_1392 2021-12-28 11:45:04.072281   s_141302    c_4450   6.30    0.0   f   \n",
       "\n",
       "    birth   age classe_age  \n",
       "0  1977.0  45.0      30-50  \n",
       "1  1977.0  45.0      30-50  \n",
       "2  1977.0  45.0      30-50  \n",
       "3  1977.0  45.0      30-50  \n",
       "4  1977.0  45.0      30-50  "
      ]
     },
     "execution_count": 37,
     "metadata": {},
     "output_type": "execute_result"
    }
   ],
   "source": [
    "cpv.head()"
   ]
  },
  {
   "cell_type": "code",
   "execution_count": 38,
   "metadata": {},
   "outputs": [
    {
     "data": {
      "text/html": [
       "<div>\n",
       "<style scoped>\n",
       "    .dataframe tbody tr th:only-of-type {\n",
       "        vertical-align: middle;\n",
       "    }\n",
       "\n",
       "    .dataframe tbody tr th {\n",
       "        vertical-align: top;\n",
       "    }\n",
       "\n",
       "    .dataframe thead th {\n",
       "        text-align: right;\n",
       "    }\n",
       "</style>\n",
       "<table border=\"1\" class=\"dataframe\">\n",
       "  <thead>\n",
       "    <tr style=\"text-align: right;\">\n",
       "      <th></th>\n",
       "      <th>id_prod</th>\n",
       "      <th>date</th>\n",
       "      <th>session_id</th>\n",
       "      <th>client_id</th>\n",
       "      <th>price</th>\n",
       "      <th>categ</th>\n",
       "      <th>sex</th>\n",
       "      <th>birth</th>\n",
       "      <th>age</th>\n",
       "      <th>classe_age</th>\n",
       "    </tr>\n",
       "  </thead>\n",
       "  <tbody>\n",
       "    <tr>\n",
       "      <th>0</th>\n",
       "      <td>0_1483</td>\n",
       "      <td>2021-04-10 18:37:28.723910</td>\n",
       "      <td>s_18746</td>\n",
       "      <td>c_4450</td>\n",
       "      <td>4.99</td>\n",
       "      <td>0.0</td>\n",
       "      <td>f</td>\n",
       "      <td>1977.0</td>\n",
       "      <td>45.0</td>\n",
       "      <td>30-50</td>\n",
       "    </tr>\n",
       "    <tr>\n",
       "      <th>17</th>\n",
       "      <td>1_685</td>\n",
       "      <td>2021-04-10 18:25:09.319011</td>\n",
       "      <td>s_18746</td>\n",
       "      <td>c_4450</td>\n",
       "      <td>15.99</td>\n",
       "      <td>1.0</td>\n",
       "      <td>f</td>\n",
       "      <td>1977.0</td>\n",
       "      <td>45.0</td>\n",
       "      <td>30-50</td>\n",
       "    </tr>\n",
       "    <tr>\n",
       "      <th>65</th>\n",
       "      <td>0_1395</td>\n",
       "      <td>2021-04-10 18:32:27.342375</td>\n",
       "      <td>s_18746</td>\n",
       "      <td>c_4450</td>\n",
       "      <td>3.99</td>\n",
       "      <td>0.0</td>\n",
       "      <td>f</td>\n",
       "      <td>1977.0</td>\n",
       "      <td>45.0</td>\n",
       "      <td>30-50</td>\n",
       "    </tr>\n",
       "  </tbody>\n",
       "</table>\n",
       "</div>"
      ],
      "text/plain": [
       "   id_prod                       date session_id client_id  price  categ sex  \\\n",
       "0   0_1483 2021-04-10 18:37:28.723910    s_18746    c_4450   4.99    0.0   f   \n",
       "17   1_685 2021-04-10 18:25:09.319011    s_18746    c_4450  15.99    1.0   f   \n",
       "65  0_1395 2021-04-10 18:32:27.342375    s_18746    c_4450   3.99    0.0   f   \n",
       "\n",
       "     birth   age classe_age  \n",
       "0   1977.0  45.0      30-50  \n",
       "17  1977.0  45.0      30-50  \n",
       "65  1977.0  45.0      30-50  "
      ]
     },
     "execution_count": 38,
     "metadata": {},
     "output_type": "execute_result"
    }
   ],
   "source": [
    "# Attention, il peut y avoir plusieurs achats par session. Par exemple :  \n",
    "cpv[cpv['session_id']=='s_18746']"
   ]
  },
  {
   "cell_type": "code",
   "execution_count": 30,
   "metadata": {},
   "outputs": [],
   "source": [
    "pac = cpv.groupby('client_id').agg({'price': 'sum'}).reset_index()"
   ]
  },
  {
   "cell_type": "code",
   "execution_count": 55,
   "metadata": {},
   "outputs": [
    {
     "data": {
      "text/html": [
       "<div>\n",
       "<style scoped>\n",
       "    .dataframe tbody tr th:only-of-type {\n",
       "        vertical-align: middle;\n",
       "    }\n",
       "\n",
       "    .dataframe tbody tr th {\n",
       "        vertical-align: top;\n",
       "    }\n",
       "\n",
       "    .dataframe thead th {\n",
       "        text-align: right;\n",
       "    }\n",
       "</style>\n",
       "<table border=\"1\" class=\"dataframe\">\n",
       "  <thead>\n",
       "    <tr style=\"text-align: right;\">\n",
       "      <th></th>\n",
       "      <th>client_id</th>\n",
       "      <th>price</th>\n",
       "    </tr>\n",
       "  </thead>\n",
       "  <tbody>\n",
       "    <tr>\n",
       "      <th>0</th>\n",
       "      <td>c_1</td>\n",
       "      <td>300.65</td>\n",
       "    </tr>\n",
       "    <tr>\n",
       "      <th>1</th>\n",
       "      <td>c_10</td>\n",
       "      <td>586.18</td>\n",
       "    </tr>\n",
       "    <tr>\n",
       "      <th>2</th>\n",
       "      <td>c_100</td>\n",
       "      <td>222.87</td>\n",
       "    </tr>\n",
       "    <tr>\n",
       "      <th>3</th>\n",
       "      <td>c_1000</td>\n",
       "      <td>980.02</td>\n",
       "    </tr>\n",
       "    <tr>\n",
       "      <th>4</th>\n",
       "      <td>c_1001</td>\n",
       "      <td>1102.45</td>\n",
       "    </tr>\n",
       "  </tbody>\n",
       "</table>\n",
       "</div>"
      ],
      "text/plain": [
       "  client_id    price\n",
       "0       c_1   300.65\n",
       "1      c_10   586.18\n",
       "2     c_100   222.87\n",
       "3    c_1000   980.02\n",
       "4    c_1001  1102.45"
      ]
     },
     "execution_count": 55,
     "metadata": {},
     "output_type": "execute_result"
    }
   ],
   "source": [
    "pac.head()"
   ]
  },
  {
   "cell_type": "code",
   "execution_count": 29,
   "metadata": {},
   "outputs": [
    {
     "data": {
      "text/html": [
       "<div>\n",
       "<style scoped>\n",
       "    .dataframe tbody tr th:only-of-type {\n",
       "        vertical-align: middle;\n",
       "    }\n",
       "\n",
       "    .dataframe tbody tr th {\n",
       "        vertical-align: top;\n",
       "    }\n",
       "\n",
       "    .dataframe thead th {\n",
       "        text-align: right;\n",
       "    }\n",
       "</style>\n",
       "<table border=\"1\" class=\"dataframe\">\n",
       "  <thead>\n",
       "    <tr style=\"text-align: right;\">\n",
       "      <th></th>\n",
       "      <th>price</th>\n",
       "    </tr>\n",
       "  </thead>\n",
       "  <tbody>\n",
       "    <tr>\n",
       "      <th>count</th>\n",
       "      <td>8621.000000</td>\n",
       "    </tr>\n",
       "    <tr>\n",
       "      <th>mean</th>\n",
       "      <td>672.506022</td>\n",
       "    </tr>\n",
       "    <tr>\n",
       "      <th>std</th>\n",
       "      <td>2563.075956</td>\n",
       "    </tr>\n",
       "    <tr>\n",
       "      <th>min</th>\n",
       "      <td>0.000000</td>\n",
       "    </tr>\n",
       "    <tr>\n",
       "      <th>25%</th>\n",
       "      <td>274.230000</td>\n",
       "    </tr>\n",
       "    <tr>\n",
       "      <th>50%</th>\n",
       "      <td>500.160000</td>\n",
       "    </tr>\n",
       "    <tr>\n",
       "      <th>75%</th>\n",
       "      <td>869.110000</td>\n",
       "    </tr>\n",
       "    <tr>\n",
       "      <th>max</th>\n",
       "      <td>162007.340000</td>\n",
       "    </tr>\n",
       "  </tbody>\n",
       "</table>\n",
       "</div>"
      ],
      "text/plain": [
       "               price\n",
       "count    8621.000000\n",
       "mean      672.506022\n",
       "std      2563.075956\n",
       "min         0.000000\n",
       "25%       274.230000\n",
       "50%       500.160000\n",
       "75%       869.110000\n",
       "max    162007.340000"
      ]
     },
     "execution_count": 29,
     "metadata": {},
     "output_type": "execute_result"
    }
   ],
   "source": [
    "pac.describe()"
   ]
  },
  {
   "cell_type": "code",
   "execution_count": 64,
   "metadata": {},
   "outputs": [
    {
     "data": {
      "text/plain": [
       "5797674.418415563"
      ]
     },
     "execution_count": 64,
     "metadata": {},
     "output_type": "execute_result"
    }
   ],
   "source": [
    "ca = pac.price.sum()\n",
    "ca"
   ]
  },
  {
   "cell_type": "markdown",
   "metadata": {},
   "source": [
    "Le total des achats (le CA) est de 5.8 millions. "
   ]
  },
  {
   "cell_type": "code",
   "execution_count": 30,
   "metadata": {},
   "outputs": [
    {
     "data": {
      "text/html": [
       "<div>\n",
       "<style scoped>\n",
       "    .dataframe tbody tr th:only-of-type {\n",
       "        vertical-align: middle;\n",
       "    }\n",
       "\n",
       "    .dataframe tbody tr th {\n",
       "        vertical-align: top;\n",
       "    }\n",
       "\n",
       "    .dataframe thead th {\n",
       "        text-align: right;\n",
       "    }\n",
       "</style>\n",
       "<table border=\"1\" class=\"dataframe\">\n",
       "  <thead>\n",
       "    <tr style=\"text-align: right;\">\n",
       "      <th></th>\n",
       "      <th>client_id</th>\n",
       "      <th>price</th>\n",
       "    </tr>\n",
       "  </thead>\n",
       "  <tbody>\n",
       "    <tr>\n",
       "      <th>678</th>\n",
       "      <td>c_1609</td>\n",
       "      <td>162007.340000</td>\n",
       "    </tr>\n",
       "    <tr>\n",
       "      <th>2728</th>\n",
       "      <td>c_3454</td>\n",
       "      <td>54464.214144</td>\n",
       "    </tr>\n",
       "    <tr>\n",
       "      <th>4398</th>\n",
       "      <td>c_4958</td>\n",
       "      <td>144257.210000</td>\n",
       "    </tr>\n",
       "    <tr>\n",
       "      <th>6350</th>\n",
       "      <td>c_6714</td>\n",
       "      <td>73218.634144</td>\n",
       "    </tr>\n",
       "  </tbody>\n",
       "</table>\n",
       "</div>"
      ],
      "text/plain": [
       "     client_id          price\n",
       "678     c_1609  162007.340000\n",
       "2728    c_3454   54464.214144\n",
       "4398    c_4958  144257.210000\n",
       "6350    c_6714   73218.634144"
      ]
     },
     "execution_count": 30,
     "metadata": {},
     "output_type": "execute_result"
    }
   ],
   "source": [
    "# Le max price me semble très élevé, je vérifie : \n",
    "pac[pac['price'] > 4000]"
   ]
  },
  {
   "cell_type": "code",
   "execution_count": 66,
   "metadata": {},
   "outputs": [
    {
     "data": {
      "text/plain": [
       "client_id    c_1609c_3454c_4958c_6714\n",
       "price                          433947\n",
       "dtype: object"
      ]
     },
     "execution_count": 66,
     "metadata": {},
     "output_type": "execute_result"
    }
   ],
   "source": [
    "# Calcul du montant acheté par ces clients\n",
    "subca = pac[pac['price'] > 4000].sum() \n",
    "subca"
   ]
  },
  {
   "cell_type": "code",
   "execution_count": 80,
   "metadata": {},
   "outputs": [
    {
     "data": {
      "text/plain": [
       "7.48"
      ]
     },
     "execution_count": 80,
     "metadata": {},
     "output_type": "execute_result"
    }
   ],
   "source": [
    "# En % du CA, ce que représentent ces clients\n",
    "round((subca.price / ca) * 100, 2)"
   ]
  },
  {
   "cell_type": "markdown",
   "metadata": {},
   "source": [
    "- 4 clients ont achetés chacun plus de 54 000 €, soit beaucoup plus que les autres clients.\n",
    "- Ces clients ont dépensé plus de 400 000 €. \n",
    "- Il représentent presque 7.5 % du CA. "
   ]
  },
  {
   "cell_type": "code",
   "execution_count": 31,
   "metadata": {},
   "outputs": [
    {
     "data": {
      "image/png": "[encoded data removed]",
      "text/plain": [
       "<Figure size 432x288 with 1 Axes>"
      ]
     },
     "metadata": {},
     "output_type": "display_data"
    }
   ],
   "source": [
    "# Avec une boite à moustaches : \n",
    "pac.boxplot(column='price', showmeans=True, vert = 0).set_title('Distribution du montant des achats par client')\n",
    "plt.xlabel('Montant des achats')\n",
    "plt.savefig('fig15.jpeg')"
   ]
  },
  {
   "cell_type": "code",
   "execution_count": 33,
   "metadata": {},
   "outputs": [
    {
     "data": {
      "image/png": "[encoded data removed]",
      "text/plain": [
       "<Figure size 432x288 with 1 Axes>"
      ]
     },
     "metadata": {},
     "output_type": "display_data"
    }
   ],
   "source": [
    "# Avec une boite à moustaches : \n",
    "pac.boxplot(column='price', showmeans=True, showfliers = False, vert = 0).set_title(\n",
    "    'Distribution du montant des achats par client (sans les outliers)')\n",
    "plt.xlabel('Montant des achats')\n",
    "plt.savefig('fig16.jpeg')"
   ]
  },
  {
   "cell_type": "markdown",
   "metadata": {},
   "source": [
    "##### Table sans les clients \"grands comptes\" : cpv_new"
   ]
  },
  {
   "cell_type": "code",
   "execution_count": 29,
   "metadata": {},
   "outputs": [],
   "source": [
    "# Ce sont des clients particuliers, qui achètent en masse, contrairement aux autres clients. Ils pourraient bénéficier d'un \n",
    "# traitement particulier. Dans cette analyse, je les considèrerai parfois comme des outliers et les retirerai. Je créé un \n",
    "# nouveau df pour cela : \n",
    "cpv_new = cpv.loc[\n",
    "    (cpv['client_id']!='c_1609')\\\n",
    "    & (cpv['client_id']!='c_3454')\\\n",
    "    & (cpv['client_id']!='c_4958')\\\n",
    "    & (cpv['client_id']!='c_6714')]"
   ]
  },
  {
   "cell_type": "code",
   "execution_count": 30,
   "metadata": {},
   "outputs": [
    {
     "data": {
      "text/plain": [
       "(313694, 10)"
      ]
     },
     "execution_count": 30,
     "metadata": {},
     "output_type": "execute_result"
    }
   ],
   "source": [
    "cpv_new.shape"
   ]
  },
  {
   "cell_type": "markdown",
   "metadata": {},
   "source": [
    "##### Table sans les clients \"grands comptes\" et sans les clients de 18 ans : cpv_ss_ab"
   ]
  },
  {
   "cell_type": "code",
   "execution_count": 31,
   "metadata": {},
   "outputs": [],
   "source": [
    "# Je retire aussi les clients qui ont 18 ans : \n",
    "cpv_ss_ab = cpv_new[cpv_new['age']!=18]"
   ]
  },
  {
   "cell_type": "code",
   "execution_count": 32,
   "metadata": {},
   "outputs": [
    {
     "data": {
      "text/plain": [
       "(306343, 10)"
      ]
     },
     "execution_count": 32,
     "metadata": {},
     "output_type": "execute_result"
    }
   ],
   "source": [
    "cpv_ss_ab.shape"
   ]
  },
  {
   "cell_type": "markdown",
   "metadata": {},
   "source": [
    "#### Enregistrement des dataframes : "
   ]
  },
  {
   "cell_type": "code",
   "execution_count": 33,
   "metadata": {},
   "outputs": [],
   "source": [
    "cpv.to_csv('C:/Users/Zang/Documents/APPRENDER/OPENCLASSROOMS/PARCOURS DA/P4_Analysez_les_ventes_de_votre_entreprise/cpv.csv', index=False)\n",
    "cpv_new.to_csv('C:/Users/Zang/Documents/APPRENDER/OPENCLASSROOMS/PARCOURS DA/P4_Analysez_les_ventes_de_votre_entreprise/cpv_new.csv', index=False)\n",
    "cpv_ss_ab.to_csv('C:/Users/Zang/Documents/APPRENDER/OPENCLASSROOMS/PARCOURS DA/P4_Analysez_les_ventes_de_votre_entreprise/cpv_ss_ab.csv', index=False)"
   ]
  }
 ],
 "metadata": {
  "kernelspec": {
   "display_name": "Python 3",
   "language": "python",
   "name": "python3"
  },
  "language_info": {
   "codemirror_mode": {
    "name": "ipython",
    "version": 3
   },
   "file_extension": ".py",
   "mimetype": "text/x-python",
   "name": "python",
   "nbconvert_exporter": "python",
   "pygments_lexer": "ipython3",
   "version": "3.6.5"
  }
 },
 "nbformat": 4,
 "nbformat_minor": 2
}
