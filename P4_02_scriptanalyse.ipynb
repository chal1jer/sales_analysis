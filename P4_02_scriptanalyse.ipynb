{
 "cells": [
  {
   "cell_type": "markdown",
   "metadata": {},
   "source": [
    "# Projet 4: Analysez les ventes de votre entreprise (2)"
   ]
  },
  {
   "cell_type": "code",
   "execution_count": 1,
   "metadata": {},
   "outputs": [
    {
     "name": "stdout",
     "output_type": "stream",
     "text": [
      "numpy version 1.14.3\n",
      "pandas version 1.0.3\n",
      "seaborn version 0.8.1\n"
     ]
    }
   ],
   "source": [
    "# Import des librairies\n",
    "import numpy as np\n",
    "print(f\"numpy version {np.__version__}\")\n",
    "import pandas as pd\n",
    "print(f\"pandas version {pd.__version__}\")\n",
    "import seaborn as sns\n",
    "print(f\"seaborn version {sns.__version__}\")\n",
    "\n",
    "import matplotlib.pyplot as plt\n",
    "\n",
    "import datetime as dt\n",
    "\n",
    "import statsmodels.formula.api as smf\n",
    "import statsmodels.api as sm\n",
    "\n",
    "from scipy.stats import pearsonr"
   ]
  },
  {
   "cell_type": "markdown",
   "metadata": {},
   "source": [
    "# Mission 2 : Analyse des données"
   ]
  },
  {
   "cell_type": "code",
   "execution_count": 2,
   "metadata": {},
   "outputs": [],
   "source": [
    "# Chargement des tables : \n",
    "# Table complète\n",
    "cpv = pd.read_csv('C:/Users/Zang/Documents/APPRENDER/OPENCLASSROOMS/PARCOURS DA/P4_Analysez_les_ventes_de_votre_entreprise/cpv.csv')\n",
    "# df sans les clients grands comptes\n",
    "cpv_ss_gc = pd.read_csv('C:/Users/Zang/Documents/APPRENDER/OPENCLASSROOMS/PARCOURS DA/P4_Analysez_les_ventes_de_votre_entreprise/cpv_new.csv')\n",
    "# df sans les grands comptes et les 18 ans\n",
    "cpv_ss_ab = pd.read_csv('C:/Users/Zang/Documents/APPRENDER/OPENCLASSROOMS/PARCOURS DA/P4_Analysez_les_ventes_de_votre_entreprise/cpv_ss_ab.csv')"
   ]
  },
  {
   "cell_type": "markdown",
   "metadata": {},
   "source": [
    "## Indicateurs de tendance centrale et de dispersion"
   ]
  },
  {
   "cell_type": "markdown",
   "metadata": {},
   "source": [
    "Moyenne, médiane, mode..."
   ]
  },
  {
   "cell_type": "code",
   "execution_count": 3,
   "metadata": {
    "scrolled": true
   },
   "outputs": [
    {
     "data": {
      "text/html": [
       "<div>\n",
       "<style scoped>\n",
       "    .dataframe tbody tr th:only-of-type {\n",
       "        vertical-align: middle;\n",
       "    }\n",
       "\n",
       "    .dataframe tbody tr th {\n",
       "        vertical-align: top;\n",
       "    }\n",
       "\n",
       "    .dataframe thead th {\n",
       "        text-align: right;\n",
       "    }\n",
       "</style>\n",
       "<table border=\"1\" class=\"dataframe\">\n",
       "  <thead>\n",
       "    <tr style=\"text-align: right;\">\n",
       "      <th></th>\n",
       "      <th>id_prod</th>\n",
       "      <th>date</th>\n",
       "      <th>session_id</th>\n",
       "      <th>client_id</th>\n",
       "      <th>price</th>\n",
       "      <th>categ</th>\n",
       "      <th>sex</th>\n",
       "      <th>birth</th>\n",
       "      <th>age</th>\n",
       "      <th>classe_age</th>\n",
       "    </tr>\n",
       "  </thead>\n",
       "  <tbody>\n",
       "    <tr>\n",
       "      <th>count</th>\n",
       "      <td>336838</td>\n",
       "      <td>336816</td>\n",
       "      <td>336816</td>\n",
       "      <td>336837</td>\n",
       "      <td>336838.000000</td>\n",
       "      <td>336838.000000</td>\n",
       "      <td>336837</td>\n",
       "      <td>336837.000000</td>\n",
       "      <td>336837.000000</td>\n",
       "      <td>336837</td>\n",
       "    </tr>\n",
       "    <tr>\n",
       "      <th>unique</th>\n",
       "      <td>3287</td>\n",
       "      <td>336816</td>\n",
       "      <td>169194</td>\n",
       "      <td>8621</td>\n",
       "      <td>NaN</td>\n",
       "      <td>NaN</td>\n",
       "      <td>2</td>\n",
       "      <td>NaN</td>\n",
       "      <td>NaN</td>\n",
       "      <td>3</td>\n",
       "    </tr>\n",
       "    <tr>\n",
       "      <th>top</th>\n",
       "      <td>1_369</td>\n",
       "      <td>2021-06-05 02:42:29.197160</td>\n",
       "      <td>s_118668</td>\n",
       "      <td>c_1609</td>\n",
       "      <td>NaN</td>\n",
       "      <td>NaN</td>\n",
       "      <td>m</td>\n",
       "      <td>NaN</td>\n",
       "      <td>NaN</td>\n",
       "      <td>30-50</td>\n",
       "    </tr>\n",
       "    <tr>\n",
       "      <th>freq</th>\n",
       "      <td>1081</td>\n",
       "      <td>1</td>\n",
       "      <td>14</td>\n",
       "      <td>12855</td>\n",
       "      <td>NaN</td>\n",
       "      <td>NaN</td>\n",
       "      <td>169251</td>\n",
       "      <td>NaN</td>\n",
       "      <td>NaN</td>\n",
       "      <td>204382</td>\n",
       "    </tr>\n",
       "    <tr>\n",
       "      <th>mean</th>\n",
       "      <td>NaN</td>\n",
       "      <td>NaN</td>\n",
       "      <td>NaN</td>\n",
       "      <td>NaN</td>\n",
       "      <td>17.214426</td>\n",
       "      <td>0.430020</td>\n",
       "      <td>NaN</td>\n",
       "      <td>1977.823805</td>\n",
       "      <td>44.176195</td>\n",
       "      <td>NaN</td>\n",
       "    </tr>\n",
       "    <tr>\n",
       "      <th>std</th>\n",
       "      <td>NaN</td>\n",
       "      <td>NaN</td>\n",
       "      <td>NaN</td>\n",
       "      <td>NaN</td>\n",
       "      <td>17.858593</td>\n",
       "      <td>0.591048</td>\n",
       "      <td>NaN</td>\n",
       "      <td>13.524468</td>\n",
       "      <td>13.524468</td>\n",
       "      <td>NaN</td>\n",
       "    </tr>\n",
       "    <tr>\n",
       "      <th>min</th>\n",
       "      <td>NaN</td>\n",
       "      <td>NaN</td>\n",
       "      <td>NaN</td>\n",
       "      <td>NaN</td>\n",
       "      <td>0.620000</td>\n",
       "      <td>0.000000</td>\n",
       "      <td>NaN</td>\n",
       "      <td>1929.000000</td>\n",
       "      <td>18.000000</td>\n",
       "      <td>NaN</td>\n",
       "    </tr>\n",
       "    <tr>\n",
       "      <th>25%</th>\n",
       "      <td>NaN</td>\n",
       "      <td>NaN</td>\n",
       "      <td>NaN</td>\n",
       "      <td>NaN</td>\n",
       "      <td>8.610000</td>\n",
       "      <td>0.000000</td>\n",
       "      <td>NaN</td>\n",
       "      <td>1971.000000</td>\n",
       "      <td>35.000000</td>\n",
       "      <td>NaN</td>\n",
       "    </tr>\n",
       "    <tr>\n",
       "      <th>50%</th>\n",
       "      <td>NaN</td>\n",
       "      <td>NaN</td>\n",
       "      <td>NaN</td>\n",
       "      <td>NaN</td>\n",
       "      <td>13.900000</td>\n",
       "      <td>0.000000</td>\n",
       "      <td>NaN</td>\n",
       "      <td>1980.000000</td>\n",
       "      <td>42.000000</td>\n",
       "      <td>NaN</td>\n",
       "    </tr>\n",
       "    <tr>\n",
       "      <th>75%</th>\n",
       "      <td>NaN</td>\n",
       "      <td>NaN</td>\n",
       "      <td>NaN</td>\n",
       "      <td>NaN</td>\n",
       "      <td>18.990000</td>\n",
       "      <td>1.000000</td>\n",
       "      <td>NaN</td>\n",
       "      <td>1987.000000</td>\n",
       "      <td>51.000000</td>\n",
       "      <td>NaN</td>\n",
       "    </tr>\n",
       "    <tr>\n",
       "      <th>max</th>\n",
       "      <td>NaN</td>\n",
       "      <td>NaN</td>\n",
       "      <td>NaN</td>\n",
       "      <td>NaN</td>\n",
       "      <td>300.000000</td>\n",
       "      <td>2.000000</td>\n",
       "      <td>NaN</td>\n",
       "      <td>2004.000000</td>\n",
       "      <td>93.000000</td>\n",
       "      <td>NaN</td>\n",
       "    </tr>\n",
       "  </tbody>\n",
       "</table>\n",
       "</div>"
      ],
      "text/plain": [
       "       id_prod                        date session_id client_id  \\\n",
       "count   336838                      336816     336816    336837   \n",
       "unique    3287                      336816     169194      8621   \n",
       "top      1_369  2021-06-05 02:42:29.197160   s_118668    c_1609   \n",
       "freq      1081                           1         14     12855   \n",
       "mean       NaN                         NaN        NaN       NaN   \n",
       "std        NaN                         NaN        NaN       NaN   \n",
       "min        NaN                         NaN        NaN       NaN   \n",
       "25%        NaN                         NaN        NaN       NaN   \n",
       "50%        NaN                         NaN        NaN       NaN   \n",
       "75%        NaN                         NaN        NaN       NaN   \n",
       "max        NaN                         NaN        NaN       NaN   \n",
       "\n",
       "                price          categ     sex          birth            age  \\\n",
       "count   336838.000000  336838.000000  336837  336837.000000  336837.000000   \n",
       "unique            NaN            NaN       2            NaN            NaN   \n",
       "top               NaN            NaN       m            NaN            NaN   \n",
       "freq              NaN            NaN  169251            NaN            NaN   \n",
       "mean        17.214426       0.430020     NaN    1977.823805      44.176195   \n",
       "std         17.858593       0.591048     NaN      13.524468      13.524468   \n",
       "min          0.620000       0.000000     NaN    1929.000000      18.000000   \n",
       "25%          8.610000       0.000000     NaN    1971.000000      35.000000   \n",
       "50%         13.900000       0.000000     NaN    1980.000000      42.000000   \n",
       "75%         18.990000       1.000000     NaN    1987.000000      51.000000   \n",
       "max        300.000000       2.000000     NaN    2004.000000      93.000000   \n",
       "\n",
       "       classe_age  \n",
       "count      336837  \n",
       "unique          3  \n",
       "top         30-50  \n",
       "freq       204382  \n",
       "mean          NaN  \n",
       "std           NaN  \n",
       "min           NaN  \n",
       "25%           NaN  \n",
       "50%           NaN  \n",
       "75%           NaN  \n",
       "max           NaN  "
      ]
     },
     "execution_count": 3,
     "metadata": {},
     "output_type": "execute_result"
    }
   ],
   "source": [
    "# On trouve des indicateurs avec describe\n",
    "cpv.describe(include='all')"
   ]
  },
  {
   "cell_type": "code",
   "execution_count": 3,
   "metadata": {},
   "outputs": [],
   "source": [
    "cpv.date = pd.to_datetime(cpv.date)"
   ]
  },
  {
   "cell_type": "code",
   "execution_count": 4,
   "metadata": {},
   "outputs": [],
   "source": [
    "cpv_ss_ab.date = pd.to_datetime(cpv_ss_ab.date)"
   ]
  },
  {
   "cell_type": "markdown",
   "metadata": {},
   "source": [
    "### Exemples d'analyses pour les prix : "
   ]
  },
  {
   "cell_type": "markdown",
   "metadata": {},
   "source": [
    "#### Globalement"
   ]
  },
  {
   "cell_type": "code",
   "execution_count": 78,
   "metadata": {
    "scrolled": true
   },
   "outputs": [
    {
     "name": "stdout",
     "output_type": "stream",
     "text": [
      "Toutes catégories confondues : \n",
      "- Moyenne des prix: 17.21\n",
      "- Médiane: 13.9\n",
      "- Mode: 15.99\n",
      "- Min: 0.62\n",
      "- Max: 300.0\n",
      "- Variance: 318.92935594812457\n",
      "- Écart-type: 17.85859333621001\n",
      "- Coefficient de variation générale: 1.0374186886958934\n",
      "- Skewness empirique: 5.4805797800337315\n",
      "- Kurtosis empirique: 45.43645969950359\n",
      "Chiffre d'affaires (arrondi) :  6e+06 €\n"
     ]
    }
   ],
   "source": [
    "print('Toutes catégories confondues : ')\n",
    "print(f\"- Moyenne des prix: {cpv['price'].mean():.2f}\")\n",
    "print('- Médiane:', cpv['price'].median())\n",
    "print('- Mode:', cpv['price'].mode()[0])\n",
    "print('- Min:', cpv['price'].min())\n",
    "print('- Max:', cpv['price'].max())\n",
    "print('- Variance:', cpv['price'].var())\n",
    "print('- Écart-type:', cpv['price'].std())\n",
    "print('- Coefficient de variation générale:', cpv['price'].std(ddof=0)/cpv['price'].mean())\n",
    "print('- Skewness empirique:', cpv['price'].skew()) # régularité (ou non) avec laquelle les observations se répartissent \n",
    "# autour de la valeur centrale; γ1>0 alors la distribution est étalée à droite;\n",
    "print('- Kurtosis empirique:', cpv['price'].kurtosis()) # mesure d'aplatissement; γ2>0 , alors la distribution est moins \n",
    "# aplatie que la distribution normale : les observations sont plus concentrées.\n",
    "print(f'Chiffre d\\'affaires (arrondi) : {cpv.price.sum() : .0e}', '€')"
   ]
  },
  {
   "cell_type": "code",
   "execution_count": 3,
   "metadata": {
    "scrolled": false
   },
   "outputs": [
    {
     "data": {
      "image/png": "[encoded data removed]",
      "text/plain": [
       "<Figure size 432x288 with 1 Axes>"
      ]
     },
     "metadata": {},
     "output_type": "display_data"
    }
   ],
   "source": [
    "# Je reprends le graphique déjà utilisé de répartition des prix : \n",
    "plt.title('Répartition des prix (toutes catégories)')\n",
    "plt.xlabel('prix')\n",
    "plt.ylabel('Quantité')\n",
    "cpv['price'].hist(bins=20)\n",
    "\n",
    "plt.savefig('fig17.jpeg')"
   ]
  },
  {
   "cell_type": "markdown",
   "metadata": {},
   "source": [
    "#### Prix par catégorie"
   ]
  },
  {
   "cell_type": "markdown",
   "metadata": {},
   "source": [
    "##### Catégorie 0"
   ]
  },
  {
   "cell_type": "code",
   "execution_count": 5,
   "metadata": {},
   "outputs": [
    {
     "name": "stdout",
     "output_type": "stream",
     "text": [
      "Catégorie 0 : \n",
      "- Moyenne des prix: 10.65\n",
      "- Médiane: 9.99\n",
      "- Mode: 4.99\n",
      "- Min: 0.62\n",
      "- Max: 40.99\n",
      "- Variance: 24.30230205875296\n",
      "- Écart-type: 4.929736510073633\n",
      "- Coefficient de variation générale: 0.4630122487328891\n",
      "- Skewness empirique: 0.4271396950359897\n",
      "- Kurtosis empirique: -0.3700310009088872\n",
      "Chiffre d'affaires (arrondi) :  2.23e+06 €\n"
     ]
    }
   ],
   "source": [
    "cat0 = cpv[cpv['categ']==0]['price']\n",
    "\n",
    "print('Catégorie 0 : ')\n",
    "print(f\"- Moyenne des prix: {cat0.mean():.2f}\")\n",
    "print('- Médiane:', cat0.median())\n",
    "print('- Mode:', cat0.mode()[0])\n",
    "print('- Min:', cat0.min())\n",
    "print('- Max:', cat0.max())\n",
    "print('- Variance:', cat0.var())\n",
    "print('- Écart-type:', cat0.std())\n",
    "print('- Coefficient de variation générale:', cat0.std(ddof=0)/cat0.mean())\n",
    "print('- Skewness empirique:', cat0.skew()) # régularité (ou non) avec laquelle les observations se répartissent \n",
    "# autour de la valeur centrale; γ1>0 alors la distribution est étalée à droite;\n",
    "print('- Kurtosis empirique:', cat0.kurtosis()) # mesure d'aplatissement; γ2>0 , alors la distribution est moins \n",
    "# aplatie que la distribution normale : les observations sont plus concentrées.\n",
    "print(f'Chiffre d\\'affaires (arrondi) : {cat0.sum() : .2e}', '€')"
   ]
  },
  {
   "cell_type": "code",
   "execution_count": 6,
   "metadata": {},
   "outputs": [
    {
     "name": "stdout",
     "output_type": "stream",
     "text": [
      "Catégorie 1 : \n",
      "- Moyenne des prix: 20.48\n",
      "- Médiane: 19.08\n",
      "- Mode: 15.99\n",
      "- Min: 2.0\n",
      "- Max: 80.99\n",
      "- Variance: 57.29260059571928\n",
      "- Écart-type: 7.569187578315078\n",
      "- Coefficient de variation générale: 0.36958061357470795\n",
      "- Skewness empirique: 1.727168284476662\n",
      "- Kurtosis empirique: 8.152797423622884\n",
      "Chiffre d'affaires (arrondi) :  2.25e+06 €\n"
     ]
    }
   ],
   "source": [
    "cat1 = cpv[cpv['categ']==1]['price']\n",
    "\n",
    "print('Catégorie 1 : ')\n",
    "print(f\"- Moyenne des prix: {cat1.mean():.2f}\")\n",
    "print('- Médiane:', cat1.median())\n",
    "print('- Mode:', cat1.mode()[0])\n",
    "print('- Min:', cat1.min())\n",
    "print('- Max:', cat1.max())\n",
    "print('- Variance:', cat1.var())\n",
    "print('- Écart-type:', cat1.std())\n",
    "print('- Coefficient de variation générale:', cat1.std(ddof=0)/cat1.mean()) # Plus la valeur du coefficient de variation \n",
    "# est élevée, plus la dispersion autour de la moyenne est grande.\n",
    "print('- Skewness empirique:', cat1.skew()) # régularité (ou non) avec laquelle les observations se répartissent \n",
    "# autour de la valeur centrale; γ1>0 alors la distribution est étalée à droite;\n",
    "print('- Kurtosis empirique:', cat1.kurtosis()) # mesure d'aplatissement; γ2>0 , alors la distribution est moins \n",
    "# aplatie que la distribution normale : les observations sont plus concentrées.\n",
    "print(f'Chiffre d\\'affaires (arrondi) : {cat1.sum() : .2e}', '€')"
   ]
  },
  {
   "cell_type": "code",
   "execution_count": 7,
   "metadata": {},
   "outputs": [
    {
     "name": "stdout",
     "output_type": "stream",
     "text": [
      "Catégorie 2 : \n",
      "- Moyenne des prix: 75.19\n",
      "- Médiane: 62.83\n",
      "- Mode: 68.99\n",
      "- Min: 30.99\n",
      "- Max: 300.0\n",
      "- Variance: 1528.6318301421995\n",
      "- Écart-type: 39.09772154668606\n",
      "- Coefficient de variation générale: 0.519968904497272\n",
      "- Skewness empirique: 2.3143212706241654\n",
      "- Kurtosis empirique: 5.528654721731269\n",
      "Chiffre d'affaires (arrondi) :  1.32e+06 €\n"
     ]
    }
   ],
   "source": [
    "cat2 = cpv[cpv['categ']==2]['price']\n",
    "\n",
    "print('Catégorie 2 : ')\n",
    "print(f\"- Moyenne des prix: {cat2.mean():.2f}\")\n",
    "print('- Médiane:', cat2.median())\n",
    "print('- Mode:', cat2.mode()[0])\n",
    "print('- Min:', cat2.min())\n",
    "print('- Max:', cat2.max())\n",
    "print('- Variance:', cat2.var())\n",
    "print('- Écart-type:', cat2.std())\n",
    "print('- Coefficient de variation générale:', cat2.std(ddof=0)/cat2.mean())\n",
    "print('- Skewness empirique:', cat2.skew()) # régularité (ou non) avec laquelle les observations se répartissent \n",
    "# autour de la valeur centrale; γ1>0 alors la distribution est étalée à droite;\n",
    "print('- Kurtosis empirique:', cat2.kurtosis()) # mesure d'aplatissement; γ2>0 , alors la distribution est moins \n",
    "# aplatie que la distribution normale : les observations sont plus concentrées.\n",
    "print(f'Chiffre d\\'affaires (arrondi) : {cat2.sum() : .2e}', '€')"
   ]
  },
  {
   "cell_type": "code",
   "execution_count": 8,
   "metadata": {},
   "outputs": [
    {
     "data": {
      "image/png": "[encoded data removed]",
      "text/plain": [
       "<Figure size 432x288 with 1 Axes>"
      ]
     },
     "metadata": {},
     "output_type": "display_data"
    }
   ],
   "source": [
    "cat0.hist(bins=20)\n",
    "plt.title(f'Répartition des prix (cat. 0)')\n",
    "plt.xlabel('prix')\n",
    "plt.ylabel('Quantité')\n",
    "\n",
    "plt.savefig('fig18.jpeg')"
   ]
  },
  {
   "cell_type": "code",
   "execution_count": 9,
   "metadata": {},
   "outputs": [
    {
     "data": {
      "image/png": "[encoded data removed]",
      "text/plain": [
       "<Figure size 432x288 with 1 Axes>"
      ]
     },
     "metadata": {},
     "output_type": "display_data"
    }
   ],
   "source": [
    "cat1.hist(bins=20)\n",
    "plt.title('Répartition des prix (cat. 1)')\n",
    "plt.xlabel('prix')\n",
    "plt.ylabel('Quantité')\n",
    "\n",
    "plt.savefig('fig19.jpeg')"
   ]
  },
  {
   "cell_type": "code",
   "execution_count": 10,
   "metadata": {
    "scrolled": true
   },
   "outputs": [
    {
     "data": {
      "image/png": "[encoded data removed]",
      "text/plain": [
       "<Figure size 432x288 with 1 Axes>"
      ]
     },
     "metadata": {},
     "output_type": "display_data"
    }
   ],
   "source": [
    "cat2.hist(bins=20)\n",
    "plt.title('Répartition des prix (cat. 2)')\n",
    "plt.xlabel('prix')\n",
    "plt.ylabel('Quantité')\n",
    "\n",
    "plt.savefig('fig20.jpeg')"
   ]
  },
  {
   "cell_type": "markdown",
   "metadata": {},
   "source": [
    "### Chiffre d'affaires"
   ]
  },
  {
   "cell_type": "code",
   "execution_count": 5,
   "metadata": {},
   "outputs": [
    {
     "data": {
      "text/html": [
       "<div>\n",
       "<style scoped>\n",
       "    .dataframe tbody tr th:only-of-type {\n",
       "        vertical-align: middle;\n",
       "    }\n",
       "\n",
       "    .dataframe tbody tr th {\n",
       "        vertical-align: top;\n",
       "    }\n",
       "\n",
       "    .dataframe thead th {\n",
       "        text-align: right;\n",
       "    }\n",
       "</style>\n",
       "<table border=\"1\" class=\"dataframe\">\n",
       "  <thead>\n",
       "    <tr style=\"text-align: right;\">\n",
       "      <th></th>\n",
       "      <th>id_prod</th>\n",
       "      <th>date</th>\n",
       "      <th>session_id</th>\n",
       "      <th>client_id</th>\n",
       "      <th>price</th>\n",
       "      <th>categ</th>\n",
       "      <th>sex</th>\n",
       "      <th>birth</th>\n",
       "      <th>age</th>\n",
       "      <th>classe_age</th>\n",
       "    </tr>\n",
       "  </thead>\n",
       "  <tbody>\n",
       "    <tr>\n",
       "      <th>0</th>\n",
       "      <td>0_1483</td>\n",
       "      <td>2021-04-10 18:37:28.723910</td>\n",
       "      <td>s_18746</td>\n",
       "      <td>c_4450</td>\n",
       "      <td>4.99</td>\n",
       "      <td>0.0</td>\n",
       "      <td>f</td>\n",
       "      <td>1977.0</td>\n",
       "      <td>45.0</td>\n",
       "      <td>30-50</td>\n",
       "    </tr>\n",
       "    <tr>\n",
       "      <th>1</th>\n",
       "      <td>0_1085</td>\n",
       "      <td>2021-09-29 11:14:59.793823</td>\n",
       "      <td>s_97382</td>\n",
       "      <td>c_4450</td>\n",
       "      <td>3.99</td>\n",
       "      <td>0.0</td>\n",
       "      <td>f</td>\n",
       "      <td>1977.0</td>\n",
       "      <td>45.0</td>\n",
       "      <td>30-50</td>\n",
       "    </tr>\n",
       "    <tr>\n",
       "      <th>2</th>\n",
       "      <td>0_1453</td>\n",
       "      <td>2021-08-27 19:50:46.796939</td>\n",
       "      <td>s_81509</td>\n",
       "      <td>c_4450</td>\n",
       "      <td>7.99</td>\n",
       "      <td>0.0</td>\n",
       "      <td>f</td>\n",
       "      <td>1977.0</td>\n",
       "      <td>45.0</td>\n",
       "      <td>30-50</td>\n",
       "    </tr>\n",
       "    <tr>\n",
       "      <th>3</th>\n",
       "      <td>0_1405</td>\n",
       "      <td>2021-08-27 20:07:25.878440</td>\n",
       "      <td>s_81509</td>\n",
       "      <td>c_4450</td>\n",
       "      <td>4.99</td>\n",
       "      <td>0.0</td>\n",
       "      <td>f</td>\n",
       "      <td>1977.0</td>\n",
       "      <td>45.0</td>\n",
       "      <td>30-50</td>\n",
       "    </tr>\n",
       "    <tr>\n",
       "      <th>4</th>\n",
       "      <td>0_1392</td>\n",
       "      <td>2021-12-28 11:45:04.072281</td>\n",
       "      <td>s_141302</td>\n",
       "      <td>c_4450</td>\n",
       "      <td>6.30</td>\n",
       "      <td>0.0</td>\n",
       "      <td>f</td>\n",
       "      <td>1977.0</td>\n",
       "      <td>45.0</td>\n",
       "      <td>30-50</td>\n",
       "    </tr>\n",
       "  </tbody>\n",
       "</table>\n",
       "</div>"
      ],
      "text/plain": [
       "  id_prod                       date session_id client_id  price  categ sex  \\\n",
       "0  0_1483 2021-04-10 18:37:28.723910    s_18746    c_4450   4.99    0.0   f   \n",
       "1  0_1085 2021-09-29 11:14:59.793823    s_97382    c_4450   3.99    0.0   f   \n",
       "2  0_1453 2021-08-27 19:50:46.796939    s_81509    c_4450   7.99    0.0   f   \n",
       "3  0_1405 2021-08-27 20:07:25.878440    s_81509    c_4450   4.99    0.0   f   \n",
       "4  0_1392 2021-12-28 11:45:04.072281   s_141302    c_4450   6.30    0.0   f   \n",
       "\n",
       "    birth   age classe_age  \n",
       "0  1977.0  45.0      30-50  \n",
       "1  1977.0  45.0      30-50  \n",
       "2  1977.0  45.0      30-50  \n",
       "3  1977.0  45.0      30-50  \n",
       "4  1977.0  45.0      30-50  "
      ]
     },
     "execution_count": 5,
     "metadata": {},
     "output_type": "execute_result"
    }
   ],
   "source": [
    "cpv.head()"
   ]
  },
  {
   "cell_type": "code",
   "execution_count": 7,
   "metadata": {},
   "outputs": [
    {
     "data": {
      "text/html": [
       "<div>\n",
       "<style scoped>\n",
       "    .dataframe tbody tr th:only-of-type {\n",
       "        vertical-align: middle;\n",
       "    }\n",
       "\n",
       "    .dataframe tbody tr th {\n",
       "        vertical-align: top;\n",
       "    }\n",
       "\n",
       "    .dataframe thead tr th {\n",
       "        text-align: left;\n",
       "    }\n",
       "</style>\n",
       "<table border=\"1\" class=\"dataframe\">\n",
       "  <thead>\n",
       "    <tr>\n",
       "      <th></th>\n",
       "      <th>classe_age</th>\n",
       "      <th colspan=\"3\" halign=\"left\">price</th>\n",
       "    </tr>\n",
       "    <tr>\n",
       "      <th></th>\n",
       "      <th></th>\n",
       "      <th>mean</th>\n",
       "      <th>count</th>\n",
       "      <th>sum</th>\n",
       "    </tr>\n",
       "  </thead>\n",
       "  <tbody>\n",
       "    <tr>\n",
       "      <th>0</th>\n",
       "      <td>18-30</td>\n",
       "      <td>41.203531</td>\n",
       "      <td>35979</td>\n",
       "      <td>1.482462e+06</td>\n",
       "    </tr>\n",
       "    <tr>\n",
       "      <th>1</th>\n",
       "      <td>30-50</td>\n",
       "      <td>13.423479</td>\n",
       "      <td>204380</td>\n",
       "      <td>2.743491e+06</td>\n",
       "    </tr>\n",
       "    <tr>\n",
       "      <th>2</th>\n",
       "      <td>50+</td>\n",
       "      <td>16.294535</td>\n",
       "      <td>96457</td>\n",
       "      <td>1.571722e+06</td>\n",
       "    </tr>\n",
       "  </tbody>\n",
       "</table>\n",
       "</div>"
      ],
      "text/plain": [
       "  classe_age      price                      \n",
       "                   mean   count           sum\n",
       "0      18-30  41.203531   35979  1.482462e+06\n",
       "1      30-50  13.423479  204380  2.743491e+06\n",
       "2        50+  16.294535   96457  1.571722e+06"
      ]
     },
     "execution_count": 7,
     "metadata": {},
     "output_type": "execute_result"
    }
   ],
   "source": [
    "cac = cpv.groupby('classe_age').agg({'price': ['mean', 'count', 'sum']}).reset_index()\n",
    "cac"
   ]
  },
  {
   "cell_type": "code",
   "execution_count": null,
   "metadata": {},
   "outputs": [],
   "source": []
  },
  {
   "cell_type": "code",
   "execution_count": 12,
   "metadata": {
    "scrolled": true
   },
   "outputs": [
    {
     "data": {
      "text/html": [
       "<div>\n",
       "<style scoped>\n",
       "    .dataframe tbody tr th:only-of-type {\n",
       "        vertical-align: middle;\n",
       "    }\n",
       "\n",
       "    .dataframe tbody tr th {\n",
       "        vertical-align: top;\n",
       "    }\n",
       "\n",
       "    .dataframe thead tr th {\n",
       "        text-align: left;\n",
       "    }\n",
       "</style>\n",
       "<table border=\"1\" class=\"dataframe\">\n",
       "  <thead>\n",
       "    <tr>\n",
       "      <th></th>\n",
       "      <th>categ</th>\n",
       "      <th colspan=\"3\" halign=\"left\">price</th>\n",
       "    </tr>\n",
       "    <tr>\n",
       "      <th></th>\n",
       "      <th></th>\n",
       "      <th>mean</th>\n",
       "      <th>count</th>\n",
       "      <th>sum</th>\n",
       "    </tr>\n",
       "  </thead>\n",
       "  <tbody>\n",
       "    <tr>\n",
       "      <th>0</th>\n",
       "      <td>0.0</td>\n",
       "      <td>10.647072</td>\n",
       "      <td>209546</td>\n",
       "      <td>2.231051e+06</td>\n",
       "    </tr>\n",
       "    <tr>\n",
       "      <th>1</th>\n",
       "      <td>1.0</td>\n",
       "      <td>20.480385</td>\n",
       "      <td>109737</td>\n",
       "      <td>2.247456e+06</td>\n",
       "    </tr>\n",
       "    <tr>\n",
       "      <th>2</th>\n",
       "      <td>2.0</td>\n",
       "      <td>75.190281</td>\n",
       "      <td>17555</td>\n",
       "      <td>1.319965e+06</td>\n",
       "    </tr>\n",
       "  </tbody>\n",
       "</table>\n",
       "</div>"
      ],
      "text/plain": [
       "  categ      price                      \n",
       "              mean   count           sum\n",
       "0   0.0  10.647072  209546  2.231051e+06\n",
       "1   1.0  20.480385  109737  2.247456e+06\n",
       "2   2.0  75.190281   17555  1.319965e+06"
      ]
     },
     "execution_count": 12,
     "metadata": {},
     "output_type": "execute_result"
    }
   ],
   "source": [
    "ppc = cpv.groupby('categ').agg({'price': ['mean', 'count', 'sum']}).reset_index()\n",
    "ppc"
   ]
  },
  {
   "cell_type": "code",
   "execution_count": 13,
   "metadata": {},
   "outputs": [],
   "source": [
    "ppc.columns = ['categ', 'mean', 'quantité', 'ca']"
   ]
  },
  {
   "cell_type": "code",
   "execution_count": 21,
   "metadata": {},
   "outputs": [
    {
     "data": {
      "text/html": [
       "<div>\n",
       "<style scoped>\n",
       "    .dataframe tbody tr th:only-of-type {\n",
       "        vertical-align: middle;\n",
       "    }\n",
       "\n",
       "    .dataframe tbody tr th {\n",
       "        vertical-align: top;\n",
       "    }\n",
       "\n",
       "    .dataframe thead th {\n",
       "        text-align: right;\n",
       "    }\n",
       "</style>\n",
       "<table border=\"1\" class=\"dataframe\">\n",
       "  <thead>\n",
       "    <tr style=\"text-align: right;\">\n",
       "      <th></th>\n",
       "      <th>categ</th>\n",
       "      <th>mean</th>\n",
       "      <th>quantité</th>\n",
       "      <th>ca</th>\n",
       "    </tr>\n",
       "  </thead>\n",
       "  <tbody>\n",
       "    <tr>\n",
       "      <th>0</th>\n",
       "      <td>0.0</td>\n",
       "      <td>10.647072</td>\n",
       "      <td>209546</td>\n",
       "      <td>2.231051e+06</td>\n",
       "    </tr>\n",
       "    <tr>\n",
       "      <th>1</th>\n",
       "      <td>1.0</td>\n",
       "      <td>20.480385</td>\n",
       "      <td>109737</td>\n",
       "      <td>2.247456e+06</td>\n",
       "    </tr>\n",
       "    <tr>\n",
       "      <th>2</th>\n",
       "      <td>2.0</td>\n",
       "      <td>75.190281</td>\n",
       "      <td>17555</td>\n",
       "      <td>1.319965e+06</td>\n",
       "    </tr>\n",
       "  </tbody>\n",
       "</table>\n",
       "</div>"
      ],
      "text/plain": [
       "   categ       mean  quantité            ca\n",
       "0    0.0  10.647072    209546  2.231051e+06\n",
       "1    1.0  20.480385    109737  2.247456e+06\n",
       "2    2.0  75.190281     17555  1.319965e+06"
      ]
     },
     "execution_count": 21,
     "metadata": {},
     "output_type": "execute_result"
    }
   ],
   "source": [
    "ppc"
   ]
  },
  {
   "cell_type": "code",
   "execution_count": 88,
   "metadata": {},
   "outputs": [
    {
     "name": "stdout",
     "output_type": "stream",
     "text": [
      "Sur la période, le CA global est de 5798472.68841556 € (environ 6e+06 €).\n",
      "- cat 0 :  2.23e+06 €\n",
      "- cat 1 :  2.25e+06 €\n",
      "- cat 2 :  1.32e+06 €\n"
     ]
    }
   ],
   "source": [
    "print(f\"Sur la période, le CA global est de {cpv.price.sum():} € (environ{cpv.price.sum(): .0e} €).\")\n",
    "print(f'- cat 0 : {cat0.sum() : .2e}', '€')\n",
    "print(f'- cat 1 : {cat1.sum() : .2e}', '€')\n",
    "print(f'- cat 2 : {cat2.sum() : .2e}', '€')"
   ]
  },
  {
   "cell_type": "code",
   "execution_count": 24,
   "metadata": {},
   "outputs": [
    {
     "data": {
      "image/png": "[encoded data removed]",
      "text/plain": [
       "<Figure size 576x288 with 2 Axes>"
      ]
     },
     "metadata": {},
     "output_type": "display_data"
    }
   ],
   "source": [
    "# Visualisation avec des pieplot\n",
    "fig = plt.figure(figsize=(8, 4))\n",
    "fig.suptitle(\"Répartition des ventes par catégorie, en volume et en CA\", fontsize=14, y= 1.1)\n",
    "\n",
    "ax1 = fig.add_subplot(121)\n",
    "ax2 = fig.add_subplot(122)\n",
    "\n",
    "ax1.pie(ppc.quantité, \n",
    "       labels=[\"cat 0\", \"cat 1\", \"cat 2\"],\n",
    "       autopct='%1.0f%%',\n",
    "       startangle=90\n",
    "      )\n",
    "ax1.axis('equal')  # Equal aspect ratio ensures that pie is drawn as a circle.\n",
    "ax1.set_title('Volume des ventes')\n",
    "\n",
    "ax2.pie(ppc.ca, \n",
    "       labels=[\"cat 0\", \"cat 1\", \"cat 2\"], \n",
    "       autopct='%1.0f%%', \n",
    "       startangle=90\n",
    "      )\n",
    "ax2.axis('equal')  # Equal aspect ratio ensures that pie is drawn as a circle.\n",
    "ax2.set_title('Chiffre d\\'affaire')\n",
    "\n",
    "plt.subplots_adjust(wspace=0.4,hspace=0)\n",
    "\n",
    "plt.savefig('fig21.jpeg')"
   ]
  },
  {
   "cell_type": "code",
   "execution_count": 25,
   "metadata": {},
   "outputs": [
    {
     "data": {
      "image/png": "[encoded data removed]",
      "text/plain": [
       "<Figure size 576x288 with 2 Axes>"
      ]
     },
     "metadata": {},
     "output_type": "display_data"
    }
   ],
   "source": [
    "fig = plt.figure(figsize=(8, 4))\n",
    "\n",
    "ax1 = fig.add_subplot(121)\n",
    "ax2 = fig.add_subplot(122)\n",
    "\n",
    "ax1.bar(ppc.categ, ppc.quantité)\n",
    "ax1.set_xlabel('catégories')\n",
    "ax1.set_ylabel('volume')\n",
    "ax1.set_title('Volume des ventes par catégorie')\n",
    "\n",
    "ax2.bar(ppc.categ, ppc.ca)\n",
    "ax2.set_xlabel('catégories')\n",
    "ax2.set_ylabel('CA')\n",
    "ax2.set_title('CA par catégorie')\n",
    "\n",
    "plt.subplots_adjust(wspace=0.6,hspace=0)\n",
    "\n",
    "plt.savefig('fig22.jpeg')"
   ]
  },
  {
   "cell_type": "markdown",
   "metadata": {},
   "source": [
    "##### Si on ne prend pas en compte le mois d'octobre"
   ]
  },
  {
   "cell_type": "code",
   "execution_count": 10,
   "metadata": {},
   "outputs": [
    {
     "data": {
      "text/html": [
       "<div>\n",
       "<style scoped>\n",
       "    .dataframe tbody tr th:only-of-type {\n",
       "        vertical-align: middle;\n",
       "    }\n",
       "\n",
       "    .dataframe tbody tr th {\n",
       "        vertical-align: top;\n",
       "    }\n",
       "\n",
       "    .dataframe thead th {\n",
       "        text-align: right;\n",
       "    }\n",
       "</style>\n",
       "<table border=\"1\" class=\"dataframe\">\n",
       "  <thead>\n",
       "    <tr style=\"text-align: right;\">\n",
       "      <th></th>\n",
       "      <th>id_prod</th>\n",
       "      <th>date</th>\n",
       "      <th>session_id</th>\n",
       "      <th>client_id</th>\n",
       "      <th>price</th>\n",
       "      <th>categ</th>\n",
       "      <th>sex</th>\n",
       "      <th>birth</th>\n",
       "      <th>age</th>\n",
       "      <th>classe_age</th>\n",
       "    </tr>\n",
       "  </thead>\n",
       "  <tbody>\n",
       "    <tr>\n",
       "      <th>0</th>\n",
       "      <td>0_1483</td>\n",
       "      <td>2021-04-10 18:37:28.723910</td>\n",
       "      <td>s_18746</td>\n",
       "      <td>c_4450</td>\n",
       "      <td>4.99</td>\n",
       "      <td>0.0</td>\n",
       "      <td>f</td>\n",
       "      <td>1977.0</td>\n",
       "      <td>45.0</td>\n",
       "      <td>30-50</td>\n",
       "    </tr>\n",
       "    <tr>\n",
       "      <th>1</th>\n",
       "      <td>0_1085</td>\n",
       "      <td>2021-09-29 11:14:59.793823</td>\n",
       "      <td>s_97382</td>\n",
       "      <td>c_4450</td>\n",
       "      <td>3.99</td>\n",
       "      <td>0.0</td>\n",
       "      <td>f</td>\n",
       "      <td>1977.0</td>\n",
       "      <td>45.0</td>\n",
       "      <td>30-50</td>\n",
       "    </tr>\n",
       "    <tr>\n",
       "      <th>2</th>\n",
       "      <td>0_1453</td>\n",
       "      <td>2021-08-27 19:50:46.796939</td>\n",
       "      <td>s_81509</td>\n",
       "      <td>c_4450</td>\n",
       "      <td>7.99</td>\n",
       "      <td>0.0</td>\n",
       "      <td>f</td>\n",
       "      <td>1977.0</td>\n",
       "      <td>45.0</td>\n",
       "      <td>30-50</td>\n",
       "    </tr>\n",
       "    <tr>\n",
       "      <th>3</th>\n",
       "      <td>0_1405</td>\n",
       "      <td>2021-08-27 20:07:25.878440</td>\n",
       "      <td>s_81509</td>\n",
       "      <td>c_4450</td>\n",
       "      <td>4.99</td>\n",
       "      <td>0.0</td>\n",
       "      <td>f</td>\n",
       "      <td>1977.0</td>\n",
       "      <td>45.0</td>\n",
       "      <td>30-50</td>\n",
       "    </tr>\n",
       "    <tr>\n",
       "      <th>4</th>\n",
       "      <td>0_1392</td>\n",
       "      <td>2021-12-28 11:45:04.072281</td>\n",
       "      <td>s_141302</td>\n",
       "      <td>c_4450</td>\n",
       "      <td>6.30</td>\n",
       "      <td>0.0</td>\n",
       "      <td>f</td>\n",
       "      <td>1977.0</td>\n",
       "      <td>45.0</td>\n",
       "      <td>30-50</td>\n",
       "    </tr>\n",
       "  </tbody>\n",
       "</table>\n",
       "</div>"
      ],
      "text/plain": [
       "  id_prod                        date session_id client_id  price  categ sex  \\\n",
       "0  0_1483  2021-04-10 18:37:28.723910    s_18746    c_4450   4.99    0.0   f   \n",
       "1  0_1085  2021-09-29 11:14:59.793823    s_97382    c_4450   3.99    0.0   f   \n",
       "2  0_1453  2021-08-27 19:50:46.796939    s_81509    c_4450   7.99    0.0   f   \n",
       "3  0_1405  2021-08-27 20:07:25.878440    s_81509    c_4450   4.99    0.0   f   \n",
       "4  0_1392  2021-12-28 11:45:04.072281   s_141302    c_4450   6.30    0.0   f   \n",
       "\n",
       "    birth   age classe_age  \n",
       "0  1977.0  45.0      30-50  \n",
       "1  1977.0  45.0      30-50  \n",
       "2  1977.0  45.0      30-50  \n",
       "3  1977.0  45.0      30-50  \n",
       "4  1977.0  45.0      30-50  "
      ]
     },
     "execution_count": 10,
     "metadata": {},
     "output_type": "execute_result"
    }
   ],
   "source": [
    "cpv.head()"
   ]
  },
  {
   "cell_type": "code",
   "execution_count": 50,
   "metadata": {},
   "outputs": [],
   "source": [
    "ppc_ss_oct = cpv[['date','price','categ']].set_index('date')"
   ]
  },
  {
   "cell_type": "code",
   "execution_count": 51,
   "metadata": {},
   "outputs": [],
   "source": [
    "# Je passe l'index en datetime\n",
    "ppc_ss_oct.index = pd.to_datetime(ppc_ss_oct.index)"
   ]
  },
  {
   "cell_type": "code",
   "execution_count": 53,
   "metadata": {},
   "outputs": [],
   "source": [
    "ppc_ss_oct = ppc_ss_oct.to_period(freq='M')"
   ]
  },
  {
   "cell_type": "code",
   "execution_count": 55,
   "metadata": {},
   "outputs": [],
   "source": [
    "ppc_ss_oct = ppc_ss_oct[ppc_ss_oct.index!='2021-10'].reset_index()"
   ]
  },
  {
   "cell_type": "code",
   "execution_count": 70,
   "metadata": {},
   "outputs": [
    {
     "data": {
      "text/html": [
       "<div>\n",
       "<style scoped>\n",
       "    .dataframe tbody tr th:only-of-type {\n",
       "        vertical-align: middle;\n",
       "    }\n",
       "\n",
       "    .dataframe tbody tr th {\n",
       "        vertical-align: top;\n",
       "    }\n",
       "\n",
       "    .dataframe thead tr th {\n",
       "        text-align: left;\n",
       "    }\n",
       "</style>\n",
       "<table border=\"1\" class=\"dataframe\">\n",
       "  <thead>\n",
       "    <tr>\n",
       "      <th></th>\n",
       "      <th>categ</th>\n",
       "      <th colspan=\"3\" halign=\"left\">price</th>\n",
       "    </tr>\n",
       "    <tr>\n",
       "      <th></th>\n",
       "      <th></th>\n",
       "      <th>mean</th>\n",
       "      <th>count</th>\n",
       "      <th>sum</th>\n",
       "    </tr>\n",
       "  </thead>\n",
       "  <tbody>\n",
       "    <tr>\n",
       "      <th>0</th>\n",
       "      <td>0.0</td>\n",
       "      <td>10.649301</td>\n",
       "      <td>190788</td>\n",
       "      <td>2.031759e+06</td>\n",
       "    </tr>\n",
       "    <tr>\n",
       "      <th>1</th>\n",
       "      <td>1.0</td>\n",
       "      <td>20.483697</td>\n",
       "      <td>108071</td>\n",
       "      <td>2.213694e+06</td>\n",
       "    </tr>\n",
       "    <tr>\n",
       "      <th>2</th>\n",
       "      <td>2.0</td>\n",
       "      <td>75.253777</td>\n",
       "      <td>16395</td>\n",
       "      <td>1.233786e+06</td>\n",
       "    </tr>\n",
       "  </tbody>\n",
       "</table>\n",
       "</div>"
      ],
      "text/plain": [
       "  categ      price                      \n",
       "              mean   count           sum\n",
       "0   0.0  10.649301  190788  2.031759e+06\n",
       "1   1.0  20.483697  108071  2.213694e+06\n",
       "2   2.0  75.253777   16395  1.233786e+06"
      ]
     },
     "execution_count": 70,
     "metadata": {},
     "output_type": "execute_result"
    }
   ],
   "source": [
    "ppc_ss_oct = ppc_ss_oct.groupby('categ').agg({'price': ['mean', 'count', 'sum']}).reset_index()\n",
    "ppc_ss_oct"
   ]
  },
  {
   "cell_type": "code",
   "execution_count": 71,
   "metadata": {},
   "outputs": [],
   "source": [
    "ppc_ss_oct.columns = ['categ', 'mean', 'quantité', 'ca']"
   ]
  },
  {
   "cell_type": "code",
   "execution_count": 72,
   "metadata": {},
   "outputs": [
    {
     "data": {
      "image/png": "[encoded data removed]",
      "text/plain": [
       "<Figure size 576x288 with 2 Axes>"
      ]
     },
     "metadata": {},
     "output_type": "display_data"
    }
   ],
   "source": [
    "# Visualisation avec des pieplot\n",
    "fig = plt.figure(figsize=(8, 4))\n",
    "\n",
    "ax1 = fig.add_subplot(121)\n",
    "ax2 = fig.add_subplot(122)\n",
    "\n",
    "ax1.pie(ppc_ss_oct.quantité, \n",
    "       labels=[\"cat 0\", \"cat 1\", \"cat 2\"],\n",
    "       autopct='%1.0f%%',\n",
    "       startangle=90\n",
    "      )\n",
    "ax1.axis('equal')  # Equal aspect ratio ensures that pie is drawn as a circle.\n",
    "ax1.set_title('Volume des ventes par catégorie')\n",
    "\n",
    "ax2.pie(ppc_ss_oct.ca, \n",
    "       labels=[\"cat 0\", \"cat 1\", \"cat 2\"], \n",
    "       autopct='%1.0f%%', \n",
    "       startangle=90\n",
    "      )\n",
    "ax2.axis('equal')  # Equal aspect ratio ensures that pie is drawn as a circle.\n",
    "ax2.set_title('CA par catégorie')\n",
    "\n",
    "plt.subplots_adjust(wspace=0.4,hspace=0)\n",
    "\n",
    "# plt.savefig('fig38.jpg')"
   ]
  },
  {
   "cell_type": "markdown",
   "metadata": {},
   "source": [
    "La différence est négligeable dans le cadre de cette analyse. "
   ]
  },
  {
   "cell_type": "markdown",
   "metadata": {},
   "source": [
    "#### CA sur l'année"
   ]
  },
  {
   "cell_type": "code",
   "execution_count": 111,
   "metadata": {},
   "outputs": [
    {
     "data": {
      "text/html": [
       "<div>\n",
       "<style scoped>\n",
       "    .dataframe tbody tr th:only-of-type {\n",
       "        vertical-align: middle;\n",
       "    }\n",
       "\n",
       "    .dataframe tbody tr th {\n",
       "        vertical-align: top;\n",
       "    }\n",
       "\n",
       "    .dataframe thead th {\n",
       "        text-align: right;\n",
       "    }\n",
       "</style>\n",
       "<table border=\"1\" class=\"dataframe\">\n",
       "  <thead>\n",
       "    <tr style=\"text-align: right;\">\n",
       "      <th></th>\n",
       "      <th>id_prod</th>\n",
       "      <th>date</th>\n",
       "      <th>session_id</th>\n",
       "      <th>client_id</th>\n",
       "      <th>price</th>\n",
       "      <th>categ</th>\n",
       "      <th>sex</th>\n",
       "      <th>birth</th>\n",
       "      <th>age</th>\n",
       "      <th>classe_age</th>\n",
       "    </tr>\n",
       "  </thead>\n",
       "  <tbody>\n",
       "    <tr>\n",
       "      <th>0</th>\n",
       "      <td>0_1483</td>\n",
       "      <td>2021-04-10 18:37:28.723910</td>\n",
       "      <td>s_18746</td>\n",
       "      <td>c_4450</td>\n",
       "      <td>4.99</td>\n",
       "      <td>0.0</td>\n",
       "      <td>f</td>\n",
       "      <td>1977.0</td>\n",
       "      <td>45.0</td>\n",
       "      <td>30-50</td>\n",
       "    </tr>\n",
       "    <tr>\n",
       "      <th>1</th>\n",
       "      <td>0_1085</td>\n",
       "      <td>2021-09-29 11:14:59.793823</td>\n",
       "      <td>s_97382</td>\n",
       "      <td>c_4450</td>\n",
       "      <td>3.99</td>\n",
       "      <td>0.0</td>\n",
       "      <td>f</td>\n",
       "      <td>1977.0</td>\n",
       "      <td>45.0</td>\n",
       "      <td>30-50</td>\n",
       "    </tr>\n",
       "    <tr>\n",
       "      <th>2</th>\n",
       "      <td>0_1453</td>\n",
       "      <td>2021-08-27 19:50:46.796939</td>\n",
       "      <td>s_81509</td>\n",
       "      <td>c_4450</td>\n",
       "      <td>7.99</td>\n",
       "      <td>0.0</td>\n",
       "      <td>f</td>\n",
       "      <td>1977.0</td>\n",
       "      <td>45.0</td>\n",
       "      <td>30-50</td>\n",
       "    </tr>\n",
       "    <tr>\n",
       "      <th>3</th>\n",
       "      <td>0_1405</td>\n",
       "      <td>2021-08-27 20:07:25.878440</td>\n",
       "      <td>s_81509</td>\n",
       "      <td>c_4450</td>\n",
       "      <td>4.99</td>\n",
       "      <td>0.0</td>\n",
       "      <td>f</td>\n",
       "      <td>1977.0</td>\n",
       "      <td>45.0</td>\n",
       "      <td>30-50</td>\n",
       "    </tr>\n",
       "    <tr>\n",
       "      <th>4</th>\n",
       "      <td>0_1392</td>\n",
       "      <td>2021-12-28 11:45:04.072281</td>\n",
       "      <td>s_141302</td>\n",
       "      <td>c_4450</td>\n",
       "      <td>6.30</td>\n",
       "      <td>0.0</td>\n",
       "      <td>f</td>\n",
       "      <td>1977.0</td>\n",
       "      <td>45.0</td>\n",
       "      <td>30-50</td>\n",
       "    </tr>\n",
       "  </tbody>\n",
       "</table>\n",
       "</div>"
      ],
      "text/plain": [
       "  id_prod                       date session_id client_id  price  categ sex  \\\n",
       "0  0_1483 2021-04-10 18:37:28.723910    s_18746    c_4450   4.99    0.0   f   \n",
       "1  0_1085 2021-09-29 11:14:59.793823    s_97382    c_4450   3.99    0.0   f   \n",
       "2  0_1453 2021-08-27 19:50:46.796939    s_81509    c_4450   7.99    0.0   f   \n",
       "3  0_1405 2021-08-27 20:07:25.878440    s_81509    c_4450   4.99    0.0   f   \n",
       "4  0_1392 2021-12-28 11:45:04.072281   s_141302    c_4450   6.30    0.0   f   \n",
       "\n",
       "    birth   age classe_age  \n",
       "0  1977.0  45.0      30-50  \n",
       "1  1977.0  45.0      30-50  \n",
       "2  1977.0  45.0      30-50  \n",
       "3  1977.0  45.0      30-50  \n",
       "4  1977.0  45.0      30-50  "
      ]
     },
     "execution_count": 111,
     "metadata": {},
     "output_type": "execute_result"
    }
   ],
   "source": [
    "cpv.head()"
   ]
  },
  {
   "cell_type": "code",
   "execution_count": 18,
   "metadata": {},
   "outputs": [
    {
     "data": {
      "text/html": [
       "<div>\n",
       "<style scoped>\n",
       "    .dataframe tbody tr th:only-of-type {\n",
       "        vertical-align: middle;\n",
       "    }\n",
       "\n",
       "    .dataframe tbody tr th {\n",
       "        vertical-align: top;\n",
       "    }\n",
       "\n",
       "    .dataframe thead th {\n",
       "        text-align: right;\n",
       "    }\n",
       "</style>\n",
       "<table border=\"1\" class=\"dataframe\">\n",
       "  <thead>\n",
       "    <tr style=\"text-align: right;\">\n",
       "      <th></th>\n",
       "      <th>id_prod</th>\n",
       "      <th>nb_ventes</th>\n",
       "      <th>ca</th>\n",
       "    </tr>\n",
       "  </thead>\n",
       "  <tbody>\n",
       "    <tr>\n",
       "      <th>0</th>\n",
       "      <td>0_0</td>\n",
       "      <td>611</td>\n",
       "      <td>2291.25</td>\n",
       "    </tr>\n",
       "    <tr>\n",
       "      <th>1</th>\n",
       "      <td>0_1</td>\n",
       "      <td>249</td>\n",
       "      <td>2736.51</td>\n",
       "    </tr>\n",
       "    <tr>\n",
       "      <th>2</th>\n",
       "      <td>0_10</td>\n",
       "      <td>12</td>\n",
       "      <td>215.40</td>\n",
       "    </tr>\n",
       "    <tr>\n",
       "      <th>3</th>\n",
       "      <td>0_100</td>\n",
       "      <td>2</td>\n",
       "      <td>41.20</td>\n",
       "    </tr>\n",
       "    <tr>\n",
       "      <th>4</th>\n",
       "      <td>0_1000</td>\n",
       "      <td>222</td>\n",
       "      <td>1518.48</td>\n",
       "    </tr>\n",
       "  </tbody>\n",
       "</table>\n",
       "</div>"
      ],
      "text/plain": [
       "  id_prod  nb_ventes       ca\n",
       "0     0_0        611  2291.25\n",
       "1     0_1        249  2736.51\n",
       "2    0_10         12   215.40\n",
       "3   0_100          2    41.20\n",
       "4  0_1000        222  1518.48"
      ]
     },
     "execution_count": 18,
     "metadata": {},
     "output_type": "execute_result"
    }
   ],
   "source": [
    "# Je calcule le nombre de ventes et le CA par produit\n",
    "prodagg = cpv[['id_prod', 'price']].groupby('id_prod').agg({'price': ['count', 'sum']}).reset_index()\n",
    "prodagg.columns = ['id_prod', 'nb_ventes', 'ca']\n",
    "prodagg.head()"
   ]
  },
  {
   "cell_type": "code",
   "execution_count": 19,
   "metadata": {
    "scrolled": true
   },
   "outputs": [
    {
     "data": {
      "text/html": [
       "<div>\n",
       "<style scoped>\n",
       "    .dataframe tbody tr th:only-of-type {\n",
       "        vertical-align: middle;\n",
       "    }\n",
       "\n",
       "    .dataframe tbody tr th {\n",
       "        vertical-align: top;\n",
       "    }\n",
       "\n",
       "    .dataframe thead th {\n",
       "        text-align: right;\n",
       "    }\n",
       "</style>\n",
       "<table border=\"1\" class=\"dataframe\">\n",
       "  <thead>\n",
       "    <tr style=\"text-align: right;\">\n",
       "      <th></th>\n",
       "      <th>id_prod</th>\n",
       "      <th>date</th>\n",
       "      <th>session_id</th>\n",
       "      <th>client_id</th>\n",
       "      <th>price</th>\n",
       "      <th>categ</th>\n",
       "      <th>sex</th>\n",
       "      <th>birth</th>\n",
       "      <th>age</th>\n",
       "      <th>classe_age</th>\n",
       "    </tr>\n",
       "  </thead>\n",
       "  <tbody>\n",
       "    <tr>\n",
       "      <th>22259</th>\n",
       "      <td>0_100</td>\n",
       "      <td>2021-09-17 01:55:36.439809</td>\n",
       "      <td>s_91041</td>\n",
       "      <td>c_5894</td>\n",
       "      <td>20.6</td>\n",
       "      <td>0.0</td>\n",
       "      <td>m</td>\n",
       "      <td>1975.0</td>\n",
       "      <td>47.0</td>\n",
       "      <td>30-50</td>\n",
       "    </tr>\n",
       "    <tr>\n",
       "      <th>312068</th>\n",
       "      <td>0_100</td>\n",
       "      <td>2021-11-06 20:52:21.946694</td>\n",
       "      <td>s_115753</td>\n",
       "      <td>c_2035</td>\n",
       "      <td>20.6</td>\n",
       "      <td>0.0</td>\n",
       "      <td>f</td>\n",
       "      <td>1976.0</td>\n",
       "      <td>46.0</td>\n",
       "      <td>30-50</td>\n",
       "    </tr>\n",
       "  </tbody>\n",
       "</table>\n",
       "</div>"
      ],
      "text/plain": [
       "       id_prod                       date session_id client_id  price  categ  \\\n",
       "22259    0_100 2021-09-17 01:55:36.439809    s_91041    c_5894   20.6    0.0   \n",
       "312068   0_100 2021-11-06 20:52:21.946694   s_115753    c_2035   20.6    0.0   \n",
       "\n",
       "       sex   birth   age classe_age  \n",
       "22259    m  1975.0  47.0      30-50  \n",
       "312068   f  1976.0  46.0      30-50  "
      ]
     },
     "execution_count": 19,
     "metadata": {},
     "output_type": "execute_result"
    }
   ],
   "source": [
    "# Vérification avec le produit 0_100\n",
    "cpv[cpv.id_prod=='0_100']"
   ]
  },
  {
   "cell_type": "markdown",
   "metadata": {},
   "source": [
    "#### Courbe de Lorenz pour mieux comprendre le chiffres d'affaires"
   ]
  },
  {
   "cell_type": "code",
   "execution_count": 22,
   "metadata": {},
   "outputs": [
    {
     "data": {
      "image/png": "[encoded data removed]",
      "text/plain": [
       "<Figure size 504x288 with 1 Axes>"
      ]
     },
     "metadata": {},
     "output_type": "display_data"
    }
   ],
   "source": [
    "fig = plt.figure(figsize=(7, 4))\n",
    "\n",
    "# Courbe de Lorenz \n",
    "CA = prodagg['ca']\n",
    "\n",
    "lorenz = np.cumsum(np.sort(CA)) / CA.sum()\n",
    "lorenz = np.append([0], lorenz) # La courbe de Lorenz commence à 0\n",
    "\n",
    "plt.plot(np.linspace(0, 1, len(lorenz)), lorenz, drawstyle = 'steps-post')\n",
    "plt.plot([0,1], [0,1], color='orange', linestyle = '--') ## line plot of equality\n",
    "\n",
    "plt.xlabel('part cumulée des produits')\n",
    "plt.ylabel('chiffre d\\'affaire')\n",
    "\n",
    "plt.ylim(0, 1)\n",
    "plt.xlim(0, 1)\n",
    "\n",
    "plt.grid()\n",
    "\n",
    "plt.title('Courbe de Lorenz pour le chiffre d\\'affaire')\n",
    "\n",
    "# ligne pointillée\n",
    "plt.axhline(y = 0.22, xmin = 0, xmax  = 0.8, color = 'darkorange', alpha = 0.5, linestyle = ':', linewidth = 2)\n",
    "plt.axvline(x = 0.8, ymin = 0, ymax  = 0.22, color = 'darkorange', alpha = 0.5, linestyle = ':', linewidth = 2)\n",
    "\n",
    "plt.savefig('fig23.jpeg')\n",
    "\n",
    "# Voir ici pour des explications sur la courbe de Lorenz : http://www.jybaudot.fr/Stats/indicegini.html"
   ]
  },
  {
   "cell_type": "markdown",
   "metadata": {},
   "source": [
    "80 % du chiffre d'affaires est fait par 20 % des produits (attention à la lecture de la courbe). "
   ]
  },
  {
   "cell_type": "code",
   "execution_count": 161,
   "metadata": {},
   "outputs": [
    {
     "data": {
      "text/plain": [
       "0.7404000037334911"
      ]
     },
     "execution_count": 161,
     "metadata": {},
     "output_type": "execute_result"
    }
   ],
   "source": [
    "# Gini\n",
    "auc = lorenz[:-1].sum() / len(lorenz) # auc = area under curve\n",
    "S = 0.5 - auc\n",
    "gini = 2 * S\n",
    "gini"
   ]
  },
  {
   "cell_type": "markdown",
   "metadata": {},
   "source": [
    "L'indice de Gini est égal à 0.74.  \n",
    "Rappel : l'inégalité est d'autant plus forte que l'indice de Gini est élevé.  \n",
    "Une petite partie des produits contribue à une grosse part du CA. "
   ]
  },
  {
   "cell_type": "markdown",
   "metadata": {},
   "source": [
    "##### Produits les plus vendus en volume et en CA"
   ]
  },
  {
   "cell_type": "code",
   "execution_count": 137,
   "metadata": {},
   "outputs": [
    {
     "data": {
      "text/html": [
       "<div>\n",
       "<style scoped>\n",
       "    .dataframe tbody tr th:only-of-type {\n",
       "        vertical-align: middle;\n",
       "    }\n",
       "\n",
       "    .dataframe tbody tr th {\n",
       "        vertical-align: top;\n",
       "    }\n",
       "\n",
       "    .dataframe thead th {\n",
       "        text-align: right;\n",
       "    }\n",
       "</style>\n",
       "<table border=\"1\" class=\"dataframe\">\n",
       "  <thead>\n",
       "    <tr style=\"text-align: right;\">\n",
       "      <th></th>\n",
       "      <th>id_prod</th>\n",
       "      <th>nb_ventes</th>\n",
       "      <th>ca</th>\n",
       "    </tr>\n",
       "  </thead>\n",
       "  <tbody>\n",
       "    <tr>\n",
       "      <th>2609</th>\n",
       "      <td>1_369</td>\n",
       "      <td>1081</td>\n",
       "      <td>25933.19</td>\n",
       "    </tr>\n",
       "    <tr>\n",
       "      <th>2663</th>\n",
       "      <td>1_417</td>\n",
       "      <td>1062</td>\n",
       "      <td>22291.38</td>\n",
       "    </tr>\n",
       "    <tr>\n",
       "      <th>2752</th>\n",
       "      <td>1_498</td>\n",
       "      <td>1036</td>\n",
       "      <td>24211.32</td>\n",
       "    </tr>\n",
       "    <tr>\n",
       "      <th>2660</th>\n",
       "      <td>1_414</td>\n",
       "      <td>1027</td>\n",
       "      <td>24473.41</td>\n",
       "    </tr>\n",
       "    <tr>\n",
       "      <th>2672</th>\n",
       "      <td>1_425</td>\n",
       "      <td>1013</td>\n",
       "      <td>17210.87</td>\n",
       "    </tr>\n",
       "    <tr>\n",
       "      <th>2641</th>\n",
       "      <td>1_398</td>\n",
       "      <td>952</td>\n",
       "      <td>9681.84</td>\n",
       "    </tr>\n",
       "    <tr>\n",
       "      <th>2651</th>\n",
       "      <td>1_406</td>\n",
       "      <td>946</td>\n",
       "      <td>23470.26</td>\n",
       "    </tr>\n",
       "    <tr>\n",
       "      <th>2659</th>\n",
       "      <td>1_413</td>\n",
       "      <td>944</td>\n",
       "      <td>16982.56</td>\n",
       "    </tr>\n",
       "    <tr>\n",
       "      <th>2648</th>\n",
       "      <td>1_403</td>\n",
       "      <td>939</td>\n",
       "      <td>16892.61</td>\n",
       "    </tr>\n",
       "    <tr>\n",
       "      <th>2652</th>\n",
       "      <td>1_407</td>\n",
       "      <td>933</td>\n",
       "      <td>14918.67</td>\n",
       "    </tr>\n",
       "  </tbody>\n",
       "</table>\n",
       "</div>"
      ],
      "text/plain": [
       "     id_prod  nb_ventes        ca\n",
       "2609   1_369       1081  25933.19\n",
       "2663   1_417       1062  22291.38\n",
       "2752   1_498       1036  24211.32\n",
       "2660   1_414       1027  24473.41\n",
       "2672   1_425       1013  17210.87\n",
       "2641   1_398        952   9681.84\n",
       "2651   1_406        946  23470.26\n",
       "2659   1_413        944  16982.56\n",
       "2648   1_403        939  16892.61\n",
       "2652   1_407        933  14918.67"
      ]
     },
     "execution_count": 137,
     "metadata": {},
     "output_type": "execute_result"
    }
   ],
   "source": [
    "# En volume\n",
    "prodagg.sort_values(by='nb_ventes', ascending=False).head(10)"
   ]
  },
  {
   "cell_type": "code",
   "execution_count": 145,
   "metadata": {},
   "outputs": [
    {
     "data": {
      "text/html": [
       "<div>\n",
       "<style scoped>\n",
       "    .dataframe tbody tr th:only-of-type {\n",
       "        vertical-align: middle;\n",
       "    }\n",
       "\n",
       "    .dataframe tbody tr th {\n",
       "        vertical-align: top;\n",
       "    }\n",
       "\n",
       "    .dataframe thead th {\n",
       "        text-align: right;\n",
       "    }\n",
       "</style>\n",
       "<table border=\"1\" class=\"dataframe\">\n",
       "  <thead>\n",
       "    <tr style=\"text-align: right;\">\n",
       "      <th></th>\n",
       "      <th>id_prod</th>\n",
       "      <th>nb_ventes</th>\n",
       "      <th>ca</th>\n",
       "    </tr>\n",
       "  </thead>\n",
       "  <tbody>\n",
       "    <tr>\n",
       "      <th>3089</th>\n",
       "      <td>2_135</td>\n",
       "      <td>491</td>\n",
       "      <td>33874.09</td>\n",
       "    </tr>\n",
       "    <tr>\n",
       "      <th>3064</th>\n",
       "      <td>2_112</td>\n",
       "      <td>473</td>\n",
       "      <td>31960.61</td>\n",
       "    </tr>\n",
       "    <tr>\n",
       "      <th>3053</th>\n",
       "      <td>2_102</td>\n",
       "      <td>489</td>\n",
       "      <td>28919.46</td>\n",
       "    </tr>\n",
       "    <tr>\n",
       "      <th>3171</th>\n",
       "      <td>2_209</td>\n",
       "      <td>390</td>\n",
       "      <td>27296.10</td>\n",
       "    </tr>\n",
       "    <tr>\n",
       "      <th>3062</th>\n",
       "      <td>2_110</td>\n",
       "      <td>434</td>\n",
       "      <td>27016.50</td>\n",
       "    </tr>\n",
       "    <tr>\n",
       "      <th>2609</th>\n",
       "      <td>1_369</td>\n",
       "      <td>1081</td>\n",
       "      <td>25933.19</td>\n",
       "    </tr>\n",
       "    <tr>\n",
       "      <th>2638</th>\n",
       "      <td>1_395</td>\n",
       "      <td>891</td>\n",
       "      <td>25830.09</td>\n",
       "    </tr>\n",
       "    <tr>\n",
       "      <th>3123</th>\n",
       "      <td>2_166</td>\n",
       "      <td>111</td>\n",
       "      <td>25534.44</td>\n",
       "    </tr>\n",
       "    <tr>\n",
       "      <th>3225</th>\n",
       "      <td>2_43</td>\n",
       "      <td>361</td>\n",
       "      <td>25266.39</td>\n",
       "    </tr>\n",
       "    <tr>\n",
       "      <th>3220</th>\n",
       "      <td>2_39</td>\n",
       "      <td>435</td>\n",
       "      <td>25225.65</td>\n",
       "    </tr>\n",
       "  </tbody>\n",
       "</table>\n",
       "</div>"
      ],
      "text/plain": [
       "     id_prod  nb_ventes        ca\n",
       "3089   2_135        491  33874.09\n",
       "3064   2_112        473  31960.61\n",
       "3053   2_102        489  28919.46\n",
       "3171   2_209        390  27296.10\n",
       "3062   2_110        434  27016.50\n",
       "2609   1_369       1081  25933.19\n",
       "2638   1_395        891  25830.09\n",
       "3123   2_166        111  25534.44\n",
       "3225    2_43        361  25266.39\n",
       "3220    2_39        435  25225.65"
      ]
     },
     "execution_count": 145,
     "metadata": {},
     "output_type": "execute_result"
    }
   ],
   "source": [
    "# En CA\n",
    "prodagg.sort_values(by='ca', ascending=False).head(10)"
   ]
  },
  {
   "cell_type": "markdown",
   "metadata": {},
   "source": [
    "## Représentation de séries temporelles"
   ]
  },
  {
   "cell_type": "markdown",
   "metadata": {},
   "source": [
    "### Répartition des ventes en fonction des heures"
   ]
  },
  {
   "cell_type": "code",
   "execution_count": 42,
   "metadata": {},
   "outputs": [
    {
     "data": {
      "text/html": [
       "<div>\n",
       "<style scoped>\n",
       "    .dataframe tbody tr th:only-of-type {\n",
       "        vertical-align: middle;\n",
       "    }\n",
       "\n",
       "    .dataframe tbody tr th {\n",
       "        vertical-align: top;\n",
       "    }\n",
       "\n",
       "    .dataframe thead th {\n",
       "        text-align: right;\n",
       "    }\n",
       "</style>\n",
       "<table border=\"1\" class=\"dataframe\">\n",
       "  <thead>\n",
       "    <tr style=\"text-align: right;\">\n",
       "      <th></th>\n",
       "      <th>id_prod</th>\n",
       "      <th>date</th>\n",
       "      <th>session_id</th>\n",
       "      <th>client_id</th>\n",
       "      <th>price</th>\n",
       "      <th>categ</th>\n",
       "      <th>sex</th>\n",
       "      <th>birth</th>\n",
       "      <th>age</th>\n",
       "      <th>classe_age</th>\n",
       "    </tr>\n",
       "  </thead>\n",
       "  <tbody>\n",
       "    <tr>\n",
       "      <th>0</th>\n",
       "      <td>0_1483</td>\n",
       "      <td>2021-04-10 18:37:28.723910</td>\n",
       "      <td>s_18746</td>\n",
       "      <td>c_4450</td>\n",
       "      <td>4.99</td>\n",
       "      <td>0.0</td>\n",
       "      <td>f</td>\n",
       "      <td>1977.0</td>\n",
       "      <td>45.0</td>\n",
       "      <td>30-50</td>\n",
       "    </tr>\n",
       "    <tr>\n",
       "      <th>1</th>\n",
       "      <td>0_1085</td>\n",
       "      <td>2021-09-29 11:14:59.793823</td>\n",
       "      <td>s_97382</td>\n",
       "      <td>c_4450</td>\n",
       "      <td>3.99</td>\n",
       "      <td>0.0</td>\n",
       "      <td>f</td>\n",
       "      <td>1977.0</td>\n",
       "      <td>45.0</td>\n",
       "      <td>30-50</td>\n",
       "    </tr>\n",
       "    <tr>\n",
       "      <th>2</th>\n",
       "      <td>0_1453</td>\n",
       "      <td>2021-08-27 19:50:46.796939</td>\n",
       "      <td>s_81509</td>\n",
       "      <td>c_4450</td>\n",
       "      <td>7.99</td>\n",
       "      <td>0.0</td>\n",
       "      <td>f</td>\n",
       "      <td>1977.0</td>\n",
       "      <td>45.0</td>\n",
       "      <td>30-50</td>\n",
       "    </tr>\n",
       "    <tr>\n",
       "      <th>3</th>\n",
       "      <td>0_1405</td>\n",
       "      <td>2021-08-27 20:07:25.878440</td>\n",
       "      <td>s_81509</td>\n",
       "      <td>c_4450</td>\n",
       "      <td>4.99</td>\n",
       "      <td>0.0</td>\n",
       "      <td>f</td>\n",
       "      <td>1977.0</td>\n",
       "      <td>45.0</td>\n",
       "      <td>30-50</td>\n",
       "    </tr>\n",
       "    <tr>\n",
       "      <th>4</th>\n",
       "      <td>0_1392</td>\n",
       "      <td>2021-12-28 11:45:04.072281</td>\n",
       "      <td>s_141302</td>\n",
       "      <td>c_4450</td>\n",
       "      <td>6.30</td>\n",
       "      <td>0.0</td>\n",
       "      <td>f</td>\n",
       "      <td>1977.0</td>\n",
       "      <td>45.0</td>\n",
       "      <td>30-50</td>\n",
       "    </tr>\n",
       "  </tbody>\n",
       "</table>\n",
       "</div>"
      ],
      "text/plain": [
       "  id_prod                       date session_id client_id  price  categ sex  \\\n",
       "0  0_1483 2021-04-10 18:37:28.723910    s_18746    c_4450   4.99    0.0   f   \n",
       "1  0_1085 2021-09-29 11:14:59.793823    s_97382    c_4450   3.99    0.0   f   \n",
       "2  0_1453 2021-08-27 19:50:46.796939    s_81509    c_4450   7.99    0.0   f   \n",
       "3  0_1405 2021-08-27 20:07:25.878440    s_81509    c_4450   4.99    0.0   f   \n",
       "4  0_1392 2021-12-28 11:45:04.072281   s_141302    c_4450   6.30    0.0   f   \n",
       "\n",
       "    birth   age classe_age  \n",
       "0  1977.0  45.0      30-50  \n",
       "1  1977.0  45.0      30-50  \n",
       "2  1977.0  45.0      30-50  \n",
       "3  1977.0  45.0      30-50  \n",
       "4  1977.0  45.0      30-50  "
      ]
     },
     "execution_count": 42,
     "metadata": {},
     "output_type": "execute_result"
    }
   ],
   "source": [
    "cpv.head()"
   ]
  },
  {
   "cell_type": "code",
   "execution_count": 23,
   "metadata": {},
   "outputs": [],
   "source": [
    "# Je copie le df principal \n",
    "vh = cpv.copy()"
   ]
  },
  {
   "cell_type": "code",
   "execution_count": 24,
   "metadata": {},
   "outputs": [],
   "source": [
    "# Je récupère l'heure\n",
    "# cf. https://www.geeksforgeeks.org/python-working-with-date-and-time-using-pandas/\n",
    "vh['heure'] = vh['date'].dt.hour "
   ]
  },
  {
   "cell_type": "code",
   "execution_count": 46,
   "metadata": {},
   "outputs": [
    {
     "data": {
      "text/html": [
       "<div>\n",
       "<style scoped>\n",
       "    .dataframe tbody tr th:only-of-type {\n",
       "        vertical-align: middle;\n",
       "    }\n",
       "\n",
       "    .dataframe tbody tr th {\n",
       "        vertical-align: top;\n",
       "    }\n",
       "\n",
       "    .dataframe thead th {\n",
       "        text-align: right;\n",
       "    }\n",
       "</style>\n",
       "<table border=\"1\" class=\"dataframe\">\n",
       "  <thead>\n",
       "    <tr style=\"text-align: right;\">\n",
       "      <th></th>\n",
       "      <th>id_prod</th>\n",
       "      <th>date</th>\n",
       "      <th>session_id</th>\n",
       "      <th>client_id</th>\n",
       "      <th>price</th>\n",
       "      <th>categ</th>\n",
       "      <th>sex</th>\n",
       "      <th>birth</th>\n",
       "      <th>age</th>\n",
       "      <th>classe_age</th>\n",
       "      <th>heure</th>\n",
       "    </tr>\n",
       "  </thead>\n",
       "  <tbody>\n",
       "    <tr>\n",
       "      <th>0</th>\n",
       "      <td>0_1483</td>\n",
       "      <td>2021-04-10 18:37:28.723910</td>\n",
       "      <td>s_18746</td>\n",
       "      <td>c_4450</td>\n",
       "      <td>4.99</td>\n",
       "      <td>0.0</td>\n",
       "      <td>f</td>\n",
       "      <td>1977.0</td>\n",
       "      <td>45.0</td>\n",
       "      <td>30-50</td>\n",
       "      <td>18.0</td>\n",
       "    </tr>\n",
       "    <tr>\n",
       "      <th>1</th>\n",
       "      <td>0_1085</td>\n",
       "      <td>2021-09-29 11:14:59.793823</td>\n",
       "      <td>s_97382</td>\n",
       "      <td>c_4450</td>\n",
       "      <td>3.99</td>\n",
       "      <td>0.0</td>\n",
       "      <td>f</td>\n",
       "      <td>1977.0</td>\n",
       "      <td>45.0</td>\n",
       "      <td>30-50</td>\n",
       "      <td>11.0</td>\n",
       "    </tr>\n",
       "    <tr>\n",
       "      <th>2</th>\n",
       "      <td>0_1453</td>\n",
       "      <td>2021-08-27 19:50:46.796939</td>\n",
       "      <td>s_81509</td>\n",
       "      <td>c_4450</td>\n",
       "      <td>7.99</td>\n",
       "      <td>0.0</td>\n",
       "      <td>f</td>\n",
       "      <td>1977.0</td>\n",
       "      <td>45.0</td>\n",
       "      <td>30-50</td>\n",
       "      <td>19.0</td>\n",
       "    </tr>\n",
       "    <tr>\n",
       "      <th>3</th>\n",
       "      <td>0_1405</td>\n",
       "      <td>2021-08-27 20:07:25.878440</td>\n",
       "      <td>s_81509</td>\n",
       "      <td>c_4450</td>\n",
       "      <td>4.99</td>\n",
       "      <td>0.0</td>\n",
       "      <td>f</td>\n",
       "      <td>1977.0</td>\n",
       "      <td>45.0</td>\n",
       "      <td>30-50</td>\n",
       "      <td>20.0</td>\n",
       "    </tr>\n",
       "    <tr>\n",
       "      <th>4</th>\n",
       "      <td>0_1392</td>\n",
       "      <td>2021-12-28 11:45:04.072281</td>\n",
       "      <td>s_141302</td>\n",
       "      <td>c_4450</td>\n",
       "      <td>6.30</td>\n",
       "      <td>0.0</td>\n",
       "      <td>f</td>\n",
       "      <td>1977.0</td>\n",
       "      <td>45.0</td>\n",
       "      <td>30-50</td>\n",
       "      <td>11.0</td>\n",
       "    </tr>\n",
       "  </tbody>\n",
       "</table>\n",
       "</div>"
      ],
      "text/plain": [
       "  id_prod                       date session_id client_id  price  categ sex  \\\n",
       "0  0_1483 2021-04-10 18:37:28.723910    s_18746    c_4450   4.99    0.0   f   \n",
       "1  0_1085 2021-09-29 11:14:59.793823    s_97382    c_4450   3.99    0.0   f   \n",
       "2  0_1453 2021-08-27 19:50:46.796939    s_81509    c_4450   7.99    0.0   f   \n",
       "3  0_1405 2021-08-27 20:07:25.878440    s_81509    c_4450   4.99    0.0   f   \n",
       "4  0_1392 2021-12-28 11:45:04.072281   s_141302    c_4450   6.30    0.0   f   \n",
       "\n",
       "    birth   age classe_age  heure  \n",
       "0  1977.0  45.0      30-50   18.0  \n",
       "1  1977.0  45.0      30-50   11.0  \n",
       "2  1977.0  45.0      30-50   19.0  \n",
       "3  1977.0  45.0      30-50   20.0  \n",
       "4  1977.0  45.0      30-50   11.0  "
      ]
     },
     "execution_count": 46,
     "metadata": {},
     "output_type": "execute_result"
    }
   ],
   "source": [
    "vh.head()"
   ]
  },
  {
   "cell_type": "code",
   "execution_count": 47,
   "metadata": {
    "scrolled": true
   },
   "outputs": [
    {
     "data": {
      "text/html": [
       "<div>\n",
       "<style scoped>\n",
       "    .dataframe tbody tr th:only-of-type {\n",
       "        vertical-align: middle;\n",
       "    }\n",
       "\n",
       "    .dataframe tbody tr th {\n",
       "        vertical-align: top;\n",
       "    }\n",
       "\n",
       "    .dataframe thead th {\n",
       "        text-align: right;\n",
       "    }\n",
       "</style>\n",
       "<table border=\"1\" class=\"dataframe\">\n",
       "  <thead>\n",
       "    <tr style=\"text-align: right;\">\n",
       "      <th></th>\n",
       "      <th>id_prod</th>\n",
       "      <th>date</th>\n",
       "      <th>session_id</th>\n",
       "      <th>client_id</th>\n",
       "      <th>price</th>\n",
       "      <th>categ</th>\n",
       "      <th>sex</th>\n",
       "      <th>birth</th>\n",
       "      <th>age</th>\n",
       "      <th>classe_age</th>\n",
       "      <th>heure</th>\n",
       "    </tr>\n",
       "  </thead>\n",
       "  <tbody>\n",
       "    <tr>\n",
       "      <th>0</th>\n",
       "      <td>0_1483</td>\n",
       "      <td>2021-04-10 18:37:28.723910</td>\n",
       "      <td>s_18746</td>\n",
       "      <td>c_4450</td>\n",
       "      <td>4.99</td>\n",
       "      <td>0.0</td>\n",
       "      <td>f</td>\n",
       "      <td>1977.0</td>\n",
       "      <td>45.0</td>\n",
       "      <td>30-50</td>\n",
       "      <td>18.0</td>\n",
       "    </tr>\n",
       "    <tr>\n",
       "      <th>17</th>\n",
       "      <td>1_685</td>\n",
       "      <td>2021-04-10 18:25:09.319011</td>\n",
       "      <td>s_18746</td>\n",
       "      <td>c_4450</td>\n",
       "      <td>15.99</td>\n",
       "      <td>1.0</td>\n",
       "      <td>f</td>\n",
       "      <td>1977.0</td>\n",
       "      <td>45.0</td>\n",
       "      <td>30-50</td>\n",
       "      <td>18.0</td>\n",
       "    </tr>\n",
       "    <tr>\n",
       "      <th>23</th>\n",
       "      <td>1_442</td>\n",
       "      <td>2021-07-30 18:35:07.270657</td>\n",
       "      <td>s_69203</td>\n",
       "      <td>c_4450</td>\n",
       "      <td>24.98</td>\n",
       "      <td>1.0</td>\n",
       "      <td>f</td>\n",
       "      <td>1977.0</td>\n",
       "      <td>45.0</td>\n",
       "      <td>30-50</td>\n",
       "      <td>18.0</td>\n",
       "    </tr>\n",
       "    <tr>\n",
       "      <th>47</th>\n",
       "      <td>1_601</td>\n",
       "      <td>2021-05-14 18:24:20.775668</td>\n",
       "      <td>s_34514</td>\n",
       "      <td>c_4450</td>\n",
       "      <td>21.99</td>\n",
       "      <td>1.0</td>\n",
       "      <td>f</td>\n",
       "      <td>1977.0</td>\n",
       "      <td>45.0</td>\n",
       "      <td>30-50</td>\n",
       "      <td>18.0</td>\n",
       "    </tr>\n",
       "    <tr>\n",
       "      <th>59</th>\n",
       "      <td>0_2111</td>\n",
       "      <td>2021-05-14 18:58:23.052457</td>\n",
       "      <td>s_34514</td>\n",
       "      <td>c_4450</td>\n",
       "      <td>12.99</td>\n",
       "      <td>0.0</td>\n",
       "      <td>f</td>\n",
       "      <td>1977.0</td>\n",
       "      <td>45.0</td>\n",
       "      <td>30-50</td>\n",
       "      <td>18.0</td>\n",
       "    </tr>\n",
       "    <tr>\n",
       "      <th>65</th>\n",
       "      <td>0_1395</td>\n",
       "      <td>2021-04-10 18:32:27.342375</td>\n",
       "      <td>s_18746</td>\n",
       "      <td>c_4450</td>\n",
       "      <td>3.99</td>\n",
       "      <td>0.0</td>\n",
       "      <td>f</td>\n",
       "      <td>1977.0</td>\n",
       "      <td>45.0</td>\n",
       "      <td>30-50</td>\n",
       "      <td>18.0</td>\n",
       "    </tr>\n",
       "    <tr>\n",
       "      <th>90</th>\n",
       "      <td>0_1694</td>\n",
       "      <td>2021-12-06 18:30:04.633500</td>\n",
       "      <td>s_130397</td>\n",
       "      <td>c_4450</td>\n",
       "      <td>7.65</td>\n",
       "      <td>0.0</td>\n",
       "      <td>f</td>\n",
       "      <td>1977.0</td>\n",
       "      <td>45.0</td>\n",
       "      <td>30-50</td>\n",
       "      <td>18.0</td>\n",
       "    </tr>\n",
       "    <tr>\n",
       "      <th>113</th>\n",
       "      <td>1_412</td>\n",
       "      <td>2021-05-16 18:21:01.727460</td>\n",
       "      <td>s_35390</td>\n",
       "      <td>c_1576</td>\n",
       "      <td>16.65</td>\n",
       "      <td>1.0</td>\n",
       "      <td>m</td>\n",
       "      <td>1956.0</td>\n",
       "      <td>66.0</td>\n",
       "      <td>50+</td>\n",
       "      <td>18.0</td>\n",
       "    </tr>\n",
       "    <tr>\n",
       "      <th>117</th>\n",
       "      <td>1_544</td>\n",
       "      <td>2021-05-16 18:12:08.246606</td>\n",
       "      <td>s_35390</td>\n",
       "      <td>c_1576</td>\n",
       "      <td>29.54</td>\n",
       "      <td>1.0</td>\n",
       "      <td>m</td>\n",
       "      <td>1956.0</td>\n",
       "      <td>66.0</td>\n",
       "      <td>50+</td>\n",
       "      <td>18.0</td>\n",
       "    </tr>\n",
       "    <tr>\n",
       "      <th>120</th>\n",
       "      <td>1_396</td>\n",
       "      <td>2021-11-01 18:19:49.653798</td>\n",
       "      <td>s_113318</td>\n",
       "      <td>c_1576</td>\n",
       "      <td>18.60</td>\n",
       "      <td>1.0</td>\n",
       "      <td>m</td>\n",
       "      <td>1956.0</td>\n",
       "      <td>66.0</td>\n",
       "      <td>50+</td>\n",
       "      <td>18.0</td>\n",
       "    </tr>\n",
       "    <tr>\n",
       "      <th>145</th>\n",
       "      <td>0_774</td>\n",
       "      <td>2021-08-03 18:27:56.525124</td>\n",
       "      <td>s_70956</td>\n",
       "      <td>c_1576</td>\n",
       "      <td>6.66</td>\n",
       "      <td>0.0</td>\n",
       "      <td>m</td>\n",
       "      <td>1956.0</td>\n",
       "      <td>66.0</td>\n",
       "      <td>50+</td>\n",
       "      <td>18.0</td>\n",
       "    </tr>\n",
       "    <tr>\n",
       "      <th>193</th>\n",
       "      <td>0_1341</td>\n",
       "      <td>2021-10-31 18:25:47.071240</td>\n",
       "      <td>s_112828</td>\n",
       "      <td>c_182</td>\n",
       "      <td>9.99</td>\n",
       "      <td>0.0</td>\n",
       "      <td>f</td>\n",
       "      <td>1984.0</td>\n",
       "      <td>38.0</td>\n",
       "      <td>30-50</td>\n",
       "      <td>18.0</td>\n",
       "    </tr>\n",
       "    <tr>\n",
       "      <th>217</th>\n",
       "      <td>0_1977</td>\n",
       "      <td>2021-04-29 18:43:32.068725</td>\n",
       "      <td>s_27577</td>\n",
       "      <td>c_182</td>\n",
       "      <td>5.99</td>\n",
       "      <td>0.0</td>\n",
       "      <td>f</td>\n",
       "      <td>1984.0</td>\n",
       "      <td>38.0</td>\n",
       "      <td>30-50</td>\n",
       "      <td>18.0</td>\n",
       "    </tr>\n",
       "    <tr>\n",
       "      <th>232</th>\n",
       "      <td>1_288</td>\n",
       "      <td>2021-03-03 18:33:25.788517</td>\n",
       "      <td>s_1292</td>\n",
       "      <td>c_182</td>\n",
       "      <td>22.09</td>\n",
       "      <td>1.0</td>\n",
       "      <td>f</td>\n",
       "      <td>1984.0</td>\n",
       "      <td>38.0</td>\n",
       "      <td>30-50</td>\n",
       "      <td>18.0</td>\n",
       "    </tr>\n",
       "    <tr>\n",
       "      <th>245</th>\n",
       "      <td>0_1170</td>\n",
       "      <td>2021-10-31 18:14:20.334397</td>\n",
       "      <td>s_112828</td>\n",
       "      <td>c_182</td>\n",
       "      <td>4.19</td>\n",
       "      <td>0.0</td>\n",
       "      <td>f</td>\n",
       "      <td>1984.0</td>\n",
       "      <td>38.0</td>\n",
       "      <td>30-50</td>\n",
       "      <td>18.0</td>\n",
       "    </tr>\n",
       "    <tr>\n",
       "      <th>260</th>\n",
       "      <td>0_1384</td>\n",
       "      <td>2021-09-09 18:05:47.827308</td>\n",
       "      <td>s_87398</td>\n",
       "      <td>c_182</td>\n",
       "      <td>14.44</td>\n",
       "      <td>0.0</td>\n",
       "      <td>f</td>\n",
       "      <td>1984.0</td>\n",
       "      <td>38.0</td>\n",
       "      <td>30-50</td>\n",
       "      <td>18.0</td>\n",
       "    </tr>\n",
       "    <tr>\n",
       "      <th>264</th>\n",
       "      <td>0_1987</td>\n",
       "      <td>2021-03-03 18:29:06.759458</td>\n",
       "      <td>s_1292</td>\n",
       "      <td>c_182</td>\n",
       "      <td>6.99</td>\n",
       "      <td>0.0</td>\n",
       "      <td>f</td>\n",
       "      <td>1984.0</td>\n",
       "      <td>38.0</td>\n",
       "      <td>30-50</td>\n",
       "      <td>18.0</td>\n",
       "    </tr>\n",
       "    <tr>\n",
       "      <th>274</th>\n",
       "      <td>1_736</td>\n",
       "      <td>2021-08-19 18:44:37.764923</td>\n",
       "      <td>s_77974</td>\n",
       "      <td>c_182</td>\n",
       "      <td>10.29</td>\n",
       "      <td>1.0</td>\n",
       "      <td>f</td>\n",
       "      <td>1984.0</td>\n",
       "      <td>38.0</td>\n",
       "      <td>30-50</td>\n",
       "      <td>18.0</td>\n",
       "    </tr>\n",
       "    <tr>\n",
       "      <th>282</th>\n",
       "      <td>0_1696</td>\n",
       "      <td>2021-04-29 18:29:08.345811</td>\n",
       "      <td>s_27577</td>\n",
       "      <td>c_182</td>\n",
       "      <td>8.46</td>\n",
       "      <td>0.0</td>\n",
       "      <td>f</td>\n",
       "      <td>1984.0</td>\n",
       "      <td>38.0</td>\n",
       "      <td>30-50</td>\n",
       "      <td>18.0</td>\n",
       "    </tr>\n",
       "    <tr>\n",
       "      <th>290</th>\n",
       "      <td>0_1698</td>\n",
       "      <td>2021-09-09 18:34:20.764601</td>\n",
       "      <td>s_87398</td>\n",
       "      <td>c_182</td>\n",
       "      <td>14.24</td>\n",
       "      <td>0.0</td>\n",
       "      <td>f</td>\n",
       "      <td>1984.0</td>\n",
       "      <td>38.0</td>\n",
       "      <td>30-50</td>\n",
       "      <td>18.0</td>\n",
       "    </tr>\n",
       "    <tr>\n",
       "      <th>402</th>\n",
       "      <td>1_524</td>\n",
       "      <td>2022-01-22 18:27:18.168430</td>\n",
       "      <td>s_153642</td>\n",
       "      <td>c_2890</td>\n",
       "      <td>22.02</td>\n",
       "      <td>1.0</td>\n",
       "      <td>f</td>\n",
       "      <td>1982.0</td>\n",
       "      <td>40.0</td>\n",
       "      <td>30-50</td>\n",
       "      <td>18.0</td>\n",
       "    </tr>\n",
       "    <tr>\n",
       "      <th>406</th>\n",
       "      <td>0_1065</td>\n",
       "      <td>2022-01-22 18:42:19.437579</td>\n",
       "      <td>s_153642</td>\n",
       "      <td>c_2890</td>\n",
       "      <td>15.99</td>\n",
       "      <td>0.0</td>\n",
       "      <td>f</td>\n",
       "      <td>1982.0</td>\n",
       "      <td>40.0</td>\n",
       "      <td>30-50</td>\n",
       "      <td>18.0</td>\n",
       "    </tr>\n",
       "    <tr>\n",
       "      <th>453</th>\n",
       "      <td>0_2230</td>\n",
       "      <td>2021-08-09 18:04:50.111044</td>\n",
       "      <td>s_73509</td>\n",
       "      <td>c_4690</td>\n",
       "      <td>15.02</td>\n",
       "      <td>0.0</td>\n",
       "      <td>m</td>\n",
       "      <td>1979.0</td>\n",
       "      <td>43.0</td>\n",
       "      <td>30-50</td>\n",
       "      <td>18.0</td>\n",
       "    </tr>\n",
       "    <tr>\n",
       "      <th>482</th>\n",
       "      <td>0_1483</td>\n",
       "      <td>2021-05-28 18:50:30.713804</td>\n",
       "      <td>s_40836</td>\n",
       "      <td>c_1609</td>\n",
       "      <td>4.99</td>\n",
       "      <td>0.0</td>\n",
       "      <td>m</td>\n",
       "      <td>1980.0</td>\n",
       "      <td>42.0</td>\n",
       "      <td>30-50</td>\n",
       "      <td>18.0</td>\n",
       "    </tr>\n",
       "    <tr>\n",
       "      <th>529</th>\n",
       "      <td>0_1351</td>\n",
       "      <td>2021-06-14 18:40:40.685726</td>\n",
       "      <td>s_48678</td>\n",
       "      <td>c_1609</td>\n",
       "      <td>8.99</td>\n",
       "      <td>0.0</td>\n",
       "      <td>m</td>\n",
       "      <td>1980.0</td>\n",
       "      <td>42.0</td>\n",
       "      <td>30-50</td>\n",
       "      <td>18.0</td>\n",
       "    </tr>\n",
       "    <tr>\n",
       "      <th>554</th>\n",
       "      <td>0_1508</td>\n",
       "      <td>2021-11-15 18:02:37.076944</td>\n",
       "      <td>s_120090</td>\n",
       "      <td>c_1609</td>\n",
       "      <td>8.03</td>\n",
       "      <td>0.0</td>\n",
       "      <td>m</td>\n",
       "      <td>1980.0</td>\n",
       "      <td>42.0</td>\n",
       "      <td>30-50</td>\n",
       "      <td>18.0</td>\n",
       "    </tr>\n",
       "    <tr>\n",
       "      <th>558</th>\n",
       "      <td>0_1508</td>\n",
       "      <td>2021-09-14 18:00:24.622940</td>\n",
       "      <td>s_89891</td>\n",
       "      <td>c_1609</td>\n",
       "      <td>8.03</td>\n",
       "      <td>0.0</td>\n",
       "      <td>m</td>\n",
       "      <td>1980.0</td>\n",
       "      <td>42.0</td>\n",
       "      <td>30-50</td>\n",
       "      <td>18.0</td>\n",
       "    </tr>\n",
       "    <tr>\n",
       "      <th>589</th>\n",
       "      <td>0_1627</td>\n",
       "      <td>2021-09-16 18:20:21.937014</td>\n",
       "      <td>s_90889</td>\n",
       "      <td>c_1609</td>\n",
       "      <td>3.99</td>\n",
       "      <td>0.0</td>\n",
       "      <td>m</td>\n",
       "      <td>1980.0</td>\n",
       "      <td>42.0</td>\n",
       "      <td>30-50</td>\n",
       "      <td>18.0</td>\n",
       "    </tr>\n",
       "    <tr>\n",
       "      <th>638</th>\n",
       "      <td>0_1453</td>\n",
       "      <td>2021-03-24 18:48:39.614737</td>\n",
       "      <td>s_10921</td>\n",
       "      <td>c_1609</td>\n",
       "      <td>7.99</td>\n",
       "      <td>0.0</td>\n",
       "      <td>m</td>\n",
       "      <td>1980.0</td>\n",
       "      <td>42.0</td>\n",
       "      <td>30-50</td>\n",
       "      <td>18.0</td>\n",
       "    </tr>\n",
       "    <tr>\n",
       "      <th>645</th>\n",
       "      <td>0_1453</td>\n",
       "      <td>2021-12-11 18:15:39.403510</td>\n",
       "      <td>s_132901</td>\n",
       "      <td>c_1609</td>\n",
       "      <td>7.99</td>\n",
       "      <td>0.0</td>\n",
       "      <td>m</td>\n",
       "      <td>1980.0</td>\n",
       "      <td>42.0</td>\n",
       "      <td>30-50</td>\n",
       "      <td>18.0</td>\n",
       "    </tr>\n",
       "    <tr>\n",
       "      <th>...</th>\n",
       "      <td>...</td>\n",
       "      <td>...</td>\n",
       "      <td>...</td>\n",
       "      <td>...</td>\n",
       "      <td>...</td>\n",
       "      <td>...</td>\n",
       "      <td>...</td>\n",
       "      <td>...</td>\n",
       "      <td>...</td>\n",
       "      <td>...</td>\n",
       "      <td>...</td>\n",
       "    </tr>\n",
       "    <tr>\n",
       "      <th>335970</th>\n",
       "      <td>0_895</td>\n",
       "      <td>2021-03-03 18:18:22.685719</td>\n",
       "      <td>s_1271</td>\n",
       "      <td>c_3600</td>\n",
       "      <td>16.99</td>\n",
       "      <td>0.0</td>\n",
       "      <td>m</td>\n",
       "      <td>1975.0</td>\n",
       "      <td>47.0</td>\n",
       "      <td>30-50</td>\n",
       "      <td>18.0</td>\n",
       "    </tr>\n",
       "    <tr>\n",
       "      <th>336013</th>\n",
       "      <td>1_316</td>\n",
       "      <td>2022-02-13 18:27:55.224148</td>\n",
       "      <td>s_164635</td>\n",
       "      <td>c_2488</td>\n",
       "      <td>19.74</td>\n",
       "      <td>1.0</td>\n",
       "      <td>m</td>\n",
       "      <td>1950.0</td>\n",
       "      <td>72.0</td>\n",
       "      <td>50+</td>\n",
       "      <td>18.0</td>\n",
       "    </tr>\n",
       "    <tr>\n",
       "      <th>336027</th>\n",
       "      <td>0_1985</td>\n",
       "      <td>2021-12-01 18:02:46.851714</td>\n",
       "      <td>s_127917</td>\n",
       "      <td>c_6861</td>\n",
       "      <td>5.99</td>\n",
       "      <td>0.0</td>\n",
       "      <td>m</td>\n",
       "      <td>1966.0</td>\n",
       "      <td>56.0</td>\n",
       "      <td>50+</td>\n",
       "      <td>18.0</td>\n",
       "    </tr>\n",
       "    <tr>\n",
       "      <th>336046</th>\n",
       "      <td>1_398</td>\n",
       "      <td>2021-04-13 18:58:31.072284</td>\n",
       "      <td>s_20127</td>\n",
       "      <td>c_7296</td>\n",
       "      <td>10.17</td>\n",
       "      <td>1.0</td>\n",
       "      <td>f</td>\n",
       "      <td>2004.0</td>\n",
       "      <td>18.0</td>\n",
       "      <td>18-30</td>\n",
       "      <td>18.0</td>\n",
       "    </tr>\n",
       "    <tr>\n",
       "      <th>336049</th>\n",
       "      <td>1_167</td>\n",
       "      <td>2021-11-15 18:10:39.984959</td>\n",
       "      <td>s_120115</td>\n",
       "      <td>c_7296</td>\n",
       "      <td>10.99</td>\n",
       "      <td>1.0</td>\n",
       "      <td>f</td>\n",
       "      <td>2004.0</td>\n",
       "      <td>18.0</td>\n",
       "      <td>18-30</td>\n",
       "      <td>18.0</td>\n",
       "    </tr>\n",
       "    <tr>\n",
       "      <th>336073</th>\n",
       "      <td>2_185</td>\n",
       "      <td>2021-12-08 18:01:53.589885</td>\n",
       "      <td>s_131391</td>\n",
       "      <td>c_5315</td>\n",
       "      <td>43.99</td>\n",
       "      <td>2.0</td>\n",
       "      <td>m</td>\n",
       "      <td>2003.0</td>\n",
       "      <td>19.0</td>\n",
       "      <td>18-30</td>\n",
       "      <td>18.0</td>\n",
       "    </tr>\n",
       "    <tr>\n",
       "      <th>336131</th>\n",
       "      <td>1_304</td>\n",
       "      <td>2021-05-12 18:41:18.785105</td>\n",
       "      <td>s_33610</td>\n",
       "      <td>c_244</td>\n",
       "      <td>26.64</td>\n",
       "      <td>1.0</td>\n",
       "      <td>f</td>\n",
       "      <td>1969.0</td>\n",
       "      <td>53.0</td>\n",
       "      <td>50+</td>\n",
       "      <td>18.0</td>\n",
       "    </tr>\n",
       "    <tr>\n",
       "      <th>336134</th>\n",
       "      <td>2_175</td>\n",
       "      <td>2022-01-14 18:42:52.138704</td>\n",
       "      <td>s_149812</td>\n",
       "      <td>c_655</td>\n",
       "      <td>60.99</td>\n",
       "      <td>2.0</td>\n",
       "      <td>m</td>\n",
       "      <td>2000.0</td>\n",
       "      <td>22.0</td>\n",
       "      <td>18-30</td>\n",
       "      <td>18.0</td>\n",
       "    </tr>\n",
       "    <tr>\n",
       "      <th>336143</th>\n",
       "      <td>1_80</td>\n",
       "      <td>2022-01-14 18:20:48.493672</td>\n",
       "      <td>s_149812</td>\n",
       "      <td>c_655</td>\n",
       "      <td>28.66</td>\n",
       "      <td>1.0</td>\n",
       "      <td>m</td>\n",
       "      <td>2000.0</td>\n",
       "      <td>22.0</td>\n",
       "      <td>18-30</td>\n",
       "      <td>18.0</td>\n",
       "    </tr>\n",
       "    <tr>\n",
       "      <th>336164</th>\n",
       "      <td>1_310</td>\n",
       "      <td>2021-03-19 18:03:52.719235</td>\n",
       "      <td>s_8612</td>\n",
       "      <td>c_4233</td>\n",
       "      <td>14.20</td>\n",
       "      <td>1.0</td>\n",
       "      <td>m</td>\n",
       "      <td>1957.0</td>\n",
       "      <td>65.0</td>\n",
       "      <td>50+</td>\n",
       "      <td>18.0</td>\n",
       "    </tr>\n",
       "    <tr>\n",
       "      <th>336185</th>\n",
       "      <td>2_215</td>\n",
       "      <td>2021-07-03 18:58:52.293729</td>\n",
       "      <td>s_57420</td>\n",
       "      <td>c_5285</td>\n",
       "      <td>49.99</td>\n",
       "      <td>2.0</td>\n",
       "      <td>f</td>\n",
       "      <td>2004.0</td>\n",
       "      <td>18.0</td>\n",
       "      <td>18-30</td>\n",
       "      <td>18.0</td>\n",
       "    </tr>\n",
       "    <tr>\n",
       "      <th>336190</th>\n",
       "      <td>0_1078</td>\n",
       "      <td>2022-02-10 18:49:53.939343</td>\n",
       "      <td>s_163076</td>\n",
       "      <td>c_12</td>\n",
       "      <td>6.92</td>\n",
       "      <td>0.0</td>\n",
       "      <td>f</td>\n",
       "      <td>1954.0</td>\n",
       "      <td>68.0</td>\n",
       "      <td>50+</td>\n",
       "      <td>18.0</td>\n",
       "    </tr>\n",
       "    <tr>\n",
       "      <th>336198</th>\n",
       "      <td>1_305</td>\n",
       "      <td>2021-08-13 18:41:15.053814</td>\n",
       "      <td>s_75297</td>\n",
       "      <td>c_4576</td>\n",
       "      <td>29.99</td>\n",
       "      <td>1.0</td>\n",
       "      <td>m</td>\n",
       "      <td>2004.0</td>\n",
       "      <td>18.0</td>\n",
       "      <td>18-30</td>\n",
       "      <td>18.0</td>\n",
       "    </tr>\n",
       "    <tr>\n",
       "      <th>336220</th>\n",
       "      <td>1_457</td>\n",
       "      <td>2021-06-25 18:59:11.375057</td>\n",
       "      <td>s_53725</td>\n",
       "      <td>c_713</td>\n",
       "      <td>22.99</td>\n",
       "      <td>1.0</td>\n",
       "      <td>f</td>\n",
       "      <td>2004.0</td>\n",
       "      <td>18.0</td>\n",
       "      <td>18-30</td>\n",
       "      <td>18.0</td>\n",
       "    </tr>\n",
       "    <tr>\n",
       "      <th>336221</th>\n",
       "      <td>1_133</td>\n",
       "      <td>2021-06-10 18:13:02.678549</td>\n",
       "      <td>s_46812</td>\n",
       "      <td>c_713</td>\n",
       "      <td>21.99</td>\n",
       "      <td>1.0</td>\n",
       "      <td>f</td>\n",
       "      <td>2004.0</td>\n",
       "      <td>18.0</td>\n",
       "      <td>18-30</td>\n",
       "      <td>18.0</td>\n",
       "    </tr>\n",
       "    <tr>\n",
       "      <th>336247</th>\n",
       "      <td>1_453</td>\n",
       "      <td>2021-09-04 18:58:30.700915</td>\n",
       "      <td>s_85068</td>\n",
       "      <td>c_4460</td>\n",
       "      <td>13.99</td>\n",
       "      <td>1.0</td>\n",
       "      <td>f</td>\n",
       "      <td>2004.0</td>\n",
       "      <td>18.0</td>\n",
       "      <td>18-30</td>\n",
       "      <td>18.0</td>\n",
       "    </tr>\n",
       "    <tr>\n",
       "      <th>336255</th>\n",
       "      <td>1_527</td>\n",
       "      <td>2021-05-25 18:38:40.170358</td>\n",
       "      <td>s_39445</td>\n",
       "      <td>c_7402</td>\n",
       "      <td>19.99</td>\n",
       "      <td>1.0</td>\n",
       "      <td>m</td>\n",
       "      <td>1945.0</td>\n",
       "      <td>77.0</td>\n",
       "      <td>50+</td>\n",
       "      <td>18.0</td>\n",
       "    </tr>\n",
       "    <tr>\n",
       "      <th>336269</th>\n",
       "      <td>0_935</td>\n",
       "      <td>2021-07-09 18:42:23.396553</td>\n",
       "      <td>s_60107</td>\n",
       "      <td>c_3572</td>\n",
       "      <td>3.99</td>\n",
       "      <td>0.0</td>\n",
       "      <td>f</td>\n",
       "      <td>1949.0</td>\n",
       "      <td>73.0</td>\n",
       "      <td>50+</td>\n",
       "      <td>18.0</td>\n",
       "    </tr>\n",
       "    <tr>\n",
       "      <th>336362</th>\n",
       "      <td>0_973</td>\n",
       "      <td>2021-11-12 18:07:38.456348</td>\n",
       "      <td>s_118608</td>\n",
       "      <td>c_4968</td>\n",
       "      <td>10.99</td>\n",
       "      <td>0.0</td>\n",
       "      <td>m</td>\n",
       "      <td>1988.0</td>\n",
       "      <td>34.0</td>\n",
       "      <td>30-50</td>\n",
       "      <td>18.0</td>\n",
       "    </tr>\n",
       "    <tr>\n",
       "      <th>336472</th>\n",
       "      <td>1_441</td>\n",
       "      <td>2022-01-21 18:11:49.864782</td>\n",
       "      <td>s_153175</td>\n",
       "      <td>c_378</td>\n",
       "      <td>24.99</td>\n",
       "      <td>1.0</td>\n",
       "      <td>m</td>\n",
       "      <td>1958.0</td>\n",
       "      <td>64.0</td>\n",
       "      <td>50+</td>\n",
       "      <td>18.0</td>\n",
       "    </tr>\n",
       "    <tr>\n",
       "      <th>336480</th>\n",
       "      <td>0_1095</td>\n",
       "      <td>2021-07-08 18:53:34.780578</td>\n",
       "      <td>s_59650</td>\n",
       "      <td>c_3605</td>\n",
       "      <td>6.99</td>\n",
       "      <td>0.0</td>\n",
       "      <td>f</td>\n",
       "      <td>1962.0</td>\n",
       "      <td>60.0</td>\n",
       "      <td>50+</td>\n",
       "      <td>18.0</td>\n",
       "    </tr>\n",
       "    <tr>\n",
       "      <th>336497</th>\n",
       "      <td>1_621</td>\n",
       "      <td>2021-12-16 18:48:44.008844</td>\n",
       "      <td>s_135369</td>\n",
       "      <td>c_7158</td>\n",
       "      <td>17.99</td>\n",
       "      <td>1.0</td>\n",
       "      <td>m</td>\n",
       "      <td>2004.0</td>\n",
       "      <td>18.0</td>\n",
       "      <td>18-30</td>\n",
       "      <td>18.0</td>\n",
       "    </tr>\n",
       "    <tr>\n",
       "      <th>336551</th>\n",
       "      <td>2_179</td>\n",
       "      <td>2021-03-16 18:31:31.035603</td>\n",
       "      <td>s_7240</td>\n",
       "      <td>c_8037</td>\n",
       "      <td>49.99</td>\n",
       "      <td>2.0</td>\n",
       "      <td>m</td>\n",
       "      <td>2000.0</td>\n",
       "      <td>22.0</td>\n",
       "      <td>18-30</td>\n",
       "      <td>18.0</td>\n",
       "    </tr>\n",
       "    <tr>\n",
       "      <th>336623</th>\n",
       "      <td>0_1112</td>\n",
       "      <td>2021-07-24 18:43:23.401138</td>\n",
       "      <td>s_66646</td>\n",
       "      <td>c_47</td>\n",
       "      <td>7.27</td>\n",
       "      <td>0.0</td>\n",
       "      <td>m</td>\n",
       "      <td>2000.0</td>\n",
       "      <td>22.0</td>\n",
       "      <td>18-30</td>\n",
       "      <td>18.0</td>\n",
       "    </tr>\n",
       "    <tr>\n",
       "      <th>336624</th>\n",
       "      <td>0_1775</td>\n",
       "      <td>2021-07-24 18:21:59.406358</td>\n",
       "      <td>s_66646</td>\n",
       "      <td>c_47</td>\n",
       "      <td>6.99</td>\n",
       "      <td>0.0</td>\n",
       "      <td>m</td>\n",
       "      <td>2000.0</td>\n",
       "      <td>22.0</td>\n",
       "      <td>18-30</td>\n",
       "      <td>18.0</td>\n",
       "    </tr>\n",
       "    <tr>\n",
       "      <th>336738</th>\n",
       "      <td>1_242</td>\n",
       "      <td>2021-11-07 18:21:23.985565</td>\n",
       "      <td>s_116203</td>\n",
       "      <td>c_2730</td>\n",
       "      <td>16.31</td>\n",
       "      <td>1.0</td>\n",
       "      <td>f</td>\n",
       "      <td>1966.0</td>\n",
       "      <td>56.0</td>\n",
       "      <td>50+</td>\n",
       "      <td>18.0</td>\n",
       "    </tr>\n",
       "    <tr>\n",
       "      <th>336751</th>\n",
       "      <td>2_237</td>\n",
       "      <td>2021-04-25 18:24:52.576574</td>\n",
       "      <td>s_25671</td>\n",
       "      <td>c_1335</td>\n",
       "      <td>40.99</td>\n",
       "      <td>2.0</td>\n",
       "      <td>f</td>\n",
       "      <td>2000.0</td>\n",
       "      <td>22.0</td>\n",
       "      <td>18-30</td>\n",
       "      <td>18.0</td>\n",
       "    </tr>\n",
       "    <tr>\n",
       "      <th>336755</th>\n",
       "      <td>2_85</td>\n",
       "      <td>2021-07-09 18:11:59.608150</td>\n",
       "      <td>s_60096</td>\n",
       "      <td>c_1335</td>\n",
       "      <td>128.99</td>\n",
       "      <td>2.0</td>\n",
       "      <td>f</td>\n",
       "      <td>2000.0</td>\n",
       "      <td>22.0</td>\n",
       "      <td>18-30</td>\n",
       "      <td>18.0</td>\n",
       "    </tr>\n",
       "    <tr>\n",
       "      <th>336787</th>\n",
       "      <td>2_127</td>\n",
       "      <td>2021-09-17 18:40:41.441024</td>\n",
       "      <td>s_91396</td>\n",
       "      <td>c_1828</td>\n",
       "      <td>68.99</td>\n",
       "      <td>2.0</td>\n",
       "      <td>m</td>\n",
       "      <td>2004.0</td>\n",
       "      <td>18.0</td>\n",
       "      <td>18-30</td>\n",
       "      <td>18.0</td>\n",
       "    </tr>\n",
       "    <tr>\n",
       "      <th>336815</th>\n",
       "      <td>0_142</td>\n",
       "      <td>2021-09-25 18:07:25.880052</td>\n",
       "      <td>s_95415</td>\n",
       "      <td>c_1232</td>\n",
       "      <td>19.85</td>\n",
       "      <td>0.0</td>\n",
       "      <td>f</td>\n",
       "      <td>1960.0</td>\n",
       "      <td>62.0</td>\n",
       "      <td>50+</td>\n",
       "      <td>18.0</td>\n",
       "    </tr>\n",
       "  </tbody>\n",
       "</table>\n",
       "<p>14017 rows × 11 columns</p>\n",
       "</div>"
      ],
      "text/plain": [
       "       id_prod                       date session_id client_id   price  categ  \\\n",
       "0       0_1483 2021-04-10 18:37:28.723910    s_18746    c_4450    4.99    0.0   \n",
       "17       1_685 2021-04-10 18:25:09.319011    s_18746    c_4450   15.99    1.0   \n",
       "23       1_442 2021-07-30 18:35:07.270657    s_69203    c_4450   24.98    1.0   \n",
       "47       1_601 2021-05-14 18:24:20.775668    s_34514    c_4450   21.99    1.0   \n",
       "59      0_2111 2021-05-14 18:58:23.052457    s_34514    c_4450   12.99    0.0   \n",
       "65      0_1395 2021-04-10 18:32:27.342375    s_18746    c_4450    3.99    0.0   \n",
       "90      0_1694 2021-12-06 18:30:04.633500   s_130397    c_4450    7.65    0.0   \n",
       "113      1_412 2021-05-16 18:21:01.727460    s_35390    c_1576   16.65    1.0   \n",
       "117      1_544 2021-05-16 18:12:08.246606    s_35390    c_1576   29.54    1.0   \n",
       "120      1_396 2021-11-01 18:19:49.653798   s_113318    c_1576   18.60    1.0   \n",
       "145      0_774 2021-08-03 18:27:56.525124    s_70956    c_1576    6.66    0.0   \n",
       "193     0_1341 2021-10-31 18:25:47.071240   s_112828     c_182    9.99    0.0   \n",
       "217     0_1977 2021-04-29 18:43:32.068725    s_27577     c_182    5.99    0.0   \n",
       "232      1_288 2021-03-03 18:33:25.788517     s_1292     c_182   22.09    1.0   \n",
       "245     0_1170 2021-10-31 18:14:20.334397   s_112828     c_182    4.19    0.0   \n",
       "260     0_1384 2021-09-09 18:05:47.827308    s_87398     c_182   14.44    0.0   \n",
       "264     0_1987 2021-03-03 18:29:06.759458     s_1292     c_182    6.99    0.0   \n",
       "274      1_736 2021-08-19 18:44:37.764923    s_77974     c_182   10.29    1.0   \n",
       "282     0_1696 2021-04-29 18:29:08.345811    s_27577     c_182    8.46    0.0   \n",
       "290     0_1698 2021-09-09 18:34:20.764601    s_87398     c_182   14.24    0.0   \n",
       "402      1_524 2022-01-22 18:27:18.168430   s_153642    c_2890   22.02    1.0   \n",
       "406     0_1065 2022-01-22 18:42:19.437579   s_153642    c_2890   15.99    0.0   \n",
       "453     0_2230 2021-08-09 18:04:50.111044    s_73509    c_4690   15.02    0.0   \n",
       "482     0_1483 2021-05-28 18:50:30.713804    s_40836    c_1609    4.99    0.0   \n",
       "529     0_1351 2021-06-14 18:40:40.685726    s_48678    c_1609    8.99    0.0   \n",
       "554     0_1508 2021-11-15 18:02:37.076944   s_120090    c_1609    8.03    0.0   \n",
       "558     0_1508 2021-09-14 18:00:24.622940    s_89891    c_1609    8.03    0.0   \n",
       "589     0_1627 2021-09-16 18:20:21.937014    s_90889    c_1609    3.99    0.0   \n",
       "638     0_1453 2021-03-24 18:48:39.614737    s_10921    c_1609    7.99    0.0   \n",
       "645     0_1453 2021-12-11 18:15:39.403510   s_132901    c_1609    7.99    0.0   \n",
       "...        ...                        ...        ...       ...     ...    ...   \n",
       "335970   0_895 2021-03-03 18:18:22.685719     s_1271    c_3600   16.99    0.0   \n",
       "336013   1_316 2022-02-13 18:27:55.224148   s_164635    c_2488   19.74    1.0   \n",
       "336027  0_1985 2021-12-01 18:02:46.851714   s_127917    c_6861    5.99    0.0   \n",
       "336046   1_398 2021-04-13 18:58:31.072284    s_20127    c_7296   10.17    1.0   \n",
       "336049   1_167 2021-11-15 18:10:39.984959   s_120115    c_7296   10.99    1.0   \n",
       "336073   2_185 2021-12-08 18:01:53.589885   s_131391    c_5315   43.99    2.0   \n",
       "336131   1_304 2021-05-12 18:41:18.785105    s_33610     c_244   26.64    1.0   \n",
       "336134   2_175 2022-01-14 18:42:52.138704   s_149812     c_655   60.99    2.0   \n",
       "336143    1_80 2022-01-14 18:20:48.493672   s_149812     c_655   28.66    1.0   \n",
       "336164   1_310 2021-03-19 18:03:52.719235     s_8612    c_4233   14.20    1.0   \n",
       "336185   2_215 2021-07-03 18:58:52.293729    s_57420    c_5285   49.99    2.0   \n",
       "336190  0_1078 2022-02-10 18:49:53.939343   s_163076      c_12    6.92    0.0   \n",
       "336198   1_305 2021-08-13 18:41:15.053814    s_75297    c_4576   29.99    1.0   \n",
       "336220   1_457 2021-06-25 18:59:11.375057    s_53725     c_713   22.99    1.0   \n",
       "336221   1_133 2021-06-10 18:13:02.678549    s_46812     c_713   21.99    1.0   \n",
       "336247   1_453 2021-09-04 18:58:30.700915    s_85068    c_4460   13.99    1.0   \n",
       "336255   1_527 2021-05-25 18:38:40.170358    s_39445    c_7402   19.99    1.0   \n",
       "336269   0_935 2021-07-09 18:42:23.396553    s_60107    c_3572    3.99    0.0   \n",
       "336362   0_973 2021-11-12 18:07:38.456348   s_118608    c_4968   10.99    0.0   \n",
       "336472   1_441 2022-01-21 18:11:49.864782   s_153175     c_378   24.99    1.0   \n",
       "336480  0_1095 2021-07-08 18:53:34.780578    s_59650    c_3605    6.99    0.0   \n",
       "336497   1_621 2021-12-16 18:48:44.008844   s_135369    c_7158   17.99    1.0   \n",
       "336551   2_179 2021-03-16 18:31:31.035603     s_7240    c_8037   49.99    2.0   \n",
       "336623  0_1112 2021-07-24 18:43:23.401138    s_66646      c_47    7.27    0.0   \n",
       "336624  0_1775 2021-07-24 18:21:59.406358    s_66646      c_47    6.99    0.0   \n",
       "336738   1_242 2021-11-07 18:21:23.985565   s_116203    c_2730   16.31    1.0   \n",
       "336751   2_237 2021-04-25 18:24:52.576574    s_25671    c_1335   40.99    2.0   \n",
       "336755    2_85 2021-07-09 18:11:59.608150    s_60096    c_1335  128.99    2.0   \n",
       "336787   2_127 2021-09-17 18:40:41.441024    s_91396    c_1828   68.99    2.0   \n",
       "336815   0_142 2021-09-25 18:07:25.880052    s_95415    c_1232   19.85    0.0   \n",
       "\n",
       "       sex   birth   age classe_age  heure  \n",
       "0        f  1977.0  45.0      30-50   18.0  \n",
       "17       f  1977.0  45.0      30-50   18.0  \n",
       "23       f  1977.0  45.0      30-50   18.0  \n",
       "47       f  1977.0  45.0      30-50   18.0  \n",
       "59       f  1977.0  45.0      30-50   18.0  \n",
       "65       f  1977.0  45.0      30-50   18.0  \n",
       "90       f  1977.0  45.0      30-50   18.0  \n",
       "113      m  1956.0  66.0        50+   18.0  \n",
       "117      m  1956.0  66.0        50+   18.0  \n",
       "120      m  1956.0  66.0        50+   18.0  \n",
       "145      m  1956.0  66.0        50+   18.0  \n",
       "193      f  1984.0  38.0      30-50   18.0  \n",
       "217      f  1984.0  38.0      30-50   18.0  \n",
       "232      f  1984.0  38.0      30-50   18.0  \n",
       "245      f  1984.0  38.0      30-50   18.0  \n",
       "260      f  1984.0  38.0      30-50   18.0  \n",
       "264      f  1984.0  38.0      30-50   18.0  \n",
       "274      f  1984.0  38.0      30-50   18.0  \n",
       "282      f  1984.0  38.0      30-50   18.0  \n",
       "290      f  1984.0  38.0      30-50   18.0  \n",
       "402      f  1982.0  40.0      30-50   18.0  \n",
       "406      f  1982.0  40.0      30-50   18.0  \n",
       "453      m  1979.0  43.0      30-50   18.0  \n",
       "482      m  1980.0  42.0      30-50   18.0  \n",
       "529      m  1980.0  42.0      30-50   18.0  \n",
       "554      m  1980.0  42.0      30-50   18.0  \n",
       "558      m  1980.0  42.0      30-50   18.0  \n",
       "589      m  1980.0  42.0      30-50   18.0  \n",
       "638      m  1980.0  42.0      30-50   18.0  \n",
       "645      m  1980.0  42.0      30-50   18.0  \n",
       "...     ..     ...   ...        ...    ...  \n",
       "335970   m  1975.0  47.0      30-50   18.0  \n",
       "336013   m  1950.0  72.0        50+   18.0  \n",
       "336027   m  1966.0  56.0        50+   18.0  \n",
       "336046   f  2004.0  18.0      18-30   18.0  \n",
       "336049   f  2004.0  18.0      18-30   18.0  \n",
       "336073   m  2003.0  19.0      18-30   18.0  \n",
       "336131   f  1969.0  53.0        50+   18.0  \n",
       "336134   m  2000.0  22.0      18-30   18.0  \n",
       "336143   m  2000.0  22.0      18-30   18.0  \n",
       "336164   m  1957.0  65.0        50+   18.0  \n",
       "336185   f  2004.0  18.0      18-30   18.0  \n",
       "336190   f  1954.0  68.0        50+   18.0  \n",
       "336198   m  2004.0  18.0      18-30   18.0  \n",
       "336220   f  2004.0  18.0      18-30   18.0  \n",
       "336221   f  2004.0  18.0      18-30   18.0  \n",
       "336247   f  2004.0  18.0      18-30   18.0  \n",
       "336255   m  1945.0  77.0        50+   18.0  \n",
       "336269   f  1949.0  73.0        50+   18.0  \n",
       "336362   m  1988.0  34.0      30-50   18.0  \n",
       "336472   m  1958.0  64.0        50+   18.0  \n",
       "336480   f  1962.0  60.0        50+   18.0  \n",
       "336497   m  2004.0  18.0      18-30   18.0  \n",
       "336551   m  2000.0  22.0      18-30   18.0  \n",
       "336623   m  2000.0  22.0      18-30   18.0  \n",
       "336624   m  2000.0  22.0      18-30   18.0  \n",
       "336738   f  1966.0  56.0        50+   18.0  \n",
       "336751   f  2000.0  22.0      18-30   18.0  \n",
       "336755   f  2000.0  22.0      18-30   18.0  \n",
       "336787   m  2004.0  18.0      18-30   18.0  \n",
       "336815   f  1960.0  62.0        50+   18.0  \n",
       "\n",
       "[14017 rows x 11 columns]"
      ]
     },
     "execution_count": 47,
     "metadata": {},
     "output_type": "execute_result"
    }
   ],
   "source": [
    "vh[vh['heure']==18]"
   ]
  },
  {
   "cell_type": "code",
   "execution_count": 25,
   "metadata": {},
   "outputs": [
    {
     "data": {
      "image/png": "[encoded data removed]",
      "text/plain": [
       "<Figure size 432x288 with 1 Axes>"
      ]
     },
     "metadata": {},
     "output_type": "display_data"
    }
   ],
   "source": [
    "# Je sors le graph en faisant un groupby sur chaque heure et une moyenne sur les prix\n",
    "vh.groupby('heure')['price'].sum().plot()\n",
    "plt.title('CA en fonction des heures')\n",
    "plt.ylabel('CA')\n",
    "plt.xlabel('heure de vente')\n",
    "\n",
    "plt.savefig('fig24.jpeg')"
   ]
  },
  {
   "cell_type": "markdown",
   "metadata": {},
   "source": [
    "### Répartition des ventes par jour"
   ]
  },
  {
   "cell_type": "code",
   "execution_count": 48,
   "metadata": {},
   "outputs": [
    {
     "data": {
      "text/html": [
       "<div>\n",
       "<style scoped>\n",
       "    .dataframe tbody tr th:only-of-type {\n",
       "        vertical-align: middle;\n",
       "    }\n",
       "\n",
       "    .dataframe tbody tr th {\n",
       "        vertical-align: top;\n",
       "    }\n",
       "\n",
       "    .dataframe thead th {\n",
       "        text-align: right;\n",
       "    }\n",
       "</style>\n",
       "<table border=\"1\" class=\"dataframe\">\n",
       "  <thead>\n",
       "    <tr style=\"text-align: right;\">\n",
       "      <th></th>\n",
       "      <th>id_prod</th>\n",
       "      <th>date</th>\n",
       "      <th>session_id</th>\n",
       "      <th>client_id</th>\n",
       "      <th>price</th>\n",
       "      <th>categ</th>\n",
       "      <th>sex</th>\n",
       "      <th>birth</th>\n",
       "      <th>age</th>\n",
       "      <th>classe_age</th>\n",
       "    </tr>\n",
       "  </thead>\n",
       "  <tbody>\n",
       "    <tr>\n",
       "      <th>0</th>\n",
       "      <td>0_1483</td>\n",
       "      <td>2021-04-10 18:37:28.723910</td>\n",
       "      <td>s_18746</td>\n",
       "      <td>c_4450</td>\n",
       "      <td>4.99</td>\n",
       "      <td>0.0</td>\n",
       "      <td>f</td>\n",
       "      <td>1977.0</td>\n",
       "      <td>45.0</td>\n",
       "      <td>30-50</td>\n",
       "    </tr>\n",
       "    <tr>\n",
       "      <th>1</th>\n",
       "      <td>0_1085</td>\n",
       "      <td>2021-09-29 11:14:59.793823</td>\n",
       "      <td>s_97382</td>\n",
       "      <td>c_4450</td>\n",
       "      <td>3.99</td>\n",
       "      <td>0.0</td>\n",
       "      <td>f</td>\n",
       "      <td>1977.0</td>\n",
       "      <td>45.0</td>\n",
       "      <td>30-50</td>\n",
       "    </tr>\n",
       "    <tr>\n",
       "      <th>2</th>\n",
       "      <td>0_1453</td>\n",
       "      <td>2021-08-27 19:50:46.796939</td>\n",
       "      <td>s_81509</td>\n",
       "      <td>c_4450</td>\n",
       "      <td>7.99</td>\n",
       "      <td>0.0</td>\n",
       "      <td>f</td>\n",
       "      <td>1977.0</td>\n",
       "      <td>45.0</td>\n",
       "      <td>30-50</td>\n",
       "    </tr>\n",
       "    <tr>\n",
       "      <th>3</th>\n",
       "      <td>0_1405</td>\n",
       "      <td>2021-08-27 20:07:25.878440</td>\n",
       "      <td>s_81509</td>\n",
       "      <td>c_4450</td>\n",
       "      <td>4.99</td>\n",
       "      <td>0.0</td>\n",
       "      <td>f</td>\n",
       "      <td>1977.0</td>\n",
       "      <td>45.0</td>\n",
       "      <td>30-50</td>\n",
       "    </tr>\n",
       "    <tr>\n",
       "      <th>4</th>\n",
       "      <td>0_1392</td>\n",
       "      <td>2021-12-28 11:45:04.072281</td>\n",
       "      <td>s_141302</td>\n",
       "      <td>c_4450</td>\n",
       "      <td>6.30</td>\n",
       "      <td>0.0</td>\n",
       "      <td>f</td>\n",
       "      <td>1977.0</td>\n",
       "      <td>45.0</td>\n",
       "      <td>30-50</td>\n",
       "    </tr>\n",
       "  </tbody>\n",
       "</table>\n",
       "</div>"
      ],
      "text/plain": [
       "  id_prod                       date session_id client_id  price  categ sex  \\\n",
       "0  0_1483 2021-04-10 18:37:28.723910    s_18746    c_4450   4.99    0.0   f   \n",
       "1  0_1085 2021-09-29 11:14:59.793823    s_97382    c_4450   3.99    0.0   f   \n",
       "2  0_1453 2021-08-27 19:50:46.796939    s_81509    c_4450   7.99    0.0   f   \n",
       "3  0_1405 2021-08-27 20:07:25.878440    s_81509    c_4450   4.99    0.0   f   \n",
       "4  0_1392 2021-12-28 11:45:04.072281   s_141302    c_4450   6.30    0.0   f   \n",
       "\n",
       "    birth   age classe_age  \n",
       "0  1977.0  45.0      30-50  \n",
       "1  1977.0  45.0      30-50  \n",
       "2  1977.0  45.0      30-50  \n",
       "3  1977.0  45.0      30-50  \n",
       "4  1977.0  45.0      30-50  "
      ]
     },
     "execution_count": 48,
     "metadata": {},
     "output_type": "execute_result"
    }
   ],
   "source": [
    "# Je reprends le df de base : \n",
    "cpv.head()"
   ]
  },
  {
   "cell_type": "code",
   "execution_count": 26,
   "metadata": {},
   "outputs": [],
   "source": [
    "# Je garde les colonnes utiles du df de base et mets la date en index\n",
    "vj = cpv[['date','price']].set_index('date')"
   ]
  },
  {
   "cell_type": "code",
   "execution_count": 27,
   "metadata": {},
   "outputs": [],
   "source": [
    "# Création d'un df pour voir les données par jour\n",
    "vj = vj.to_period(freq='D')"
   ]
  },
  {
   "cell_type": "code",
   "execution_count": 136,
   "metadata": {
    "scrolled": true
   },
   "outputs": [
    {
     "data": {
      "text/html": [
       "<div>\n",
       "<style scoped>\n",
       "    .dataframe tbody tr th:only-of-type {\n",
       "        vertical-align: middle;\n",
       "    }\n",
       "\n",
       "    .dataframe tbody tr th {\n",
       "        vertical-align: top;\n",
       "    }\n",
       "\n",
       "    .dataframe thead th {\n",
       "        text-align: right;\n",
       "    }\n",
       "</style>\n",
       "<table border=\"1\" class=\"dataframe\">\n",
       "  <thead>\n",
       "    <tr style=\"text-align: right;\">\n",
       "      <th></th>\n",
       "      <th>price</th>\n",
       "    </tr>\n",
       "    <tr>\n",
       "      <th>date</th>\n",
       "      <th></th>\n",
       "    </tr>\n",
       "  </thead>\n",
       "  <tbody>\n",
       "    <tr>\n",
       "      <th>2021-04-10</th>\n",
       "      <td>4.99</td>\n",
       "    </tr>\n",
       "  </tbody>\n",
       "</table>\n",
       "</div>"
      ],
      "text/plain": [
       "            price\n",
       "date             \n",
       "2021-04-10   4.99"
      ]
     },
     "execution_count": 136,
     "metadata": {},
     "output_type": "execute_result"
    }
   ],
   "source": [
    "vj.head(1)"
   ]
  },
  {
   "cell_type": "code",
   "execution_count": 28,
   "metadata": {},
   "outputs": [],
   "source": [
    "# Je fais un group by sur la date et une somme sur les prix\n",
    "vj = vj.groupby('date').sum()"
   ]
  },
  {
   "cell_type": "code",
   "execution_count": 30,
   "metadata": {},
   "outputs": [
    {
     "data": {
      "image/png": "[encoded data removed]",
      "text/plain": [
       "<Figure size 432x288 with 1 Axes>"
      ]
     },
     "metadata": {},
     "output_type": "display_data"
    }
   ],
   "source": [
    "# Visualisation\n",
    "vj.plot()\n",
    "plt.ylabel('CA')\n",
    "plt.title('Montants des ventes par jour, du 1/03/21 au 28/02/22')\n",
    "plt.legend().set_visible(False)\n",
    "\n",
    "plt.savefig('fig25.jpeg')"
   ]
  },
  {
   "cell_type": "markdown",
   "metadata": {},
   "source": [
    "Grosse chute des ventes en octobre 2021. Problèmes d'enregistrement ? "
   ]
  },
  {
   "cell_type": "code",
   "execution_count": 31,
   "metadata": {},
   "outputs": [
    {
     "data": {
      "image/png": "[encoded data removed]",
      "text/plain": [
       "<Figure size 432x288 with 1 Axes>"
      ]
     },
     "metadata": {},
     "output_type": "display_data"
    }
   ],
   "source": [
    "# Zoom sur la partie la plus basse\n",
    "vj.plot()\n",
    "plt.ylabel('CA')\n",
    "plt.xlim('2021-10-01','2021-10-30')\n",
    "plt.ylim(8000,12000)\n",
    "plt.legend().set_visible(False)\n",
    "plt.savefig('fig26.jpeg')"
   ]
  },
  {
   "cell_type": "markdown",
   "metadata": {},
   "source": [
    "#### Exploration de la période d'octobre 2021 dans le cadre de la chute des ventes sur ce mois"
   ]
  },
  {
   "cell_type": "code",
   "execution_count": 32,
   "metadata": {},
   "outputs": [],
   "source": [
    "# Je garde les colonnes utiles et mets la date en index\n",
    "vexplo = cpv[['date','price','categ']].set_index('date')"
   ]
  },
  {
   "cell_type": "code",
   "execution_count": 33,
   "metadata": {},
   "outputs": [],
   "source": [
    "# Je passe l'index en datetime\n",
    "vexplo.index = pd.to_datetime(vexplo.index)"
   ]
  },
  {
   "cell_type": "code",
   "execution_count": 34,
   "metadata": {},
   "outputs": [
    {
     "data": {
      "text/html": [
       "<div>\n",
       "<style scoped>\n",
       "    .dataframe tbody tr th:only-of-type {\n",
       "        vertical-align: middle;\n",
       "    }\n",
       "\n",
       "    .dataframe tbody tr th {\n",
       "        vertical-align: top;\n",
       "    }\n",
       "\n",
       "    .dataframe thead th {\n",
       "        text-align: right;\n",
       "    }\n",
       "</style>\n",
       "<table border=\"1\" class=\"dataframe\">\n",
       "  <thead>\n",
       "    <tr style=\"text-align: right;\">\n",
       "      <th></th>\n",
       "      <th>price</th>\n",
       "      <th>categ</th>\n",
       "    </tr>\n",
       "    <tr>\n",
       "      <th>date</th>\n",
       "      <th></th>\n",
       "      <th></th>\n",
       "    </tr>\n",
       "  </thead>\n",
       "  <tbody>\n",
       "    <tr>\n",
       "      <th>2021-04</th>\n",
       "      <td>4.99</td>\n",
       "      <td>0.0</td>\n",
       "    </tr>\n",
       "    <tr>\n",
       "      <th>2021-09</th>\n",
       "      <td>3.99</td>\n",
       "      <td>0.0</td>\n",
       "    </tr>\n",
       "    <tr>\n",
       "      <th>2021-08</th>\n",
       "      <td>7.99</td>\n",
       "      <td>0.0</td>\n",
       "    </tr>\n",
       "    <tr>\n",
       "      <th>2021-08</th>\n",
       "      <td>4.99</td>\n",
       "      <td>0.0</td>\n",
       "    </tr>\n",
       "    <tr>\n",
       "      <th>2021-12</th>\n",
       "      <td>6.30</td>\n",
       "      <td>0.0</td>\n",
       "    </tr>\n",
       "  </tbody>\n",
       "</table>\n",
       "</div>"
      ],
      "text/plain": [
       "         price  categ\n",
       "date                 \n",
       "2021-04   4.99    0.0\n",
       "2021-09   3.99    0.0\n",
       "2021-08   7.99    0.0\n",
       "2021-08   4.99    0.0\n",
       "2021-12   6.30    0.0"
      ]
     },
     "execution_count": 34,
     "metadata": {},
     "output_type": "execute_result"
    }
   ],
   "source": [
    "# J'échantillone les données par mois\n",
    "vexplo = vexplo.to_period(freq='M')\n",
    "vexplo.head()"
   ]
  },
  {
   "cell_type": "code",
   "execution_count": 35,
   "metadata": {},
   "outputs": [],
   "source": [
    "# Je garde uniquement le mois d'octobre\n",
    "voct = vexplo[vexplo.index=='2021-10'].reset_index()"
   ]
  },
  {
   "cell_type": "code",
   "execution_count": 288,
   "metadata": {},
   "outputs": [
    {
     "data": {
      "text/html": [
       "<div>\n",
       "<style scoped>\n",
       "    .dataframe tbody tr th:only-of-type {\n",
       "        vertical-align: middle;\n",
       "    }\n",
       "\n",
       "    .dataframe tbody tr th {\n",
       "        vertical-align: top;\n",
       "    }\n",
       "\n",
       "    .dataframe thead th {\n",
       "        text-align: right;\n",
       "    }\n",
       "</style>\n",
       "<table border=\"1\" class=\"dataframe\">\n",
       "  <thead>\n",
       "    <tr style=\"text-align: right;\">\n",
       "      <th></th>\n",
       "      <th>date</th>\n",
       "      <th>price</th>\n",
       "      <th>categ</th>\n",
       "    </tr>\n",
       "  </thead>\n",
       "  <tbody>\n",
       "    <tr>\n",
       "      <th>0</th>\n",
       "      <td>2021-10</td>\n",
       "      <td>12.53</td>\n",
       "      <td>0.0</td>\n",
       "    </tr>\n",
       "    <tr>\n",
       "      <th>1</th>\n",
       "      <td>2021-10</td>\n",
       "      <td>3.99</td>\n",
       "      <td>0.0</td>\n",
       "    </tr>\n",
       "    <tr>\n",
       "      <th>2</th>\n",
       "      <td>2021-10</td>\n",
       "      <td>4.99</td>\n",
       "      <td>0.0</td>\n",
       "    </tr>\n",
       "    <tr>\n",
       "      <th>3</th>\n",
       "      <td>2021-10</td>\n",
       "      <td>12.71</td>\n",
       "      <td>0.0</td>\n",
       "    </tr>\n",
       "    <tr>\n",
       "      <th>4</th>\n",
       "      <td>2021-10</td>\n",
       "      <td>8.58</td>\n",
       "      <td>1.0</td>\n",
       "    </tr>\n",
       "  </tbody>\n",
       "</table>\n",
       "</div>"
      ],
      "text/plain": [
       "     date  price  categ\n",
       "0 2021-10  12.53    0.0\n",
       "1 2021-10   3.99    0.0\n",
       "2 2021-10   4.99    0.0\n",
       "3 2021-10  12.71    0.0\n",
       "4 2021-10   8.58    1.0"
      ]
     },
     "execution_count": 288,
     "metadata": {},
     "output_type": "execute_result"
    }
   ],
   "source": [
    "voct.head()"
   ]
  },
  {
   "cell_type": "code",
   "execution_count": 36,
   "metadata": {},
   "outputs": [],
   "source": [
    "# Group by par catégorie pour voir les ventes par catégorie\n",
    "voct = voct.groupby('categ').sum().reset_index()"
   ]
  },
  {
   "cell_type": "code",
   "execution_count": 290,
   "metadata": {},
   "outputs": [
    {
     "data": {
      "text/html": [
       "<div>\n",
       "<style scoped>\n",
       "    .dataframe tbody tr th:only-of-type {\n",
       "        vertical-align: middle;\n",
       "    }\n",
       "\n",
       "    .dataframe tbody tr th {\n",
       "        vertical-align: top;\n",
       "    }\n",
       "\n",
       "    .dataframe thead th {\n",
       "        text-align: right;\n",
       "    }\n",
       "</style>\n",
       "<table border=\"1\" class=\"dataframe\">\n",
       "  <thead>\n",
       "    <tr style=\"text-align: right;\">\n",
       "      <th></th>\n",
       "      <th>categ</th>\n",
       "      <th>price</th>\n",
       "    </tr>\n",
       "  </thead>\n",
       "  <tbody>\n",
       "    <tr>\n",
       "      <th>0</th>\n",
       "      <td>0.0</td>\n",
       "      <td>199292.469504</td>\n",
       "    </tr>\n",
       "    <tr>\n",
       "      <th>1</th>\n",
       "      <td>1.0</td>\n",
       "      <td>33762.320000</td>\n",
       "    </tr>\n",
       "    <tr>\n",
       "      <th>2</th>\n",
       "      <td>2.0</td>\n",
       "      <td>86179.700000</td>\n",
       "    </tr>\n",
       "  </tbody>\n",
       "</table>\n",
       "</div>"
      ],
      "text/plain": [
       "   categ          price\n",
       "0    0.0  199292.469504\n",
       "1    1.0   33762.320000\n",
       "2    2.0   86179.700000"
      ]
     },
     "execution_count": 290,
     "metadata": {},
     "output_type": "execute_result"
    }
   ],
   "source": [
    "voct.head()"
   ]
  },
  {
   "cell_type": "code",
   "execution_count": 37,
   "metadata": {},
   "outputs": [],
   "source": [
    "# Je créé un df sans le mois d'octobre pour rechercher la moyenne des ventes sur l'année\n",
    "vmoyssoct = vexplo[vexplo.index!='2021-10'].reset_index()"
   ]
  },
  {
   "cell_type": "code",
   "execution_count": 292,
   "metadata": {},
   "outputs": [
    {
     "data": {
      "text/html": [
       "<div>\n",
       "<style scoped>\n",
       "    .dataframe tbody tr th:only-of-type {\n",
       "        vertical-align: middle;\n",
       "    }\n",
       "\n",
       "    .dataframe tbody tr th {\n",
       "        vertical-align: top;\n",
       "    }\n",
       "\n",
       "    .dataframe thead th {\n",
       "        text-align: right;\n",
       "    }\n",
       "</style>\n",
       "<table border=\"1\" class=\"dataframe\">\n",
       "  <thead>\n",
       "    <tr style=\"text-align: right;\">\n",
       "      <th></th>\n",
       "      <th>date</th>\n",
       "      <th>price</th>\n",
       "      <th>categ</th>\n",
       "    </tr>\n",
       "  </thead>\n",
       "  <tbody>\n",
       "    <tr>\n",
       "      <th>0</th>\n",
       "      <td>2021-04</td>\n",
       "      <td>4.99</td>\n",
       "      <td>0.0</td>\n",
       "    </tr>\n",
       "    <tr>\n",
       "      <th>1</th>\n",
       "      <td>2021-09</td>\n",
       "      <td>3.99</td>\n",
       "      <td>0.0</td>\n",
       "    </tr>\n",
       "    <tr>\n",
       "      <th>2</th>\n",
       "      <td>2021-08</td>\n",
       "      <td>7.99</td>\n",
       "      <td>0.0</td>\n",
       "    </tr>\n",
       "    <tr>\n",
       "      <th>3</th>\n",
       "      <td>2021-08</td>\n",
       "      <td>4.99</td>\n",
       "      <td>0.0</td>\n",
       "    </tr>\n",
       "    <tr>\n",
       "      <th>4</th>\n",
       "      <td>2021-12</td>\n",
       "      <td>6.30</td>\n",
       "      <td>0.0</td>\n",
       "    </tr>\n",
       "  </tbody>\n",
       "</table>\n",
       "</div>"
      ],
      "text/plain": [
       "     date  price  categ\n",
       "0 2021-04   4.99    0.0\n",
       "1 2021-09   3.99    0.0\n",
       "2 2021-08   7.99    0.0\n",
       "3 2021-08   4.99    0.0\n",
       "4 2021-12   6.30    0.0"
      ]
     },
     "execution_count": 292,
     "metadata": {},
     "output_type": "execute_result"
    }
   ],
   "source": [
    "vmoyssoct.head()"
   ]
  },
  {
   "cell_type": "code",
   "execution_count": 38,
   "metadata": {},
   "outputs": [],
   "source": [
    "# Group by pour avoir les ventes par mois et par categorie\n",
    "vmoyssoct = vmoyssoct.groupby(['date','categ']).sum().reset_index()"
   ]
  },
  {
   "cell_type": "code",
   "execution_count": 39,
   "metadata": {},
   "outputs": [],
   "source": [
    "# Nouveau group by pour avoir la moyenne des ventes par mois sur l'année\n",
    "vmoyssoct = vmoyssoct.groupby('categ').mean().reset_index()"
   ]
  },
  {
   "cell_type": "code",
   "execution_count": 40,
   "metadata": {},
   "outputs": [
    {
     "data": {
      "text/html": [
       "<div>\n",
       "<style scoped>\n",
       "    .dataframe tbody tr th:only-of-type {\n",
       "        vertical-align: middle;\n",
       "    }\n",
       "\n",
       "    .dataframe tbody tr th {\n",
       "        vertical-align: top;\n",
       "    }\n",
       "\n",
       "    .dataframe thead th {\n",
       "        text-align: right;\n",
       "    }\n",
       "</style>\n",
       "<table border=\"1\" class=\"dataframe\">\n",
       "  <thead>\n",
       "    <tr style=\"text-align: right;\">\n",
       "      <th></th>\n",
       "      <th>categ</th>\n",
       "      <th>price</th>\n",
       "    </tr>\n",
       "  </thead>\n",
       "  <tbody>\n",
       "    <tr>\n",
       "      <th>0</th>\n",
       "      <td>0.0</td>\n",
       "      <td>184684.257174</td>\n",
       "    </tr>\n",
       "    <tr>\n",
       "      <th>1</th>\n",
       "      <td>1.0</td>\n",
       "      <td>201238.371818</td>\n",
       "    </tr>\n",
       "    <tr>\n",
       "      <th>2</th>\n",
       "      <td>2.0</td>\n",
       "      <td>112117.364545</td>\n",
       "    </tr>\n",
       "  </tbody>\n",
       "</table>\n",
       "</div>"
      ],
      "text/plain": [
       "   categ          price\n",
       "0    0.0  184684.257174\n",
       "1    1.0  201238.371818\n",
       "2    2.0  112117.364545"
      ]
     },
     "execution_count": 40,
     "metadata": {},
     "output_type": "execute_result"
    }
   ],
   "source": [
    "vmoyssoct.head()"
   ]
  },
  {
   "cell_type": "code",
   "execution_count": 41,
   "metadata": {},
   "outputs": [
    {
     "data": {
      "text/html": [
       "<div>\n",
       "<style scoped>\n",
       "    .dataframe tbody tr th:only-of-type {\n",
       "        vertical-align: middle;\n",
       "    }\n",
       "\n",
       "    .dataframe tbody tr th {\n",
       "        vertical-align: top;\n",
       "    }\n",
       "\n",
       "    .dataframe thead th {\n",
       "        text-align: right;\n",
       "    }\n",
       "</style>\n",
       "<table border=\"1\" class=\"dataframe\">\n",
       "  <thead>\n",
       "    <tr style=\"text-align: right;\">\n",
       "      <th></th>\n",
       "      <th>categ</th>\n",
       "      <th>price_x</th>\n",
       "      <th>price_y</th>\n",
       "    </tr>\n",
       "  </thead>\n",
       "  <tbody>\n",
       "    <tr>\n",
       "      <th>0</th>\n",
       "      <td>0.0</td>\n",
       "      <td>199292.469504</td>\n",
       "      <td>184684.257174</td>\n",
       "    </tr>\n",
       "    <tr>\n",
       "      <th>1</th>\n",
       "      <td>1.0</td>\n",
       "      <td>33762.320000</td>\n",
       "      <td>201238.371818</td>\n",
       "    </tr>\n",
       "    <tr>\n",
       "      <th>2</th>\n",
       "      <td>2.0</td>\n",
       "      <td>86179.700000</td>\n",
       "      <td>112117.364545</td>\n",
       "    </tr>\n",
       "  </tbody>\n",
       "</table>\n",
       "</div>"
      ],
      "text/plain": [
       "   categ        price_x        price_y\n",
       "0    0.0  199292.469504  184684.257174\n",
       "1    1.0   33762.320000  201238.371818\n",
       "2    2.0   86179.700000  112117.364545"
      ]
     },
     "execution_count": 41,
     "metadata": {},
     "output_type": "execute_result"
    }
   ],
   "source": [
    "# Je fais une jointure : \n",
    "# 1. des ventes en octobre avec\n",
    "# 2. le df de la moyenne des ventes sur l'année\n",
    "voct = voct.merge(vmoyssoct, on='categ')\n",
    "voct"
   ]
  },
  {
   "cell_type": "code",
   "execution_count": 42,
   "metadata": {},
   "outputs": [],
   "source": [
    "# Renommage des colonnes\n",
    "voct.columns = ['categ', 'CA_oct','CA_an_ss_oct']"
   ]
  },
  {
   "cell_type": "code",
   "execution_count": 302,
   "metadata": {},
   "outputs": [
    {
     "data": {
      "text/html": [
       "<div>\n",
       "<style scoped>\n",
       "    .dataframe tbody tr th:only-of-type {\n",
       "        vertical-align: middle;\n",
       "    }\n",
       "\n",
       "    .dataframe tbody tr th {\n",
       "        vertical-align: top;\n",
       "    }\n",
       "\n",
       "    .dataframe thead th {\n",
       "        text-align: right;\n",
       "    }\n",
       "</style>\n",
       "<table border=\"1\" class=\"dataframe\">\n",
       "  <thead>\n",
       "    <tr style=\"text-align: right;\">\n",
       "      <th></th>\n",
       "      <th>categ</th>\n",
       "      <th>CA_oct</th>\n",
       "      <th>CA_an_ss_oct</th>\n",
       "    </tr>\n",
       "  </thead>\n",
       "  <tbody>\n",
       "    <tr>\n",
       "      <th>0</th>\n",
       "      <td>0.0</td>\n",
       "      <td>199292.469504</td>\n",
       "      <td>184684.257174</td>\n",
       "    </tr>\n",
       "    <tr>\n",
       "      <th>1</th>\n",
       "      <td>1.0</td>\n",
       "      <td>33762.320000</td>\n",
       "      <td>201238.371818</td>\n",
       "    </tr>\n",
       "    <tr>\n",
       "      <th>2</th>\n",
       "      <td>2.0</td>\n",
       "      <td>86179.700000</td>\n",
       "      <td>112117.364545</td>\n",
       "    </tr>\n",
       "  </tbody>\n",
       "</table>\n",
       "</div>"
      ],
      "text/plain": [
       "   categ         CA_oct   CA_an_ss_oct\n",
       "0    0.0  199292.469504  184684.257174\n",
       "1    1.0   33762.320000  201238.371818\n",
       "2    2.0   86179.700000  112117.364545"
      ]
     },
     "execution_count": 302,
     "metadata": {},
     "output_type": "execute_result"
    }
   ],
   "source": [
    "voct"
   ]
  },
  {
   "cell_type": "code",
   "execution_count": 43,
   "metadata": {},
   "outputs": [
    {
     "data": {
      "image/png": "[encoded data removed]",
      "text/plain": [
       "<Figure size 432x360 with 1 Axes>"
      ]
     },
     "metadata": {},
     "output_type": "display_data"
    }
   ],
   "source": [
    "# Histogramme\n",
    "# https://matplotlib.org/gallery/lines_bars_and_markers/barchart.html#sphx-glr-gallery-lines-bars-and-markers-barchart-py\n",
    "labels = ['Cat 0', 'Cat 1', 'Cat 2']\n",
    "moy_v_an = voct.CA_an_ss_oct.round().astype(int) # Moyenne des ventes annuelles sans octobre\n",
    "ventes_oct = voct.CA_oct.round().astype(int) # Ventes d'octobre\n",
    "\n",
    "x = np.arange(len(labels))  # the label locations\n",
    "width = 0.35  # the width of the bars\n",
    "\n",
    "fig, ax = plt.subplots(figsize=(6,5))\n",
    "rects1 = ax.bar(x - width/2, moy_v_an, width, label='Moy CA/mois')\n",
    "rects2 = ax.bar(x + width/2, ventes_oct, width, label='CA oct')\n",
    "\n",
    "# Add some text for labels, title and custom x-axis tick labels, etc.\n",
    "ax.set_ylabel('CA')\n",
    "ax.set_title('Impact de l\\'anomalie d\\'octobre sur le CA par catégorie')\n",
    "ax.set_xticks(x)\n",
    "ax.set_xticklabels(labels)\n",
    "ax.legend()\n",
    "\n",
    "\n",
    "def autolabel(rects):\n",
    "    \"\"\"Attach a text label above each bar in *rects*, displaying its height.\"\"\"\n",
    "    for rect in rects:\n",
    "        height = rect.get_height()\n",
    "        ax.annotate('{}'.format(height),\n",
    "                    xy=(rect.get_x() + rect.get_width() / 2, height),\n",
    "                    xytext=(0, 3),  # 3 points vertical offset\n",
    "                    textcoords=\"offset points\",\n",
    "                    ha='center', va='bottom')\n",
    "\n",
    "\n",
    "autolabel(rects1)\n",
    "autolabel(rects2)\n",
    "\n",
    "fig.tight_layout()\n",
    "\n",
    "plt.savefig('fig27.jpeg')"
   ]
  },
  {
   "cell_type": "markdown",
   "metadata": {},
   "source": [
    "On constate que les produits de catégorie 1 sont fortement impactés par cette \"anomalie\" sur le mois d'octobre. "
   ]
  },
  {
   "cell_type": "markdown",
   "metadata": {},
   "source": [
    "#### Exploration de la période d'octobre 2021 dans le cadre de la chute des ventes sur ce mois, pour la catégorie 1"
   ]
  },
  {
   "cell_type": "code",
   "execution_count": 44,
   "metadata": {},
   "outputs": [],
   "source": [
    "# Je créé un df à partir du df global\n",
    "vj2 = cpv[['date','price', 'categ']].set_index('date')"
   ]
  },
  {
   "cell_type": "code",
   "execution_count": 45,
   "metadata": {},
   "outputs": [],
   "source": [
    "# Je mets la fréquence D pour voir les données par jour\n",
    "vj2 = vj2.to_period(freq='D').reset_index()"
   ]
  },
  {
   "cell_type": "code",
   "execution_count": 46,
   "metadata": {},
   "outputs": [],
   "source": [
    "# Je rajoute une colonne correspondant au mois\n",
    "vj2['month'] = vj2['date'].dt.month"
   ]
  },
  {
   "cell_type": "code",
   "execution_count": 47,
   "metadata": {},
   "outputs": [],
   "source": [
    "# Je garde seulement les données relatives aux jours du mois d'octobre\n",
    "vj2oct = vj2[vj2['month']==10]"
   ]
  },
  {
   "cell_type": "code",
   "execution_count": 48,
   "metadata": {},
   "outputs": [],
   "source": [
    "# Suppression de la colonne mois devenue inutile\n",
    "vj2oct = vj2oct.drop('month', axis=1)"
   ]
  },
  {
   "cell_type": "code",
   "execution_count": 49,
   "metadata": {},
   "outputs": [],
   "source": [
    "# je pivote la table pour avoir les dates en ligne et les catégorie en colonnes\n",
    "vj2oct = pd.pivot_table(vj2oct, index='date', columns=['categ'], aggfunc='sum')"
   ]
  },
  {
   "cell_type": "code",
   "execution_count": 50,
   "metadata": {},
   "outputs": [],
   "source": [
    "# Je renomme les colonnes\n",
    "vj2oct.columns = ['cat_0', 'cat_1', 'cat_2']"
   ]
  },
  {
   "cell_type": "code",
   "execution_count": 156,
   "metadata": {},
   "outputs": [
    {
     "data": {
      "text/html": [
       "<div>\n",
       "<style scoped>\n",
       "    .dataframe tbody tr th:only-of-type {\n",
       "        vertical-align: middle;\n",
       "    }\n",
       "\n",
       "    .dataframe tbody tr th {\n",
       "        vertical-align: top;\n",
       "    }\n",
       "\n",
       "    .dataframe thead th {\n",
       "        text-align: right;\n",
       "    }\n",
       "</style>\n",
       "<table border=\"1\" class=\"dataframe\">\n",
       "  <thead>\n",
       "    <tr style=\"text-align: right;\">\n",
       "      <th></th>\n",
       "      <th>cat_0</th>\n",
       "      <th>cat_1</th>\n",
       "      <th>cat_2</th>\n",
       "    </tr>\n",
       "    <tr>\n",
       "      <th>date</th>\n",
       "      <th></th>\n",
       "      <th></th>\n",
       "      <th></th>\n",
       "    </tr>\n",
       "  </thead>\n",
       "  <tbody>\n",
       "    <tr>\n",
       "      <th>2021-10-01</th>\n",
       "      <td>6947.510000</td>\n",
       "      <td>7003.79</td>\n",
       "      <td>2958.06</td>\n",
       "    </tr>\n",
       "    <tr>\n",
       "      <th>2021-10-02</th>\n",
       "      <td>7138.020000</td>\n",
       "      <td>NaN</td>\n",
       "      <td>1895.13</td>\n",
       "    </tr>\n",
       "    <tr>\n",
       "      <th>2021-10-03</th>\n",
       "      <td>6783.580000</td>\n",
       "      <td>NaN</td>\n",
       "      <td>2060.49</td>\n",
       "    </tr>\n",
       "    <tr>\n",
       "      <th>2021-10-04</th>\n",
       "      <td>6551.904144</td>\n",
       "      <td>NaN</td>\n",
       "      <td>2600.09</td>\n",
       "    </tr>\n",
       "    <tr>\n",
       "      <th>2021-10-05</th>\n",
       "      <td>6357.910000</td>\n",
       "      <td>NaN</td>\n",
       "      <td>3032.55</td>\n",
       "    </tr>\n",
       "  </tbody>\n",
       "</table>\n",
       "</div>"
      ],
      "text/plain": [
       "                  cat_0    cat_1    cat_2\n",
       "date                                     \n",
       "2021-10-01  6947.510000  7003.79  2958.06\n",
       "2021-10-02  7138.020000      NaN  1895.13\n",
       "2021-10-03  6783.580000      NaN  2060.49\n",
       "2021-10-04  6551.904144      NaN  2600.09\n",
       "2021-10-05  6357.910000      NaN  3032.55"
      ]
     },
     "execution_count": 156,
     "metadata": {},
     "output_type": "execute_result"
    }
   ],
   "source": [
    "# Vérification\n",
    "vj2oct.head()"
   ]
  },
  {
   "cell_type": "code",
   "execution_count": 52,
   "metadata": {
    "scrolled": true
   },
   "outputs": [
    {
     "data": {
      "image/png": "[encoded data removed]",
      "text/plain": [
       "<Figure size 1152x288 with 1 Axes>"
      ]
     },
     "metadata": {},
     "output_type": "display_data"
    }
   ],
   "source": [
    "# plotbar pour visualiser\n",
    "vj2oct.plot.bar(figsize=(16,4),\n",
    "    width=1,\n",
    "    color = ['royalblue', 'darkorange', 'forestgreen'])\n",
    "\n",
    "plt.ylabel('CA')\n",
    "plt.legend(['cat. 0', 'cat. 1', 'cat. 2'])\n",
    "plt.tight_layout()\n",
    "plt.title('CA quotidien par cat. (mois d\\'oct.)')\n",
    "plt.xticks(rotation=45)\n",
    "\n",
    "plt.savefig('fig28.jpeg')"
   ]
  },
  {
   "cell_type": "markdown",
   "metadata": {},
   "source": [
    "Problème d'enregistrement pour la cat. 1 ? Rien du 2 au 26 octobre inclus."
   ]
  },
  {
   "cell_type": "markdown",
   "metadata": {},
   "source": [
    "##### Visualisation par catégorie"
   ]
  },
  {
   "cell_type": "code",
   "execution_count": 53,
   "metadata": {},
   "outputs": [],
   "source": [
    "# Je crée un df à partir du précédent mais sans l'index sur les dates\n",
    "vj3oct = vj2oct.copy()"
   ]
  },
  {
   "cell_type": "code",
   "execution_count": 54,
   "metadata": {},
   "outputs": [],
   "source": [
    "vj3oct.reset_index(inplace=True)"
   ]
  },
  {
   "cell_type": "code",
   "execution_count": 55,
   "metadata": {},
   "outputs": [
    {
     "data": {
      "image/png": "[encoded data removed]",
      "text/plain": [
       "<Figure size 864x432 with 3 Axes>"
      ]
     },
     "metadata": {},
     "output_type": "display_data"
    }
   ],
   "source": [
    "figure = plt.figure(figsize = (12, 6))\n",
    "\n",
    "plt.gcf().subplots_adjust(hspace = 1.5)\n",
    "\n",
    "axes = plt.subplot(3,1,1)\n",
    "axes = vj2oct['cat_0'].plot.bar(color = 'royalblue')\n",
    "# plt.plot(vj3oct['cat_0'], color = 'royalblue')\n",
    "axes.set_ylabel('CA')\n",
    "axes.set_title('Évolution du CA d\\'octobre - cat. 0')\n",
    "marqueurs = [0, 4, 9, 14, 19, 24, 29]\n",
    "xtick_labels = [1, 5, 10, 15, 20, 25, 30]\n",
    "plt.xticks(marqueurs, xtick_labels, rotation=30)\n",
    "\n",
    "axes = plt.subplot(3,1,2)\n",
    "axes = vj2oct['cat_1'].plot.bar(color = 'darkorange')\n",
    "axes.set_ylabel('CA')\n",
    "axes.set_title('Évolution du CA d\\'octobre - cat. 1')\n",
    "marqueurs = [0, 4, 9, 14, 19, 24, 29]\n",
    "xtick_labels = [1, 5, 10, 15, 20, 25, 30]\n",
    "plt.xticks(marqueurs, xtick_labels, rotation=30)\n",
    "\n",
    "axes = plt.subplot(3,1,3)\n",
    "axes = vj2oct['cat_2'].plot.bar(color = 'forestgreen')\n",
    "axes.set_ylabel('CA')\n",
    "axes.set_title('Évolution du CA d\\'octobre - cat. 2')\n",
    "marqueurs = [0, 4, 9, 14, 19, 24, 29]\n",
    "xtick_labels = [1, 5, 10, 15, 20, 25, 30]\n",
    "plt.xticks(marqueurs, xtick_labels, rotation=30)\n",
    "\n",
    "plt.savefig('fig29.jpeg')\n",
    "\n",
    "# Note technique python : plt.show() et si on n'ajoute pas \"axes\" -> le graph n'est pas enregistré.  "
   ]
  },
  {
   "cell_type": "markdown",
   "metadata": {},
   "source": [
    "Où sont les données pour la catégorie 1 ? "
   ]
  },
  {
   "cell_type": "markdown",
   "metadata": {},
   "source": [
    "### Répartition des ventes par mois"
   ]
  },
  {
   "cell_type": "markdown",
   "metadata": {},
   "source": [
    "#### Ventes mensuelles par catégorie"
   ]
  },
  {
   "cell_type": "code",
   "execution_count": 156,
   "metadata": {},
   "outputs": [
    {
     "data": {
      "text/html": [
       "<div>\n",
       "<style scoped>\n",
       "    .dataframe tbody tr th:only-of-type {\n",
       "        vertical-align: middle;\n",
       "    }\n",
       "\n",
       "    .dataframe tbody tr th {\n",
       "        vertical-align: top;\n",
       "    }\n",
       "\n",
       "    .dataframe thead th {\n",
       "        text-align: right;\n",
       "    }\n",
       "</style>\n",
       "<table border=\"1\" class=\"dataframe\">\n",
       "  <thead>\n",
       "    <tr style=\"text-align: right;\">\n",
       "      <th></th>\n",
       "      <th>id_prod</th>\n",
       "      <th>date</th>\n",
       "      <th>session_id</th>\n",
       "      <th>client_id</th>\n",
       "      <th>price</th>\n",
       "      <th>categ</th>\n",
       "      <th>sex</th>\n",
       "      <th>birth</th>\n",
       "      <th>age</th>\n",
       "      <th>classe_age</th>\n",
       "    </tr>\n",
       "  </thead>\n",
       "  <tbody>\n",
       "    <tr>\n",
       "      <th>0</th>\n",
       "      <td>0_1483</td>\n",
       "      <td>2021-04-10 18:37:28.723910</td>\n",
       "      <td>s_18746</td>\n",
       "      <td>c_4450</td>\n",
       "      <td>4.99</td>\n",
       "      <td>0.0</td>\n",
       "      <td>f</td>\n",
       "      <td>1977.0</td>\n",
       "      <td>45.0</td>\n",
       "      <td>30-50</td>\n",
       "    </tr>\n",
       "    <tr>\n",
       "      <th>1</th>\n",
       "      <td>0_1085</td>\n",
       "      <td>2021-09-29 11:14:59.793823</td>\n",
       "      <td>s_97382</td>\n",
       "      <td>c_4450</td>\n",
       "      <td>3.99</td>\n",
       "      <td>0.0</td>\n",
       "      <td>f</td>\n",
       "      <td>1977.0</td>\n",
       "      <td>45.0</td>\n",
       "      <td>30-50</td>\n",
       "    </tr>\n",
       "    <tr>\n",
       "      <th>2</th>\n",
       "      <td>0_1453</td>\n",
       "      <td>2021-08-27 19:50:46.796939</td>\n",
       "      <td>s_81509</td>\n",
       "      <td>c_4450</td>\n",
       "      <td>7.99</td>\n",
       "      <td>0.0</td>\n",
       "      <td>f</td>\n",
       "      <td>1977.0</td>\n",
       "      <td>45.0</td>\n",
       "      <td>30-50</td>\n",
       "    </tr>\n",
       "    <tr>\n",
       "      <th>3</th>\n",
       "      <td>0_1405</td>\n",
       "      <td>2021-08-27 20:07:25.878440</td>\n",
       "      <td>s_81509</td>\n",
       "      <td>c_4450</td>\n",
       "      <td>4.99</td>\n",
       "      <td>0.0</td>\n",
       "      <td>f</td>\n",
       "      <td>1977.0</td>\n",
       "      <td>45.0</td>\n",
       "      <td>30-50</td>\n",
       "    </tr>\n",
       "    <tr>\n",
       "      <th>4</th>\n",
       "      <td>0_1392</td>\n",
       "      <td>2021-12-28 11:45:04.072281</td>\n",
       "      <td>s_141302</td>\n",
       "      <td>c_4450</td>\n",
       "      <td>6.30</td>\n",
       "      <td>0.0</td>\n",
       "      <td>f</td>\n",
       "      <td>1977.0</td>\n",
       "      <td>45.0</td>\n",
       "      <td>30-50</td>\n",
       "    </tr>\n",
       "  </tbody>\n",
       "</table>\n",
       "</div>"
      ],
      "text/plain": [
       "  id_prod                        date session_id client_id  price  categ sex  \\\n",
       "0  0_1483  2021-04-10 18:37:28.723910    s_18746    c_4450   4.99    0.0   f   \n",
       "1  0_1085  2021-09-29 11:14:59.793823    s_97382    c_4450   3.99    0.0   f   \n",
       "2  0_1453  2021-08-27 19:50:46.796939    s_81509    c_4450   7.99    0.0   f   \n",
       "3  0_1405  2021-08-27 20:07:25.878440    s_81509    c_4450   4.99    0.0   f   \n",
       "4  0_1392  2021-12-28 11:45:04.072281   s_141302    c_4450   6.30    0.0   f   \n",
       "\n",
       "    birth   age classe_age  \n",
       "0  1977.0  45.0      30-50  \n",
       "1  1977.0  45.0      30-50  \n",
       "2  1977.0  45.0      30-50  \n",
       "3  1977.0  45.0      30-50  \n",
       "4  1977.0  45.0      30-50  "
      ]
     },
     "execution_count": 156,
     "metadata": {},
     "output_type": "execute_result"
    }
   ],
   "source": [
    "# Rappel du df de base sans les outliers : \n",
    "cpv.head()"
   ]
  },
  {
   "cell_type": "code",
   "execution_count": 56,
   "metadata": {},
   "outputs": [],
   "source": [
    "# Je garde les colonnes utiles : \n",
    "vm = cpv[['date', 'price', 'categ']]"
   ]
  },
  {
   "cell_type": "code",
   "execution_count": 57,
   "metadata": {},
   "outputs": [],
   "source": [
    "# Je mets la colonne date en index\n",
    "vm = vm.set_index('date')"
   ]
  },
  {
   "cell_type": "code",
   "execution_count": 58,
   "metadata": {},
   "outputs": [],
   "source": [
    "# J'échantillone les données par mois\n",
    "vm = vm.to_period(freq='M').reset_index()"
   ]
  },
  {
   "cell_type": "code",
   "execution_count": 185,
   "metadata": {},
   "outputs": [
    {
     "data": {
      "text/html": [
       "<div>\n",
       "<style scoped>\n",
       "    .dataframe tbody tr th:only-of-type {\n",
       "        vertical-align: middle;\n",
       "    }\n",
       "\n",
       "    .dataframe tbody tr th {\n",
       "        vertical-align: top;\n",
       "    }\n",
       "\n",
       "    .dataframe thead th {\n",
       "        text-align: right;\n",
       "    }\n",
       "</style>\n",
       "<table border=\"1\" class=\"dataframe\">\n",
       "  <thead>\n",
       "    <tr style=\"text-align: right;\">\n",
       "      <th></th>\n",
       "      <th>cat_0</th>\n",
       "      <th>cat_1</th>\n",
       "      <th>cat_2</th>\n",
       "    </tr>\n",
       "    <tr>\n",
       "      <th>date</th>\n",
       "      <th></th>\n",
       "      <th></th>\n",
       "      <th></th>\n",
       "    </tr>\n",
       "  </thead>\n",
       "  <tbody>\n",
       "    <tr>\n",
       "      <th>2021-03</th>\n",
       "      <td>193662.203648</td>\n",
       "      <td>186974.17</td>\n",
       "      <td>98771.48</td>\n",
       "    </tr>\n",
       "    <tr>\n",
       "      <th>2021-04</th>\n",
       "      <td>205308.729008</td>\n",
       "      <td>156138.35</td>\n",
       "      <td>111682.70</td>\n",
       "    </tr>\n",
       "    <tr>\n",
       "      <th>2021-05</th>\n",
       "      <td>196200.136576</td>\n",
       "      <td>165893.40</td>\n",
       "      <td>127359.59</td>\n",
       "    </tr>\n",
       "    <tr>\n",
       "      <th>2021-06</th>\n",
       "      <td>167960.869504</td>\n",
       "      <td>189162.04</td>\n",
       "      <td>124209.56</td>\n",
       "    </tr>\n",
       "    <tr>\n",
       "      <th>2021-07</th>\n",
       "      <td>144754.508288</td>\n",
       "      <td>188523.27</td>\n",
       "      <td>147663.47</td>\n",
       "    </tr>\n",
       "  </tbody>\n",
       "</table>\n",
       "</div>"
      ],
      "text/plain": [
       "                 cat_0      cat_1      cat_2\n",
       "date                                        \n",
       "2021-03  193662.203648  186974.17   98771.48\n",
       "2021-04  205308.729008  156138.35  111682.70\n",
       "2021-05  196200.136576  165893.40  127359.59\n",
       "2021-06  167960.869504  189162.04  124209.56\n",
       "2021-07  144754.508288  188523.27  147663.47"
      ]
     },
     "execution_count": 185,
     "metadata": {},
     "output_type": "execute_result"
    }
   ],
   "source": [
    "vm.head()"
   ]
  },
  {
   "cell_type": "code",
   "execution_count": 59,
   "metadata": {},
   "outputs": [],
   "source": [
    "vm = pd.pivot_table(vm, index='date', columns=['categ'], aggfunc='sum')"
   ]
  },
  {
   "cell_type": "code",
   "execution_count": 60,
   "metadata": {},
   "outputs": [],
   "source": [
    "vm.columns = ['cat_0', 'cat_1', 'cat_2']"
   ]
  },
  {
   "cell_type": "code",
   "execution_count": 61,
   "metadata": {
    "scrolled": false
   },
   "outputs": [
    {
     "data": {
      "image/png": "[encoded data removed]",
      "text/plain": [
       "<Figure size 720x288 with 1 Axes>"
      ]
     },
     "metadata": {},
     "output_type": "display_data"
    }
   ],
   "source": [
    "# Multiple bar plot\n",
    "# cf.https://pandas.pydata.org/pandas-docs/stable/user_guide/visualization.html\n",
    "\n",
    "vm.plot.bar(\n",
    "    figsize=(10,4),\n",
    "    width=0.6,\n",
    "    color = ['royalblue', 'darkorange', 'forestgreen']\n",
    ")\n",
    "plt.ylabel('CA')\n",
    "plt.legend(['catégorie 0', 'catégorie 1', 'catégorie 2'])\n",
    "plt.title('CA mensuel par catégorie')\n",
    "plt.xticks(rotation=45)\n",
    "\n",
    "plt.savefig('fig30.jpeg')"
   ]
  },
  {
   "cell_type": "markdown",
   "metadata": {},
   "source": [
    "On observe des CA mensuels assez disparates en fonction des catégories. "
   ]
  },
  {
   "cell_type": "markdown",
   "metadata": {},
   "source": [
    "#### Ventes mensuelles toutes catégories"
   ]
  },
  {
   "cell_type": "code",
   "execution_count": 36,
   "metadata": {},
   "outputs": [],
   "source": [
    "# Choix des colonnes utiles\n",
    "vm2 = cpv[['date', 'price', 'categ']]"
   ]
  },
  {
   "cell_type": "code",
   "execution_count": 37,
   "metadata": {},
   "outputs": [],
   "source": [
    "vm2 = vm2.set_index('date')"
   ]
  },
  {
   "cell_type": "code",
   "execution_count": 38,
   "metadata": {},
   "outputs": [
    {
     "data": {
      "text/html": [
       "<div>\n",
       "<style scoped>\n",
       "    .dataframe tbody tr th:only-of-type {\n",
       "        vertical-align: middle;\n",
       "    }\n",
       "\n",
       "    .dataframe tbody tr th {\n",
       "        vertical-align: top;\n",
       "    }\n",
       "\n",
       "    .dataframe thead th {\n",
       "        text-align: right;\n",
       "    }\n",
       "</style>\n",
       "<table border=\"1\" class=\"dataframe\">\n",
       "  <thead>\n",
       "    <tr style=\"text-align: right;\">\n",
       "      <th></th>\n",
       "      <th>price</th>\n",
       "      <th>categ</th>\n",
       "    </tr>\n",
       "    <tr>\n",
       "      <th>date</th>\n",
       "      <th></th>\n",
       "      <th></th>\n",
       "    </tr>\n",
       "  </thead>\n",
       "  <tbody>\n",
       "    <tr>\n",
       "      <th>2021-04-10 18:37:28.723910</th>\n",
       "      <td>4.99</td>\n",
       "      <td>0.0</td>\n",
       "    </tr>\n",
       "    <tr>\n",
       "      <th>2021-09-29 11:14:59.793823</th>\n",
       "      <td>3.99</td>\n",
       "      <td>0.0</td>\n",
       "    </tr>\n",
       "    <tr>\n",
       "      <th>2021-08-27 19:50:46.796939</th>\n",
       "      <td>7.99</td>\n",
       "      <td>0.0</td>\n",
       "    </tr>\n",
       "    <tr>\n",
       "      <th>2021-08-27 20:07:25.878440</th>\n",
       "      <td>4.99</td>\n",
       "      <td>0.0</td>\n",
       "    </tr>\n",
       "    <tr>\n",
       "      <th>2021-12-28 11:45:04.072281</th>\n",
       "      <td>6.30</td>\n",
       "      <td>0.0</td>\n",
       "    </tr>\n",
       "  </tbody>\n",
       "</table>\n",
       "</div>"
      ],
      "text/plain": [
       "                            price  categ\n",
       "date                                    \n",
       "2021-04-10 18:37:28.723910   4.99    0.0\n",
       "2021-09-29 11:14:59.793823   3.99    0.0\n",
       "2021-08-27 19:50:46.796939   7.99    0.0\n",
       "2021-08-27 20:07:25.878440   4.99    0.0\n",
       "2021-12-28 11:45:04.072281   6.30    0.0"
      ]
     },
     "execution_count": 38,
     "metadata": {},
     "output_type": "execute_result"
    }
   ],
   "source": [
    "vm2.head()"
   ]
  },
  {
   "cell_type": "code",
   "execution_count": 39,
   "metadata": {},
   "outputs": [],
   "source": [
    "# Période par mois\n",
    "vm2 = vm2.to_period(freq='M').reset_index()"
   ]
  },
  {
   "cell_type": "code",
   "execution_count": 40,
   "metadata": {},
   "outputs": [
    {
     "data": {
      "text/html": [
       "<div>\n",
       "<style scoped>\n",
       "    .dataframe tbody tr th:only-of-type {\n",
       "        vertical-align: middle;\n",
       "    }\n",
       "\n",
       "    .dataframe tbody tr th {\n",
       "        vertical-align: top;\n",
       "    }\n",
       "\n",
       "    .dataframe thead th {\n",
       "        text-align: right;\n",
       "    }\n",
       "</style>\n",
       "<table border=\"1\" class=\"dataframe\">\n",
       "  <thead>\n",
       "    <tr style=\"text-align: right;\">\n",
       "      <th></th>\n",
       "      <th>date</th>\n",
       "      <th>price</th>\n",
       "      <th>categ</th>\n",
       "    </tr>\n",
       "  </thead>\n",
       "  <tbody>\n",
       "    <tr>\n",
       "      <th>0</th>\n",
       "      <td>2021-04</td>\n",
       "      <td>4.99</td>\n",
       "      <td>0.0</td>\n",
       "    </tr>\n",
       "    <tr>\n",
       "      <th>1</th>\n",
       "      <td>2021-09</td>\n",
       "      <td>3.99</td>\n",
       "      <td>0.0</td>\n",
       "    </tr>\n",
       "    <tr>\n",
       "      <th>2</th>\n",
       "      <td>2021-08</td>\n",
       "      <td>7.99</td>\n",
       "      <td>0.0</td>\n",
       "    </tr>\n",
       "    <tr>\n",
       "      <th>3</th>\n",
       "      <td>2021-08</td>\n",
       "      <td>4.99</td>\n",
       "      <td>0.0</td>\n",
       "    </tr>\n",
       "    <tr>\n",
       "      <th>4</th>\n",
       "      <td>2021-12</td>\n",
       "      <td>6.30</td>\n",
       "      <td>0.0</td>\n",
       "    </tr>\n",
       "  </tbody>\n",
       "</table>\n",
       "</div>"
      ],
      "text/plain": [
       "     date  price  categ\n",
       "0 2021-04   4.99    0.0\n",
       "1 2021-09   3.99    0.0\n",
       "2 2021-08   7.99    0.0\n",
       "3 2021-08   4.99    0.0\n",
       "4 2021-12   6.30    0.0"
      ]
     },
     "execution_count": 40,
     "metadata": {},
     "output_type": "execute_result"
    }
   ],
   "source": [
    "vm2.head()"
   ]
  },
  {
   "cell_type": "code",
   "execution_count": 41,
   "metadata": {},
   "outputs": [],
   "source": [
    "vm3 = vm2.groupby('date')['price'].sum()"
   ]
  },
  {
   "cell_type": "code",
   "execution_count": 227,
   "metadata": {},
   "outputs": [
    {
     "data": {
      "text/plain": [
       "date\n",
       "2021-03    479407.853648\n",
       "2021-04    473129.779008\n",
       "2021-05    489453.126576\n",
       "2021-06    481332.469504\n",
       "2021-07    480941.248288\n",
       "Freq: M, Name: price, dtype: float64"
      ]
     },
     "execution_count": 227,
     "metadata": {},
     "output_type": "execute_result"
    }
   ],
   "source": [
    "vm3.head()"
   ]
  },
  {
   "cell_type": "code",
   "execution_count": 74,
   "metadata": {},
   "outputs": [
    {
     "data": {
      "image/png": "[encoded data removed]",
      "text/plain": [
       "<Figure size 504x288 with 1 Axes>"
      ]
     },
     "metadata": {},
     "output_type": "display_data"
    }
   ],
   "source": [
    "vm3.plot.bar(\n",
    "    figsize=(7,4),\n",
    "    width=0.8,\n",
    "    color = '#408bcf')\n",
    "plt.ylabel('CA')\n",
    "plt.xticks(rotation=45)\n",
    "plt.title('CA par mois toutes catégories')\n",
    "plt.annotate('anomalie', xy = (7, 350000), xytext = (6.3, 520000),\n",
    "                arrowprops = {'facecolor': 'red', 'shrink': 0.01})\n",
    "plt.savefig('fig31.jpeg')"
   ]
  },
  {
   "cell_type": "markdown",
   "metadata": {},
   "source": [
    "# Mission 3 : Questions"
   ]
  },
  {
   "cell_type": "markdown",
   "metadata": {},
   "source": [
    "Pour les corrélations, pas besoin d'effectuer en entier les tests (chi-2, ANOVA, etc.). Seul le calcul des statistiques de test est demandé (\\(r^2, \\eta^2, \\xi_n\\))."
   ]
  },
  {
   "cell_type": "markdown",
   "metadata": {},
   "source": [
    "**Rappel :**  \n",
    "$H0$ : les deux variables sont indépendantes.  \n",
    "$H1$ : les deux variables ne sont pas indépendantes.  \n",
    "**Si p < alpha (0.05)** : on rejette H0 = le hasard seul ne suffit pas à expliquer la différence observée. Le résultat est significatif sur un plan statistique. "
   ]
  },
  {
   "cell_type": "markdown",
   "metadata": {},
   "source": [
    "## 1. Y a-t-il une corrélation entre le sexe des clients et les catégories de produits achetés ?"
   ]
  },
  {
   "cell_type": "markdown",
   "metadata": {},
   "source": [
    "Il s'agit de 2 variables qualitatives --> test du Chi2 + diagramme en barres.   \n",
    "$H0$ : pas de corrélation. Dans le cas du Chi2, l'hypothèse de départ c'est que la population étudiée est conforme à son tableau de contingence théorique. "
   ]
  },
  {
   "cell_type": "code",
   "execution_count": 28,
   "metadata": {},
   "outputs": [
    {
     "data": {
      "text/html": [
       "<div>\n",
       "<style scoped>\n",
       "    .dataframe tbody tr th:only-of-type {\n",
       "        vertical-align: middle;\n",
       "    }\n",
       "\n",
       "    .dataframe tbody tr th {\n",
       "        vertical-align: top;\n",
       "    }\n",
       "\n",
       "    .dataframe thead th {\n",
       "        text-align: right;\n",
       "    }\n",
       "</style>\n",
       "<table border=\"1\" class=\"dataframe\">\n",
       "  <thead>\n",
       "    <tr style=\"text-align: right;\">\n",
       "      <th></th>\n",
       "      <th>id_prod</th>\n",
       "      <th>date</th>\n",
       "      <th>session_id</th>\n",
       "      <th>client_id</th>\n",
       "      <th>price</th>\n",
       "      <th>categ</th>\n",
       "      <th>sex</th>\n",
       "      <th>birth</th>\n",
       "      <th>age</th>\n",
       "      <th>classe_age</th>\n",
       "    </tr>\n",
       "  </thead>\n",
       "  <tbody>\n",
       "    <tr>\n",
       "      <th>0</th>\n",
       "      <td>0_1483</td>\n",
       "      <td>2021-04-10 18:37:28.723910</td>\n",
       "      <td>s_18746</td>\n",
       "      <td>c_4450</td>\n",
       "      <td>4.99</td>\n",
       "      <td>0.0</td>\n",
       "      <td>f</td>\n",
       "      <td>1977.0</td>\n",
       "      <td>45.0</td>\n",
       "      <td>30-50</td>\n",
       "    </tr>\n",
       "    <tr>\n",
       "      <th>1</th>\n",
       "      <td>0_1085</td>\n",
       "      <td>2021-09-29 11:14:59.793823</td>\n",
       "      <td>s_97382</td>\n",
       "      <td>c_4450</td>\n",
       "      <td>3.99</td>\n",
       "      <td>0.0</td>\n",
       "      <td>f</td>\n",
       "      <td>1977.0</td>\n",
       "      <td>45.0</td>\n",
       "      <td>30-50</td>\n",
       "    </tr>\n",
       "    <tr>\n",
       "      <th>2</th>\n",
       "      <td>0_1453</td>\n",
       "      <td>2021-08-27 19:50:46.796939</td>\n",
       "      <td>s_81509</td>\n",
       "      <td>c_4450</td>\n",
       "      <td>7.99</td>\n",
       "      <td>0.0</td>\n",
       "      <td>f</td>\n",
       "      <td>1977.0</td>\n",
       "      <td>45.0</td>\n",
       "      <td>30-50</td>\n",
       "    </tr>\n",
       "    <tr>\n",
       "      <th>3</th>\n",
       "      <td>0_1405</td>\n",
       "      <td>2021-08-27 20:07:25.878440</td>\n",
       "      <td>s_81509</td>\n",
       "      <td>c_4450</td>\n",
       "      <td>4.99</td>\n",
       "      <td>0.0</td>\n",
       "      <td>f</td>\n",
       "      <td>1977.0</td>\n",
       "      <td>45.0</td>\n",
       "      <td>30-50</td>\n",
       "    </tr>\n",
       "    <tr>\n",
       "      <th>4</th>\n",
       "      <td>0_1392</td>\n",
       "      <td>2021-12-28 11:45:04.072281</td>\n",
       "      <td>s_141302</td>\n",
       "      <td>c_4450</td>\n",
       "      <td>6.30</td>\n",
       "      <td>0.0</td>\n",
       "      <td>f</td>\n",
       "      <td>1977.0</td>\n",
       "      <td>45.0</td>\n",
       "      <td>30-50</td>\n",
       "    </tr>\n",
       "  </tbody>\n",
       "</table>\n",
       "</div>"
      ],
      "text/plain": [
       "  id_prod                        date session_id client_id  price  categ sex  \\\n",
       "0  0_1483  2021-04-10 18:37:28.723910    s_18746    c_4450   4.99    0.0   f   \n",
       "1  0_1085  2021-09-29 11:14:59.793823    s_97382    c_4450   3.99    0.0   f   \n",
       "2  0_1453  2021-08-27 19:50:46.796939    s_81509    c_4450   7.99    0.0   f   \n",
       "3  0_1405  2021-08-27 20:07:25.878440    s_81509    c_4450   4.99    0.0   f   \n",
       "4  0_1392  2021-12-28 11:45:04.072281   s_141302    c_4450   6.30    0.0   f   \n",
       "\n",
       "    birth   age classe_age  \n",
       "0  1977.0  45.0      30-50  \n",
       "1  1977.0  45.0      30-50  \n",
       "2  1977.0  45.0      30-50  \n",
       "3  1977.0  45.0      30-50  \n",
       "4  1977.0  45.0      30-50  "
      ]
     },
     "execution_count": 28,
     "metadata": {},
     "output_type": "execute_result"
    }
   ],
   "source": [
    "# Je reprends le tableau de base (sans les clients \"grands comptes\") \n",
    "cpv_ss_gc.head()"
   ]
  },
  {
   "cell_type": "code",
   "execution_count": 67,
   "metadata": {},
   "outputs": [],
   "source": [
    "# Je fais un tableau de contingence avec crosstab (cf. ici : https://www.youtube.com/watch?v=I_kUj-MfYys)\n",
    "corrcs = pd.crosstab(cpv_ss_gc.categ, cpv_ss_gc.sex)"
   ]
  },
  {
   "cell_type": "code",
   "execution_count": 9,
   "metadata": {},
   "outputs": [
    {
     "data": {
      "text/html": [
       "<div>\n",
       "<style scoped>\n",
       "    .dataframe tbody tr th:only-of-type {\n",
       "        vertical-align: middle;\n",
       "    }\n",
       "\n",
       "    .dataframe tbody tr th {\n",
       "        vertical-align: top;\n",
       "    }\n",
       "\n",
       "    .dataframe thead th {\n",
       "        text-align: right;\n",
       "    }\n",
       "</style>\n",
       "<table border=\"1\" class=\"dataframe\">\n",
       "  <thead>\n",
       "    <tr style=\"text-align: right;\">\n",
       "      <th>sex</th>\n",
       "      <th>f</th>\n",
       "      <th>m</th>\n",
       "    </tr>\n",
       "    <tr>\n",
       "      <th>categ</th>\n",
       "      <th></th>\n",
       "      <th></th>\n",
       "    </tr>\n",
       "  </thead>\n",
       "  <tbody>\n",
       "    <tr>\n",
       "      <th>0.0</th>\n",
       "      <td>101206</td>\n",
       "      <td>94064</td>\n",
       "    </tr>\n",
       "    <tr>\n",
       "      <th>1.0</th>\n",
       "      <td>53774</td>\n",
       "      <td>48851</td>\n",
       "    </tr>\n",
       "    <tr>\n",
       "      <th>2.0</th>\n",
       "      <td>8122</td>\n",
       "      <td>7634</td>\n",
       "    </tr>\n",
       "  </tbody>\n",
       "</table>\n",
       "</div>"
      ],
      "text/plain": [
       "sex         f      m\n",
       "categ               \n",
       "0.0    101206  94064\n",
       "1.0     53774  48851\n",
       "2.0      8122   7634"
      ]
     },
     "execution_count": 9,
     "metadata": {},
     "output_type": "execute_result"
    }
   ],
   "source": [
    "corrcs"
   ]
  },
  {
   "cell_type": "code",
   "execution_count": 68,
   "metadata": {},
   "outputs": [
    {
     "data": {
      "image/png": "[encoded data removed]",
      "text/plain": [
       "<Figure size 432x360 with 1 Axes>"
      ]
     },
     "metadata": {},
     "output_type": "display_data"
    }
   ],
   "source": [
    "# Histogramme\n",
    "# https://matplotlib.org/gallery/lines_bars_and_markers/barchart.html#sphx-glr-gallery-lines-bars-and-markers-barchart-py\n",
    "labels = ['Cat 0', 'Cat 1', 'Cat 2']\n",
    "men_cat = corrcs['m']\n",
    "women_cat = corrcs['f']\n",
    "\n",
    "x = np.arange(len(labels))  # the label locations\n",
    "width = 0.35  # the width of the bars\n",
    "\n",
    "fig, ax = plt.subplots(figsize=(6,5))\n",
    "rects1 = ax.bar(x - width/2, men_cat, width, label='Men')\n",
    "rects2 = ax.bar(x + width/2, women_cat, width, label='Women')\n",
    "\n",
    "# Add some text for labels, title and custom x-axis tick labels, etc.\n",
    "ax.set_ylabel('nombre de produits')\n",
    "ax.set_title('Nombre de produits par genre et par catégorie')\n",
    "ax.set_xticks(x)\n",
    "ax.set_xticklabels(labels)\n",
    "ax.legend()\n",
    "\n",
    "\n",
    "def autolabel(rects):\n",
    "    \"\"\"Attach a text label above each bar in *rects*, displaying its height.\"\"\"\n",
    "    for rect in rects:\n",
    "        height = rect.get_height()\n",
    "        ax.annotate('{}'.format(height),\n",
    "                    xy=(rect.get_x() + rect.get_width() / 2, height),\n",
    "                    xytext=(0, 3),  # 3 points vertical offset\n",
    "                    textcoords=\"offset points\",\n",
    "                    ha='center', va='bottom')\n",
    "\n",
    "\n",
    "autolabel(rects1)\n",
    "autolabel(rects2)\n",
    "\n",
    "fig.tight_layout()\n",
    "\n",
    "plt.savefig('fig32.jpeg')"
   ]
  },
  {
   "cell_type": "markdown",
   "metadata": {},
   "source": [
    "### Test du chi-2"
   ]
  },
  {
   "cell_type": "code",
   "execution_count": 6,
   "metadata": {},
   "outputs": [],
   "source": [
    "# cf. https://stackoverflow.com/questions/43963606/python-pandas-chi-squared-test-of-independence\n",
    "# cf. aussi https://machinelearningmastery.com/chi-squared-test-for-machine-learning/\n",
    "from scipy.stats import chi2_contingency"
   ]
  },
  {
   "cell_type": "code",
   "execution_count": 10,
   "metadata": {},
   "outputs": [
    {
     "name": "stdout",
     "output_type": "stream",
     "text": [
      "chi2 : 10.11\n",
      "p : 0.0064\n",
      "dof : 2\n",
      "expected :\n",
      " [[101542.56654689  93727.43345311]\n",
      " [ 53366.13863817  49258.86136183]\n",
      " [  8193.29481494   7562.70518506]]\n"
     ]
    }
   ],
   "source": [
    "chi2, p, dof, expected = chi2_contingency(corrcs) \n",
    "print(f'chi2 : {chi2:.2f}\\np : {p:.4f}\\ndof : {dof}\\nexpected :\\n {expected}')\n",
    "# Degrés de liberté correspond à (3 colonnes - 1) x (2 lignes - 1)\n",
    "# expected = ce à quoi on s'attend en cas d'indépendance des variables"
   ]
  },
  {
   "cell_type": "markdown",
   "metadata": {},
   "source": [
    "p-value < 0.05 + lecture de la table du chi2 (où on trouve la valeur de 5.99 pour nos données => on rejette H0 : **il existe une corrélation entre le sexe des clients et la catégorie des produits achetés.** "
   ]
  },
  {
   "cell_type": "code",
   "execution_count": 69,
   "metadata": {},
   "outputs": [
    {
     "data": {
      "image/png": "[encoded data removed]",
      "text/plain": [
       "<Figure size 432x288 with 2 Axes>"
      ]
     },
     "metadata": {},
     "output_type": "display_data"
    }
   ],
   "source": [
    "# Heatmap\n",
    "sns.heatmap(corrcs, \n",
    "            annot=True, \n",
    "            fmt=\"d\", \n",
    "            xticklabels=['femmes', 'hommes'],\n",
    "            yticklabels=corrcs.index)\n",
    "plt.xlabel('')\n",
    "plt.ylabel('catégories')\n",
    "\n",
    "plt.savefig('fig33.jpeg')"
   ]
  },
  {
   "cell_type": "markdown",
   "metadata": {},
   "source": [
    "## 2a. Y a-t-il une corrélation entre l'âge des clients et le montant total des achats ?"
   ]
  },
  {
   "cell_type": "markdown",
   "metadata": {},
   "source": [
    "Age des client et montant total des achats sont **2 variables quantitatives** --> Test de corrélation de Pearson + nuage de points + lien linéaire calculé. "
   ]
  },
  {
   "cell_type": "code",
   "execution_count": 12,
   "metadata": {},
   "outputs": [
    {
     "data": {
      "text/html": [
       "<div>\n",
       "<style scoped>\n",
       "    .dataframe tbody tr th:only-of-type {\n",
       "        vertical-align: middle;\n",
       "    }\n",
       "\n",
       "    .dataframe tbody tr th {\n",
       "        vertical-align: top;\n",
       "    }\n",
       "\n",
       "    .dataframe thead th {\n",
       "        text-align: right;\n",
       "    }\n",
       "</style>\n",
       "<table border=\"1\" class=\"dataframe\">\n",
       "  <thead>\n",
       "    <tr style=\"text-align: right;\">\n",
       "      <th></th>\n",
       "      <th>id_prod</th>\n",
       "      <th>date</th>\n",
       "      <th>session_id</th>\n",
       "      <th>client_id</th>\n",
       "      <th>price</th>\n",
       "      <th>categ</th>\n",
       "      <th>sex</th>\n",
       "      <th>birth</th>\n",
       "      <th>age</th>\n",
       "      <th>classe_age</th>\n",
       "    </tr>\n",
       "  </thead>\n",
       "  <tbody>\n",
       "    <tr>\n",
       "      <th>0</th>\n",
       "      <td>0_1483</td>\n",
       "      <td>2021-04-10 18:37:28.723910</td>\n",
       "      <td>s_18746</td>\n",
       "      <td>c_4450</td>\n",
       "      <td>4.99</td>\n",
       "      <td>0.0</td>\n",
       "      <td>f</td>\n",
       "      <td>1977.0</td>\n",
       "      <td>45.0</td>\n",
       "      <td>30-50</td>\n",
       "    </tr>\n",
       "    <tr>\n",
       "      <th>1</th>\n",
       "      <td>0_1085</td>\n",
       "      <td>2021-09-29 11:14:59.793823</td>\n",
       "      <td>s_97382</td>\n",
       "      <td>c_4450</td>\n",
       "      <td>3.99</td>\n",
       "      <td>0.0</td>\n",
       "      <td>f</td>\n",
       "      <td>1977.0</td>\n",
       "      <td>45.0</td>\n",
       "      <td>30-50</td>\n",
       "    </tr>\n",
       "    <tr>\n",
       "      <th>2</th>\n",
       "      <td>0_1453</td>\n",
       "      <td>2021-08-27 19:50:46.796939</td>\n",
       "      <td>s_81509</td>\n",
       "      <td>c_4450</td>\n",
       "      <td>7.99</td>\n",
       "      <td>0.0</td>\n",
       "      <td>f</td>\n",
       "      <td>1977.0</td>\n",
       "      <td>45.0</td>\n",
       "      <td>30-50</td>\n",
       "    </tr>\n",
       "    <tr>\n",
       "      <th>3</th>\n",
       "      <td>0_1405</td>\n",
       "      <td>2021-08-27 20:07:25.878440</td>\n",
       "      <td>s_81509</td>\n",
       "      <td>c_4450</td>\n",
       "      <td>4.99</td>\n",
       "      <td>0.0</td>\n",
       "      <td>f</td>\n",
       "      <td>1977.0</td>\n",
       "      <td>45.0</td>\n",
       "      <td>30-50</td>\n",
       "    </tr>\n",
       "    <tr>\n",
       "      <th>4</th>\n",
       "      <td>0_1392</td>\n",
       "      <td>2021-12-28 11:45:04.072281</td>\n",
       "      <td>s_141302</td>\n",
       "      <td>c_4450</td>\n",
       "      <td>6.30</td>\n",
       "      <td>0.0</td>\n",
       "      <td>f</td>\n",
       "      <td>1977.0</td>\n",
       "      <td>45.0</td>\n",
       "      <td>30-50</td>\n",
       "    </tr>\n",
       "  </tbody>\n",
       "</table>\n",
       "</div>"
      ],
      "text/plain": [
       "  id_prod                        date session_id client_id  price  categ sex  \\\n",
       "0  0_1483  2021-04-10 18:37:28.723910    s_18746    c_4450   4.99    0.0   f   \n",
       "1  0_1085  2021-09-29 11:14:59.793823    s_97382    c_4450   3.99    0.0   f   \n",
       "2  0_1453  2021-08-27 19:50:46.796939    s_81509    c_4450   7.99    0.0   f   \n",
       "3  0_1405  2021-08-27 20:07:25.878440    s_81509    c_4450   4.99    0.0   f   \n",
       "4  0_1392  2021-12-28 11:45:04.072281   s_141302    c_4450   6.30    0.0   f   \n",
       "\n",
       "    birth   age classe_age  \n",
       "0  1977.0  45.0      30-50  \n",
       "1  1977.0  45.0      30-50  \n",
       "2  1977.0  45.0      30-50  \n",
       "3  1977.0  45.0      30-50  \n",
       "4  1977.0  45.0      30-50  "
      ]
     },
     "execution_count": 12,
     "metadata": {},
     "output_type": "execute_result"
    }
   ],
   "source": [
    "# Rappel du tableau de base : \n",
    "cpv_ss_ab.head()"
   ]
  },
  {
   "cell_type": "code",
   "execution_count": 13,
   "metadata": {},
   "outputs": [],
   "source": [
    "# Je créé un nouveau df avec les colonnes utiles\n",
    "corraa = cpv_ss_ab[['session_id','client_id', 'price', 'age']]"
   ]
  },
  {
   "cell_type": "code",
   "execution_count": 14,
   "metadata": {},
   "outputs": [
    {
     "data": {
      "text/html": [
       "<div>\n",
       "<style scoped>\n",
       "    .dataframe tbody tr th:only-of-type {\n",
       "        vertical-align: middle;\n",
       "    }\n",
       "\n",
       "    .dataframe tbody tr th {\n",
       "        vertical-align: top;\n",
       "    }\n",
       "\n",
       "    .dataframe thead th {\n",
       "        text-align: right;\n",
       "    }\n",
       "</style>\n",
       "<table border=\"1\" class=\"dataframe\">\n",
       "  <thead>\n",
       "    <tr style=\"text-align: right;\">\n",
       "      <th></th>\n",
       "      <th>session_id</th>\n",
       "      <th>client_id</th>\n",
       "      <th>price</th>\n",
       "      <th>age</th>\n",
       "    </tr>\n",
       "  </thead>\n",
       "  <tbody>\n",
       "    <tr>\n",
       "      <th>0</th>\n",
       "      <td>s_18746</td>\n",
       "      <td>c_4450</td>\n",
       "      <td>4.99</td>\n",
       "      <td>45.0</td>\n",
       "    </tr>\n",
       "    <tr>\n",
       "      <th>1</th>\n",
       "      <td>s_97382</td>\n",
       "      <td>c_4450</td>\n",
       "      <td>3.99</td>\n",
       "      <td>45.0</td>\n",
       "    </tr>\n",
       "    <tr>\n",
       "      <th>2</th>\n",
       "      <td>s_81509</td>\n",
       "      <td>c_4450</td>\n",
       "      <td>7.99</td>\n",
       "      <td>45.0</td>\n",
       "    </tr>\n",
       "    <tr>\n",
       "      <th>3</th>\n",
       "      <td>s_81509</td>\n",
       "      <td>c_4450</td>\n",
       "      <td>4.99</td>\n",
       "      <td>45.0</td>\n",
       "    </tr>\n",
       "    <tr>\n",
       "      <th>4</th>\n",
       "      <td>s_141302</td>\n",
       "      <td>c_4450</td>\n",
       "      <td>6.30</td>\n",
       "      <td>45.0</td>\n",
       "    </tr>\n",
       "  </tbody>\n",
       "</table>\n",
       "</div>"
      ],
      "text/plain": [
       "  session_id client_id  price   age\n",
       "0    s_18746    c_4450   4.99  45.0\n",
       "1    s_97382    c_4450   3.99  45.0\n",
       "2    s_81509    c_4450   7.99  45.0\n",
       "3    s_81509    c_4450   4.99  45.0\n",
       "4   s_141302    c_4450   6.30  45.0"
      ]
     },
     "execution_count": 14,
     "metadata": {},
     "output_type": "execute_result"
    }
   ],
   "source": [
    "corraa.head()"
   ]
  },
  {
   "cell_type": "code",
   "execution_count": 15,
   "metadata": {},
   "outputs": [
    {
     "data": {
      "text/plain": [
       "306343"
      ]
     },
     "execution_count": 15,
     "metadata": {},
     "output_type": "execute_result"
    }
   ],
   "source": [
    "len(corraa)"
   ]
  },
  {
   "cell_type": "markdown",
   "metadata": {},
   "source": [
    "### 1. 1ère analyse : calcul du montant total des achats en fonction de l'âge : "
   ]
  },
  {
   "cell_type": "markdown",
   "metadata": {},
   "source": [
    "Ici, l'analyse est par âge : 19 ans, 20 ans, etc.  \n",
    "\n",
    "**Rappel:** les 18 ans ne sont pas présents puisqu'on n'est pas sûr de la représentativité de cette classe. "
   ]
  },
  {
   "cell_type": "code",
   "execution_count": 16,
   "metadata": {},
   "outputs": [],
   "source": [
    "# Group by pour avoir les montants totaux des achats par âge\n",
    "corraa = corraa.groupby(['age'])['price'].sum().to_frame().reset_index()"
   ]
  },
  {
   "cell_type": "code",
   "execution_count": 17,
   "metadata": {},
   "outputs": [
    {
     "data": {
      "text/html": [
       "<div>\n",
       "<style scoped>\n",
       "    .dataframe tbody tr th:only-of-type {\n",
       "        vertical-align: middle;\n",
       "    }\n",
       "\n",
       "    .dataframe tbody tr th {\n",
       "        vertical-align: top;\n",
       "    }\n",
       "\n",
       "    .dataframe thead th {\n",
       "        text-align: right;\n",
       "    }\n",
       "</style>\n",
       "<table border=\"1\" class=\"dataframe\">\n",
       "  <thead>\n",
       "    <tr style=\"text-align: right;\">\n",
       "      <th></th>\n",
       "      <th>age</th>\n",
       "      <th>price</th>\n",
       "    </tr>\n",
       "  </thead>\n",
       "  <tbody>\n",
       "    <tr>\n",
       "      <th>0</th>\n",
       "      <td>19.0</td>\n",
       "      <td>88461.390000</td>\n",
       "    </tr>\n",
       "    <tr>\n",
       "      <th>1</th>\n",
       "      <td>20.0</td>\n",
       "      <td>89920.667072</td>\n",
       "    </tr>\n",
       "    <tr>\n",
       "      <th>2</th>\n",
       "      <td>21.0</td>\n",
       "      <td>84881.480000</td>\n",
       "    </tr>\n",
       "    <tr>\n",
       "      <th>3</th>\n",
       "      <td>22.0</td>\n",
       "      <td>80110.567072</td>\n",
       "    </tr>\n",
       "    <tr>\n",
       "      <th>4</th>\n",
       "      <td>23.0</td>\n",
       "      <td>96515.120000</td>\n",
       "    </tr>\n",
       "  </tbody>\n",
       "</table>\n",
       "</div>"
      ],
      "text/plain": [
       "    age         price\n",
       "0  19.0  88461.390000\n",
       "1  20.0  89920.667072\n",
       "2  21.0  84881.480000\n",
       "3  22.0  80110.567072\n",
       "4  23.0  96515.120000"
      ]
     },
     "execution_count": 17,
     "metadata": {},
     "output_type": "execute_result"
    }
   ],
   "source": [
    "corraa.head()"
   ]
  },
  {
   "cell_type": "code",
   "execution_count": 18,
   "metadata": {},
   "outputs": [
    {
     "data": {
      "image/png": "[encoded data removed]",
      "text/plain": [
       "<Figure size 432x288 with 1 Axes>"
      ]
     },
     "metadata": {},
     "output_type": "display_data"
    }
   ],
   "source": [
    "# Représentation graphique\n",
    "x = corraa['age']\n",
    "y = corraa['price']\n",
    "plt.scatter(x,y)\n",
    "plt.xlabel('âge')\n",
    "plt.ylabel('CA')\n",
    "plt.title('Corrélation âge et montant total des achats')\n",
    "plt.grid()\n",
    "plt.savefig('fig34.jpeg')"
   ]
  },
  {
   "cell_type": "markdown",
   "metadata": {},
   "source": [
    "On voit 2 groupes se dessiner : les mois de 50 ans (lim CA > 80000 €) et les plus de 50 ans (lim CA < 80000 €). "
   ]
  },
  {
   "cell_type": "markdown",
   "metadata": {},
   "source": [
    "#### Régression linéaire"
   ]
  },
  {
   "cell_type": "markdown",
   "metadata": {},
   "source": [
    "##### 1ère solution"
   ]
  },
  {
   "cell_type": "code",
   "execution_count": 75,
   "metadata": {},
   "outputs": [
    {
     "name": "stdout",
     "output_type": "stream",
     "text": [
      "                            OLS Regression Results                            \n",
      "==============================================================================\n",
      "Dep. Variable:                  price   R-squared:                       0.723\n",
      "Model:                            OLS   Adj. R-squared:                  0.719\n",
      "Method:                 Least Squares   F-statistic:                     190.4\n",
      "Date:                Sun, 17 May 2020   Prob (F-statistic):           4.96e-22\n",
      "Time:                        13:38:33   Log-Likelihood:                -867.76\n",
      "No. Observations:                  75   AIC:                             1740.\n",
      "Df Residuals:                      73   BIC:                             1744.\n",
      "Df Model:                           1                                         \n",
      "Covariance Type:            nonrobust                                         \n",
      "==============================================================================\n",
      "                 coef    std err          t      P>|t|      [0.025      0.975]\n",
      "------------------------------------------------------------------------------\n",
      "const       1.746e+05   8316.366     20.997      0.000    1.58e+05    1.91e+05\n",
      "age        -1911.3808    138.516    -13.799      0.000   -2187.444   -1635.318\n",
      "==============================================================================\n",
      "Omnibus:                        6.314   Durbin-Watson:                   0.437\n",
      "Prob(Omnibus):                  0.043   Jarque-Bera (JB):                5.532\n",
      "Skew:                           0.596   Prob(JB):                       0.0629\n",
      "Kurtosis:                       3.589   Cond. No.                         167.\n",
      "==============================================================================\n",
      "\n",
      "Warnings:\n",
      "[1] Standard Errors assume that the covariance matrix of the errors is correctly specified.\n"
     ]
    }
   ],
   "source": [
    "# single out the input variables X \n",
    "X = corraa['age']\n",
    "# Add a constant \n",
    "X = sm.add_constant(X)\n",
    "# define the target variable y\n",
    "y = corraa['price']\n",
    "\n",
    "# Define the model\n",
    "model = sm.OLS(y, X)\n",
    "\n",
    "# Fit the model to the data\n",
    "results = model.fit()\n",
    "print(results.summary())"
   ]
  },
  {
   "cell_type": "markdown",
   "metadata": {},
   "source": [
    "##### Autre solution plus rapide"
   ]
  },
  {
   "cell_type": "code",
   "execution_count": 76,
   "metadata": {},
   "outputs": [
    {
     "data": {
      "text/html": [
       "<table class=\"simpletable\">\n",
       "<tr>\n",
       "        <td>Model:</td>               <td>OLS</td>         <td>Adj. R-squared:</td>      <td>0.719</td>  \n",
       "</tr>\n",
       "<tr>\n",
       "  <td>Dependent Variable:</td>       <td>price</td>             <td>AIC:</td>          <td>1739.5154</td>\n",
       "</tr>\n",
       "<tr>\n",
       "         <td>Date:</td>        <td>2020-05-17 13:38</td>        <td>BIC:</td>          <td>1744.1504</td>\n",
       "</tr>\n",
       "<tr>\n",
       "   <td>No. Observations:</td>         <td>75</td>          <td>Log-Likelihood:</td>     <td>-867.76</td> \n",
       "</tr>\n",
       "<tr>\n",
       "       <td>Df Model:</td>              <td>1</td>           <td>F-statistic:</td>        <td>190.4</td>  \n",
       "</tr>\n",
       "<tr>\n",
       "     <td>Df Residuals:</td>           <td>73</td>        <td>Prob (F-statistic):</td>  <td>4.96e-22</td> \n",
       "</tr>\n",
       "<tr>\n",
       "      <td>R-squared:</td>            <td>0.723</td>            <td>Scale:</td>        <td>6.7442e+08</td>\n",
       "</tr>\n",
       "</table>\n",
       "<table class=\"simpletable\">\n",
       "<tr>\n",
       "      <td></td>         <th>Coef.</th>    <th>Std.Err.</th>      <th>t</th>     <th>P>|t|</th>   <th>[0.025</th>      <th>0.975]</th>   \n",
       "</tr>\n",
       "<tr>\n",
       "  <th>Intercept</th> <td>174615.1796</td> <td>8316.3664</td>  <td>20.9966</td> <td>0.0000</td> <td>158040.6853</td> <td>191189.6740</td>\n",
       "</tr>\n",
       "<tr>\n",
       "  <th>age</th>       <td>-1911.3808</td>  <td>138.5164</td>  <td>-13.7990</td> <td>0.0000</td> <td>-2187.4435</td>  <td>-1635.3181</td> \n",
       "</tr>\n",
       "</table>\n",
       "<table class=\"simpletable\">\n",
       "<tr>\n",
       "     <td>Omnibus:</td>    <td>6.314</td>  <td>Durbin-Watson:</td>   <td>0.437</td>\n",
       "</tr>\n",
       "<tr>\n",
       "  <td>Prob(Omnibus):</td> <td>0.043</td> <td>Jarque-Bera (JB):</td> <td>5.532</td>\n",
       "</tr>\n",
       "<tr>\n",
       "       <td>Skew:</td>     <td>0.596</td>     <td>Prob(JB):</td>     <td>0.063</td>\n",
       "</tr>\n",
       "<tr>\n",
       "     <td>Kurtosis:</td>   <td>3.589</td>  <td>Condition No.:</td>    <td>167</td> \n",
       "</tr>\n",
       "</table>"
      ],
      "text/plain": [
       "<class 'statsmodels.iolib.summary2.Summary'>\n",
       "\"\"\"\n",
       "                    Results: Ordinary least squares\n",
       "=======================================================================\n",
       "Model:                OLS               Adj. R-squared:      0.719     \n",
       "Dependent Variable:   price             AIC:                 1739.5154 \n",
       "Date:                 2020-05-17 13:38  BIC:                 1744.1504 \n",
       "No. Observations:     75                Log-Likelihood:      -867.76   \n",
       "Df Model:             1                 F-statistic:         190.4     \n",
       "Df Residuals:         73                Prob (F-statistic):  4.96e-22  \n",
       "R-squared:            0.723             Scale:               6.7442e+08\n",
       "-----------------------------------------------------------------------\n",
       "             Coef.     Std.Err.    t     P>|t|     [0.025      0.975]  \n",
       "-----------------------------------------------------------------------\n",
       "Intercept 174615.1796 8316.3664  20.9966 0.0000 158040.6853 191189.6740\n",
       "age        -1911.3808  138.5164 -13.7990 0.0000  -2187.4435  -1635.3181\n",
       "-----------------------------------------------------------------------\n",
       "Omnibus:                6.314          Durbin-Watson:             0.437\n",
       "Prob(Omnibus):          0.043          Jarque-Bera (JB):          5.532\n",
       "Skew:                   0.596          Prob(JB):                  0.063\n",
       "Kurtosis:               3.589          Condition No.:             167  \n",
       "=======================================================================\n",
       "\n",
       "\"\"\""
      ]
     },
     "execution_count": 76,
     "metadata": {},
     "output_type": "execute_result"
    }
   ],
   "source": [
    "# Régression linéaire\n",
    "res = smf.ols(\"price ~ age\", corraa).fit()\n",
    "res.summary2()"
   ]
  },
  {
   "cell_type": "code",
   "execution_count": 77,
   "metadata": {},
   "outputs": [
    {
     "name": "stdout",
     "output_type": "stream",
     "text": [
      "Coeff : p=4.956878115918041e-22   R2=0.7228666808755893\n"
     ]
    }
   ],
   "source": [
    "print(f\"Coeff : p={res.pvalues[1]}   R2={res.rsquared}\") "
   ]
  },
  {
   "cell_type": "markdown",
   "metadata": {},
   "source": [
    "p < 0.05 => on rejette H0.  \n",
    "R2 = 0.7 => 70 % de l'âge d'achat explique le montant total des achats"
   ]
  },
  {
   "cell_type": "code",
   "execution_count": 78,
   "metadata": {},
   "outputs": [
    {
     "name": "stdout",
     "output_type": "stream",
     "text": [
      "Le coefficient de Pearson est de : -0.8502156672724805\n",
      "Sa p-value est de : 4.956878115917968e-22\n"
     ]
    }
   ],
   "source": [
    "# Calcul du coefficient de corrélation de Pearson (r)\n",
    "# from scipy.stats import pearsonr\n",
    "coeff_pearson = pearsonr(corraa['age'],corraa['price'])\n",
    "print(f\"Le coefficient de Pearson est de : {coeff_pearson[0]}\")\n",
    "print(f\"Sa p-value est de : {coeff_pearson[1]}\")"
   ]
  },
  {
   "cell_type": "markdown",
   "metadata": {},
   "source": [
    "On considère, en général, que X et Y sont corrélées lorsque la valeur de leur Pearson est supérieur à 0.5 ou inférieur à -0.5.  \n",
    "Dans notre cas, les 2 variables sont donc fortement négativement corrélées : **plus l'âge des clients augmentent, moins ils achètent.**"
   ]
  },
  {
   "cell_type": "code",
   "execution_count": 175,
   "metadata": {},
   "outputs": [
    {
     "data": {
      "text/plain": [
       "-0.8502156672724804"
      ]
     },
     "execution_count": 175,
     "metadata": {},
     "output_type": "execute_result"
    }
   ],
   "source": [
    "# Autre façon de calculer le cof de Pearson\n",
    "# corraa.corr()['age']['price']"
   ]
  },
  {
   "cell_type": "code",
   "execution_count": 79,
   "metadata": {},
   "outputs": [
    {
     "data": {
      "image/png": "[encoded data removed]",
      "text/plain": [
       "<Figure size 432x288 with 1 Axes>"
      ]
     },
     "metadata": {},
     "output_type": "display_data"
    }
   ],
   "source": [
    "# Droite de régression linéaire\n",
    "corraa.plot.scatter(x=\"age\", y=\"price\")\n",
    "xs = np.arange(0,100)\n",
    "ys = res.params[0] + res.params[1] * xs\n",
    "plt.plot(xs,ys,'r--')\n",
    "plt.title('Corrélation âge et montant total des achats')\n",
    "\n",
    "plt.savefig('fig35.jpeg')"
   ]
  },
  {
   "cell_type": "markdown",
   "metadata": {},
   "source": [
    "#### Recherche d'éventuels effets non-linéaires"
   ]
  },
  {
   "cell_type": "code",
   "execution_count": 19,
   "metadata": {
    "scrolled": true
   },
   "outputs": [
    {
     "data": {
      "image/png": "[encoded data removed]",
      "text/plain": [
       "<Figure size 432x288 with 1 Axes>"
      ]
     },
     "metadata": {},
     "output_type": "display_data"
    }
   ],
   "source": [
    "sns.regplot(x=\"age\", y=\"price\", data = corraa, lowess = True, line_kws = {'color':'orange','linestyle':'dashed'})\\\n",
    ".set_title('Corrélation âge et montant total des achats')\n",
    "plt.xlabel('âge')\n",
    "plt.ylabel('CA')\n",
    "plt.grid()\n",
    "plt.savefig('fig36.jpeg')"
   ]
  },
  {
   "cell_type": "markdown",
   "metadata": {},
   "source": [
    "La pente semble s'accentuer autour de 45 - 50 ans. "
   ]
  },
  {
   "cell_type": "markdown",
   "metadata": {},
   "source": [
    "### 2. 2ème analyse : calcul du montant total des achats en fonction de la classe d'âge des clients"
   ]
  },
  {
   "cell_type": "markdown",
   "metadata": {},
   "source": [
    "Il s'agit d'une variable quantitative et d'une variable qualitative --> Anova + boite à moustaches."
   ]
  },
  {
   "cell_type": "code",
   "execution_count": 5,
   "metadata": {},
   "outputs": [],
   "source": [
    "# Je créé un nouveau df\n",
    "corraca = cpv_ss_ab[['client_id', 'price', 'age','classe_age']].reset_index()"
   ]
  },
  {
   "cell_type": "code",
   "execution_count": 6,
   "metadata": {},
   "outputs": [],
   "source": [
    "# Group by pour avoir les montants totaux des achats par client, âge et classe d'âge\n",
    "corraca = corraca.groupby(['client_id', 'age', 'classe_age']).agg({'price':'sum'}).reset_index()"
   ]
  },
  {
   "cell_type": "code",
   "execution_count": 5,
   "metadata": {},
   "outputs": [
    {
     "data": {
      "text/html": [
       "<div>\n",
       "<style scoped>\n",
       "    .dataframe tbody tr th:only-of-type {\n",
       "        vertical-align: middle;\n",
       "    }\n",
       "\n",
       "    .dataframe tbody tr th {\n",
       "        vertical-align: top;\n",
       "    }\n",
       "\n",
       "    .dataframe thead th {\n",
       "        text-align: right;\n",
       "    }\n",
       "</style>\n",
       "<table border=\"1\" class=\"dataframe\">\n",
       "  <thead>\n",
       "    <tr style=\"text-align: right;\">\n",
       "      <th></th>\n",
       "      <th>client_id</th>\n",
       "      <th>age</th>\n",
       "      <th>classe_age</th>\n",
       "      <th>price</th>\n",
       "    </tr>\n",
       "  </thead>\n",
       "  <tbody>\n",
       "    <tr>\n",
       "      <th>0</th>\n",
       "      <td>c_1</td>\n",
       "      <td>67.0</td>\n",
       "      <td>50+</td>\n",
       "      <td>300.65</td>\n",
       "    </tr>\n",
       "    <tr>\n",
       "      <th>1</th>\n",
       "      <td>c_10</td>\n",
       "      <td>66.0</td>\n",
       "      <td>50+</td>\n",
       "      <td>586.18</td>\n",
       "    </tr>\n",
       "    <tr>\n",
       "      <th>2</th>\n",
       "      <td>c_100</td>\n",
       "      <td>30.0</td>\n",
       "      <td>30-50</td>\n",
       "      <td>222.87</td>\n",
       "    </tr>\n",
       "    <tr>\n",
       "      <th>3</th>\n",
       "      <td>c_1000</td>\n",
       "      <td>56.0</td>\n",
       "      <td>50+</td>\n",
       "      <td>980.02</td>\n",
       "    </tr>\n",
       "    <tr>\n",
       "      <th>4</th>\n",
       "      <td>c_1001</td>\n",
       "      <td>40.0</td>\n",
       "      <td>30-50</td>\n",
       "      <td>1102.45</td>\n",
       "    </tr>\n",
       "  </tbody>\n",
       "</table>\n",
       "</div>"
      ],
      "text/plain": [
       "  client_id   age classe_age    price\n",
       "0       c_1  67.0        50+   300.65\n",
       "1      c_10  66.0        50+   586.18\n",
       "2     c_100  30.0      30-50   222.87\n",
       "3    c_1000  56.0        50+   980.02\n",
       "4    c_1001  40.0      30-50  1102.45"
      ]
     },
     "execution_count": 5,
     "metadata": {},
     "output_type": "execute_result"
    }
   ],
   "source": [
    "corraca.head()"
   ]
  },
  {
   "cell_type": "code",
   "execution_count": 6,
   "metadata": {},
   "outputs": [
    {
     "data": {
      "image/png": "[encoded data removed]",
      "text/plain": [
       "<Figure size 432x288 with 1 Axes>"
      ]
     },
     "metadata": {},
     "output_type": "display_data"
    }
   ],
   "source": [
    "# On peut visualiser la répartition du montant des achats par classe d'âge\n",
    "corraca.boxplot(column='price', by='classe_age',showmeans=True, showfliers=False, vert = 0)\n",
    "plt.suptitle('')\n",
    "plt.title('Répartition du montant des achats par classe d\\'âge')\n",
    "plt.xlabel('Montant des achats')\n",
    "plt.ylabel('classe d\\'âge')\n",
    "plt.savefig('fig37.jpeg')"
   ]
  },
  {
   "cell_type": "markdown",
   "metadata": {},
   "source": [
    "### Anova"
   ]
  },
  {
   "cell_type": "code",
   "execution_count": 7,
   "metadata": {},
   "outputs": [
    {
     "name": "stdout",
     "output_type": "stream",
     "text": [
      "                            OLS Regression Results                            \n",
      "==============================================================================\n",
      "Dep. Variable:                  price   R-squared:                       0.082\n",
      "Model:                            OLS   Adj. R-squared:                  0.081\n",
      "Method:                 Least Squares   F-statistic:                     362.8\n",
      "Date:                Fri, 29 May 2020   Prob (F-statistic):          1.11e-151\n",
      "Time:                        17:14:29   Log-Likelihood:                -61357.\n",
      "No. Observations:                8177   AIC:                         1.227e+05\n",
      "Df Residuals:                    8174   BIC:                         1.227e+05\n",
      "Df Model:                           2                                         \n",
      "Covariance Type:            nonrobust                                         \n",
      "==========================================================================================\n",
      "                             coef    std err          t      P>|t|      [0.025      0.975]\n",
      "------------------------------------------------------------------------------------------\n",
      "Intercept                631.6273     10.808     58.442      0.000     610.441     652.813\n",
      "C(classe_age)[T.30-50]   124.9622     13.165      9.492      0.000      99.155     150.770\n",
      "C(classe_age)[T.50+]    -167.9025     13.369    -12.559      0.000    -194.110    -141.695\n",
      "==============================================================================\n",
      "Omnibus:                     1062.396   Durbin-Watson:                   1.983\n",
      "Prob(Omnibus):                  0.000   Jarque-Bera (JB):             1529.994\n",
      "Skew:                           0.993   Prob(JB):                         0.00\n",
      "Kurtosis:                       3.741   Cond. No.                         4.72\n",
      "==============================================================================\n",
      "\n",
      "Warnings:\n",
      "[1] Standard Errors assume that the covariance matrix of the errors is correctly specified.\n"
     ]
    }
   ],
   "source": [
    "anova_corraca = smf.ols('price ~ C(classe_age)', data=corraca).fit()\n",
    "print(anova_corraca.summary())"
   ]
  },
  {
   "cell_type": "code",
   "execution_count": 8,
   "metadata": {},
   "outputs": [
    {
     "name": "stdout",
     "output_type": "stream",
     "text": [
      "Ici la p-value est égale à 1.1085307826771044e-151\n"
     ]
    }
   ],
   "source": [
    "pvalue_corraca = anova_corraca.f_pvalue\n",
    "print(\"Ici la p-value est égale à {}\".format(pvalue_corraca))"
   ]
  },
  {
   "cell_type": "code",
   "execution_count": 9,
   "metadata": {
    "scrolled": true
   },
   "outputs": [
    {
     "name": "stdout",
     "output_type": "stream",
     "text": [
      "                   df        sum_sq       mean_sq           F         PR(>F)\n",
      "C(classe_age)     2.0  1.399294e+08  6.996472e+07  362.796032  1.108531e-151\n",
      "Residual       8174.0  1.576345e+09  1.928486e+05         NaN            NaN\n"
     ]
    }
   ],
   "source": [
    "# Afficher les résultats de la table d'ANOVA\n",
    "aov_table_corraca = sm.stats.anova_lm(anova_corraca)\n",
    "print(aov_table_corraca)"
   ]
  },
  {
   "cell_type": "markdown",
   "metadata": {},
   "source": [
    "#### eta²"
   ]
  },
  {
   "cell_type": "code",
   "execution_count": 10,
   "metadata": {},
   "outputs": [],
   "source": [
    "# Calcul stat pour eta²\n",
    "# cf. https://openclassrooms.com/fr/courses/4525266-decrivez-et-nettoyez-votre-jeu-de-donnees/4774896-analysez-une-variable-\n",
    "# quantitative-et-une-qualitative-par-anova\n",
    "# Variable quali, y variable quanti\n",
    "def eta2(x,y):\n",
    "    moyenne_y = y.mean()\n",
    "    classes = []\n",
    "    for classe in x.unique():\n",
    "        yi_classe = y[x==classe]\n",
    "        classes.append({'ni': len(yi_classe),\n",
    "                        'moyenne_classe': yi_classe.mean()})\n",
    "    SCT = sum([(yj-moyenne_y)**2 for yj in y])\n",
    "    SCE = sum([c['ni']*(c['moyenne_classe']-moyenne_y)**2 for c in classes])\n",
    "    return SCE/SCT"
   ]
  },
  {
   "cell_type": "code",
   "execution_count": 11,
   "metadata": {},
   "outputs": [
    {
     "data": {
      "text/plain": [
       "0.08153093511829282"
      ]
     },
     "execution_count": 11,
     "metadata": {},
     "output_type": "execute_result"
    }
   ],
   "source": [
    "eta2(corraca['classe_age'],corraca['price'])"
   ]
  },
  {
   "cell_type": "markdown",
   "metadata": {},
   "source": [
    "eta² = 0.08 => Taille d'effet moyen d'après le tableau d'interprétation de Cohen. "
   ]
  },
  {
   "cell_type": "markdown",
   "metadata": {},
   "source": [
    "#### Montant total des achats par groupe d'âge (à partir de cpv_ss_ab c-à-d sans les grands comptes et la classe 18 ans)"
   ]
  },
  {
   "cell_type": "code",
   "execution_count": 7,
   "metadata": {
    "scrolled": true
   },
   "outputs": [
    {
     "data": {
      "text/html": [
       "<div>\n",
       "<style scoped>\n",
       "    .dataframe tbody tr th:only-of-type {\n",
       "        vertical-align: middle;\n",
       "    }\n",
       "\n",
       "    .dataframe tbody tr th {\n",
       "        vertical-align: top;\n",
       "    }\n",
       "\n",
       "    .dataframe thead th {\n",
       "        text-align: right;\n",
       "    }\n",
       "</style>\n",
       "<table border=\"1\" class=\"dataframe\">\n",
       "  <thead>\n",
       "    <tr style=\"text-align: right;\">\n",
       "      <th></th>\n",
       "      <th>classe_age</th>\n",
       "      <th>price</th>\n",
       "    </tr>\n",
       "  </thead>\n",
       "  <tbody>\n",
       "    <tr>\n",
       "      <th>0</th>\n",
       "      <td>18-30</td>\n",
       "      <td>1.042817e+06</td>\n",
       "    </tr>\n",
       "    <tr>\n",
       "      <th>1</th>\n",
       "      <td>30-50</td>\n",
       "      <td>2.581483e+06</td>\n",
       "    </tr>\n",
       "    <tr>\n",
       "      <th>2</th>\n",
       "      <td>50+</td>\n",
       "      <td>1.444039e+06</td>\n",
       "    </tr>\n",
       "  </tbody>\n",
       "</table>\n",
       "</div>"
      ],
      "text/plain": [
       "  classe_age         price\n",
       "0      18-30  1.042817e+06\n",
       "1      30-50  2.581483e+06\n",
       "2        50+  1.444039e+06"
      ]
     },
     "execution_count": 7,
     "metadata": {},
     "output_type": "execute_result"
    }
   ],
   "source": [
    "# Si on veut juste la somme (= le montant total des achats par groupe d'âge)\n",
    "corraca2b = corraca.groupby('classe_age')['price'].sum().reset_index()\n",
    "corraca2b"
   ]
  },
  {
   "cell_type": "code",
   "execution_count": 9,
   "metadata": {
    "scrolled": true
   },
   "outputs": [
    {
     "data": {
      "image/png": "[encoded data removed]",
      "text/plain": [
       "<Figure size 432x288 with 1 Axes>"
      ]
     },
     "metadata": {},
     "output_type": "display_data"
    }
   ],
   "source": [
    "# Répartition du montant des achats par classe d'âge\n",
    "plt.pie(corraca2b.price, labels=corraca2b.classe_age, autopct='%1.1f%%', startangle=90)\n",
    "plt.axis('equal')  # Equal aspect ratio ensures that pie is drawn as a circle.\n",
    "plt.title('Chiffre d\\'affaire par classe d\\'âge (sur données filtrées)')\n",
    "plt.savefig('fig37b.jpeg')"
   ]
  },
  {
   "cell_type": "markdown",
   "metadata": {},
   "source": [
    "#### Montant total des achats par groupe d'âge (à partir de cpv c-à-d sur les données totales, y compris grands comptes et 18 ans)"
   ]
  },
  {
   "cell_type": "code",
   "execution_count": 11,
   "metadata": {},
   "outputs": [],
   "source": [
    "# Je créé un nouveau df\n",
    "corraca2c = cpv[['client_id', 'price', 'age','classe_age']].reset_index()"
   ]
  },
  {
   "cell_type": "code",
   "execution_count": 12,
   "metadata": {},
   "outputs": [],
   "source": [
    "# Group by pour avoir les montants totaux des achats par client, âge et classe d'âge\n",
    "corraca2c = corraca2c.groupby(['client_id', 'age', 'classe_age']).agg({'price':'sum'}).reset_index()"
   ]
  },
  {
   "cell_type": "code",
   "execution_count": 13,
   "metadata": {},
   "outputs": [
    {
     "data": {
      "text/html": [
       "<div>\n",
       "<style scoped>\n",
       "    .dataframe tbody tr th:only-of-type {\n",
       "        vertical-align: middle;\n",
       "    }\n",
       "\n",
       "    .dataframe tbody tr th {\n",
       "        vertical-align: top;\n",
       "    }\n",
       "\n",
       "    .dataframe thead th {\n",
       "        text-align: right;\n",
       "    }\n",
       "</style>\n",
       "<table border=\"1\" class=\"dataframe\">\n",
       "  <thead>\n",
       "    <tr style=\"text-align: right;\">\n",
       "      <th></th>\n",
       "      <th>classe_age</th>\n",
       "      <th>price</th>\n",
       "    </tr>\n",
       "  </thead>\n",
       "  <tbody>\n",
       "    <tr>\n",
       "      <th>0</th>\n",
       "      <td>18-30</td>\n",
       "      <td>1.482462e+06</td>\n",
       "    </tr>\n",
       "    <tr>\n",
       "      <th>1</th>\n",
       "      <td>30-50</td>\n",
       "      <td>2.743491e+06</td>\n",
       "    </tr>\n",
       "    <tr>\n",
       "      <th>2</th>\n",
       "      <td>50+</td>\n",
       "      <td>1.571722e+06</td>\n",
       "    </tr>\n",
       "  </tbody>\n",
       "</table>\n",
       "</div>"
      ],
      "text/plain": [
       "  classe_age         price\n",
       "0      18-30  1.482462e+06\n",
       "1      30-50  2.743491e+06\n",
       "2        50+  1.571722e+06"
      ]
     },
     "execution_count": 13,
     "metadata": {},
     "output_type": "execute_result"
    }
   ],
   "source": [
    "# Si on veut juste la somme (= le montant total des achats par groupe d'âge)\n",
    "corraca2c = corraca2c.groupby('classe_age')['price'].sum().reset_index()\n",
    "corraca2c"
   ]
  },
  {
   "cell_type": "code",
   "execution_count": 14,
   "metadata": {},
   "outputs": [
    {
     "data": {
      "image/png": "[encoded data removed]",
      "text/plain": [
       "<Figure size 432x288 with 1 Axes>"
      ]
     },
     "metadata": {},
     "output_type": "display_data"
    }
   ],
   "source": [
    "plt.pie(corraca2c.price, labels=corraca2c.classe_age, autopct='%1.1f%%', startangle=90)\n",
    "plt.axis('equal')  # Equal aspect ratio ensures that pie is drawn as a circle.\n",
    "plt.title('Chiffre d\\'affaire par classe d\\'âge (sur données totales)')\n",
    "\n",
    "plt.savefig('fig37c.jpeg')"
   ]
  },
  {
   "cell_type": "markdown",
   "metadata": {},
   "source": [
    "## 2b. Y a-t-il une corrélation entre l'âge des clients et la fréquence d’achat (nombre d'achats par mois par exemple)."
   ]
  },
  {
   "cell_type": "markdown",
   "metadata": {},
   "source": [
    " Il faut d'abord calculer le nb d'achats par mois --> regrouper le nb d'occurrences de client_id par mois. "
   ]
  },
  {
   "cell_type": "markdown",
   "metadata": {},
   "source": [
    "Il s'agit de 2 variables quantitatives --> Test de corrélation de Pearson + nuage de points + lien linéaire calculé. "
   ]
  },
  {
   "cell_type": "markdown",
   "metadata": {},
   "source": [
    "### 1. 1ère analyse : calcul du montant total des achats en fonction de l'âge"
   ]
  },
  {
   "cell_type": "markdown",
   "metadata": {},
   "source": [
    "##### Calcul de la moyenne du nb d'achats par mois pour la corrélation entre l'âge des clients et la fréquence d’achat "
   ]
  },
  {
   "cell_type": "code",
   "execution_count": 89,
   "metadata": {},
   "outputs": [],
   "source": [
    "# Je prends le df global duquel ont été retirés les outliers : \n",
    "cafa = cpv_ss_ab[['date','client_id','age', 'classe_age', 'id_prod']]"
   ]
  },
  {
   "cell_type": "code",
   "execution_count": 90,
   "metadata": {},
   "outputs": [],
   "source": [
    "# Par mois \n",
    "cafa = cafa.set_index('date').to_period(freq='M').reset_index()"
   ]
  },
  {
   "cell_type": "code",
   "execution_count": 91,
   "metadata": {},
   "outputs": [],
   "source": [
    "# Calcul du nb d'achats par mois en fonction de l'âge du client\n",
    "cafa = cafa.groupby(['date', 'client_id', 'age', 'classe_age']).agg({'id_prod':'count'}).reset_index()"
   ]
  },
  {
   "cell_type": "code",
   "execution_count": 92,
   "metadata": {},
   "outputs": [],
   "source": [
    "# Je renomme la colonne id_prod qui correspond maintenant au nb d'achats\n",
    "cafa = cafa.rename(columns={'id_prod': 'nb_achats_mois'})"
   ]
  },
  {
   "cell_type": "code",
   "execution_count": 287,
   "metadata": {},
   "outputs": [
    {
     "data": {
      "text/html": [
       "<div>\n",
       "<style scoped>\n",
       "    .dataframe tbody tr th:only-of-type {\n",
       "        vertical-align: middle;\n",
       "    }\n",
       "\n",
       "    .dataframe tbody tr th {\n",
       "        vertical-align: top;\n",
       "    }\n",
       "\n",
       "    .dataframe thead th {\n",
       "        text-align: right;\n",
       "    }\n",
       "</style>\n",
       "<table border=\"1\" class=\"dataframe\">\n",
       "  <thead>\n",
       "    <tr style=\"text-align: right;\">\n",
       "      <th></th>\n",
       "      <th>date</th>\n",
       "      <th>client_id</th>\n",
       "      <th>age</th>\n",
       "      <th>classe_age</th>\n",
       "      <th>id_prod</th>\n",
       "    </tr>\n",
       "  </thead>\n",
       "  <tbody>\n",
       "    <tr>\n",
       "      <th>40542</th>\n",
       "      <td>2021-12-26 20:07:24.013941</td>\n",
       "      <td>c_4120</td>\n",
       "      <td>43.0</td>\n",
       "      <td>30-50</td>\n",
       "      <td>0_1099</td>\n",
       "    </tr>\n",
       "    <tr>\n",
       "      <th>79047</th>\n",
       "      <td>2022-01-02 08:11:55.767083</td>\n",
       "      <td>c_332</td>\n",
       "      <td>49.0</td>\n",
       "      <td>30-50</td>\n",
       "      <td>0_1472</td>\n",
       "    </tr>\n",
       "    <tr>\n",
       "      <th>52514</th>\n",
       "      <td>2021-08-15 19:16:04.655885</td>\n",
       "      <td>c_8581</td>\n",
       "      <td>27.0</td>\n",
       "      <td>18-30</td>\n",
       "      <td>2_226</td>\n",
       "    </tr>\n",
       "    <tr>\n",
       "      <th>51284</th>\n",
       "      <td>2021-11-03 18:02:08.535142</td>\n",
       "      <td>c_4617</td>\n",
       "      <td>26.0</td>\n",
       "      <td>18-30</td>\n",
       "      <td>1_130</td>\n",
       "    </tr>\n",
       "  </tbody>\n",
       "</table>\n",
       "</div>"
      ],
      "text/plain": [
       "                            date client_id   age classe_age id_prod\n",
       "40542 2021-12-26 20:07:24.013941    c_4120  43.0      30-50  0_1099\n",
       "79047 2022-01-02 08:11:55.767083     c_332  49.0      30-50  0_1472\n",
       "52514 2021-08-15 19:16:04.655885    c_8581  27.0      18-30   2_226\n",
       "51284 2021-11-03 18:02:08.535142    c_4617  26.0      18-30   1_130"
      ]
     },
     "execution_count": 287,
     "metadata": {},
     "output_type": "execute_result"
    }
   ],
   "source": [
    "cafa.sample(4)"
   ]
  },
  {
   "cell_type": "code",
   "execution_count": 93,
   "metadata": {},
   "outputs": [],
   "source": [
    "# Regroupement par âge et moyenne du nb d'achats par mois\n",
    "cafa2 = cafa.groupby('age').mean().reset_index()"
   ]
  },
  {
   "cell_type": "code",
   "execution_count": 288,
   "metadata": {},
   "outputs": [
    {
     "data": {
      "text/html": [
       "<div>\n",
       "<style scoped>\n",
       "    .dataframe tbody tr th:only-of-type {\n",
       "        vertical-align: middle;\n",
       "    }\n",
       "\n",
       "    .dataframe tbody tr th {\n",
       "        vertical-align: top;\n",
       "    }\n",
       "\n",
       "    .dataframe thead th {\n",
       "        text-align: right;\n",
       "    }\n",
       "</style>\n",
       "<table border=\"1\" class=\"dataframe\">\n",
       "  <thead>\n",
       "    <tr style=\"text-align: right;\">\n",
       "      <th></th>\n",
       "      <th>age</th>\n",
       "      <th>nb_achats_mois</th>\n",
       "    </tr>\n",
       "  </thead>\n",
       "  <tbody>\n",
       "    <tr>\n",
       "      <th>18</th>\n",
       "      <td>37.0</td>\n",
       "      <td>6.605978</td>\n",
       "    </tr>\n",
       "  </tbody>\n",
       "</table>\n",
       "</div>"
      ],
      "text/plain": [
       "     age  nb_achats_mois\n",
       "18  37.0        6.605978"
      ]
     },
     "execution_count": 288,
     "metadata": {},
     "output_type": "execute_result"
    }
   ],
   "source": [
    "cafa2.sample()"
   ]
  },
  {
   "cell_type": "code",
   "execution_count": 94,
   "metadata": {},
   "outputs": [
    {
     "data": {
      "text/html": [
       "<table class=\"simpletable\">\n",
       "<tr>\n",
       "        <td>Model:</td>               <td>OLS</td>         <td>Adj. R-squared:</td>     <td>0.087</td> \n",
       "</tr>\n",
       "<tr>\n",
       "  <td>Dependent Variable:</td>  <td>nb_achats_mois</td>         <td>AIC:</td>         <td>267.9762</td>\n",
       "</tr>\n",
       "<tr>\n",
       "         <td>Date:</td>        <td>2020-05-17 13:40</td>        <td>BIC:</td>         <td>272.6112</td>\n",
       "</tr>\n",
       "<tr>\n",
       "   <td>No. Observations:</td>         <td>75</td>          <td>Log-Likelihood:</td>    <td>-131.99</td>\n",
       "</tr>\n",
       "<tr>\n",
       "       <td>Df Model:</td>              <td>1</td>           <td>F-statistic:</td>       <td>8.051</td> \n",
       "</tr>\n",
       "<tr>\n",
       "     <td>Df Residuals:</td>           <td>73</td>        <td>Prob (F-statistic):</td>  <td>0.00588</td>\n",
       "</tr>\n",
       "<tr>\n",
       "      <td>R-squared:</td>            <td>0.099</td>            <td>Scale:</td>         <td>2.0316</td> \n",
       "</tr>\n",
       "</table>\n",
       "<table class=\"simpletable\">\n",
       "<tr>\n",
       "      <td></td>       <th>Coef.</th>  <th>Std.Err.</th>    <th>t</th>     <th>P>|t|</th> <th>[0.025</th>  <th>0.975]</th> \n",
       "</tr>\n",
       "<tr>\n",
       "  <th>Intercept</th> <td>5.2626</td>   <td>0.4564</td>  <td>11.5295</td> <td>0.0000</td> <td>4.3529</td>  <td>6.1723</td> \n",
       "</tr>\n",
       "<tr>\n",
       "  <th>age</th>       <td>-0.0216</td>  <td>0.0076</td>  <td>-2.8375</td> <td>0.0059</td> <td>-0.0367</td> <td>-0.0064</td>\n",
       "</tr>\n",
       "</table>\n",
       "<table class=\"simpletable\">\n",
       "<tr>\n",
       "     <td>Omnibus:</td>    <td>7.442</td>  <td>Durbin-Watson:</td>   <td>0.218</td>\n",
       "</tr>\n",
       "<tr>\n",
       "  <td>Prob(Omnibus):</td> <td>0.024</td> <td>Jarque-Bera (JB):</td> <td>4.093</td>\n",
       "</tr>\n",
       "<tr>\n",
       "       <td>Skew:</td>     <td>0.369</td>     <td>Prob(JB):</td>     <td>0.129</td>\n",
       "</tr>\n",
       "<tr>\n",
       "     <td>Kurtosis:</td>   <td>2.125</td>  <td>Condition No.:</td>    <td>167</td> \n",
       "</tr>\n",
       "</table>"
      ],
      "text/plain": [
       "<class 'statsmodels.iolib.summary2.Summary'>\n",
       "\"\"\"\n",
       "                 Results: Ordinary least squares\n",
       "=================================================================\n",
       "Model:              OLS              Adj. R-squared:     0.087   \n",
       "Dependent Variable: nb_achats_mois   AIC:                267.9762\n",
       "Date:               2020-05-17 13:40 BIC:                272.6112\n",
       "No. Observations:   75               Log-Likelihood:     -131.99 \n",
       "Df Model:           1                F-statistic:        8.051   \n",
       "Df Residuals:       73               Prob (F-statistic): 0.00588 \n",
       "R-squared:          0.099            Scale:              2.0316  \n",
       "------------------------------------------------------------------\n",
       "               Coef.   Std.Err.     t     P>|t|    [0.025   0.975]\n",
       "------------------------------------------------------------------\n",
       "Intercept      5.2626    0.4564  11.5295  0.0000   4.3529   6.1723\n",
       "age           -0.0216    0.0076  -2.8375  0.0059  -0.0367  -0.0064\n",
       "-----------------------------------------------------------------\n",
       "Omnibus:              7.442        Durbin-Watson:           0.218\n",
       "Prob(Omnibus):        0.024        Jarque-Bera (JB):        4.093\n",
       "Skew:                 0.369        Prob(JB):                0.129\n",
       "Kurtosis:             2.125        Condition No.:           167  \n",
       "=================================================================\n",
       "\n",
       "\"\"\""
      ]
     },
     "execution_count": 94,
     "metadata": {},
     "output_type": "execute_result"
    }
   ],
   "source": [
    "# Régression linéaire\n",
    "res = smf.ols(\"nb_achats_mois ~ age\", cafa2).fit()\n",
    "res.summary2()"
   ]
  },
  {
   "cell_type": "code",
   "execution_count": 95,
   "metadata": {},
   "outputs": [
    {
     "name": "stdout",
     "output_type": "stream",
     "text": [
      "p=0.005882460170220698   R2=0.09933794139930618\n"
     ]
    }
   ],
   "source": [
    "print(f\"p={res.pvalues[1]}   R2={res.rsquared}\")"
   ]
  },
  {
   "cell_type": "code",
   "execution_count": 31,
   "metadata": {},
   "outputs": [
    {
     "name": "stdout",
     "output_type": "stream",
     "text": [
      "Le coefficient de Pearson est de : -0.31517922107795426\n",
      "Sa p-value est de : 0.005882460170220738\n"
     ]
    }
   ],
   "source": [
    "coeff_pearson = pearsonr(cafa2['age'],cafa2['nb_achats_mois'])\n",
    "print(f\"Le coefficient de Pearson est de : {coeff_pearson[0]}\")\n",
    "print(f\"Sa p-value est de : {coeff_pearson[1]}\")"
   ]
  },
  {
   "cell_type": "code",
   "execution_count": 96,
   "metadata": {},
   "outputs": [
    {
     "data": {
      "image/png": "[encoded data removed]",
      "text/plain": [
       "<Figure size 432x288 with 1 Axes>"
      ]
     },
     "metadata": {},
     "output_type": "display_data"
    }
   ],
   "source": [
    "# Droite de régression linéaire\n",
    "cafa2.plot.scatter(x=\"age\", y=\"nb_achats_mois\")\n",
    "xs = np.arange(0,100)\n",
    "ys = res.params[0] + res.params[1] * xs\n",
    "plt.plot(xs,ys,'r--')\n",
    "plt.title('Corrélation âge et moyenne du nombre d\\'achats par mois')\n",
    "\n",
    "plt.savefig('fig38.jpeg')"
   ]
  },
  {
   "cell_type": "code",
   "execution_count": 97,
   "metadata": {},
   "outputs": [
    {
     "data": {
      "image/png": "[encoded data removed]",
      "text/plain": [
       "<Figure size 432x288 with 1 Axes>"
      ]
     },
     "metadata": {},
     "output_type": "display_data"
    }
   ],
   "source": [
    "#  Effets non-linéaires\n",
    "sns.regplot(x=\"age\", y=\"nb_achats_mois\", data=cafa2, lowess=True, line_kws = {'color':'orange','linestyle':'dashed'})\\\n",
    ".set_title('Corrélation âge et moyenne du nombre d\\'achats par mois')\n",
    "\n",
    "plt.savefig('fig39.jpeg')"
   ]
  },
  {
   "cell_type": "markdown",
   "metadata": {},
   "source": [
    "Un effet non-linéaire évident. Il va être plus intéressant d'analyser par classe d'âge. "
   ]
  },
  {
   "cell_type": "markdown",
   "metadata": {},
   "source": [
    "### 2. 2ème analyse : calcul de la corrélation entre la classe d'âge des clients et la fréquence d'achat"
   ]
  },
  {
   "cell_type": "code",
   "execution_count": 18,
   "metadata": {},
   "outputs": [],
   "source": [
    "# Je prends le df global duquel ont été retirés les outliers : \n",
    "cafca = cpv_ss_ab[['date','client_id','classe_age','id_prod']]"
   ]
  },
  {
   "cell_type": "code",
   "execution_count": 19,
   "metadata": {},
   "outputs": [],
   "source": [
    "# Par mois \n",
    "cafca = cafca.set_index('date').to_period(freq='M').reset_index()"
   ]
  },
  {
   "cell_type": "code",
   "execution_count": 20,
   "metadata": {},
   "outputs": [],
   "source": [
    "# Calcul du nb d'achats par mois en fonction de la classe d'âge des clients\n",
    "cafca = cafca.groupby(['date', 'client_id', 'classe_age']).agg({'id_prod':'count'}).reset_index()"
   ]
  },
  {
   "cell_type": "code",
   "execution_count": 21,
   "metadata": {},
   "outputs": [],
   "source": [
    "# Je renomme la colonne id_prod qui correspond maintenant au nb d'achats\n",
    "cafca = cafca.rename(columns={'id_prod': 'nb_achats_mois'})"
   ]
  },
  {
   "cell_type": "code",
   "execution_count": 22,
   "metadata": {
    "scrolled": true
   },
   "outputs": [
    {
     "data": {
      "text/html": [
       "<div>\n",
       "<style scoped>\n",
       "    .dataframe tbody tr th:only-of-type {\n",
       "        vertical-align: middle;\n",
       "    }\n",
       "\n",
       "    .dataframe tbody tr th {\n",
       "        vertical-align: top;\n",
       "    }\n",
       "\n",
       "    .dataframe thead th {\n",
       "        text-align: right;\n",
       "    }\n",
       "</style>\n",
       "<table border=\"1\" class=\"dataframe\">\n",
       "  <thead>\n",
       "    <tr style=\"text-align: right;\">\n",
       "      <th></th>\n",
       "      <th>date</th>\n",
       "      <th>client_id</th>\n",
       "      <th>classe_age</th>\n",
       "      <th>nb_achats_mois</th>\n",
       "    </tr>\n",
       "  </thead>\n",
       "  <tbody>\n",
       "    <tr>\n",
       "      <th>0</th>\n",
       "      <td>2021-03</td>\n",
       "      <td>c_10</td>\n",
       "      <td>50+</td>\n",
       "      <td>1</td>\n",
       "    </tr>\n",
       "    <tr>\n",
       "      <th>1</th>\n",
       "      <td>2021-03</td>\n",
       "      <td>c_1000</td>\n",
       "      <td>50+</td>\n",
       "      <td>9</td>\n",
       "    </tr>\n",
       "    <tr>\n",
       "      <th>2</th>\n",
       "      <td>2021-03</td>\n",
       "      <td>c_1001</td>\n",
       "      <td>30-50</td>\n",
       "      <td>6</td>\n",
       "    </tr>\n",
       "    <tr>\n",
       "      <th>3</th>\n",
       "      <td>2021-03</td>\n",
       "      <td>c_1003</td>\n",
       "      <td>30-50</td>\n",
       "      <td>11</td>\n",
       "    </tr>\n",
       "    <tr>\n",
       "      <th>4</th>\n",
       "      <td>2021-03</td>\n",
       "      <td>c_1004</td>\n",
       "      <td>30-50</td>\n",
       "      <td>7</td>\n",
       "    </tr>\n",
       "  </tbody>\n",
       "</table>\n",
       "</div>"
      ],
      "text/plain": [
       "      date client_id classe_age  nb_achats_mois\n",
       "0  2021-03      c_10        50+               1\n",
       "1  2021-03    c_1000        50+               9\n",
       "2  2021-03    c_1001      30-50               6\n",
       "3  2021-03    c_1003      30-50              11\n",
       "4  2021-03    c_1004      30-50               7"
      ]
     },
     "execution_count": 22,
     "metadata": {},
     "output_type": "execute_result"
    }
   ],
   "source": [
    "cafca.head()"
   ]
  },
  {
   "cell_type": "code",
   "execution_count": 102,
   "metadata": {},
   "outputs": [
    {
     "data": {
      "text/html": [
       "<div>\n",
       "<style scoped>\n",
       "    .dataframe tbody tr th:only-of-type {\n",
       "        vertical-align: middle;\n",
       "    }\n",
       "\n",
       "    .dataframe tbody tr th {\n",
       "        vertical-align: top;\n",
       "    }\n",
       "\n",
       "    .dataframe thead th {\n",
       "        text-align: right;\n",
       "    }\n",
       "</style>\n",
       "<table border=\"1\" class=\"dataframe\">\n",
       "  <thead>\n",
       "    <tr style=\"text-align: right;\">\n",
       "      <th></th>\n",
       "      <th>classe_age</th>\n",
       "      <th>nb_achats_mois</th>\n",
       "    </tr>\n",
       "  </thead>\n",
       "  <tbody>\n",
       "    <tr>\n",
       "      <th>0</th>\n",
       "      <td>18-30</td>\n",
       "      <td>2.697258</td>\n",
       "    </tr>\n",
       "    <tr>\n",
       "      <th>1</th>\n",
       "      <td>30-50</td>\n",
       "      <td>6.321166</td>\n",
       "    </tr>\n",
       "    <tr>\n",
       "      <th>2</th>\n",
       "      <td>50+</td>\n",
       "      <td>3.505038</td>\n",
       "    </tr>\n",
       "  </tbody>\n",
       "</table>\n",
       "</div>"
      ],
      "text/plain": [
       "  classe_age  nb_achats_mois\n",
       "0      18-30        2.697258\n",
       "1      30-50        6.321166\n",
       "2        50+        3.505038"
      ]
     },
     "execution_count": 102,
     "metadata": {},
     "output_type": "execute_result"
    }
   ],
   "source": [
    "# Regroupement par classe d'âge et moyenne du nb d'achats par mois\n",
    "cafca.groupby('classe_age').mean().reset_index()"
   ]
  },
  {
   "cell_type": "code",
   "execution_count": 104,
   "metadata": {},
   "outputs": [
    {
     "data": {
      "image/png": "[encoded data removed]",
      "text/plain": [
       "<Figure size 432x288 with 1 Axes>"
      ]
     },
     "metadata": {},
     "output_type": "display_data"
    }
   ],
   "source": [
    "# Répartition du montant des achats par classe d'âge\n",
    "cafca.boxplot(column='nb_achats_mois', by='classe_age', showmeans=True, showfliers=False, vert = 0)\n",
    "plt.suptitle('')\n",
    "plt.title('Nombre d\\'achats par mois par classe d\\'âge')\n",
    "plt.xlabel('nombre d\\'achats par mois')\n",
    "plt.ylabel('classe d\\'âge')\n",
    "plt.savefig('fig40.jpeg')"
   ]
  },
  {
   "cell_type": "markdown",
   "metadata": {},
   "source": [
    "### Anova"
   ]
  },
  {
   "cell_type": "code",
   "execution_count": 23,
   "metadata": {},
   "outputs": [
    {
     "name": "stdout",
     "output_type": "stream",
     "text": [
      "                            OLS Regression Results                            \n",
      "==============================================================================\n",
      "Dep. Variable:         nb_achats_mois   R-squared:                       0.138\n",
      "Model:                            OLS   Adj. R-squared:                  0.138\n",
      "Method:                 Least Squares   F-statistic:                     5230.\n",
      "Date:                Fri, 29 May 2020   Prob (F-statistic):               0.00\n",
      "Time:                        17:17:35   Log-Likelihood:            -1.8050e+05\n",
      "No. Observations:               65273   AIC:                         3.610e+05\n",
      "Df Residuals:                   65270   BIC:                         3.610e+05\n",
      "Df Model:                           2                                         \n",
      "Covariance Type:            nonrobust                                         \n",
      "==========================================================================================\n",
      "                             coef    std err          t      P>|t|      [0.025      0.975]\n",
      "------------------------------------------------------------------------------------------\n",
      "Intercept                  2.6973      0.039     68.990      0.000       2.621       2.774\n",
      "C(classe_age)[T.30-50]     3.6239      0.045     80.709      0.000       3.536       3.712\n",
      "C(classe_age)[T.50+]       0.8078      0.046     17.576      0.000       0.718       0.898\n",
      "==============================================================================\n",
      "Omnibus:                    23471.515   Durbin-Watson:                   1.970\n",
      "Prob(Omnibus):                  0.000   Jarque-Bera (JB):           101612.014\n",
      "Skew:                           1.735   Prob(JB):                         0.00\n",
      "Kurtosis:                       8.032   Cond. No.                         5.51\n",
      "==============================================================================\n",
      "\n",
      "Warnings:\n",
      "[1] Standard Errors assume that the covariance matrix of the errors is correctly specified.\n"
     ]
    }
   ],
   "source": [
    "anova_cafca = smf.ols('nb_achats_mois ~ C(classe_age)', data=cafca).fit()\n",
    "print(anova_cafca.summary())"
   ]
  },
  {
   "cell_type": "code",
   "execution_count": 24,
   "metadata": {},
   "outputs": [
    {
     "name": "stdout",
     "output_type": "stream",
     "text": [
      "Ici la p-value est égale à 0.0\n"
     ]
    }
   ],
   "source": [
    "pvalue_cafca = anova_cafca.f_pvalue\n",
    "print(\"Ici la p-value est égale à {}\".format(pvalue_cafca))"
   ]
  },
  {
   "cell_type": "code",
   "execution_count": 25,
   "metadata": {
    "scrolled": true
   },
   "outputs": [
    {
     "name": "stdout",
     "output_type": "stream",
     "text": [
      "                    df         sum_sq       mean_sq            F  PR(>F)\n",
      "C(classe_age)      2.0  154533.317282  77266.658641  5230.203229     0.0\n",
      "Residual       65270.0  964244.521457     14.773166          NaN     NaN\n"
     ]
    }
   ],
   "source": [
    "# Afficher les résultats de la table d'ANOVA\n",
    "aov_table_cafca = sm.stats.anova_lm(anova_cafca)\n",
    "print(aov_table_cafca)"
   ]
  },
  {
   "cell_type": "code",
   "execution_count": 26,
   "metadata": {},
   "outputs": [
    {
     "data": {
      "text/plain": [
       "0.13812690234925448"
      ]
     },
     "execution_count": 26,
     "metadata": {},
     "output_type": "execute_result"
    }
   ],
   "source": [
    "eta2(cafca['classe_age'],cafca['nb_achats_mois'])"
   ]
  },
  {
   "cell_type": "code",
   "execution_count": null,
   "metadata": {},
   "outputs": [],
   "source": []
  },
  {
   "cell_type": "markdown",
   "metadata": {},
   "source": [
    "## 2c. Y a-t-il une corrélation entre l'âge des clients et la taille du panier moyen (en nombre d’articles)."
   ]
  },
  {
   "cell_type": "markdown",
   "metadata": {},
   "source": [
    "Il s'agit de 2 variables quantitatives. "
   ]
  },
  {
   "cell_type": "markdown",
   "metadata": {},
   "source": [
    "Il faut d'abord calculer la taille du panier en nombre d'articles puis regrouper par âge. "
   ]
  },
  {
   "cell_type": "code",
   "execution_count": 271,
   "metadata": {},
   "outputs": [
    {
     "data": {
      "text/html": [
       "<div>\n",
       "<style scoped>\n",
       "    .dataframe tbody tr th:only-of-type {\n",
       "        vertical-align: middle;\n",
       "    }\n",
       "\n",
       "    .dataframe tbody tr th {\n",
       "        vertical-align: top;\n",
       "    }\n",
       "\n",
       "    .dataframe thead th {\n",
       "        text-align: right;\n",
       "    }\n",
       "</style>\n",
       "<table border=\"1\" class=\"dataframe\">\n",
       "  <thead>\n",
       "    <tr style=\"text-align: right;\">\n",
       "      <th></th>\n",
       "      <th>id_prod</th>\n",
       "      <th>date</th>\n",
       "      <th>session_id</th>\n",
       "      <th>client_id</th>\n",
       "      <th>price</th>\n",
       "      <th>categ</th>\n",
       "      <th>sex</th>\n",
       "      <th>birth</th>\n",
       "      <th>age</th>\n",
       "      <th>classe_age</th>\n",
       "    </tr>\n",
       "  </thead>\n",
       "  <tbody>\n",
       "    <tr>\n",
       "      <th>0</th>\n",
       "      <td>0_1483</td>\n",
       "      <td>2021-04-10 18:37:28.723910</td>\n",
       "      <td>s_18746</td>\n",
       "      <td>c_4450</td>\n",
       "      <td>4.99</td>\n",
       "      <td>0.0</td>\n",
       "      <td>f</td>\n",
       "      <td>1977.0</td>\n",
       "      <td>45.0</td>\n",
       "      <td>30-50</td>\n",
       "    </tr>\n",
       "    <tr>\n",
       "      <th>1</th>\n",
       "      <td>0_1085</td>\n",
       "      <td>2021-09-29 11:14:59.793823</td>\n",
       "      <td>s_97382</td>\n",
       "      <td>c_4450</td>\n",
       "      <td>3.99</td>\n",
       "      <td>0.0</td>\n",
       "      <td>f</td>\n",
       "      <td>1977.0</td>\n",
       "      <td>45.0</td>\n",
       "      <td>30-50</td>\n",
       "    </tr>\n",
       "    <tr>\n",
       "      <th>2</th>\n",
       "      <td>0_1453</td>\n",
       "      <td>2021-08-27 19:50:46.796939</td>\n",
       "      <td>s_81509</td>\n",
       "      <td>c_4450</td>\n",
       "      <td>7.99</td>\n",
       "      <td>0.0</td>\n",
       "      <td>f</td>\n",
       "      <td>1977.0</td>\n",
       "      <td>45.0</td>\n",
       "      <td>30-50</td>\n",
       "    </tr>\n",
       "    <tr>\n",
       "      <th>3</th>\n",
       "      <td>0_1405</td>\n",
       "      <td>2021-08-27 20:07:25.878440</td>\n",
       "      <td>s_81509</td>\n",
       "      <td>c_4450</td>\n",
       "      <td>4.99</td>\n",
       "      <td>0.0</td>\n",
       "      <td>f</td>\n",
       "      <td>1977.0</td>\n",
       "      <td>45.0</td>\n",
       "      <td>30-50</td>\n",
       "    </tr>\n",
       "    <tr>\n",
       "      <th>4</th>\n",
       "      <td>0_1392</td>\n",
       "      <td>2021-12-28 11:45:04.072281</td>\n",
       "      <td>s_141302</td>\n",
       "      <td>c_4450</td>\n",
       "      <td>6.30</td>\n",
       "      <td>0.0</td>\n",
       "      <td>f</td>\n",
       "      <td>1977.0</td>\n",
       "      <td>45.0</td>\n",
       "      <td>30-50</td>\n",
       "    </tr>\n",
       "  </tbody>\n",
       "</table>\n",
       "</div>"
      ],
      "text/plain": [
       "  id_prod                       date session_id client_id  price  categ sex  \\\n",
       "0  0_1483 2021-04-10 18:37:28.723910    s_18746    c_4450   4.99    0.0   f   \n",
       "1  0_1085 2021-09-29 11:14:59.793823    s_97382    c_4450   3.99    0.0   f   \n",
       "2  0_1453 2021-08-27 19:50:46.796939    s_81509    c_4450   7.99    0.0   f   \n",
       "3  0_1405 2021-08-27 20:07:25.878440    s_81509    c_4450   4.99    0.0   f   \n",
       "4  0_1392 2021-12-28 11:45:04.072281   s_141302    c_4450   6.30    0.0   f   \n",
       "\n",
       "    birth   age classe_age  \n",
       "0  1977.0  45.0      30-50  \n",
       "1  1977.0  45.0      30-50  \n",
       "2  1977.0  45.0      30-50  \n",
       "3  1977.0  45.0      30-50  \n",
       "4  1977.0  45.0      30-50  "
      ]
     },
     "execution_count": 271,
     "metadata": {},
     "output_type": "execute_result"
    }
   ],
   "source": [
    "# Je reprends le df de base sans les outliers : \n",
    "cpv_ss_ab.head()"
   ]
  },
  {
   "cell_type": "code",
   "execution_count": 28,
   "metadata": {},
   "outputs": [],
   "source": [
    "# Je créé un nouveau df en ne gardant que les colonnes utiles\n",
    "corrap = cpv_ss_ab[['id_prod','session_id','age', 'classe_age']]"
   ]
  },
  {
   "cell_type": "code",
   "execution_count": 314,
   "metadata": {},
   "outputs": [
    {
     "data": {
      "text/html": [
       "<div>\n",
       "<style scoped>\n",
       "    .dataframe tbody tr th:only-of-type {\n",
       "        vertical-align: middle;\n",
       "    }\n",
       "\n",
       "    .dataframe tbody tr th {\n",
       "        vertical-align: top;\n",
       "    }\n",
       "\n",
       "    .dataframe thead th {\n",
       "        text-align: right;\n",
       "    }\n",
       "</style>\n",
       "<table border=\"1\" class=\"dataframe\">\n",
       "  <thead>\n",
       "    <tr style=\"text-align: right;\">\n",
       "      <th></th>\n",
       "      <th>id_prod</th>\n",
       "      <th>session_id</th>\n",
       "      <th>age</th>\n",
       "      <th>classe_age</th>\n",
       "    </tr>\n",
       "  </thead>\n",
       "  <tbody>\n",
       "    <tr>\n",
       "      <th>0</th>\n",
       "      <td>0_1483</td>\n",
       "      <td>s_18746</td>\n",
       "      <td>45.0</td>\n",
       "      <td>30-50</td>\n",
       "    </tr>\n",
       "    <tr>\n",
       "      <th>1</th>\n",
       "      <td>0_1085</td>\n",
       "      <td>s_97382</td>\n",
       "      <td>45.0</td>\n",
       "      <td>30-50</td>\n",
       "    </tr>\n",
       "    <tr>\n",
       "      <th>2</th>\n",
       "      <td>0_1453</td>\n",
       "      <td>s_81509</td>\n",
       "      <td>45.0</td>\n",
       "      <td>30-50</td>\n",
       "    </tr>\n",
       "    <tr>\n",
       "      <th>3</th>\n",
       "      <td>0_1405</td>\n",
       "      <td>s_81509</td>\n",
       "      <td>45.0</td>\n",
       "      <td>30-50</td>\n",
       "    </tr>\n",
       "    <tr>\n",
       "      <th>4</th>\n",
       "      <td>0_1392</td>\n",
       "      <td>s_141302</td>\n",
       "      <td>45.0</td>\n",
       "      <td>30-50</td>\n",
       "    </tr>\n",
       "  </tbody>\n",
       "</table>\n",
       "</div>"
      ],
      "text/plain": [
       "  id_prod session_id   age classe_age\n",
       "0  0_1483    s_18746  45.0      30-50\n",
       "1  0_1085    s_97382  45.0      30-50\n",
       "2  0_1453    s_81509  45.0      30-50\n",
       "3  0_1405    s_81509  45.0      30-50\n",
       "4  0_1392   s_141302  45.0      30-50"
      ]
     },
     "execution_count": 314,
     "metadata": {},
     "output_type": "execute_result"
    }
   ],
   "source": [
    "corrap.head()"
   ]
  },
  {
   "cell_type": "code",
   "execution_count": 106,
   "metadata": {},
   "outputs": [],
   "source": [
    "# Je créé un df pour récupérer la taille du panier en nb d'articles \n",
    "corrapa = corrap.groupby(['session_id','age'])['id_prod'].count().reset_index()"
   ]
  },
  {
   "cell_type": "code",
   "execution_count": 107,
   "metadata": {},
   "outputs": [],
   "source": [
    "# Je renomme la colonne price qui correspond maintenant au nb d'articles par session :\n",
    "corrapa = corrapa.rename(columns={'id_prod': 'nb_articles'})"
   ]
  },
  {
   "cell_type": "code",
   "execution_count": 42,
   "metadata": {
    "scrolled": true
   },
   "outputs": [
    {
     "data": {
      "text/html": [
       "<div>\n",
       "<style scoped>\n",
       "    .dataframe tbody tr th:only-of-type {\n",
       "        vertical-align: middle;\n",
       "    }\n",
       "\n",
       "    .dataframe tbody tr th {\n",
       "        vertical-align: top;\n",
       "    }\n",
       "\n",
       "    .dataframe thead th {\n",
       "        text-align: right;\n",
       "    }\n",
       "</style>\n",
       "<table border=\"1\" class=\"dataframe\">\n",
       "  <thead>\n",
       "    <tr style=\"text-align: right;\">\n",
       "      <th></th>\n",
       "      <th>session_id</th>\n",
       "      <th>age</th>\n",
       "      <th>nb_articles</th>\n",
       "    </tr>\n",
       "  </thead>\n",
       "  <tbody>\n",
       "    <tr>\n",
       "      <th>0</th>\n",
       "      <td>s_1</td>\n",
       "      <td>55.0</td>\n",
       "      <td>1</td>\n",
       "    </tr>\n",
       "    <tr>\n",
       "      <th>1</th>\n",
       "      <td>s_10</td>\n",
       "      <td>52.0</td>\n",
       "      <td>1</td>\n",
       "    </tr>\n",
       "    <tr>\n",
       "      <th>2</th>\n",
       "      <td>s_100</td>\n",
       "      <td>44.0</td>\n",
       "      <td>2</td>\n",
       "    </tr>\n",
       "    <tr>\n",
       "      <th>3</th>\n",
       "      <td>s_1000</td>\n",
       "      <td>33.0</td>\n",
       "      <td>4</td>\n",
       "    </tr>\n",
       "    <tr>\n",
       "      <th>4</th>\n",
       "      <td>s_10000</td>\n",
       "      <td>33.0</td>\n",
       "      <td>3</td>\n",
       "    </tr>\n",
       "  </tbody>\n",
       "</table>\n",
       "</div>"
      ],
      "text/plain": [
       "  session_id   age  nb_articles\n",
       "0        s_1  55.0            1\n",
       "1       s_10  52.0            1\n",
       "2      s_100  44.0            2\n",
       "3     s_1000  33.0            4\n",
       "4    s_10000  33.0            3"
      ]
     },
     "execution_count": 42,
     "metadata": {},
     "output_type": "execute_result"
    }
   ],
   "source": [
    "corrapa.head()"
   ]
  },
  {
   "cell_type": "code",
   "execution_count": 277,
   "metadata": {},
   "outputs": [
    {
     "data": {
      "text/html": [
       "<div>\n",
       "<style scoped>\n",
       "    .dataframe tbody tr th:only-of-type {\n",
       "        vertical-align: middle;\n",
       "    }\n",
       "\n",
       "    .dataframe tbody tr th {\n",
       "        vertical-align: top;\n",
       "    }\n",
       "\n",
       "    .dataframe thead th {\n",
       "        text-align: right;\n",
       "    }\n",
       "</style>\n",
       "<table border=\"1\" class=\"dataframe\">\n",
       "  <thead>\n",
       "    <tr style=\"text-align: right;\">\n",
       "      <th></th>\n",
       "      <th>id_prod</th>\n",
       "      <th>date</th>\n",
       "      <th>session_id</th>\n",
       "      <th>client_id</th>\n",
       "      <th>price</th>\n",
       "      <th>categ</th>\n",
       "      <th>sex</th>\n",
       "      <th>birth</th>\n",
       "      <th>age</th>\n",
       "      <th>classe_age</th>\n",
       "    </tr>\n",
       "  </thead>\n",
       "  <tbody>\n",
       "    <tr>\n",
       "      <th>275579</th>\n",
       "      <td>0_1590</td>\n",
       "      <td>2021-03-03 02:49:03.169115</td>\n",
       "      <td>s_1000</td>\n",
       "      <td>c_1014</td>\n",
       "      <td>18.93</td>\n",
       "      <td>0.0</td>\n",
       "      <td>m</td>\n",
       "      <td>1989.0</td>\n",
       "      <td>33.0</td>\n",
       "      <td>30-50</td>\n",
       "    </tr>\n",
       "    <tr>\n",
       "      <th>275592</th>\n",
       "      <td>0_1625</td>\n",
       "      <td>2021-03-03 02:38:09.568389</td>\n",
       "      <td>s_1000</td>\n",
       "      <td>c_1014</td>\n",
       "      <td>5.99</td>\n",
       "      <td>0.0</td>\n",
       "      <td>m</td>\n",
       "      <td>1989.0</td>\n",
       "      <td>33.0</td>\n",
       "      <td>30-50</td>\n",
       "    </tr>\n",
       "    <tr>\n",
       "      <th>275601</th>\n",
       "      <td>0_1449</td>\n",
       "      <td>2021-03-03 03:18:58.492283</td>\n",
       "      <td>s_1000</td>\n",
       "      <td>c_1014</td>\n",
       "      <td>4.99</td>\n",
       "      <td>0.0</td>\n",
       "      <td>m</td>\n",
       "      <td>1989.0</td>\n",
       "      <td>33.0</td>\n",
       "      <td>30-50</td>\n",
       "    </tr>\n",
       "    <tr>\n",
       "      <th>275606</th>\n",
       "      <td>0_1438</td>\n",
       "      <td>2021-03-03 03:25:12.320225</td>\n",
       "      <td>s_1000</td>\n",
       "      <td>c_1014</td>\n",
       "      <td>9.31</td>\n",
       "      <td>0.0</td>\n",
       "      <td>m</td>\n",
       "      <td>1989.0</td>\n",
       "      <td>33.0</td>\n",
       "      <td>30-50</td>\n",
       "    </tr>\n",
       "  </tbody>\n",
       "</table>\n",
       "</div>"
      ],
      "text/plain": [
       "       id_prod                       date session_id client_id  price  categ  \\\n",
       "275579  0_1590 2021-03-03 02:49:03.169115     s_1000    c_1014  18.93    0.0   \n",
       "275592  0_1625 2021-03-03 02:38:09.568389     s_1000    c_1014   5.99    0.0   \n",
       "275601  0_1449 2021-03-03 03:18:58.492283     s_1000    c_1014   4.99    0.0   \n",
       "275606  0_1438 2021-03-03 03:25:12.320225     s_1000    c_1014   9.31    0.0   \n",
       "\n",
       "       sex   birth   age classe_age  \n",
       "275579   m  1989.0  33.0      30-50  \n",
       "275592   m  1989.0  33.0      30-50  \n",
       "275601   m  1989.0  33.0      30-50  \n",
       "275606   m  1989.0  33.0      30-50  "
      ]
     },
     "execution_count": 277,
     "metadata": {},
     "output_type": "execute_result"
    }
   ],
   "source": [
    "# Vérification de la taille du panier avec une session comme exemple, la s_1000 en l'occurrence : \n",
    "cpv_ss_ab[cpv_ss_ab['session_id']=='s_1000']"
   ]
  },
  {
   "cell_type": "markdown",
   "metadata": {},
   "source": [
    "La session s_1000 comporte bien 4 articles. "
   ]
  },
  {
   "cell_type": "code",
   "execution_count": 108,
   "metadata": {},
   "outputs": [],
   "source": [
    "# Je calcule la taille du panier moyen en fonction de l'âge des clients : \n",
    "corrapa = corrapa.groupby('age').agg({'nb_articles':'mean'}).reset_index()"
   ]
  },
  {
   "cell_type": "code",
   "execution_count": 279,
   "metadata": {
    "scrolled": true
   },
   "outputs": [
    {
     "data": {
      "text/html": [
       "<div>\n",
       "<style scoped>\n",
       "    .dataframe tbody tr th:only-of-type {\n",
       "        vertical-align: middle;\n",
       "    }\n",
       "\n",
       "    .dataframe tbody tr th {\n",
       "        vertical-align: top;\n",
       "    }\n",
       "\n",
       "    .dataframe thead th {\n",
       "        text-align: right;\n",
       "    }\n",
       "</style>\n",
       "<table border=\"1\" class=\"dataframe\">\n",
       "  <thead>\n",
       "    <tr style=\"text-align: right;\">\n",
       "      <th></th>\n",
       "      <th>age</th>\n",
       "      <th>nb_articles</th>\n",
       "    </tr>\n",
       "  </thead>\n",
       "  <tbody>\n",
       "    <tr>\n",
       "      <th>0</th>\n",
       "      <td>19.0</td>\n",
       "      <td>1.724901</td>\n",
       "    </tr>\n",
       "    <tr>\n",
       "      <th>1</th>\n",
       "      <td>20.0</td>\n",
       "      <td>1.742947</td>\n",
       "    </tr>\n",
       "    <tr>\n",
       "      <th>2</th>\n",
       "      <td>21.0</td>\n",
       "      <td>1.732310</td>\n",
       "    </tr>\n",
       "    <tr>\n",
       "      <th>3</th>\n",
       "      <td>22.0</td>\n",
       "      <td>1.843220</td>\n",
       "    </tr>\n",
       "    <tr>\n",
       "      <th>4</th>\n",
       "      <td>23.0</td>\n",
       "      <td>1.791912</td>\n",
       "    </tr>\n",
       "  </tbody>\n",
       "</table>\n",
       "</div>"
      ],
      "text/plain": [
       "    age  nb_articles\n",
       "0  19.0     1.724901\n",
       "1  20.0     1.742947\n",
       "2  21.0     1.732310\n",
       "3  22.0     1.843220\n",
       "4  23.0     1.791912"
      ]
     },
     "execution_count": 279,
     "metadata": {},
     "output_type": "execute_result"
    }
   ],
   "source": [
    "corrapa.head()"
   ]
  },
  {
   "cell_type": "code",
   "execution_count": 112,
   "metadata": {
    "scrolled": false
   },
   "outputs": [
    {
     "data": {
      "image/png": "[encoded data removed]",
      "text/plain": [
       "<Figure size 432x288 with 1 Axes>"
      ]
     },
     "metadata": {},
     "output_type": "display_data"
    }
   ],
   "source": [
    "# Graphique : \n",
    "x = corrapa['age']\n",
    "y = np.array(corrapa['nb_articles'])\n",
    "plt.bar(x,y, width=0.5)\n",
    "plt.title('Taille du panier moyen en fonction de l\\'âge du client')\n",
    "plt.xlabel('âge')\n",
    "plt.ylabel('panier moyen en nb d\\'articles')\n",
    "\n",
    "plt.savefig('fig41.jpeg')"
   ]
  },
  {
   "cell_type": "markdown",
   "metadata": {},
   "source": [
    "On constate des paniers moyens plus importants pour les clients qui ont entre 30 et 50 ans environ."
   ]
  },
  {
   "cell_type": "code",
   "execution_count": 113,
   "metadata": {},
   "outputs": [
    {
     "data": {
      "text/html": [
       "<table class=\"simpletable\">\n",
       "<tr>\n",
       "        <td>Model:</td>               <td>OLS</td>         <td>Adj. R-squared:</td>     <td>0.360</td> \n",
       "</tr>\n",
       "<tr>\n",
       "  <td>Dependent Variable:</td>    <td>nb_articles</td>          <td>AIC:</td>          <td>50.4624</td>\n",
       "</tr>\n",
       "<tr>\n",
       "         <td>Date:</td>        <td>2020-05-17 13:45</td>        <td>BIC:</td>          <td>55.0974</td>\n",
       "</tr>\n",
       "<tr>\n",
       "   <td>No. Observations:</td>         <td>75</td>          <td>Log-Likelihood:</td>    <td>-23.231</td>\n",
       "</tr>\n",
       "<tr>\n",
       "       <td>Df Model:</td>              <td>1</td>           <td>F-statistic:</td>       <td>42.54</td> \n",
       "</tr>\n",
       "<tr>\n",
       "     <td>Df Residuals:</td>           <td>73</td>        <td>Prob (F-statistic):</td> <td>7.90e-09</td>\n",
       "</tr>\n",
       "<tr>\n",
       "      <td>R-squared:</td>            <td>0.368</td>            <td>Scale:</td>         <td>0.11177</td>\n",
       "</tr>\n",
       "</table>\n",
       "<table class=\"simpletable\">\n",
       "<tr>\n",
       "      <td></td>       <th>Coef.</th>  <th>Std.Err.</th>    <th>t</th>     <th>P>|t|</th> <th>[0.025</th>  <th>0.975]</th> \n",
       "</tr>\n",
       "<tr>\n",
       "  <th>Intercept</th> <td>2.4125</td>   <td>0.1071</td>  <td>22.5338</td> <td>0.0000</td> <td>2.1991</td>  <td>2.6258</td> \n",
       "</tr>\n",
       "<tr>\n",
       "  <th>age</th>       <td>-0.0116</td>  <td>0.0018</td>  <td>-6.5225</td> <td>0.0000</td> <td>-0.0152</td> <td>-0.0081</td>\n",
       "</tr>\n",
       "</table>\n",
       "<table class=\"simpletable\">\n",
       "<tr>\n",
       "     <td>Omnibus:</td>    <td>24.078</td>  <td>Durbin-Watson:</td>   <td>0.226</td>\n",
       "</tr>\n",
       "<tr>\n",
       "  <td>Prob(Omnibus):</td>  <td>0.000</td> <td>Jarque-Bera (JB):</td> <td>7.359</td>\n",
       "</tr>\n",
       "<tr>\n",
       "       <td>Skew:</td>      <td>0.484</td>     <td>Prob(JB):</td>     <td>0.025</td>\n",
       "</tr>\n",
       "<tr>\n",
       "     <td>Kurtosis:</td>    <td>1.810</td>  <td>Condition No.:</td>    <td>167</td> \n",
       "</tr>\n",
       "</table>"
      ],
      "text/plain": [
       "<class 'statsmodels.iolib.summary2.Summary'>\n",
       "\"\"\"\n",
       "                 Results: Ordinary least squares\n",
       "=================================================================\n",
       "Model:              OLS              Adj. R-squared:     0.360   \n",
       "Dependent Variable: nb_articles      AIC:                50.4624 \n",
       "Date:               2020-05-17 13:45 BIC:                55.0974 \n",
       "No. Observations:   75               Log-Likelihood:     -23.231 \n",
       "Df Model:           1                F-statistic:        42.54   \n",
       "Df Residuals:       73               Prob (F-statistic): 7.90e-09\n",
       "R-squared:          0.368            Scale:              0.11177 \n",
       "------------------------------------------------------------------\n",
       "               Coef.   Std.Err.     t     P>|t|    [0.025   0.975]\n",
       "------------------------------------------------------------------\n",
       "Intercept      2.4125    0.1071  22.5338  0.0000   2.1991   2.6258\n",
       "age           -0.0116    0.0018  -6.5225  0.0000  -0.0152  -0.0081\n",
       "-----------------------------------------------------------------\n",
       "Omnibus:               24.078       Durbin-Watson:          0.226\n",
       "Prob(Omnibus):         0.000        Jarque-Bera (JB):       7.359\n",
       "Skew:                  0.484        Prob(JB):               0.025\n",
       "Kurtosis:              1.810        Condition No.:          167  \n",
       "=================================================================\n",
       "\n",
       "\"\"\""
      ]
     },
     "execution_count": 113,
     "metadata": {},
     "output_type": "execute_result"
    }
   ],
   "source": [
    "# Régression linéaire\n",
    "res_pm = smf.ols(\"nb_articles ~ age\", corrapa).fit()\n",
    "res_pm.summary2()"
   ]
  },
  {
   "cell_type": "code",
   "execution_count": 282,
   "metadata": {
    "scrolled": true
   },
   "outputs": [
    {
     "name": "stdout",
     "output_type": "stream",
     "text": [
      "Coeff : p=0.005882460170220698   R2=0.09933794139930618\n"
     ]
    }
   ],
   "source": [
    "print(f\"Coeff : p={res.pvalues[1]}   R2={res.rsquared}\") "
   ]
  },
  {
   "cell_type": "code",
   "execution_count": 114,
   "metadata": {},
   "outputs": [
    {
     "data": {
      "image/png": "[encoded data removed]",
      "text/plain": [
       "<Figure size 432x288 with 1 Axes>"
      ]
     },
     "metadata": {},
     "output_type": "display_data"
    }
   ],
   "source": [
    "# Droite de régression linéaire\n",
    "corrapa.plot.scatter(x=\"age\", y=\"nb_articles\")\n",
    "xs = np.arange(0,100)\n",
    "ys = res_pm.params[0] + res_pm.params[1] * xs\n",
    "plt.plot(xs,ys,'r--')\n",
    "plt.title('Corrélation âge et taille du panier moyen')\n",
    "\n",
    "plt.savefig('fig42.jpeg')"
   ]
  },
  {
   "cell_type": "code",
   "execution_count": 116,
   "metadata": {},
   "outputs": [
    {
     "data": {
      "image/png": "[encoded data removed]",
      "text/plain": [
       "<Figure size 432x288 with 1 Axes>"
      ]
     },
     "metadata": {},
     "output_type": "display_data"
    }
   ],
   "source": [
    "#  Effets non-linéaires\n",
    "sns.regplot(x=\"age\", y=\"nb_articles\", data=corrapa, lowess=True, line_kws = {'color':'orange','linestyle':'dashed'})\\\n",
    ".set_title('Corrélation âge et taille du panier moyen')\n",
    "\n",
    "plt.savefig('fig43.jpeg')"
   ]
  },
  {
   "cell_type": "code",
   "execution_count": 45,
   "metadata": {},
   "outputs": [
    {
     "name": "stdout",
     "output_type": "stream",
     "text": [
      "Le coefficient de Pearson est de : -0.6067967902334184\n",
      "Sa p-value est de : 7.896029840814395e-09\n"
     ]
    }
   ],
   "source": [
    "# Calcul du coeff de Pearson\n",
    "coeff_pearson = pearsonr(corrapa['age'],corrapa['nb_articles'])\n",
    "print(f\"Le coefficient de Pearson est de : {coeff_pearson[0]}\")\n",
    "print(f\"Sa p-value est de : {coeff_pearson[1]}\")"
   ]
  },
  {
   "cell_type": "code",
   "execution_count": 284,
   "metadata": {},
   "outputs": [
    {
     "data": {
      "text/plain": [
       "-0.6574110953058322"
      ]
     },
     "execution_count": 284,
     "metadata": {},
     "output_type": "execute_result"
    }
   ],
   "source": [
    "# La distribution n'étant pas linéaire, je teste avec Spearman\n",
    "# corrapa.corr(method='spearman')['age']['nb_articles']"
   ]
  },
  {
   "cell_type": "markdown",
   "metadata": {},
   "source": [
    "##### Taille du panier moyen en fonction de la classe d'âge"
   ]
  },
  {
   "cell_type": "code",
   "execution_count": 29,
   "metadata": {},
   "outputs": [],
   "source": [
    "# Je créé un df pour récupérer la taille du panier en nb d'articles par classe d'âge\n",
    "corrapca = corrap.groupby(['session_id','classe_age'])['id_prod'].count().reset_index()"
   ]
  },
  {
   "cell_type": "code",
   "execution_count": 30,
   "metadata": {},
   "outputs": [],
   "source": [
    "# Je renomme la colonne price qui est devenue le nombre d'articles par panier\n",
    "corrapca = corrapca.rename(columns={\"id_prod\": \"nb_articles\"})"
   ]
  },
  {
   "cell_type": "code",
   "execution_count": 48,
   "metadata": {
    "scrolled": true
   },
   "outputs": [
    {
     "data": {
      "text/html": [
       "<div>\n",
       "<style scoped>\n",
       "    .dataframe tbody tr th:only-of-type {\n",
       "        vertical-align: middle;\n",
       "    }\n",
       "\n",
       "    .dataframe tbody tr th {\n",
       "        vertical-align: top;\n",
       "    }\n",
       "\n",
       "    .dataframe thead th {\n",
       "        text-align: right;\n",
       "    }\n",
       "</style>\n",
       "<table border=\"1\" class=\"dataframe\">\n",
       "  <thead>\n",
       "    <tr style=\"text-align: right;\">\n",
       "      <th></th>\n",
       "      <th>session_id</th>\n",
       "      <th>classe_age</th>\n",
       "      <th>nb_articles</th>\n",
       "    </tr>\n",
       "  </thead>\n",
       "  <tbody>\n",
       "    <tr>\n",
       "      <th>0</th>\n",
       "      <td>s_1</td>\n",
       "      <td>50+</td>\n",
       "      <td>1</td>\n",
       "    </tr>\n",
       "    <tr>\n",
       "      <th>1</th>\n",
       "      <td>s_10</td>\n",
       "      <td>50+</td>\n",
       "      <td>1</td>\n",
       "    </tr>\n",
       "    <tr>\n",
       "      <th>2</th>\n",
       "      <td>s_100</td>\n",
       "      <td>30-50</td>\n",
       "      <td>2</td>\n",
       "    </tr>\n",
       "    <tr>\n",
       "      <th>3</th>\n",
       "      <td>s_1000</td>\n",
       "      <td>30-50</td>\n",
       "      <td>4</td>\n",
       "    </tr>\n",
       "    <tr>\n",
       "      <th>4</th>\n",
       "      <td>s_10000</td>\n",
       "      <td>30-50</td>\n",
       "      <td>3</td>\n",
       "    </tr>\n",
       "  </tbody>\n",
       "</table>\n",
       "</div>"
      ],
      "text/plain": [
       "  session_id classe_age  nb_articles\n",
       "0        s_1        50+            1\n",
       "1       s_10        50+            1\n",
       "2      s_100      30-50            2\n",
       "3     s_1000      30-50            4\n",
       "4    s_10000      30-50            3"
      ]
     },
     "execution_count": 48,
     "metadata": {},
     "output_type": "execute_result"
    }
   ],
   "source": [
    "corrapca.head()"
   ]
  },
  {
   "cell_type": "code",
   "execution_count": 119,
   "metadata": {
    "scrolled": false
   },
   "outputs": [],
   "source": [
    "# Je calcule la taille du panier moyen en nb d'articles par classe d'âge\n",
    "corrapca2 = corrapca.groupby(['classe_age'])['nb_articles'].mean().reset_index()"
   ]
  },
  {
   "cell_type": "code",
   "execution_count": 120,
   "metadata": {},
   "outputs": [
    {
     "data": {
      "text/html": [
       "<div>\n",
       "<style scoped>\n",
       "    .dataframe tbody tr th:only-of-type {\n",
       "        vertical-align: middle;\n",
       "    }\n",
       "\n",
       "    .dataframe tbody tr th {\n",
       "        vertical-align: top;\n",
       "    }\n",
       "\n",
       "    .dataframe thead th {\n",
       "        text-align: right;\n",
       "    }\n",
       "</style>\n",
       "<table border=\"1\" class=\"dataframe\">\n",
       "  <thead>\n",
       "    <tr style=\"text-align: right;\">\n",
       "      <th></th>\n",
       "      <th>classe_age</th>\n",
       "      <th>nb_articles</th>\n",
       "    </tr>\n",
       "  </thead>\n",
       "  <tbody>\n",
       "    <tr>\n",
       "      <th>0</th>\n",
       "      <td>18-30</td>\n",
       "      <td>1.770751</td>\n",
       "    </tr>\n",
       "    <tr>\n",
       "      <th>1</th>\n",
       "      <td>30-50</td>\n",
       "      <td>2.403406</td>\n",
       "    </tr>\n",
       "    <tr>\n",
       "      <th>2</th>\n",
       "      <td>50+</td>\n",
       "      <td>1.498083</td>\n",
       "    </tr>\n",
       "  </tbody>\n",
       "</table>\n",
       "</div>"
      ],
      "text/plain": [
       "  classe_age  nb_articles\n",
       "0      18-30     1.770751\n",
       "1      30-50     2.403406\n",
       "2        50+     1.498083"
      ]
     },
     "execution_count": 120,
     "metadata": {},
     "output_type": "execute_result"
    }
   ],
   "source": [
    "corrapca2"
   ]
  },
  {
   "cell_type": "markdown",
   "metadata": {},
   "source": [
    "On constate que les 30-50 ont un panier moyen plus important que les autres classes d'âge. "
   ]
  },
  {
   "cell_type": "code",
   "execution_count": 121,
   "metadata": {},
   "outputs": [
    {
     "data": {
      "image/png": "[encoded data removed]",
      "text/plain": [
       "<Figure size 432x288 with 1 Axes>"
      ]
     },
     "metadata": {},
     "output_type": "display_data"
    }
   ],
   "source": [
    "# Répartition par classe d'âge\n",
    "corrapca.boxplot(column='nb_articles', by='classe_age', showmeans=True, showfliers=False, vert = 0)\n",
    "plt.xlabel('nombre d\\'articles')\n",
    "plt.ylabel('classe d\\'âge')\n",
    "plt.title('Nombre d\\'articles par panier')\n",
    "plt.suptitle('')\n",
    "\n",
    "plt.savefig('fig44.jpeg')"
   ]
  },
  {
   "cell_type": "markdown",
   "metadata": {},
   "source": [
    "### Anova"
   ]
  },
  {
   "cell_type": "code",
   "execution_count": 31,
   "metadata": {},
   "outputs": [
    {
     "name": "stdout",
     "output_type": "stream",
     "text": [
      "                            OLS Regression Results                            \n",
      "==============================================================================\n",
      "Dep. Variable:            nb_articles   R-squared:                       0.115\n",
      "Model:                            OLS   Adj. R-squared:                  0.115\n",
      "Method:                 Least Squares   F-statistic:                     9994.\n",
      "Date:                Fri, 29 May 2020   Prob (F-statistic):               0.00\n",
      "Time:                        17:22:16   Log-Likelihood:            -2.4565e+05\n",
      "No. Observations:              153626   AIC:                         4.913e+05\n",
      "Df Residuals:                  153623   BIC:                         4.913e+05\n",
      "Df Model:                           2                                         \n",
      "Covariance Type:            nonrobust                                         \n",
      "==========================================================================================\n",
      "                             coef    std err          t      P>|t|      [0.025      0.975]\n",
      "------------------------------------------------------------------------------------------\n",
      "Intercept                  1.7708      0.010    179.443      0.000       1.751       1.790\n",
      "C(classe_age)[T.30-50]     0.6327      0.011     58.901      0.000       0.612       0.654\n",
      "C(classe_age)[T.50+]      -0.2727      0.011    -24.728      0.000      -0.294      -0.251\n",
      "==============================================================================\n",
      "Omnibus:                    54924.051   Durbin-Watson:                   1.981\n",
      "Prob(Omnibus):                  0.000   Jarque-Bera (JB):           221226.843\n",
      "Skew:                           1.755   Prob(JB):                         0.00\n",
      "Kurtosis:                       7.715   Cond. No.                         6.87\n",
      "==============================================================================\n",
      "\n",
      "Warnings:\n",
      "[1] Standard Errors assume that the covariance matrix of the errors is correctly specified.\n"
     ]
    }
   ],
   "source": [
    "anova_corrapca = smf.ols('nb_articles ~ C(classe_age)', data=corrapca).fit()\n",
    "print(anova_corrapca.summary())"
   ]
  },
  {
   "cell_type": "code",
   "execution_count": 32,
   "metadata": {},
   "outputs": [
    {
     "name": "stdout",
     "output_type": "stream",
     "text": [
      "Ici la p-value est égale à 0.0\n"
     ]
    }
   ],
   "source": [
    "pvalue_corrapca = anova_corrapca.f_pvalue\n",
    "print(\"Ici la p-value est égale à {}\".format(pvalue_corrapca))"
   ]
  },
  {
   "cell_type": "code",
   "execution_count": 33,
   "metadata": {
    "scrolled": false
   },
   "outputs": [
    {
     "name": "stdout",
     "output_type": "stream",
     "text": [
      "                     df         sum_sq       mean_sq            F  PR(>F)\n",
      "C(classe_age)       2.0   28653.604082  14326.802041  9993.511373     0.0\n",
      "Residual       153623.0  220235.533623      1.433610          NaN     NaN\n"
     ]
    }
   ],
   "source": [
    "# Afficher les résultats de la table d'ANOVA\n",
    "aov_table_corrapca = sm.stats.anova_lm(anova_corrapca)\n",
    "print(aov_table_corrapca)"
   ]
  },
  {
   "cell_type": "code",
   "execution_count": 34,
   "metadata": {
    "scrolled": true
   },
   "outputs": [
    {
     "data": {
      "text/plain": [
       "0.1151259727360047"
      ]
     },
     "execution_count": 34,
     "metadata": {},
     "output_type": "execute_result"
    }
   ],
   "source": [
    "eta2(corrapca['classe_age'],corrapca['nb_articles'])"
   ]
  },
  {
   "cell_type": "markdown",
   "metadata": {},
   "source": [
    "## 2d. Y a-t-il une corrélation entre l'âge des clients et les catégories de produits achetés."
   ]
  },
  {
   "cell_type": "markdown",
   "metadata": {},
   "source": [
    "Il s'agit d'une variable quantitative et d'une variable qualitative --> Anova + boite à moustaches.  "
   ]
  },
  {
   "cell_type": "code",
   "execution_count": 122,
   "metadata": {},
   "outputs": [],
   "source": [
    "# Je créé un nouveau df avec les colonnes utiles\n",
    "corrac = cpv_ss_ab[['age','categ']]"
   ]
  },
  {
   "cell_type": "code",
   "execution_count": 330,
   "metadata": {},
   "outputs": [
    {
     "data": {
      "text/html": [
       "<div>\n",
       "<style scoped>\n",
       "    .dataframe tbody tr th:only-of-type {\n",
       "        vertical-align: middle;\n",
       "    }\n",
       "\n",
       "    .dataframe tbody tr th {\n",
       "        vertical-align: top;\n",
       "    }\n",
       "\n",
       "    .dataframe thead th {\n",
       "        text-align: right;\n",
       "    }\n",
       "</style>\n",
       "<table border=\"1\" class=\"dataframe\">\n",
       "  <thead>\n",
       "    <tr style=\"text-align: right;\">\n",
       "      <th></th>\n",
       "      <th>age</th>\n",
       "      <th>categ</th>\n",
       "    </tr>\n",
       "  </thead>\n",
       "  <tbody>\n",
       "    <tr>\n",
       "      <th>0</th>\n",
       "      <td>45.0</td>\n",
       "      <td>0.0</td>\n",
       "    </tr>\n",
       "    <tr>\n",
       "      <th>1</th>\n",
       "      <td>45.0</td>\n",
       "      <td>0.0</td>\n",
       "    </tr>\n",
       "    <tr>\n",
       "      <th>2</th>\n",
       "      <td>45.0</td>\n",
       "      <td>0.0</td>\n",
       "    </tr>\n",
       "    <tr>\n",
       "      <th>3</th>\n",
       "      <td>45.0</td>\n",
       "      <td>0.0</td>\n",
       "    </tr>\n",
       "    <tr>\n",
       "      <th>4</th>\n",
       "      <td>45.0</td>\n",
       "      <td>0.0</td>\n",
       "    </tr>\n",
       "  </tbody>\n",
       "</table>\n",
       "</div>"
      ],
      "text/plain": [
       "    age  categ\n",
       "0  45.0    0.0\n",
       "1  45.0    0.0\n",
       "2  45.0    0.0\n",
       "3  45.0    0.0\n",
       "4  45.0    0.0"
      ]
     },
     "execution_count": 330,
     "metadata": {},
     "output_type": "execute_result"
    }
   ],
   "source": [
    "corrac.head()"
   ]
  },
  {
   "cell_type": "code",
   "execution_count": 331,
   "metadata": {},
   "outputs": [
    {
     "data": {
      "text/html": [
       "<div>\n",
       "<style scoped>\n",
       "    .dataframe tbody tr th:only-of-type {\n",
       "        vertical-align: middle;\n",
       "    }\n",
       "\n",
       "    .dataframe tbody tr th {\n",
       "        vertical-align: top;\n",
       "    }\n",
       "\n",
       "    .dataframe thead th {\n",
       "        text-align: right;\n",
       "    }\n",
       "</style>\n",
       "<table border=\"1\" class=\"dataframe\">\n",
       "  <thead>\n",
       "    <tr style=\"text-align: right;\">\n",
       "      <th></th>\n",
       "      <th>age</th>\n",
       "      <th>categ</th>\n",
       "    </tr>\n",
       "  </thead>\n",
       "  <tbody>\n",
       "    <tr>\n",
       "      <th>336816</th>\n",
       "      <td>NaN</td>\n",
       "      <td>0.0</td>\n",
       "    </tr>\n",
       "    <tr>\n",
       "      <th>336817</th>\n",
       "      <td>NaN</td>\n",
       "      <td>0.0</td>\n",
       "    </tr>\n",
       "    <tr>\n",
       "      <th>336818</th>\n",
       "      <td>NaN</td>\n",
       "      <td>0.0</td>\n",
       "    </tr>\n",
       "    <tr>\n",
       "      <th>336819</th>\n",
       "      <td>NaN</td>\n",
       "      <td>0.0</td>\n",
       "    </tr>\n",
       "    <tr>\n",
       "      <th>336820</th>\n",
       "      <td>NaN</td>\n",
       "      <td>0.0</td>\n",
       "    </tr>\n",
       "  </tbody>\n",
       "</table>\n",
       "</div>"
      ],
      "text/plain": [
       "        age  categ\n",
       "336816  NaN    0.0\n",
       "336817  NaN    0.0\n",
       "336818  NaN    0.0\n",
       "336819  NaN    0.0\n",
       "336820  NaN    0.0"
      ]
     },
     "execution_count": 331,
     "metadata": {},
     "output_type": "execute_result"
    }
   ],
   "source": [
    "# Comme nous l'avons vu, il y a des clients qui n'ont pas acheté de produits et des produits qui n'ont pas été vendus. \n",
    "# Il y a donc des lignes avec des valeurs nulles :\n",
    "corrac.loc[corrac.isnull().any(axis=1)].head()"
   ]
  },
  {
   "cell_type": "code",
   "execution_count": 123,
   "metadata": {},
   "outputs": [],
   "source": [
    "# Je supprime ces lignes \n",
    "corrac = corrac.dropna(how='any')"
   ]
  },
  {
   "cell_type": "code",
   "execution_count": 125,
   "metadata": {},
   "outputs": [
    {
     "data": {
      "image/png": "[encoded data removed]",
      "text/plain": [
       "<Figure size 432x288 with 1 Axes>"
      ]
     },
     "metadata": {},
     "output_type": "display_data"
    }
   ],
   "source": [
    "# Boite à moustaches\n",
    "corrac.boxplot(by='categ',showmeans=True, showfliers = False, vert = 0).set_title('Age des clients et catégorie de produits')\n",
    "plt.xlabel('âge')\n",
    "plt.ylabel('catégorie')\n",
    "plt.suptitle('')\n",
    "plt.savefig('fig45.jpeg')"
   ]
  },
  {
   "cell_type": "markdown",
   "metadata": {},
   "source": [
    "Les 3 catégories semblent assez différentes. La question sera de savoir si ces écarts sont significatifs ou pas."
   ]
  },
  {
   "cell_type": "markdown",
   "metadata": {},
   "source": [
    "### Anova"
   ]
  },
  {
   "cell_type": "code",
   "execution_count": 55,
   "metadata": {},
   "outputs": [],
   "source": [
    "# Je créé une copie\n",
    "corrac2 = corrac.copy()"
   ]
  },
  {
   "cell_type": "code",
   "execution_count": 56,
   "metadata": {},
   "outputs": [],
   "source": [
    "# Je change le type de catégorie \n",
    "categorie = { 0 : 'cat.0', 1 : 'cat.1', 2 : 'cat.2'}\n",
    "corrac2['categ'] = corrac.categ.apply(lambda d : categorie[d])"
   ]
  },
  {
   "cell_type": "code",
   "execution_count": 343,
   "metadata": {},
   "outputs": [
    {
     "data": {
      "text/html": [
       "<div>\n",
       "<style scoped>\n",
       "    .dataframe tbody tr th:only-of-type {\n",
       "        vertical-align: middle;\n",
       "    }\n",
       "\n",
       "    .dataframe tbody tr th {\n",
       "        vertical-align: top;\n",
       "    }\n",
       "\n",
       "    .dataframe thead th {\n",
       "        text-align: right;\n",
       "    }\n",
       "</style>\n",
       "<table border=\"1\" class=\"dataframe\">\n",
       "  <thead>\n",
       "    <tr style=\"text-align: right;\">\n",
       "      <th></th>\n",
       "      <th>age</th>\n",
       "      <th>categ</th>\n",
       "    </tr>\n",
       "  </thead>\n",
       "  <tbody>\n",
       "    <tr>\n",
       "      <th>0</th>\n",
       "      <td>45.0</td>\n",
       "      <td>cat.0</td>\n",
       "    </tr>\n",
       "    <tr>\n",
       "      <th>1</th>\n",
       "      <td>45.0</td>\n",
       "      <td>cat.0</td>\n",
       "    </tr>\n",
       "    <tr>\n",
       "      <th>2</th>\n",
       "      <td>45.0</td>\n",
       "      <td>cat.0</td>\n",
       "    </tr>\n",
       "    <tr>\n",
       "      <th>3</th>\n",
       "      <td>45.0</td>\n",
       "      <td>cat.0</td>\n",
       "    </tr>\n",
       "    <tr>\n",
       "      <th>4</th>\n",
       "      <td>45.0</td>\n",
       "      <td>cat.0</td>\n",
       "    </tr>\n",
       "  </tbody>\n",
       "</table>\n",
       "</div>"
      ],
      "text/plain": [
       "    age  categ\n",
       "0  45.0  cat.0\n",
       "1  45.0  cat.0\n",
       "2  45.0  cat.0\n",
       "3  45.0  cat.0\n",
       "4  45.0  cat.0"
      ]
     },
     "execution_count": 343,
     "metadata": {},
     "output_type": "execute_result"
    }
   ],
   "source": [
    "corrac2.head()"
   ]
  },
  {
   "cell_type": "code",
   "execution_count": 57,
   "metadata": {},
   "outputs": [
    {
     "name": "stdout",
     "output_type": "stream",
     "text": [
      "                            OLS Regression Results                            \n",
      "==============================================================================\n",
      "Dep. Variable:                    age   R-squared:                       0.099\n",
      "Model:                            OLS   Adj. R-squared:                  0.099\n",
      "Method:                 Least Squares   F-statistic:                 1.691e+04\n",
      "Date:                Wed, 13 May 2020   Prob (F-statistic):               0.00\n",
      "Time:                        23:23:36   Log-Likelihood:            -1.2122e+06\n",
      "No. Observations:              306303   AIC:                         2.424e+06\n",
      "Df Residuals:                  306300   BIC:                         2.425e+06\n",
      "Df Model:                           2                                         \n",
      "Covariance Type:            nonrobust                                         \n",
      "=====================================================================================\n",
      "                        coef    std err          t      P>|t|      [0.025      0.975]\n",
      "-------------------------------------------------------------------------------------\n",
      "Intercept            44.0222      0.029   1529.637      0.000      43.966      44.079\n",
      "C(categ)[T.cat.1]     4.6154      0.049     93.552      0.000       4.519       4.712\n",
      "C(categ)[T.cat.2]   -16.5069      0.115   -143.017      0.000     -16.733     -16.281\n",
      "==============================================================================\n",
      "Omnibus:                    25914.744   Durbin-Watson:                   0.227\n",
      "Prob(Omnibus):                  0.000   Jarque-Bera (JB):            34810.447\n",
      "Skew:                           0.721   Prob(JB):                         0.00\n",
      "Kurtosis:                       3.805   Cond. No.                         5.40\n",
      "==============================================================================\n",
      "\n",
      "Warnings:\n",
      "[1] Standard Errors assume that the covariance matrix of the errors is correctly specified.\n"
     ]
    }
   ],
   "source": [
    "anova_corrac2 = smf.ols('age ~ C(categ)', data=corrac2).fit()\n",
    "print(anova_corrac2.summary())"
   ]
  },
  {
   "cell_type": "code",
   "execution_count": 59,
   "metadata": {},
   "outputs": [
    {
     "name": "stdout",
     "output_type": "stream",
     "text": [
      "Ici la p-value est égale à 0.0\n"
     ]
    }
   ],
   "source": [
    "pvalue = anova_corrac2.f_pvalue\n",
    "print(\"Ici la p-value est égale à {}\".format(pvalue))"
   ]
  },
  {
   "cell_type": "markdown",
   "metadata": {},
   "source": [
    "Ce qui nous intéresse réellement, c'est le **test de Fisher**.  \n",
    "Prob (F-statistic): test de Fisher ~ 0 => on rejette H0. Les variables sont dépendantes. "
   ]
  },
  {
   "cell_type": "code",
   "execution_count": 346,
   "metadata": {},
   "outputs": [
    {
     "name": "stdout",
     "output_type": "stream",
     "text": [
      "                df        sum_sq       mean_sq             F  PR(>F)\n",
      "C(categ)       2.0  5.422069e+06  2.711035e+06  16906.727812     0.0\n",
      "Residual  306300.0  4.911594e+07  1.603524e+02           NaN     NaN\n"
     ]
    }
   ],
   "source": [
    "# Afficher les résultats de la table d'ANOVA\n",
    "aov_table = sm.stats.anova_lm(anova_corrac2)\n",
    "print(aov_table)"
   ]
  },
  {
   "cell_type": "code",
   "execution_count": 347,
   "metadata": {},
   "outputs": [],
   "source": [
    "# If the null hypothesis is true (no difference in means between the categories), you expect F to have a value close to \n",
    "# 1.0 most of the time. A large F, like the one we observe here, means that the observed variation between the different \n",
    "# categories is not happening by chance.\n",
    "# cf. https://openclassrooms.com/fr/courses/5873596-design-effective-statistical-models-to-understand-your-data/6233031-handle-categorical-predictors"
   ]
  },
  {
   "cell_type": "markdown",
   "metadata": {},
   "source": [
    "Cela nous indique une différence significative entre les catégories : certaines classes d'âges achètent certaines catégories de produits. "
   ]
  },
  {
   "cell_type": "code",
   "execution_count": 348,
   "metadata": {},
   "outputs": [
    {
     "name": "stdout",
     "output_type": "stream",
     "text": [
      "Multiple Comparison of Means - Tukey HSD,FWER=0.05\n",
      "===============================================\n",
      "group1 group2 meandiff  lower    upper   reject\n",
      "-----------------------------------------------\n",
      " 0.0    1.0    4.6154   4.4997   4.731    True \n",
      " 0.0    2.0   -16.5069 -16.7774 -16.2364  True \n",
      " 1.0    2.0   -21.1223 -21.4006 -20.844   True \n",
      "-----------------------------------------------\n"
     ]
    }
   ],
   "source": [
    "from statsmodels.stats.multicomp import pairwise_tukeyhsd\n",
    "from statsmodels.stats.multicomp import MultiComparison\n",
    "\n",
    "mc = MultiComparison(corrac.age, corrac.categ)\n",
    "results = mc.tukeyhsd()\n",
    "print(results)"
   ]
  },
  {
   "cell_type": "code",
   "execution_count": 349,
   "metadata": {},
   "outputs": [],
   "source": [
    "# The table above shows the difference in mean for all the pairs of categories, the confidence intervals, \n",
    "# and whether the null hypothesis is rejected or not.\n",
    "\n",
    "# The reject column is set to true for all the pairs, meaning that the difference in means is significant for all three pairs."
   ]
  },
  {
   "cell_type": "code",
   "execution_count": 333,
   "metadata": {},
   "outputs": [
    {
     "data": {
      "text/plain": [
       "0.09941816492348868"
      ]
     },
     "execution_count": 333,
     "metadata": {},
     "output_type": "execute_result"
    }
   ],
   "source": [
    "eta2(corrac['categ'],corrac['age'])"
   ]
  },
  {
   "cell_type": "markdown",
   "metadata": {},
   "source": [
    "##### En fonction de la classe d'âge"
   ]
  },
  {
   "cell_type": "code",
   "execution_count": 15,
   "metadata": {},
   "outputs": [],
   "source": [
    "# Je créé un df pour récupérer la taille du panier en nb d'articles par classe d'âge\n",
    "corrcac = cpv_ss_ab[['classe_age','id_prod', 'categ']]"
   ]
  },
  {
   "cell_type": "code",
   "execution_count": 16,
   "metadata": {},
   "outputs": [],
   "source": [
    "# Je supprime les lignes avec des valeurs nulles : \n",
    "corrcac = corrcac.dropna(how='any')"
   ]
  },
  {
   "cell_type": "code",
   "execution_count": 17,
   "metadata": {},
   "outputs": [],
   "source": [
    "# Je regroupe par classe d'âge et catégorie\n",
    "corrcac_gb = corrcac.groupby(['classe_age', 'categ']).agg({'id_prod':'count'})"
   ]
  },
  {
   "cell_type": "code",
   "execution_count": 501,
   "metadata": {},
   "outputs": [
    {
     "data": {
      "text/html": [
       "<div>\n",
       "<style scoped>\n",
       "    .dataframe tbody tr th:only-of-type {\n",
       "        vertical-align: middle;\n",
       "    }\n",
       "\n",
       "    .dataframe tbody tr th {\n",
       "        vertical-align: top;\n",
       "    }\n",
       "\n",
       "    .dataframe thead th {\n",
       "        text-align: right;\n",
       "    }\n",
       "</style>\n",
       "<table border=\"1\" class=\"dataframe\">\n",
       "  <thead>\n",
       "    <tr style=\"text-align: right;\">\n",
       "      <th></th>\n",
       "      <th></th>\n",
       "      <th>id_prod</th>\n",
       "    </tr>\n",
       "    <tr>\n",
       "      <th>classe_age</th>\n",
       "      <th>categ</th>\n",
       "      <th></th>\n",
       "    </tr>\n",
       "  </thead>\n",
       "  <tbody>\n",
       "    <tr>\n",
       "      <th rowspan=\"3\" valign=\"top\">18-30</th>\n",
       "      <th>0.0</th>\n",
       "      <td>6022</td>\n",
       "    </tr>\n",
       "    <tr>\n",
       "      <th>1.0</th>\n",
       "      <td>9665</td>\n",
       "    </tr>\n",
       "    <tr>\n",
       "      <th>2.0</th>\n",
       "      <td>10382</td>\n",
       "    </tr>\n",
       "    <tr>\n",
       "      <th rowspan=\"3\" valign=\"top\">30-50</th>\n",
       "      <th>0.0</th>\n",
       "      <td>145651</td>\n",
       "    </tr>\n",
       "    <tr>\n",
       "      <th>1.0</th>\n",
       "      <td>44143</td>\n",
       "    </tr>\n",
       "    <tr>\n",
       "      <th>2.0</th>\n",
       "      <td>1731</td>\n",
       "    </tr>\n",
       "    <tr>\n",
       "      <th rowspan=\"3\" valign=\"top\">50+</th>\n",
       "      <th>0.0</th>\n",
       "      <td>41929</td>\n",
       "    </tr>\n",
       "    <tr>\n",
       "      <th>1.0</th>\n",
       "      <td>46058</td>\n",
       "    </tr>\n",
       "    <tr>\n",
       "      <th>2.0</th>\n",
       "      <td>722</td>\n",
       "    </tr>\n",
       "  </tbody>\n",
       "</table>\n",
       "</div>"
      ],
      "text/plain": [
       "                  id_prod\n",
       "classe_age categ         \n",
       "18-30      0.0       6022\n",
       "           1.0       9665\n",
       "           2.0      10382\n",
       "30-50      0.0     145651\n",
       "           1.0      44143\n",
       "           2.0       1731\n",
       "50+        0.0      41929\n",
       "           1.0      46058\n",
       "           2.0        722"
      ]
     },
     "execution_count": 501,
     "metadata": {},
     "output_type": "execute_result"
    }
   ],
   "source": [
    "corrcac_gb"
   ]
  },
  {
   "cell_type": "code",
   "execution_count": 18,
   "metadata": {},
   "outputs": [
    {
     "data": {
      "text/html": [
       "<div>\n",
       "<style scoped>\n",
       "    .dataframe tbody tr th:only-of-type {\n",
       "        vertical-align: middle;\n",
       "    }\n",
       "\n",
       "    .dataframe tbody tr th {\n",
       "        vertical-align: top;\n",
       "    }\n",
       "\n",
       "    .dataframe thead tr th {\n",
       "        text-align: left;\n",
       "    }\n",
       "\n",
       "    .dataframe thead tr:last-of-type th {\n",
       "        text-align: right;\n",
       "    }\n",
       "</style>\n",
       "<table border=\"1\" class=\"dataframe\">\n",
       "  <thead>\n",
       "    <tr>\n",
       "      <th></th>\n",
       "      <th colspan=\"3\" halign=\"left\">id_prod</th>\n",
       "    </tr>\n",
       "    <tr>\n",
       "      <th>categ</th>\n",
       "      <th>0.0</th>\n",
       "      <th>1.0</th>\n",
       "      <th>2.0</th>\n",
       "    </tr>\n",
       "    <tr>\n",
       "      <th>classe_age</th>\n",
       "      <th></th>\n",
       "      <th></th>\n",
       "      <th></th>\n",
       "    </tr>\n",
       "  </thead>\n",
       "  <tbody>\n",
       "    <tr>\n",
       "      <th>18-30</th>\n",
       "      <td>6022</td>\n",
       "      <td>9665</td>\n",
       "      <td>10382</td>\n",
       "    </tr>\n",
       "    <tr>\n",
       "      <th>30-50</th>\n",
       "      <td>145651</td>\n",
       "      <td>44143</td>\n",
       "      <td>1731</td>\n",
       "    </tr>\n",
       "    <tr>\n",
       "      <th>50+</th>\n",
       "      <td>41929</td>\n",
       "      <td>46058</td>\n",
       "      <td>722</td>\n",
       "    </tr>\n",
       "  </tbody>\n",
       "</table>\n",
       "</div>"
      ],
      "text/plain": [
       "           id_prod              \n",
       "categ          0.0    1.0    2.0\n",
       "classe_age                      \n",
       "18-30         6022   9665  10382\n",
       "30-50       145651  44143   1731\n",
       "50+          41929  46058    722"
      ]
     },
     "execution_count": 18,
     "metadata": {},
     "output_type": "execute_result"
    }
   ],
   "source": [
    "corrcac_gb.unstack()"
   ]
  },
  {
   "cell_type": "code",
   "execution_count": 131,
   "metadata": {},
   "outputs": [
    {
     "data": {
      "image/png": "[encoded data removed]",
      "text/plain": [
       "<Figure size 432x288 with 1 Axes>"
      ]
     },
     "metadata": {},
     "output_type": "display_data"
    }
   ],
   "source": [
    "corrcac_gb.unstack().plot(kind='bar')\n",
    "plt.legend(['cat. 0', 'cat. 1', 'cat. 2'])\n",
    "plt.title('Nombre de produits achetés en fonction de leur catégorie et de la classe d\\'âge des clients')\n",
    "plt.xticks(rotation=45)\n",
    "plt.xlabel('classe d\\'âge')\n",
    "plt.ylabel('nombre de produits achetés')      \n",
    "plt.ylabel = 'nombre de produits achetés'\n",
    "plt.savefig('fig46.jpeg')"
   ]
  },
  {
   "cell_type": "code",
   "execution_count": 19,
   "metadata": {},
   "outputs": [],
   "source": [
    "# Je supprime l'index\n",
    "corrcac_gb2 = corrcac_gb.unstack().reset_index()"
   ]
  },
  {
   "cell_type": "code",
   "execution_count": 20,
   "metadata": {},
   "outputs": [
    {
     "data": {
      "text/html": [
       "<div>\n",
       "<style scoped>\n",
       "    .dataframe tbody tr th:only-of-type {\n",
       "        vertical-align: middle;\n",
       "    }\n",
       "\n",
       "    .dataframe tbody tr th {\n",
       "        vertical-align: top;\n",
       "    }\n",
       "\n",
       "    .dataframe thead tr th {\n",
       "        text-align: left;\n",
       "    }\n",
       "</style>\n",
       "<table border=\"1\" class=\"dataframe\">\n",
       "  <thead>\n",
       "    <tr>\n",
       "      <th></th>\n",
       "      <th>classe_age</th>\n",
       "      <th colspan=\"3\" halign=\"left\">id_prod</th>\n",
       "    </tr>\n",
       "    <tr>\n",
       "      <th>categ</th>\n",
       "      <th></th>\n",
       "      <th>0.0</th>\n",
       "      <th>1.0</th>\n",
       "      <th>2.0</th>\n",
       "    </tr>\n",
       "  </thead>\n",
       "  <tbody>\n",
       "    <tr>\n",
       "      <th>0</th>\n",
       "      <td>18-30</td>\n",
       "      <td>6022</td>\n",
       "      <td>9665</td>\n",
       "      <td>10382</td>\n",
       "    </tr>\n",
       "    <tr>\n",
       "      <th>1</th>\n",
       "      <td>30-50</td>\n",
       "      <td>145651</td>\n",
       "      <td>44143</td>\n",
       "      <td>1731</td>\n",
       "    </tr>\n",
       "    <tr>\n",
       "      <th>2</th>\n",
       "      <td>50+</td>\n",
       "      <td>41929</td>\n",
       "      <td>46058</td>\n",
       "      <td>722</td>\n",
       "    </tr>\n",
       "  </tbody>\n",
       "</table>\n",
       "</div>"
      ],
      "text/plain": [
       "      classe_age id_prod              \n",
       "categ                0.0    1.0    2.0\n",
       "0          18-30    6022   9665  10382\n",
       "1          30-50  145651  44143   1731\n",
       "2            50+   41929  46058    722"
      ]
     },
     "execution_count": 20,
     "metadata": {},
     "output_type": "execute_result"
    }
   ],
   "source": [
    "corrcac_gb2"
   ]
  },
  {
   "cell_type": "code",
   "execution_count": 21,
   "metadata": {},
   "outputs": [],
   "source": [
    "# Je renomme les colonnes\n",
    "corrcac_gb2.columns = ['classe_age', 'cat.0', 'cat.1',         \n",
    "                   'cat.2']"
   ]
  },
  {
   "cell_type": "code",
   "execution_count": 22,
   "metadata": {},
   "outputs": [
    {
     "data": {
      "text/html": [
       "<div>\n",
       "<style scoped>\n",
       "    .dataframe tbody tr th:only-of-type {\n",
       "        vertical-align: middle;\n",
       "    }\n",
       "\n",
       "    .dataframe tbody tr th {\n",
       "        vertical-align: top;\n",
       "    }\n",
       "\n",
       "    .dataframe thead th {\n",
       "        text-align: right;\n",
       "    }\n",
       "</style>\n",
       "<table border=\"1\" class=\"dataframe\">\n",
       "  <thead>\n",
       "    <tr style=\"text-align: right;\">\n",
       "      <th></th>\n",
       "      <th>classe_age</th>\n",
       "      <th>cat.0</th>\n",
       "      <th>cat.1</th>\n",
       "      <th>cat.2</th>\n",
       "    </tr>\n",
       "  </thead>\n",
       "  <tbody>\n",
       "    <tr>\n",
       "      <th>0</th>\n",
       "      <td>18-30</td>\n",
       "      <td>6022</td>\n",
       "      <td>9665</td>\n",
       "      <td>10382</td>\n",
       "    </tr>\n",
       "    <tr>\n",
       "      <th>1</th>\n",
       "      <td>30-50</td>\n",
       "      <td>145651</td>\n",
       "      <td>44143</td>\n",
       "      <td>1731</td>\n",
       "    </tr>\n",
       "    <tr>\n",
       "      <th>2</th>\n",
       "      <td>50+</td>\n",
       "      <td>41929</td>\n",
       "      <td>46058</td>\n",
       "      <td>722</td>\n",
       "    </tr>\n",
       "  </tbody>\n",
       "</table>\n",
       "</div>"
      ],
      "text/plain": [
       "  classe_age   cat.0  cat.1  cat.2\n",
       "0      18-30    6022   9665  10382\n",
       "1      30-50  145651  44143   1731\n",
       "2        50+   41929  46058    722"
      ]
     },
     "execution_count": 22,
     "metadata": {},
     "output_type": "execute_result"
    }
   ],
   "source": [
    "corrcac_gb2"
   ]
  },
  {
   "cell_type": "code",
   "execution_count": 23,
   "metadata": {},
   "outputs": [
    {
     "data": {
      "image/png": "[encoded data removed]",
      "text/plain": [
       "<Figure size 864x288 with 3 Axes>"
      ]
     },
     "metadata": {},
     "output_type": "display_data"
    }
   ],
   "source": [
    "# Visualisation avec des pieplot\n",
    "fig = plt.figure(figsize=(12, 4))\n",
    "fig.suptitle(\"Nombre de produits achetés par catégorie et par classe d'âge\", fontsize=14, y= 1.1)\n",
    "\n",
    "ax1 = fig.add_subplot(131)\n",
    "ax2 = fig.add_subplot(132)\n",
    "ax3 = fig.add_subplot(133)\n",
    "\n",
    "ax1.pie(corrcac_gb2['cat.0'], \n",
    "       labels=[\"18-30 ans\", \"30-50 ans\", \"50+\"],\n",
    "       autopct='%1.0f%%',\n",
    "       startangle=90\n",
    "      )\n",
    "ax1.axis('equal')  # Equal aspect ratio ensures that pie is drawn as a circle.\n",
    "ax1.set_title('Catégorie 0')\n",
    "\n",
    "ax2.pie(corrcac_gb2['cat.1'], \n",
    "       labels=[\"18-30 ans\", \"30-50 ans\", \"50+\"],\n",
    "       autopct='%1.0f%%', \n",
    "       startangle=90\n",
    "      )\n",
    "ax2.axis('equal')  # Equal aspect ratio ensures that pie is drawn as a circle.\n",
    "ax2.set_title('Catégorie 1')\n",
    "\n",
    "ax3.pie(corrcac_gb2['cat.2'], \n",
    "       labels=[\"18-30 ans\", \"30-50 ans\", \"50+\"],\n",
    "       autopct='%1.0f%%', \n",
    "       startangle=90\n",
    "      )\n",
    "ax3.axis('equal')  # Equal aspect ratio ensures that pie is drawn as a circle.\n",
    "ax3.set_title('Catégorie 2')\n",
    "\n",
    "plt.subplots_adjust(wspace=0.4,hspace=0)\n",
    "\n",
    "\n",
    "plt.savefig('fig46b.jpeg')"
   ]
  },
  {
   "cell_type": "code",
   "execution_count": 75,
   "metadata": {},
   "outputs": [],
   "source": [
    "# Je mets classe d'âge en index\n",
    "corrcac_gb2.set_index('classe_age', inplace = True)"
   ]
  },
  {
   "cell_type": "code",
   "execution_count": 349,
   "metadata": {},
   "outputs": [
    {
     "data": {
      "text/html": [
       "<div>\n",
       "<style scoped>\n",
       "    .dataframe tbody tr th:only-of-type {\n",
       "        vertical-align: middle;\n",
       "    }\n",
       "\n",
       "    .dataframe tbody tr th {\n",
       "        vertical-align: top;\n",
       "    }\n",
       "\n",
       "    .dataframe thead th {\n",
       "        text-align: right;\n",
       "    }\n",
       "</style>\n",
       "<table border=\"1\" class=\"dataframe\">\n",
       "  <thead>\n",
       "    <tr style=\"text-align: right;\">\n",
       "      <th></th>\n",
       "      <th>cat.0</th>\n",
       "      <th>cat.1</th>\n",
       "      <th>cat.2</th>\n",
       "    </tr>\n",
       "    <tr>\n",
       "      <th>classe_age</th>\n",
       "      <th></th>\n",
       "      <th></th>\n",
       "      <th></th>\n",
       "    </tr>\n",
       "  </thead>\n",
       "  <tbody>\n",
       "    <tr>\n",
       "      <th>18-30</th>\n",
       "      <td>6022</td>\n",
       "      <td>9665</td>\n",
       "      <td>10382</td>\n",
       "    </tr>\n",
       "    <tr>\n",
       "      <th>30-50</th>\n",
       "      <td>145651</td>\n",
       "      <td>44143</td>\n",
       "      <td>1731</td>\n",
       "    </tr>\n",
       "    <tr>\n",
       "      <th>50+</th>\n",
       "      <td>41929</td>\n",
       "      <td>46058</td>\n",
       "      <td>722</td>\n",
       "    </tr>\n",
       "  </tbody>\n",
       "</table>\n",
       "</div>"
      ],
      "text/plain": [
       "             cat.0  cat.1  cat.2\n",
       "classe_age                      \n",
       "18-30         6022   9665  10382\n",
       "30-50       145651  44143   1731\n",
       "50+          41929  46058    722"
      ]
     },
     "execution_count": 349,
     "metadata": {},
     "output_type": "execute_result"
    }
   ],
   "source": [
    "corrcac_gb2"
   ]
  },
  {
   "cell_type": "code",
   "execution_count": 73,
   "metadata": {},
   "outputs": [],
   "source": [
    "import scipy.stats as st"
   ]
  },
  {
   "cell_type": "code",
   "execution_count": 76,
   "metadata": {},
   "outputs": [],
   "source": [
    "# Calcul du chi2 : \n",
    "chi2, p, dof, expected = st.chi2_contingency(corrcac_gb2.values)"
   ]
  },
  {
   "cell_type": "code",
   "execution_count": 77,
   "metadata": {},
   "outputs": [
    {
     "data": {
      "text/plain": [
       "4"
      ]
     },
     "execution_count": 77,
     "metadata": {},
     "output_type": "execute_result"
    }
   ],
   "source": [
    "dof"
   ]
  },
  {
   "cell_type": "code",
   "execution_count": 360,
   "metadata": {},
   "outputs": [
    {
     "name": "stdout",
     "output_type": "stream",
     "text": [
      "Le khi-2 est de 117223.75 et la p-val est de 0.0\n"
     ]
    }
   ],
   "source": [
    "print(f'Le khi-2 est de {chi2:.2f} et la p-val est de {p}')"
   ]
  },
  {
   "cell_type": "markdown",
   "metadata": {},
   "source": [
    "Il existe un lien entre les variables (au vu de la table du chi2). "
   ]
  },
  {
   "cell_type": "code",
   "execution_count": 353,
   "metadata": {},
   "outputs": [],
   "source": [
    "# Je fais un tableau de contingence avec crosstab\n",
    "cont_corrcac = pd.crosstab(cpv_ss_ab.categ, cpv_ss_ab.classe_age)"
   ]
  },
  {
   "cell_type": "code",
   "execution_count": 354,
   "metadata": {},
   "outputs": [
    {
     "data": {
      "text/html": [
       "<div>\n",
       "<style scoped>\n",
       "    .dataframe tbody tr th:only-of-type {\n",
       "        vertical-align: middle;\n",
       "    }\n",
       "\n",
       "    .dataframe tbody tr th {\n",
       "        vertical-align: top;\n",
       "    }\n",
       "\n",
       "    .dataframe thead th {\n",
       "        text-align: right;\n",
       "    }\n",
       "</style>\n",
       "<table border=\"1\" class=\"dataframe\">\n",
       "  <thead>\n",
       "    <tr style=\"text-align: right;\">\n",
       "      <th>classe_age</th>\n",
       "      <th>18-30</th>\n",
       "      <th>30-50</th>\n",
       "      <th>50+</th>\n",
       "    </tr>\n",
       "    <tr>\n",
       "      <th>categ</th>\n",
       "      <th></th>\n",
       "      <th></th>\n",
       "      <th></th>\n",
       "    </tr>\n",
       "  </thead>\n",
       "  <tbody>\n",
       "    <tr>\n",
       "      <th>0.0</th>\n",
       "      <td>41929</td>\n",
       "      <td>6022</td>\n",
       "      <td>145651</td>\n",
       "    </tr>\n",
       "    <tr>\n",
       "      <th>1.0</th>\n",
       "      <td>46058</td>\n",
       "      <td>9665</td>\n",
       "      <td>44143</td>\n",
       "    </tr>\n",
       "    <tr>\n",
       "      <th>2.0</th>\n",
       "      <td>722</td>\n",
       "      <td>10382</td>\n",
       "      <td>1731</td>\n",
       "    </tr>\n",
       "  </tbody>\n",
       "</table>\n",
       "</div>"
      ],
      "text/plain": [
       "classe_age  18-30  30-50     50+\n",
       "categ                           \n",
       "0.0         41929   6022  145651\n",
       "1.0         46058   9665   44143\n",
       "2.0           722  10382    1731"
      ]
     },
     "execution_count": 354,
     "metadata": {},
     "output_type": "execute_result"
    }
   ],
   "source": [
    "# Pb : le tableau de contingence avec crosstab est incorrect, je n'ai pas trouvé pourquoi\n",
    "# cont_corrcac"
   ]
  },
  {
   "cell_type": "code",
   "execution_count": 356,
   "metadata": {},
   "outputs": [
    {
     "name": "stdout",
     "output_type": "stream",
     "text": [
      "Le khi-2 est de 117223.75 et la p-val est de 0.0\n"
     ]
    }
   ],
   "source": [
    "# Pourtant les valeurs calculée sont identiques à celles calculées selon l'autre méthode\n",
    "# chi2, p, dof, expected = st.chi2_contingency(cont_corrcac.values)\n",
    "# print(f'Le khi-2 est de {chi2:.2f} et la p-val est de {p}')"
   ]
  },
  {
   "cell_type": "code",
   "execution_count": 141,
   "metadata": {},
   "outputs": [
    {
     "data": {
      "image/png": "[encoded data removed]",
      "text/plain": [
       "<Figure size 432x288 with 2 Axes>"
      ]
     },
     "metadata": {},
     "output_type": "display_data"
    }
   ],
   "source": [
    "# Heatmap\n",
    "sns.heatmap(corrcac_gb2, annot=True, fmt=\"d\")\n",
    "plt.savefig('fig47.jpeg')"
   ]
  },
  {
   "cell_type": "code",
   "execution_count": null,
   "metadata": {},
   "outputs": [],
   "source": []
  }
 ],
 "metadata": {
  "kernelspec": {
   "display_name": "Python 3",
   "language": "python",
   "name": "python3"
  },
  "language_info": {
   "codemirror_mode": {
    "name": "ipython",
    "version": 3
   },
   "file_extension": ".py",
   "mimetype": "text/x-python",
   "name": "python",
   "nbconvert_exporter": "python",
   "pygments_lexer": "ipython3",
   "version": "3.6.5"
  }
 },
 "nbformat": 4,
 "nbformat_minor": 2
}
